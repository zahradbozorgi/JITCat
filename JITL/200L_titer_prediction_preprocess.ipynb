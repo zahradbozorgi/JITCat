{
 "cells": [
  {
   "cell_type": "code",
   "execution_count": 1,
   "id": "5a683265-5556-4ea9-b537-477150acee41",
   "metadata": {},
   "outputs": [],
   "source": [
    "import pandas as pd\n",
    "import numpy as np\n",
    "import re\n",
    "\n",
    "import matplotlib.pyplot as plt\n",
    "import matplotlib as mpl\n",
    "\n",
    "from pathlib import Path\n",
    "from torch import cdist\n",
    "import os\n",
    "import glob"
   ]
  },
  {
   "cell_type": "code",
   "execution_count": 14,
   "id": "fc01ccd8",
   "metadata": {},
   "outputs": [
    {
     "name": "stderr",
     "output_type": "stream",
     "text": [
      "/Users/dashtbozorgi/Library/Python/3.9/lib/python/site-packages/tqdm/auto.py:21: TqdmWarning: IProgress not found. Please update jupyter and ipywidgets. See https://ipywidgets.readthedocs.io/en/stable/user_install.html\n",
      "  from .autonotebook import tqdm as notebook_tqdm\n"
     ]
    }
   ],
   "source": [
    "from catboost import CatBoostRegressor\n",
    "from hmmlearn import hmm\n",
    "from sklearn.metrics import mean_absolute_error, mean_squared_error, r2_score, mean_absolute_percentage_error\n",
    "from sklearn.neighbors import NearestNeighbors\n",
    "from sklearn.cluster import DBSCAN\n",
    "import umap\n",
    "import math\n",
    "# from statsmodels.tsa.arima.model import ARIMA"
   ]
  },
  {
   "cell_type": "code",
   "execution_count": 19,
   "id": "c4292a19",
   "metadata": {},
   "outputs": [],
   "source": [
    "import warnings\n",
    "warnings.filterwarnings('ignore')"
   ]
  },
  {
   "cell_type": "code",
   "execution_count": null,
   "id": "a8d35f7b",
   "metadata": {},
   "outputs": [],
   "source": [
    "import EncoderFactory\n",
    "from DatasetManager import DatasetManager"
   ]
  },
  {
   "cell_type": "code",
   "execution_count": 2,
   "id": "38ab6a18",
   "metadata": {},
   "outputs": [],
   "source": [
    "ROOT_DIR = Path().cwd()\n",
    "while not ROOT_DIR.joinpath(\"data\").exists():\n",
    "    ROOT_DIR = ROOT_DIR.parent\n",
    "os.chdir(ROOT_DIR)"
   ]
  },
  {
   "cell_type": "code",
   "execution_count": 3,
   "id": "fd096c8d",
   "metadata": {},
   "outputs": [],
   "source": [
    "case_id_col = \"Identification No.\"\n",
    "timestamp_col = \"Time (hrs)\"\n",
    "work_day_col = \"Working Day (d)\"\n",
    "target_col = \"Product Content pre clean up (g/L)\""
   ]
  },
  {
   "cell_type": "code",
   "execution_count": 4,
   "id": "abfb299d",
   "metadata": {},
   "outputs": [],
   "source": [
    "# 95 bioreactors are 5L, 11 are 50L or higher"
   ]
  },
  {
   "cell_type": "code",
   "execution_count": 5,
   "id": "3958550e",
   "metadata": {},
   "outputs": [],
   "source": [
    "cols_to_keep = [case_id_col, timestamp_col, target_col, work_day_col, 'BR Temp (°C)', 'pH (Internal)', 'Viability (%)', 'VCD (10^6 cells/mL)', \n",
    "                'Glutamine (mmol/L)', 'Glutamate (mmol/L)', 'Glucose (g/L)','Lactate (g/L)', 'NH4+ (mmol/L)', \n",
    "                'Na+ (mmol/L)', 'K+ (mmol/L)', 'Ca2+ (g/L)']\n",
    "\n",
    "features = ['BR Temp (°C)', 'pH (Internal)', 'Viability (%)', 'VCD (10^6 cells/mL)', \n",
    "                'Glutamine (g/L)', 'Glutamate (g/L)', 'Glucose (g/L)','Lactate (g/L)', 'NH4+ (g/L)', \n",
    "                'Na+ (g/L)', 'K+ (g/L)', 'Ca2+ (g/L)']"
   ]
  },
  {
   "cell_type": "code",
   "execution_count": null,
   "id": "c27e43ad",
   "metadata": {},
   "outputs": [],
   "source": []
  },
  {
   "cell_type": "code",
   "execution_count": null,
   "id": "2b0a79ef-ad4e-47f8-8cc6-6263eefcea80",
   "metadata": {},
   "outputs": [],
   "source": [
    "# ambr_path = Path(\"./data/Original/From_Mohammad\")\n",
    "# ambr_files = glob.glob(\"./data/Original/From_Mohammad/*.csv*\")\n",
    "astra_path = Path(\"./data/Original\")\n",
    "astra_files = glob.glob(\"./data/Original/*.xlsx*\")\n",
    "len(astra_files)"
   ]
  },
  {
   "cell_type": "code",
   "execution_count": null,
   "id": "f95b4fee-976a-4aa6-9b7b-16e783a9d949",
   "metadata": {},
   "outputs": [],
   "source": [
    "selected_file = astra_files[0]\n",
    "selected_file"
   ]
  },
  {
   "cell_type": "code",
   "execution_count": null,
   "id": "d93a117e",
   "metadata": {},
   "outputs": [],
   "source": [
    "first_file = pd.ExcelFile(selected_file)\n",
    "df = first_file.parse(\"Main Analysis Data Base \", header=1)\n",
    "# first_timestamp = first[first['working day']==0]['Date & Time'].unique()[0]"
   ]
  },
  {
   "cell_type": "code",
   "execution_count": null,
   "id": "692aca6c",
   "metadata": {},
   "outputs": [],
   "source": [
    "df = df[cols_to_keep]"
   ]
  },
  {
   "cell_type": "code",
   "execution_count": null,
   "id": "f27ebeaa",
   "metadata": {},
   "outputs": [],
   "source": [
    "missing_threshold = 0.7\n",
    "uids_with_less_missing = {}\n",
    "\n",
    "for column in df.columns:\n",
    "    missing_percentage = df[column].isnull().sum() / len(df)\n",
    "    if missing_percentage > missing_threshold:\n",
    "        uids_with_less_missing[column] = df[df[column].notnull()]['UID'].unique().tolist()\n",
    "\n",
    "uids_with_less_missing"
   ]
  },
  {
   "cell_type": "code",
   "execution_count": null,
   "id": "fbf2d8f8",
   "metadata": {},
   "outputs": [],
   "source": [
    "null_columns_dict = {}\n",
    "\n",
    "for uid in df[case_id_col].unique():\n",
    "    uid_data = df[df[case_id_col] == uid]\n",
    "    null_columns = []\n",
    "    \n",
    "    for column in uid_data.columns:\n",
    "        if uid_data[column].isnull().all():\n",
    "            null_columns.append(column)\n",
    "    \n",
    "    if null_columns:\n",
    "        null_columns_dict[uid] = null_columns\n",
    "\n"
   ]
  },
  {
   "cell_type": "code",
   "execution_count": null,
   "id": "b0f7bb56",
   "metadata": {},
   "outputs": [],
   "source": [
    "for key, value in null_columns_dict.items():\n",
    "    print(key, value)\n"
   ]
  },
  {
   "cell_type": "code",
   "execution_count": null,
   "id": "b9452860",
   "metadata": {},
   "outputs": [],
   "source": [
    "keys_with_titer = []\n",
    "\n",
    "for key, value in null_columns_dict.items():\n",
    "    if target_col in value:\n",
    "        keys_with_titer.append(key)\n"
   ]
  },
  {
   "cell_type": "code",
   "execution_count": null,
   "id": "ff475e6c",
   "metadata": {},
   "outputs": [],
   "source": [
    "df = df[~df[case_id_col].isin(keys_with_titer)]"
   ]
  },
  {
   "cell_type": "code",
   "execution_count": null,
   "id": "6bcdeea8",
   "metadata": {},
   "outputs": [],
   "source": [
    "df[case_id_col].nunique()"
   ]
  },
  {
   "cell_type": "code",
   "execution_count": null,
   "id": "15ca57fe",
   "metadata": {},
   "outputs": [],
   "source": [
    "num_unique_keys = len(null_columns_dict.keys())\n",
    "print(num_unique_keys)"
   ]
  },
  {
   "cell_type": "code",
   "execution_count": null,
   "id": "04c355dc",
   "metadata": {},
   "outputs": [],
   "source": [
    "df = df[df[work_day_col]>=0]"
   ]
  },
  {
   "cell_type": "code",
   "execution_count": null,
   "id": "3fc8443b",
   "metadata": {},
   "outputs": [],
   "source": [
    "df[work_day_col] = df[work_day_col].astype(int)\n"
   ]
  },
  {
   "cell_type": "code",
   "execution_count": null,
   "id": "a7aa4134",
   "metadata": {},
   "outputs": [],
   "source": [
    "df[work_day_col] = df[case_id_col].str.split('_').str[1]\n"
   ]
  },
  {
   "cell_type": "code",
   "execution_count": null,
   "id": "a8d79a6c",
   "metadata": {},
   "outputs": [],
   "source": [
    "grouped_df = df.groupby(case_id_col)\n",
    "df = grouped_df.filter(lambda x: len(x) >= 5)\n"
   ]
  },
  {
   "cell_type": "code",
   "execution_count": null,
   "id": "69630d3b",
   "metadata": {},
   "outputs": [],
   "source": [
    "null_rows = df[df.isnull().any(axis=1)]\n",
    "null_rows"
   ]
  },
  {
   "cell_type": "code",
   "execution_count": null,
   "id": "2acc0a64",
   "metadata": {},
   "outputs": [],
   "source": [
    "\n",
    "\n",
    "# Group the DataFrame by case ID\n",
    "grouped_df = df.groupby(case_id_col)\n",
    "\n",
    "# Find groups where the target column is always 0\n",
    "groups_with_target_0 = grouped_df.filter(lambda x: (x[target_col] == 0).all())\n",
    "\n",
    "# Print the groups where the target column is always 0\n",
    "for case_id, group in groups_with_target_0.groupby('Identification No.'):\n",
    "    print(f\"Case ID: {case_id}\")\n",
    "    # print(group)\n",
    "    print()\n",
    "\n",
    "# Remove the groups where the target column is always 0\n",
    "df = df.drop(groups_with_target_0.index)\n"
   ]
  },
  {
   "cell_type": "code",
   "execution_count": null,
   "id": "5e4c00a3",
   "metadata": {},
   "outputs": [],
   "source": [
    "# Group data by case ID\n",
    "grouped_df = df.groupby('Identification No.')\n",
    "\n",
    "# Iterate over each group\n",
    "for group_name, group_data in grouped_df:\n",
    "    # Check if the column is always null in the group\n",
    "    for col in group_data.columns:\n",
    "        if group_data[col].isnull().any():\n",
    "            print(\"Group Name:\", group_name)\n",
    "            print(\"Null Column:\", col)\n",
    "            print()\n",
    "\n",
    "print('finished')\n"
   ]
  },
  {
   "cell_type": "code",
   "execution_count": null,
   "id": "dddca187",
   "metadata": {},
   "outputs": [],
   "source": [
    "df[case_id_col].nunique()"
   ]
  },
  {
   "cell_type": "code",
   "execution_count": null,
   "id": "99e8502b",
   "metadata": {},
   "outputs": [],
   "source": [
    "df = df.drop_duplicates(subset=[case_id_col, work_day_col], keep=\"last\")"
   ]
  },
  {
   "cell_type": "code",
   "execution_count": null,
   "id": "5ab725f0",
   "metadata": {},
   "outputs": [],
   "source": [
    "def impute_with_closest(group):\n",
    "    # Sort the DataFrame by working day\n",
    "    group = group.sort_values(work_day_col, ascending=True)\n",
    "\n",
    "    # Forward fill missing values based on working day\n",
    "    group = group.fillna(method='ffill')\n",
    "\n",
    "    # Backward fill any remaining missing values\n",
    "    group = group.fillna(method='bfill')\n",
    "    return group"
   ]
  },
  {
   "cell_type": "code",
   "execution_count": null,
   "id": "f3709aea",
   "metadata": {},
   "outputs": [],
   "source": [
    "def impute_with_median(group):\n",
    "    return group.fillna(group.median())"
   ]
  },
  {
   "cell_type": "code",
   "execution_count": null,
   "id": "8cac2393",
   "metadata": {},
   "outputs": [],
   "source": [
    "df = df.groupby(case_id_col).apply(impute_with_closest)"
   ]
  },
  {
   "cell_type": "code",
   "execution_count": null,
   "id": "6c8b94f3",
   "metadata": {},
   "outputs": [],
   "source": [
    "df.reset_index(drop=True, inplace=True)"
   ]
  },
  {
   "cell_type": "code",
   "execution_count": null,
   "id": "e8a01f77",
   "metadata": {},
   "outputs": [],
   "source": [
    "df.isnull().any()\n"
   ]
  },
  {
   "cell_type": "code",
   "execution_count": null,
   "id": "b47a0a5e",
   "metadata": {},
   "outputs": [],
   "source": [
    "# Define the molar mass of the substance\n",
    "molar_mass_glutamine = 146.14  \n",
    "molar_mass_glutamate = 147.13\n",
    "\n",
    "# Convert mmol/L to g/L\n",
    "df['Glutamine (g/L)'] = df['Glutamine (mmol/L)'] * molar_mass_glutamine /1000\n",
    "df['Glutamate (g/L)'] = df['Glutamate (mmol/L)'] * molar_mass_glutamate /1000"
   ]
  },
  {
   "cell_type": "code",
   "execution_count": null,
   "id": "9d58e0d9",
   "metadata": {},
   "outputs": [],
   "source": [
    "# Define the molar mass of the substance\n",
    "molar_mass_sodium = 22.99 \n",
    "molar_mass_potassium = 39.10\n",
    "molar_mass_calcium = 40.08\n",
    "\n",
    "# Convert mmol/L to g/L\n",
    "df['Na+ (g/L)'] = df['Na+ (mmol/L)'] * molar_mass_sodium /1000\n",
    "df['K+ (g/L)'] = df['K+ (mmol/L)'] * molar_mass_potassium /1000\n",
    "# df['Calcium (g/L)'] = df['Calcium (mmol/L)'] * molar_mass_calcium /1000"
   ]
  },
  {
   "cell_type": "code",
   "execution_count": null,
   "id": "1d62e176",
   "metadata": {},
   "outputs": [],
   "source": [
    "molar_mass_ammonia = 17.031\n",
    "\n",
    "df['NH4+ (g/L)'] = df['NH4+ (mmol/L)'] * molar_mass_ammonia /1000"
   ]
  },
  {
   "cell_type": "code",
   "execution_count": null,
   "id": "3174eac0",
   "metadata": {},
   "outputs": [],
   "source": [
    "df.drop(['Glutamine (mmol/L)', 'Glutamate (mmol/L)', 'Na+ (mmol/L)', 'K+ (mmol/L)', 'NH4+ (mmol/L)'], axis=1, inplace=True)"
   ]
  },
  {
   "cell_type": "code",
   "execution_count": null,
   "id": "de3c9d01",
   "metadata": {},
   "outputs": [],
   "source": [
    "df.to_csv('data/processed/CSL312_preprocessed_forTiter_notNormalised_6Feb25.csv', index=False)"
   ]
  },
  {
   "cell_type": "code",
   "execution_count": null,
   "id": "df5b924a-1886-480f-a508-747295ee1064",
   "metadata": {},
   "outputs": [],
   "source": [
    "df = df.sort_values(by=[case_id_col, work_day_col], ascending=True)"
   ]
  },
  {
   "cell_type": "code",
   "execution_count": null,
   "id": "085fa4d8",
   "metadata": {},
   "outputs": [],
   "source": [
    "df.columns"
   ]
  },
  {
   "cell_type": "markdown",
   "id": "edee9017",
   "metadata": {},
   "source": [
    "##############################################################################"
   ]
  },
  {
   "cell_type": "code",
   "execution_count": null,
   "id": "1e365ae1-cdf2-410f-9773-fc64840370b2",
   "metadata": {},
   "outputs": [],
   "source": [
    "from sklearn.neighbors import NearestNeighbors\n",
    "import matplotlib.pyplot as plt\n",
    "from sklearn.preprocessing import StandardScaler, MinMaxScaler, RobustScaler, MaxAbsScaler, PowerTransformer, Normalizer\n",
    "\n",
    "# Sample data\n",
    "data = df[features]  # Replace with your actual data\n",
    "# scaler = StandardScaler()\n",
    "# scaler = MinMaxScaler()\n",
    "# scaler = RobustScaler()\n",
    "# scaler = MaxAbsScaler()\n",
    "scaler = PowerTransformer()\n",
    "# scaler = Normalizer()\n",
    "# scaler = TimeSeriesScalerMinMax()\n",
    "X_scaled = scaler.fit_transform(data)\n",
    "\n",
    "# Fit nearest neighbors\n",
    "k = 5  # Choose k as min_samples for DBSCAN\n",
    "neigh = NearestNeighbors(n_neighbors=k)\n",
    "nbrs = neigh.fit(X_scaled)\n",
    "distances, indices = nbrs.kneighbors(X_scaled)\n",
    "\n",
    "# Sort and plot distances to the k-th nearest neighbor\n",
    "distances = np.sort(distances[:, k-1])\n",
    "plt.plot(distances)\n",
    "plt.ylabel('k-distance')\n",
    "plt.xlabel('Data points sorted by distance')\n",
    "plt.title('K-Distance Graph - PowerTransformer')\n",
    "# plt.rcParams['xtick.labelsize'] = 0.1\n",
    "plt.tick_params(axis='both', which='major', labelsize=16)\n",
    "plt.grid(True)\n",
    "plt.show()"
   ]
  },
  {
   "cell_type": "code",
   "execution_count": null,
   "id": "7c5307bb",
   "metadata": {},
   "outputs": [],
   "source": [
    "X_scaled = df[features]"
   ]
  },
  {
   "cell_type": "code",
   "execution_count": null,
   "id": "b493e402",
   "metadata": {},
   "outputs": [],
   "source": [
    "from sklearn.cluster import DBSCAN\n",
    "import umap\n",
    "\n",
    "reducer = umap.UMAP(random_state = 123)\n",
    "embedding = reducer.fit_transform(X_scaled)\n",
    "embedding.shape"
   ]
  },
  {
   "cell_type": "code",
   "execution_count": null,
   "id": "68a87e7c",
   "metadata": {},
   "outputs": [],
   "source": [
    "import joblib"
   ]
  },
  {
   "cell_type": "code",
   "execution_count": null,
   "id": "fed723f7",
   "metadata": {},
   "outputs": [],
   "source": [
    "joblib.dump(reducer, 'CSL312_reducer.pkl')"
   ]
  },
  {
   "cell_type": "code",
   "execution_count": null,
   "id": "0ce7e05e",
   "metadata": {},
   "outputs": [],
   "source": [
    "from sklearn.metrics import silhouette_score, calinski_harabasz_score"
   ]
  },
  {
   "cell_type": "code",
   "execution_count": null,
   "id": "d3ab935f",
   "metadata": {},
   "outputs": [],
   "source": [
    "# Sample data\n",
    "X_scaled = embedding\n",
    "\n",
    "# Define a range of eps values to test\n",
    "eps_values = np.linspace(0.1, 5.0, 10)\n",
    "\n",
    "# List to store the silhouette scores\n",
    "silhouette_scores = []\n",
    "\n",
    "# Compute silhouette scores for different eps values\n",
    "for eps in eps_values:\n",
    "    db = DBSCAN(eps=eps, min_samples=20).fit(X_scaled)\n",
    "    labels = db.labels_\n",
    "    # Ignore the silhouette score if only one cluster or all points are noise\n",
    "    if len(set(labels)) > 1:\n",
    "        score = silhouette_score(X_scaled, labels)\n",
    "        # score = calinski_harabasz_score(X_scaled, labels)\n",
    "        silhouette_scores.append(score)\n",
    "    else:\n",
    "        silhouette_scores.append(-1)  # Invalid score\n",
    "\n",
    "# Plot silhouette scores\n",
    "plt.plot(eps_values, silhouette_scores)\n",
    "# plt.ylabel('Silhouette Score')\n",
    "plt.ylabel('Silhouette score')\n",
    "plt.xlabel('eps value')\n",
    "plt.xticks(np.arange(0, 6, step=0.5))\n",
    "# plt.rcParams['xtick.labelsize'] = 0.7\n",
    "plt.tick_params(axis='both', which='major', labelsize=12)\n",
    "plt.title('Silhouette score vs. eps - embedding', fontsize=16)\n",
    "plt.show()"
   ]
  },
  {
   "cell_type": "code",
   "execution_count": null,
   "id": "1b0f1a4b",
   "metadata": {},
   "outputs": [],
   "source": [
    "eps = 1.5\n",
    "min_samples = 30\n",
    "dbscan = DBSCAN(eps=eps, min_samples=min_samples).fit(X_scaled)\n",
    "dbscan.labels_"
   ]
  },
  {
   "cell_type": "code",
   "execution_count": null,
   "id": "3acf6e2b",
   "metadata": {},
   "outputs": [],
   "source": [
    "pd.Series(dbscan.labels_).value_counts()"
   ]
  },
  {
   "cell_type": "code",
   "execution_count": null,
   "id": "85495e1e",
   "metadata": {},
   "outputs": [],
   "source": [
    "# Visualize the dbscan clustered data\n",
    "plt.scatter(X_scaled[:, 0], X_scaled[:, 1], c=dbscan.labels_, cmap='Accent', edgecolors='k')\n",
    "# plt.scatter(kmeans.cluster_centers_[:, 0], kmeans.cluster_centers_[:, 1], marker='X', s=100, c='red', label='Centroids')\n",
    "plt.title(f'Clustered Data with DBSCAN - UMAP Embedding, eps={eps}', fontsize=16)\n",
    "# plt.xlabel(\"Lactate (g/L)\")\n",
    "# plt.ylabel(\"Glucose (g/L)\")\n",
    "plt.tick_params(axis='both', which='major', labelsize=12)\n",
    "cbar = plt.colorbar()\n",
    "cbar.ax.tick_params(labelsize=12)\n",
    "# plt.legend()\n",
    "plt.show()"
   ]
  },
  {
   "cell_type": "code",
   "execution_count": null,
   "id": "b1881104",
   "metadata": {},
   "outputs": [],
   "source": [
    "df['Cluster'] = dbscan.labels_"
   ]
  },
  {
   "cell_type": "code",
   "execution_count": null,
   "id": "597255dc",
   "metadata": {},
   "outputs": [],
   "source": [
    "import random\n",
    "\n",
    "my_list = [1, 2, 3, 4, 5, 6, 7, 8, 9, 10]\n",
    "\n",
    "# Calculate the number of elements to select\n",
    "num_elements = int(len(my_list) * 0.7)\n",
    "\n",
    "# Select 70% of elements randomly\n",
    "selected_elements = random.sample(my_list, num_elements)\n",
    "\n",
    "print(selected_elements)\n"
   ]
  },
  {
   "cell_type": "code",
   "execution_count": null,
   "id": "395bbae0",
   "metadata": {},
   "outputs": [],
   "source": [
    "def split_data(data, train_ratio=0.70, split=\"temporal\", leave_out=[], seed=22):  \n",
    "    # split into train and test using temporal split\n",
    "\n",
    "    data[work_day_col] = data[work_day_col].astype(int)\n",
    "    print(data[work_day_col].dtype)\n",
    "    grouped = data.groupby(case_id_col)\n",
    "    # start_timestamps = grouped[timestamp_col].min().reset_index()\n",
    "    if split == \"temporal\":\n",
    "        start_timestamps = start_timestamps.sort_values(timestamp_col, ascending=True, kind=\"mergesort\")\n",
    "        train_ids = list(start_timestamps[case_id_col])[:int(train_ratio*len(start_timestamps))]\n",
    "\n",
    "    elif split == \"temporal sim\":\n",
    "        # Calculate the number of elements to select\n",
    "        num_elements = int(len(data[case_id_col].unique()) * train_ratio)\n",
    "        train_ids = random.sample(list(data[case_id_col].unique()), num_elements)\n",
    "\n",
    "    elif split == \"random\":\n",
    "        np.random.seed(seed)\n",
    "        start_timestamps = start_timestamps.reindex(np.random.permutation(start_timestamps.index))\n",
    "        train_ids = list(start_timestamps[case_id_col])[:int(train_ratio*len(start_timestamps))]\n",
    "\n",
    "    elif split == \"loo\":\n",
    "        try:\n",
    "            leave_id = str(leave_out[0])\n",
    "            all_ids = list(data[case_id_col].unique())\n",
    "            train_ids = all_ids\n",
    "            train_ids.remove(leave_id)\n",
    "\n",
    "        except IndexError:\n",
    "            print(\"Leave out list is empty.\")\n",
    "            \n",
    "    train = data[data[case_id_col].isin(train_ids)].sort_values(work_day_col, ascending=True, kind='mergesort')\n",
    "    test = data[~data[case_id_col].isin(train_ids)].sort_values(work_day_col, ascending=True, kind='mergesort')\n",
    "\n",
    "    return (train, test)"
   ]
  },
  {
   "cell_type": "code",
   "execution_count": null,
   "id": "12eba7f7",
   "metadata": {},
   "outputs": [],
   "source": [
    "def get_size_max_len(sequences):\n",
    "    # Tokenize the words\n",
    "    tokenizer = Tokenizer()\n",
    "    tokenizer.fit_on_texts(sequences)\n",
    "    vocab_size = len(tokenizer.word_index) + 1\n",
    "\n",
    "    # Convert words to sequences of integers\n",
    "    sequences_int = tokenizer.texts_to_sequences(sequences)\n",
    "\n",
    "    # Generate input and target sequences for training\n",
    "    max_sequence_len = max([len(seq) for seq in sequences_int])\n",
    "    \n",
    "    return vocab_size, max_sequence_len"
   ]
  },
  {
   "cell_type": "code",
   "execution_count": null,
   "id": "383e672d",
   "metadata": {},
   "outputs": [],
   "source": [
    "def tokenize_and_pad(sequences, max_sequence_len):\n",
    "    # Tokenize the words\n",
    "    tokenizer = Tokenizer()\n",
    "    tokenizer.fit_on_texts(sequences)\n",
    "    vocab_size = len(tokenizer.word_index) + 1\n",
    "    \n",
    "    # Convert words to sequences of integers\n",
    "    sequences_int = tokenizer.texts_to_sequences(sequences)\n",
    "    \n",
    "    # Generate input and target sequences for training\n",
    "    # max_sequence_len = max([len(seq) for seq in sequences_int])\n",
    "    input_sequences = []\n",
    "    target_sequences = []\n",
    "    for seq in sequences_int:\n",
    "        # print(seq)\n",
    "        for i in range(1, len(seq)):\n",
    "            input_seq = seq[:i]\n",
    "            target_seq = seq[i]\n",
    "            input_sequences.append(input_seq)\n",
    "            target_sequences.append(target_seq)\n",
    "            \n",
    "    # Pad sequences to have the same length\n",
    "    input_sequences = pad_sequences(input_sequences, maxlen=max_sequence_len, padding='pre')\n",
    "    target_sequences = np.array(target_sequences)\n",
    "    \n",
    "    return input_sequences, target_sequences"
   ]
  },
  {
   "cell_type": "code",
   "execution_count": null,
   "id": "cc783b8d",
   "metadata": {},
   "outputs": [],
   "source": [
    "def remove_first_row(group):\n",
    "    return group.iloc[1:]\n",
    "\n",
    "def remove_last_row(group):\n",
    "    return group.iloc[:-1]"
   ]
  },
  {
   "cell_type": "code",
   "execution_count": null,
   "id": "476f7845",
   "metadata": {},
   "outputs": [],
   "source": [
    "from tensorflow.keras.preprocessing.text import Tokenizer\n",
    "from tensorflow.keras.preprocessing.sequence import pad_sequences\n",
    "from tensorflow.keras.models import Sequential\n",
    "from tensorflow.keras.layers import LSTM, Dense, Embedding\n",
    "from tensorflow.python.framework.errors_impl import InvalidArgumentError\n",
    "import tensorflow as tf\n",
    "\n",
    "from catboost import CatBoostRegressor\n",
    "from sklearn.metrics import mean_absolute_error, mean_squared_error, r2_score, mean_absolute_percentage_error\n",
    "from hmmlearn import hmm\n",
    "import math\n",
    "# from statsmodels.tsa.arima.model import ARIMA"
   ]
  },
  {
   "cell_type": "code",
   "execution_count": null,
   "id": "553ef08a",
   "metadata": {},
   "outputs": [],
   "source": [
    "df_normalized = df.copy()"
   ]
  },
  {
   "cell_type": "code",
   "execution_count": null,
   "id": "aa3045a7",
   "metadata": {},
   "outputs": [],
   "source": [
    "from sklearn.preprocessing import StandardScaler\n",
    "\n",
    "# Define the columns to normalize\n",
    "columns_to_normalize = features + [target_col]\n",
    "\n",
    "scalers = {}\n",
    "# Create a StandardScaler object\n",
    "scaler = StandardScaler()\n",
    "\n",
    "for column in columns_to_normalize:\n",
    "    scalers[column] = StandardScaler()\n",
    "    df_normalized[column] = scalers[column].fit_transform(df_normalized[[column]])\n",
    "\n",
    "# Normalize the selected columns\n",
    "# df_normalized[columns_to_normalize] = scaler.fit_transform(df_normalized[columns_to_normalize])"
   ]
  },
  {
   "cell_type": "code",
   "execution_count": null,
   "id": "031ec247",
   "metadata": {},
   "outputs": [],
   "source": [
    "df_normalized['Titer (g/L) original'] = scalers[target_col].inverse_transform(df_normalized[target_col].to_numpy().reshape(-1, 1))"
   ]
  },
  {
   "cell_type": "code",
   "execution_count": null,
   "id": "014036d4",
   "metadata": {},
   "outputs": [],
   "source": [
    "df_normalized['Titer (g/L) original'].describe()"
   ]
  },
  {
   "cell_type": "code",
   "execution_count": null,
   "id": "3d644f2a",
   "metadata": {},
   "outputs": [],
   "source": [
    "df_normalized.to_csv('data/processed/CSL312_preprocessed_forTiter_normalised_6Feb25.csv', index=False)"
   ]
  },
  {
   "cell_type": "code",
   "execution_count": 6,
   "id": "7e0399c3",
   "metadata": {},
   "outputs": [],
   "source": [
    "df_normalized = pd.read_csv('data/processed/CSL312_preprocessed_forTiter_normalised_6Feb25.csv')"
   ]
  },
  {
   "cell_type": "code",
   "execution_count": 7,
   "id": "9634f96e",
   "metadata": {},
   "outputs": [
    {
     "data": {
      "text/plain": [
       "12"
      ]
     },
     "execution_count": 7,
     "metadata": {},
     "output_type": "execute_result"
    }
   ],
   "source": [
    "len(features)"
   ]
  },
  {
   "cell_type": "code",
   "execution_count": 8,
   "id": "f4db4dfd",
   "metadata": {},
   "outputs": [],
   "source": [
    "UIDs = df_normalized[case_id_col].unique()"
   ]
  },
  {
   "cell_type": "code",
   "execution_count": 9,
   "id": "265a9099",
   "metadata": {},
   "outputs": [],
   "source": [
    "results = []\n",
    "method = 'Catboost'\n",
    "config = 'no_encoding_no_bucketing'\n",
    "# config = 'no_encoding_bucketing'\n",
    "# config = 'encoding_no_bucketing'\n",
    "# config = 'encoding_bucketing'"
   ]
  },
  {
   "cell_type": "code",
   "execution_count": 12,
   "id": "3b173b67",
   "metadata": {},
   "outputs": [],
   "source": [
    "from processors import processor_factory\n",
    "# from data.dataset_confs import dataset_configs\n",
    "\n",
    "# config = dataset_configs['CSL_5L']\n",
    "use_encoding = False\n",
    "use_bucketing = False\n",
    "num_nearest_neighbors = 100\n",
    "distance_metric = 'euclidean'\n",
    "\n",
    "# processor = CSL_5LProcessor(\"5L\", use_encoding, use_bucketing, num_nearest_neighbors, distance_metric)\n",
    "processor = processor_factory.get_processor('CSL312', use_encoding, use_bucketing, num_nearest_neighbors, distance_metric)"
   ]
  },
  {
   "cell_type": "code",
   "execution_count": 18,
   "id": "26ef6e2d",
   "metadata": {},
   "outputs": [
    {
     "name": "stdout",
     "output_type": "stream",
     "text": [
      "Experimenting with num_nearest_neighbors=100 and distance_metric=cosine\n",
      "int64\n"
     ]
    },
    {
     "name": "stderr",
     "output_type": "stream",
     "text": [
      "/var/folders/sb/50cj9frx6576wh5j6rbpnb6c0000gp/T/ipykernel_36568/1086096361.py:71: SettingWithCopyWarning: \n",
      "A value is trying to be set on a copy of a slice from a DataFrame.\n",
      "Try using .loc[row_indexer,col_indexer] = value instead\n",
      "\n",
      "See the caveats in the documentation: https://pandas.pydata.org/pandas-docs/stable/user_guide/indexing.html#returning-a-view-versus-a-copy\n",
      "  batch.loc[:, 'predicted_value'] = preds\n"
     ]
    },
    {
     "name": "stdout",
     "output_type": "stream",
     "text": [
      "MAE: 0.2563861127545148\n",
      "MSE: 0.16054375317751737\n",
      "RMSE: 0.4006791149754593\n",
      "R2: 0.836241682166444\n",
      "MAPE: 1.5117903735243223\n"
     ]
    },
    {
     "name": "stderr",
     "output_type": "stream",
     "text": [
      "/var/folders/sb/50cj9frx6576wh5j6rbpnb6c0000gp/T/ipykernel_36568/1086096361.py:71: SettingWithCopyWarning: \n",
      "A value is trying to be set on a copy of a slice from a DataFrame.\n",
      "Try using .loc[row_indexer,col_indexer] = value instead\n",
      "\n",
      "See the caveats in the documentation: https://pandas.pydata.org/pandas-docs/stable/user_guide/indexing.html#returning-a-view-versus-a-copy\n",
      "  batch.loc[:, 'predicted_value'] = preds\n"
     ]
    },
    {
     "name": "stdout",
     "output_type": "stream",
     "text": [
      "MAE: 0.2549395796571474\n",
      "MSE: 0.15899919111520172\n",
      "RMSE: 0.39874702646565496\n",
      "R2: 0.8365735200937883\n",
      "MAPE: 1.497471556747054\n"
     ]
    },
    {
     "name": "stderr",
     "output_type": "stream",
     "text": [
      "/var/folders/sb/50cj9frx6576wh5j6rbpnb6c0000gp/T/ipykernel_36568/1086096361.py:71: SettingWithCopyWarning: \n",
      "A value is trying to be set on a copy of a slice from a DataFrame.\n",
      "Try using .loc[row_indexer,col_indexer] = value instead\n",
      "\n",
      "See the caveats in the documentation: https://pandas.pydata.org/pandas-docs/stable/user_guide/indexing.html#returning-a-view-versus-a-copy\n",
      "  batch.loc[:, 'predicted_value'] = preds\n"
     ]
    },
    {
     "name": "stdout",
     "output_type": "stream",
     "text": [
      "MAE: 0.2536746610035704\n",
      "MSE: 0.15758710049114663\n",
      "RMSE: 0.3969724177964341\n",
      "R2: 0.8369619185294912\n",
      "MAPE: 1.487469225017492\n"
     ]
    },
    {
     "name": "stderr",
     "output_type": "stream",
     "text": [
      "/var/folders/sb/50cj9frx6576wh5j6rbpnb6c0000gp/T/ipykernel_36568/1086096361.py:71: SettingWithCopyWarning: \n",
      "A value is trying to be set on a copy of a slice from a DataFrame.\n",
      "Try using .loc[row_indexer,col_indexer] = value instead\n",
      "\n",
      "See the caveats in the documentation: https://pandas.pydata.org/pandas-docs/stable/user_guide/indexing.html#returning-a-view-versus-a-copy\n",
      "  batch.loc[:, 'predicted_value'] = preds\n"
     ]
    },
    {
     "name": "stdout",
     "output_type": "stream",
     "text": [
      "MAE: 0.2533874519339631\n",
      "MSE: 0.15674137164892651\n",
      "RMSE: 0.39590576107064485\n",
      "R2: 0.8376093949206659\n",
      "MAPE: 1.474946548550481\n"
     ]
    },
    {
     "name": "stderr",
     "output_type": "stream",
     "text": [
      "/var/folders/sb/50cj9frx6576wh5j6rbpnb6c0000gp/T/ipykernel_36568/1086096361.py:71: SettingWithCopyWarning: \n",
      "A value is trying to be set on a copy of a slice from a DataFrame.\n",
      "Try using .loc[row_indexer,col_indexer] = value instead\n",
      "\n",
      "See the caveats in the documentation: https://pandas.pydata.org/pandas-docs/stable/user_guide/indexing.html#returning-a-view-versus-a-copy\n",
      "  batch.loc[:, 'predicted_value'] = preds\n"
     ]
    },
    {
     "name": "stdout",
     "output_type": "stream",
     "text": [
      "MAE: 0.2534987706418873\n",
      "MSE: 0.15674615462456767\n",
      "RMSE: 0.3959118015727337\n",
      "R2: 0.8376468358465237\n",
      "MAPE: 1.4796992670923654\n"
     ]
    },
    {
     "name": "stderr",
     "output_type": "stream",
     "text": [
      "/var/folders/sb/50cj9frx6576wh5j6rbpnb6c0000gp/T/ipykernel_36568/1086096361.py:71: SettingWithCopyWarning: \n",
      "A value is trying to be set on a copy of a slice from a DataFrame.\n",
      "Try using .loc[row_indexer,col_indexer] = value instead\n",
      "\n",
      "See the caveats in the documentation: https://pandas.pydata.org/pandas-docs/stable/user_guide/indexing.html#returning-a-view-versus-a-copy\n",
      "  batch.loc[:, 'predicted_value'] = preds\n"
     ]
    },
    {
     "name": "stdout",
     "output_type": "stream",
     "text": [
      "MAE: 0.2565686540612549\n",
      "MSE: 0.16294837256413747\n",
      "RMSE: 0.4036686420371757\n",
      "R2: 0.8317220773480304\n",
      "MAPE: 1.4774700418327984\n"
     ]
    },
    {
     "name": "stderr",
     "output_type": "stream",
     "text": [
      "/var/folders/sb/50cj9frx6576wh5j6rbpnb6c0000gp/T/ipykernel_36568/1086096361.py:71: SettingWithCopyWarning: \n",
      "A value is trying to be set on a copy of a slice from a DataFrame.\n",
      "Try using .loc[row_indexer,col_indexer] = value instead\n",
      "\n",
      "See the caveats in the documentation: https://pandas.pydata.org/pandas-docs/stable/user_guide/indexing.html#returning-a-view-versus-a-copy\n",
      "  batch.loc[:, 'predicted_value'] = preds\n"
     ]
    },
    {
     "name": "stdout",
     "output_type": "stream",
     "text": [
      "MAE: 0.2564110880311637\n",
      "MSE: 0.16224978016069053\n",
      "RMSE: 0.4028024083352662\n",
      "R2: 0.8328162426872815\n",
      "MAPE: 1.4673668430704865\n"
     ]
    },
    {
     "name": "stderr",
     "output_type": "stream",
     "text": [
      "/var/folders/sb/50cj9frx6576wh5j6rbpnb6c0000gp/T/ipykernel_36568/1086096361.py:71: SettingWithCopyWarning: \n",
      "A value is trying to be set on a copy of a slice from a DataFrame.\n",
      "Try using .loc[row_indexer,col_indexer] = value instead\n",
      "\n",
      "See the caveats in the documentation: https://pandas.pydata.org/pandas-docs/stable/user_guide/indexing.html#returning-a-view-versus-a-copy\n",
      "  batch.loc[:, 'predicted_value'] = preds\n"
     ]
    },
    {
     "name": "stdout",
     "output_type": "stream",
     "text": [
      "MAE: 0.25717913040849155\n",
      "MSE: 0.1636670268344669\n",
      "RMSE: 0.4045578164298237\n",
      "R2: 0.8317355903976095\n",
      "MAPE: 1.4594242401073065\n"
     ]
    },
    {
     "name": "stderr",
     "output_type": "stream",
     "text": [
      "/var/folders/sb/50cj9frx6576wh5j6rbpnb6c0000gp/T/ipykernel_36568/1086096361.py:71: SettingWithCopyWarning: \n",
      "A value is trying to be set on a copy of a slice from a DataFrame.\n",
      "Try using .loc[row_indexer,col_indexer] = value instead\n",
      "\n",
      "See the caveats in the documentation: https://pandas.pydata.org/pandas-docs/stable/user_guide/indexing.html#returning-a-view-versus-a-copy\n",
      "  batch.loc[:, 'predicted_value'] = preds\n"
     ]
    },
    {
     "name": "stdout",
     "output_type": "stream",
     "text": [
      "MAE: 0.2570583687372886\n",
      "MSE: 0.16306369201699122\n",
      "RMSE: 0.40381145602495133\n",
      "R2: 0.8322812625726121\n",
      "MAPE: 1.4579732239221042\n"
     ]
    },
    {
     "name": "stderr",
     "output_type": "stream",
     "text": [
      "/var/folders/sb/50cj9frx6576wh5j6rbpnb6c0000gp/T/ipykernel_36568/1086096361.py:71: SettingWithCopyWarning: \n",
      "A value is trying to be set on a copy of a slice from a DataFrame.\n",
      "Try using .loc[row_indexer,col_indexer] = value instead\n",
      "\n",
      "See the caveats in the documentation: https://pandas.pydata.org/pandas-docs/stable/user_guide/indexing.html#returning-a-view-versus-a-copy\n",
      "  batch.loc[:, 'predicted_value'] = preds\n"
     ]
    },
    {
     "name": "stdout",
     "output_type": "stream",
     "text": [
      "MAE: 0.25679119901278635\n",
      "MSE: 0.16229105214639056\n",
      "RMSE: 0.40285363613400654\n",
      "R2: 0.8326974640855812\n",
      "MAPE: 1.449261320531217\n"
     ]
    },
    {
     "name": "stderr",
     "output_type": "stream",
     "text": [
      "/var/folders/sb/50cj9frx6576wh5j6rbpnb6c0000gp/T/ipykernel_36568/1086096361.py:71: SettingWithCopyWarning: \n",
      "A value is trying to be set on a copy of a slice from a DataFrame.\n",
      "Try using .loc[row_indexer,col_indexer] = value instead\n",
      "\n",
      "See the caveats in the documentation: https://pandas.pydata.org/pandas-docs/stable/user_guide/indexing.html#returning-a-view-versus-a-copy\n",
      "  batch.loc[:, 'predicted_value'] = preds\n"
     ]
    },
    {
     "name": "stdout",
     "output_type": "stream",
     "text": [
      "MAE: 0.2560951601975629\n",
      "MSE: 0.16119998684372566\n",
      "RMSE: 0.40149718161367665\n",
      "R2: 0.8342209005070435\n",
      "MAPE: 1.439697194649001\n"
     ]
    },
    {
     "name": "stderr",
     "output_type": "stream",
     "text": [
      "/var/folders/sb/50cj9frx6576wh5j6rbpnb6c0000gp/T/ipykernel_36568/1086096361.py:71: SettingWithCopyWarning: \n",
      "A value is trying to be set on a copy of a slice from a DataFrame.\n",
      "Try using .loc[row_indexer,col_indexer] = value instead\n",
      "\n",
      "See the caveats in the documentation: https://pandas.pydata.org/pandas-docs/stable/user_guide/indexing.html#returning-a-view-versus-a-copy\n",
      "  batch.loc[:, 'predicted_value'] = preds\n"
     ]
    },
    {
     "name": "stdout",
     "output_type": "stream",
     "text": [
      "MAE: 0.2554934654604679\n",
      "MSE: 0.16019447398448866\n",
      "RMSE: 0.40024301865802564\n",
      "R2: 0.8357083233445428\n",
      "MAPE: 1.443600366314009\n"
     ]
    },
    {
     "name": "stderr",
     "output_type": "stream",
     "text": [
      "/var/folders/sb/50cj9frx6576wh5j6rbpnb6c0000gp/T/ipykernel_36568/1086096361.py:71: SettingWithCopyWarning: \n",
      "A value is trying to be set on a copy of a slice from a DataFrame.\n",
      "Try using .loc[row_indexer,col_indexer] = value instead\n",
      "\n",
      "See the caveats in the documentation: https://pandas.pydata.org/pandas-docs/stable/user_guide/indexing.html#returning-a-view-versus-a-copy\n",
      "  batch.loc[:, 'predicted_value'] = preds\n"
     ]
    },
    {
     "name": "stdout",
     "output_type": "stream",
     "text": [
      "MAE: 0.2549508794250342\n",
      "MSE: 0.15926174684988043\n",
      "RMSE: 0.39907611661170656\n",
      "R2: 0.8370976754861053\n",
      "MAPE: 1.5405647645370624\n"
     ]
    },
    {
     "name": "stderr",
     "output_type": "stream",
     "text": [
      "/var/folders/sb/50cj9frx6576wh5j6rbpnb6c0000gp/T/ipykernel_36568/1086096361.py:71: SettingWithCopyWarning: \n",
      "A value is trying to be set on a copy of a slice from a DataFrame.\n",
      "Try using .loc[row_indexer,col_indexer] = value instead\n",
      "\n",
      "See the caveats in the documentation: https://pandas.pydata.org/pandas-docs/stable/user_guide/indexing.html#returning-a-view-versus-a-copy\n",
      "  batch.loc[:, 'predicted_value'] = preds\n"
     ]
    },
    {
     "name": "stdout",
     "output_type": "stream",
     "text": [
      "MAE: 0.2543569120034135\n",
      "MSE: 0.15821001342386937\n",
      "RMSE: 0.39775622361425017\n",
      "R2: 0.8384080982627224\n",
      "MAPE: 1.56446628822033\n"
     ]
    },
    {
     "name": "stderr",
     "output_type": "stream",
     "text": [
      "/var/folders/sb/50cj9frx6576wh5j6rbpnb6c0000gp/T/ipykernel_36568/1086096361.py:71: SettingWithCopyWarning: \n",
      "A value is trying to be set on a copy of a slice from a DataFrame.\n",
      "Try using .loc[row_indexer,col_indexer] = value instead\n",
      "\n",
      "See the caveats in the documentation: https://pandas.pydata.org/pandas-docs/stable/user_guide/indexing.html#returning-a-view-versus-a-copy\n",
      "  batch.loc[:, 'predicted_value'] = preds\n"
     ]
    },
    {
     "name": "stdout",
     "output_type": "stream",
     "text": [
      "MAE: 0.25401701984487535\n",
      "MSE: 0.15728652155813164\n",
      "RMSE: 0.3965936479044157\n",
      "R2: 0.8395658670862547\n",
      "MAPE: 1.555707819106115\n"
     ]
    },
    {
     "name": "stderr",
     "output_type": "stream",
     "text": [
      "/var/folders/sb/50cj9frx6576wh5j6rbpnb6c0000gp/T/ipykernel_36568/1086096361.py:71: SettingWithCopyWarning: \n",
      "A value is trying to be set on a copy of a slice from a DataFrame.\n",
      "Try using .loc[row_indexer,col_indexer] = value instead\n",
      "\n",
      "See the caveats in the documentation: https://pandas.pydata.org/pandas-docs/stable/user_guide/indexing.html#returning-a-view-versus-a-copy\n",
      "  batch.loc[:, 'predicted_value'] = preds\n"
     ]
    },
    {
     "name": "stdout",
     "output_type": "stream",
     "text": [
      "MAE: 0.25402984006473245\n",
      "MSE: 0.156612252790734\n",
      "RMSE: 0.3957426598065137\n",
      "R2: 0.8402667604347405\n",
      "MAPE: 1.5526663248058108\n"
     ]
    },
    {
     "name": "stderr",
     "output_type": "stream",
     "text": [
      "/var/folders/sb/50cj9frx6576wh5j6rbpnb6c0000gp/T/ipykernel_36568/1086096361.py:71: SettingWithCopyWarning: \n",
      "A value is trying to be set on a copy of a slice from a DataFrame.\n",
      "Try using .loc[row_indexer,col_indexer] = value instead\n",
      "\n",
      "See the caveats in the documentation: https://pandas.pydata.org/pandas-docs/stable/user_guide/indexing.html#returning-a-view-versus-a-copy\n",
      "  batch.loc[:, 'predicted_value'] = preds\n"
     ]
    },
    {
     "name": "stdout",
     "output_type": "stream",
     "text": [
      "MAE: 0.25353091638674535\n",
      "MSE: 0.15578810792026984\n",
      "RMSE: 0.3947000227011266\n",
      "R2: 0.8416563460935613\n",
      "MAPE: 1.5496463935867901\n"
     ]
    },
    {
     "name": "stderr",
     "output_type": "stream",
     "text": [
      "/var/folders/sb/50cj9frx6576wh5j6rbpnb6c0000gp/T/ipykernel_36568/1086096361.py:71: SettingWithCopyWarning: \n",
      "A value is trying to be set on a copy of a slice from a DataFrame.\n",
      "Try using .loc[row_indexer,col_indexer] = value instead\n",
      "\n",
      "See the caveats in the documentation: https://pandas.pydata.org/pandas-docs/stable/user_guide/indexing.html#returning-a-view-versus-a-copy\n",
      "  batch.loc[:, 'predicted_value'] = preds\n"
     ]
    },
    {
     "name": "stdout",
     "output_type": "stream",
     "text": [
      "MAE: 0.2532558362375017\n",
      "MSE: 0.15498436925145614\n",
      "RMSE: 0.39368054212960046\n",
      "R2: 0.8426307979884753\n",
      "MAPE: 1.5471070347934597\n"
     ]
    },
    {
     "name": "stderr",
     "output_type": "stream",
     "text": [
      "/var/folders/sb/50cj9frx6576wh5j6rbpnb6c0000gp/T/ipykernel_36568/1086096361.py:71: SettingWithCopyWarning: \n",
      "A value is trying to be set on a copy of a slice from a DataFrame.\n",
      "Try using .loc[row_indexer,col_indexer] = value instead\n",
      "\n",
      "See the caveats in the documentation: https://pandas.pydata.org/pandas-docs/stable/user_guide/indexing.html#returning-a-view-versus-a-copy\n",
      "  batch.loc[:, 'predicted_value'] = preds\n"
     ]
    },
    {
     "name": "stdout",
     "output_type": "stream",
     "text": [
      "MAE: 0.25383849501487327\n",
      "MSE: 0.15496733253068842\n",
      "RMSE: 0.39365890378688045\n",
      "R2: 0.8426051961939152\n",
      "MAPE: 1.5404144005875973\n"
     ]
    },
    {
     "name": "stderr",
     "output_type": "stream",
     "text": [
      "/var/folders/sb/50cj9frx6576wh5j6rbpnb6c0000gp/T/ipykernel_36568/1086096361.py:71: SettingWithCopyWarning: \n",
      "A value is trying to be set on a copy of a slice from a DataFrame.\n",
      "Try using .loc[row_indexer,col_indexer] = value instead\n",
      "\n",
      "See the caveats in the documentation: https://pandas.pydata.org/pandas-docs/stable/user_guide/indexing.html#returning-a-view-versus-a-copy\n",
      "  batch.loc[:, 'predicted_value'] = preds\n"
     ]
    },
    {
     "name": "stdout",
     "output_type": "stream",
     "text": [
      "MAE: 0.2532232182336006\n",
      "MSE: 0.1542417812490336\n",
      "RMSE: 0.39273627442475134\n",
      "R2: 0.843938502612515\n",
      "MAPE: 1.5475336903667585\n",
      "Experimenting with num_nearest_neighbors=100 and distance_metric=euclidean\n",
      "int64\n"
     ]
    },
    {
     "name": "stderr",
     "output_type": "stream",
     "text": [
      "/var/folders/sb/50cj9frx6576wh5j6rbpnb6c0000gp/T/ipykernel_36568/1086096361.py:71: SettingWithCopyWarning: \n",
      "A value is trying to be set on a copy of a slice from a DataFrame.\n",
      "Try using .loc[row_indexer,col_indexer] = value instead\n",
      "\n",
      "See the caveats in the documentation: https://pandas.pydata.org/pandas-docs/stable/user_guide/indexing.html#returning-a-view-versus-a-copy\n",
      "  batch.loc[:, 'predicted_value'] = preds\n"
     ]
    },
    {
     "name": "stdout",
     "output_type": "stream",
     "text": [
      "MAE: 0.26026526904764863\n",
      "MSE: 0.1672603768029201\n",
      "RMSE: 0.408974787490525\n",
      "R2: 0.8310771619659774\n",
      "MAPE: 1.5404388672558644\n"
     ]
    },
    {
     "name": "stderr",
     "output_type": "stream",
     "text": [
      "/var/folders/sb/50cj9frx6576wh5j6rbpnb6c0000gp/T/ipykernel_36568/1086096361.py:71: SettingWithCopyWarning: \n",
      "A value is trying to be set on a copy of a slice from a DataFrame.\n",
      "Try using .loc[row_indexer,col_indexer] = value instead\n",
      "\n",
      "See the caveats in the documentation: https://pandas.pydata.org/pandas-docs/stable/user_guide/indexing.html#returning-a-view-versus-a-copy\n",
      "  batch.loc[:, 'predicted_value'] = preds\n"
     ]
    },
    {
     "name": "stdout",
     "output_type": "stream",
     "text": [
      "MAE: 0.2596904209967512\n",
      "MSE: 0.16725749171914156\n",
      "RMSE: 0.4089712602605977\n",
      "R2: 0.8310297295714192\n",
      "MAPE: 1.52817700124523\n"
     ]
    },
    {
     "name": "stderr",
     "output_type": "stream",
     "text": [
      "/var/folders/sb/50cj9frx6576wh5j6rbpnb6c0000gp/T/ipykernel_36568/1086096361.py:71: SettingWithCopyWarning: \n",
      "A value is trying to be set on a copy of a slice from a DataFrame.\n",
      "Try using .loc[row_indexer,col_indexer] = value instead\n",
      "\n",
      "See the caveats in the documentation: https://pandas.pydata.org/pandas-docs/stable/user_guide/indexing.html#returning-a-view-versus-a-copy\n",
      "  batch.loc[:, 'predicted_value'] = preds\n"
     ]
    },
    {
     "name": "stdout",
     "output_type": "stream",
     "text": [
      "MAE: 0.2586763153061057\n",
      "MSE: 0.16607875744052963\n",
      "RMSE: 0.40752761555571865\n",
      "R2: 0.8313425023980783\n",
      "MAPE: 1.5173697109352524\n"
     ]
    },
    {
     "name": "stderr",
     "output_type": "stream",
     "text": [
      "/var/folders/sb/50cj9frx6576wh5j6rbpnb6c0000gp/T/ipykernel_36568/1086096361.py:71: SettingWithCopyWarning: \n",
      "A value is trying to be set on a copy of a slice from a DataFrame.\n",
      "Try using .loc[row_indexer,col_indexer] = value instead\n",
      "\n",
      "See the caveats in the documentation: https://pandas.pydata.org/pandas-docs/stable/user_guide/indexing.html#returning-a-view-versus-a-copy\n",
      "  batch.loc[:, 'predicted_value'] = preds\n"
     ]
    },
    {
     "name": "stdout",
     "output_type": "stream",
     "text": [
      "MAE: 0.25803158480487765\n",
      "MSE: 0.16506262993534943\n",
      "RMSE: 0.40627900503883957\n",
      "R2: 0.8316079500604293\n",
      "MAPE: 1.5125731968317908\n"
     ]
    },
    {
     "name": "stderr",
     "output_type": "stream",
     "text": [
      "/var/folders/sb/50cj9frx6576wh5j6rbpnb6c0000gp/T/ipykernel_36568/1086096361.py:71: SettingWithCopyWarning: \n",
      "A value is trying to be set on a copy of a slice from a DataFrame.\n",
      "Try using .loc[row_indexer,col_indexer] = value instead\n",
      "\n",
      "See the caveats in the documentation: https://pandas.pydata.org/pandas-docs/stable/user_guide/indexing.html#returning-a-view-versus-a-copy\n",
      "  batch.loc[:, 'predicted_value'] = preds\n"
     ]
    },
    {
     "name": "stdout",
     "output_type": "stream",
     "text": [
      "MAE: 0.25763920486972\n",
      "MSE: 0.16432068312120565\n",
      "RMSE: 0.40536487652632863\n",
      "R2: 0.8325428630503973\n",
      "MAPE: 1.5021647482972769\n"
     ]
    },
    {
     "name": "stderr",
     "output_type": "stream",
     "text": [
      "/var/folders/sb/50cj9frx6576wh5j6rbpnb6c0000gp/T/ipykernel_36568/1086096361.py:71: SettingWithCopyWarning: \n",
      "A value is trying to be set on a copy of a slice from a DataFrame.\n",
      "Try using .loc[row_indexer,col_indexer] = value instead\n",
      "\n",
      "See the caveats in the documentation: https://pandas.pydata.org/pandas-docs/stable/user_guide/indexing.html#returning-a-view-versus-a-copy\n",
      "  batch.loc[:, 'predicted_value'] = preds\n"
     ]
    },
    {
     "name": "stdout",
     "output_type": "stream",
     "text": [
      "MAE: 0.25683721041721325\n",
      "MSE: 0.1631834514552669\n",
      "RMSE: 0.40395971513910506\n",
      "R2: 0.8331238964255555\n",
      "MAPE: 1.4938893201050252\n"
     ]
    },
    {
     "name": "stderr",
     "output_type": "stream",
     "text": [
      "/var/folders/sb/50cj9frx6576wh5j6rbpnb6c0000gp/T/ipykernel_36568/1086096361.py:71: SettingWithCopyWarning: \n",
      "A value is trying to be set on a copy of a slice from a DataFrame.\n",
      "Try using .loc[row_indexer,col_indexer] = value instead\n",
      "\n",
      "See the caveats in the documentation: https://pandas.pydata.org/pandas-docs/stable/user_guide/indexing.html#returning-a-view-versus-a-copy\n",
      "  batch.loc[:, 'predicted_value'] = preds\n"
     ]
    },
    {
     "name": "stdout",
     "output_type": "stream",
     "text": [
      "MAE: 0.25828255996956484\n",
      "MSE: 0.1660028439647889\n",
      "RMSE: 0.4074344658528398\n",
      "R2: 0.8307819019480255\n",
      "MAPE: 1.4886330779059211\n"
     ]
    },
    {
     "name": "stderr",
     "output_type": "stream",
     "text": [
      "/var/folders/sb/50cj9frx6576wh5j6rbpnb6c0000gp/T/ipykernel_36568/1086096361.py:71: SettingWithCopyWarning: \n",
      "A value is trying to be set on a copy of a slice from a DataFrame.\n",
      "Try using .loc[row_indexer,col_indexer] = value instead\n",
      "\n",
      "See the caveats in the documentation: https://pandas.pydata.org/pandas-docs/stable/user_guide/indexing.html#returning-a-view-versus-a-copy\n",
      "  batch.loc[:, 'predicted_value'] = preds\n"
     ]
    },
    {
     "name": "stdout",
     "output_type": "stream",
     "text": [
      "MAE: 0.2583819084732058\n",
      "MSE: 0.16568942875985554\n",
      "RMSE: 0.40704966375106555\n",
      "R2: 0.8308271794967604\n",
      "MAPE: 1.486712733813934\n"
     ]
    },
    {
     "name": "stderr",
     "output_type": "stream",
     "text": [
      "/var/folders/sb/50cj9frx6576wh5j6rbpnb6c0000gp/T/ipykernel_36568/1086096361.py:71: SettingWithCopyWarning: \n",
      "A value is trying to be set on a copy of a slice from a DataFrame.\n",
      "Try using .loc[row_indexer,col_indexer] = value instead\n",
      "\n",
      "See the caveats in the documentation: https://pandas.pydata.org/pandas-docs/stable/user_guide/indexing.html#returning-a-view-versus-a-copy\n",
      "  batch.loc[:, 'predicted_value'] = preds\n"
     ]
    },
    {
     "name": "stdout",
     "output_type": "stream",
     "text": [
      "MAE: 0.2583044063007178\n",
      "MSE: 0.1651438505153989\n",
      "RMSE: 0.4063789493999399\n",
      "R2: 0.8316716695452877\n",
      "MAPE: 1.4793245412767013\n"
     ]
    },
    {
     "name": "stderr",
     "output_type": "stream",
     "text": [
      "/var/folders/sb/50cj9frx6576wh5j6rbpnb6c0000gp/T/ipykernel_36568/1086096361.py:71: SettingWithCopyWarning: \n",
      "A value is trying to be set on a copy of a slice from a DataFrame.\n",
      "Try using .loc[row_indexer,col_indexer] = value instead\n",
      "\n",
      "See the caveats in the documentation: https://pandas.pydata.org/pandas-docs/stable/user_guide/indexing.html#returning-a-view-versus-a-copy\n",
      "  batch.loc[:, 'predicted_value'] = preds\n"
     ]
    },
    {
     "name": "stdout",
     "output_type": "stream",
     "text": [
      "MAE: 0.2581068012210147\n",
      "MSE: 0.1645897097257398\n",
      "RMSE: 0.4056965734705431\n",
      "R2: 0.8319638075021031\n",
      "MAPE: 1.4713931118654253\n"
     ]
    },
    {
     "name": "stderr",
     "output_type": "stream",
     "text": [
      "/var/folders/sb/50cj9frx6576wh5j6rbpnb6c0000gp/T/ipykernel_36568/1086096361.py:71: SettingWithCopyWarning: \n",
      "A value is trying to be set on a copy of a slice from a DataFrame.\n",
      "Try using .loc[row_indexer,col_indexer] = value instead\n",
      "\n",
      "See the caveats in the documentation: https://pandas.pydata.org/pandas-docs/stable/user_guide/indexing.html#returning-a-view-versus-a-copy\n",
      "  batch.loc[:, 'predicted_value'] = preds\n"
     ]
    },
    {
     "name": "stdout",
     "output_type": "stream",
     "text": [
      "MAE: 0.2578806446410486\n",
      "MSE: 0.16389616661805628\n",
      "RMSE: 0.40484091519763205\n",
      "R2: 0.8328168388258501\n",
      "MAPE: 1.4642030667956072\n"
     ]
    },
    {
     "name": "stderr",
     "output_type": "stream",
     "text": [
      "/var/folders/sb/50cj9frx6576wh5j6rbpnb6c0000gp/T/ipykernel_36568/1086096361.py:71: SettingWithCopyWarning: \n",
      "A value is trying to be set on a copy of a slice from a DataFrame.\n",
      "Try using .loc[row_indexer,col_indexer] = value instead\n",
      "\n",
      "See the caveats in the documentation: https://pandas.pydata.org/pandas-docs/stable/user_guide/indexing.html#returning-a-view-versus-a-copy\n",
      "  batch.loc[:, 'predicted_value'] = preds\n"
     ]
    },
    {
     "name": "stdout",
     "output_type": "stream",
     "text": [
      "MAE: 0.2576191891863067\n",
      "MSE: 0.16321059487462938\n",
      "RMSE: 0.40399331043301867\n",
      "R2: 0.8338412304915159\n",
      "MAPE: 1.4603279320129072\n"
     ]
    },
    {
     "name": "stderr",
     "output_type": "stream",
     "text": [
      "/var/folders/sb/50cj9frx6576wh5j6rbpnb6c0000gp/T/ipykernel_36568/1086096361.py:71: SettingWithCopyWarning: \n",
      "A value is trying to be set on a copy of a slice from a DataFrame.\n",
      "Try using .loc[row_indexer,col_indexer] = value instead\n",
      "\n",
      "See the caveats in the documentation: https://pandas.pydata.org/pandas-docs/stable/user_guide/indexing.html#returning-a-view-versus-a-copy\n",
      "  batch.loc[:, 'predicted_value'] = preds\n"
     ]
    },
    {
     "name": "stdout",
     "output_type": "stream",
     "text": [
      "MAE: 0.2570539478115877\n",
      "MSE: 0.1622850956565041\n",
      "RMSE: 0.40284624319522216\n",
      "R2: 0.8347331258556504\n",
      "MAPE: 1.4731213988700789\n"
     ]
    },
    {
     "name": "stderr",
     "output_type": "stream",
     "text": [
      "/var/folders/sb/50cj9frx6576wh5j6rbpnb6c0000gp/T/ipykernel_36568/1086096361.py:71: SettingWithCopyWarning: \n",
      "A value is trying to be set on a copy of a slice from a DataFrame.\n",
      "Try using .loc[row_indexer,col_indexer] = value instead\n",
      "\n",
      "See the caveats in the documentation: https://pandas.pydata.org/pandas-docs/stable/user_guide/indexing.html#returning-a-view-versus-a-copy\n",
      "  batch.loc[:, 'predicted_value'] = preds\n"
     ]
    },
    {
     "name": "stdout",
     "output_type": "stream",
     "text": [
      "MAE: 0.2567198516220801\n",
      "MSE: 0.16147565210065698\n",
      "RMSE: 0.4018403316003223\n",
      "R2: 0.8356710553907509\n",
      "MAPE: 1.4893574355364079\n"
     ]
    },
    {
     "name": "stderr",
     "output_type": "stream",
     "text": [
      "/var/folders/sb/50cj9frx6576wh5j6rbpnb6c0000gp/T/ipykernel_36568/1086096361.py:71: SettingWithCopyWarning: \n",
      "A value is trying to be set on a copy of a slice from a DataFrame.\n",
      "Try using .loc[row_indexer,col_indexer] = value instead\n",
      "\n",
      "See the caveats in the documentation: https://pandas.pydata.org/pandas-docs/stable/user_guide/indexing.html#returning-a-view-versus-a-copy\n",
      "  batch.loc[:, 'predicted_value'] = preds\n"
     ]
    },
    {
     "name": "stdout",
     "output_type": "stream",
     "text": [
      "MAE: 0.25638735526277523\n",
      "MSE: 0.1606691715734307\n",
      "RMSE: 0.4008355916999271\n",
      "R2: 0.8364866927606899\n",
      "MAPE: 1.4807318401437513\n"
     ]
    },
    {
     "name": "stderr",
     "output_type": "stream",
     "text": [
      "/var/folders/sb/50cj9frx6576wh5j6rbpnb6c0000gp/T/ipykernel_36568/1086096361.py:71: SettingWithCopyWarning: \n",
      "A value is trying to be set on a copy of a slice from a DataFrame.\n",
      "Try using .loc[row_indexer,col_indexer] = value instead\n",
      "\n",
      "See the caveats in the documentation: https://pandas.pydata.org/pandas-docs/stable/user_guide/indexing.html#returning-a-view-versus-a-copy\n",
      "  batch.loc[:, 'predicted_value'] = preds\n"
     ]
    },
    {
     "name": "stdout",
     "output_type": "stream",
     "text": [
      "MAE: 0.25610260535927326\n",
      "MSE: 0.15994240525996495\n",
      "RMSE: 0.39992800009497326\n",
      "R2: 0.8375472798854207\n",
      "MAPE: 1.4795541012409639\n"
     ]
    },
    {
     "name": "stderr",
     "output_type": "stream",
     "text": [
      "/var/folders/sb/50cj9frx6576wh5j6rbpnb6c0000gp/T/ipykernel_36568/1086096361.py:71: SettingWithCopyWarning: \n",
      "A value is trying to be set on a copy of a slice from a DataFrame.\n",
      "Try using .loc[row_indexer,col_indexer] = value instead\n",
      "\n",
      "See the caveats in the documentation: https://pandas.pydata.org/pandas-docs/stable/user_guide/indexing.html#returning-a-view-versus-a-copy\n",
      "  batch.loc[:, 'predicted_value'] = preds\n"
     ]
    },
    {
     "name": "stdout",
     "output_type": "stream",
     "text": [
      "MAE: 0.25586567084851825\n",
      "MSE: 0.15935782006275426\n",
      "RMSE: 0.3991964679988467\n",
      "R2: 0.83854151429688\n",
      "MAPE: 1.4748160981434566\n"
     ]
    },
    {
     "name": "stderr",
     "output_type": "stream",
     "text": [
      "/var/folders/sb/50cj9frx6576wh5j6rbpnb6c0000gp/T/ipykernel_36568/1086096361.py:71: SettingWithCopyWarning: \n",
      "A value is trying to be set on a copy of a slice from a DataFrame.\n",
      "Try using .loc[row_indexer,col_indexer] = value instead\n",
      "\n",
      "See the caveats in the documentation: https://pandas.pydata.org/pandas-docs/stable/user_guide/indexing.html#returning-a-view-versus-a-copy\n",
      "  batch.loc[:, 'predicted_value'] = preds\n"
     ]
    },
    {
     "name": "stdout",
     "output_type": "stream",
     "text": [
      "MAE: 0.25576495920625575\n",
      "MSE: 0.1587071989272435\n",
      "RMSE: 0.3983807210787735\n",
      "R2: 0.839150657343576\n",
      "MAPE: 1.4670259587367003\n"
     ]
    },
    {
     "name": "stderr",
     "output_type": "stream",
     "text": [
      "/var/folders/sb/50cj9frx6576wh5j6rbpnb6c0000gp/T/ipykernel_36568/1086096361.py:71: SettingWithCopyWarning: \n",
      "A value is trying to be set on a copy of a slice from a DataFrame.\n",
      "Try using .loc[row_indexer,col_indexer] = value instead\n",
      "\n",
      "See the caveats in the documentation: https://pandas.pydata.org/pandas-docs/stable/user_guide/indexing.html#returning-a-view-versus-a-copy\n",
      "  batch.loc[:, 'predicted_value'] = preds\n"
     ]
    },
    {
     "name": "stdout",
     "output_type": "stream",
     "text": [
      "MAE: 0.25593622759960505\n",
      "MSE: 0.15842685266105214\n",
      "RMSE: 0.3980287083377933\n",
      "R2: 0.8396733253285615\n",
      "MAPE: 1.464464671876528\n"
     ]
    },
    {
     "name": "stderr",
     "output_type": "stream",
     "text": [
      "/var/folders/sb/50cj9frx6576wh5j6rbpnb6c0000gp/T/ipykernel_36568/1086096361.py:71: SettingWithCopyWarning: \n",
      "A value is trying to be set on a copy of a slice from a DataFrame.\n",
      "Try using .loc[row_indexer,col_indexer] = value instead\n",
      "\n",
      "See the caveats in the documentation: https://pandas.pydata.org/pandas-docs/stable/user_guide/indexing.html#returning-a-view-versus-a-copy\n",
      "  batch.loc[:, 'predicted_value'] = preds\n"
     ]
    },
    {
     "name": "stdout",
     "output_type": "stream",
     "text": [
      "MAE: 0.2554677758951847\n",
      "MSE: 0.15789495427641853\n",
      "RMSE: 0.39735998071826323\n",
      "R2: 0.8405484282565049\n",
      "MAPE: 1.4672408853263241\n",
      "Experimenting with num_nearest_neighbors=100 and distance_metric=chebyshev\n",
      "int64\n"
     ]
    },
    {
     "name": "stderr",
     "output_type": "stream",
     "text": [
      "/var/folders/sb/50cj9frx6576wh5j6rbpnb6c0000gp/T/ipykernel_36568/1086096361.py:71: SettingWithCopyWarning: \n",
      "A value is trying to be set on a copy of a slice from a DataFrame.\n",
      "Try using .loc[row_indexer,col_indexer] = value instead\n",
      "\n",
      "See the caveats in the documentation: https://pandas.pydata.org/pandas-docs/stable/user_guide/indexing.html#returning-a-view-versus-a-copy\n",
      "  batch.loc[:, 'predicted_value'] = preds\n"
     ]
    },
    {
     "name": "stdout",
     "output_type": "stream",
     "text": [
      "MAE: 0.25977867683515043\n",
      "MSE: 0.1653643733911569\n",
      "RMSE: 0.40665018552947557\n",
      "R2: 0.8331292274600298\n",
      "MAPE: 1.4612482590070321\n"
     ]
    },
    {
     "name": "stderr",
     "output_type": "stream",
     "text": [
      "/var/folders/sb/50cj9frx6576wh5j6rbpnb6c0000gp/T/ipykernel_36568/1086096361.py:71: SettingWithCopyWarning: \n",
      "A value is trying to be set on a copy of a slice from a DataFrame.\n",
      "Try using .loc[row_indexer,col_indexer] = value instead\n",
      "\n",
      "See the caveats in the documentation: https://pandas.pydata.org/pandas-docs/stable/user_guide/indexing.html#returning-a-view-versus-a-copy\n",
      "  batch.loc[:, 'predicted_value'] = preds\n"
     ]
    },
    {
     "name": "stdout",
     "output_type": "stream",
     "text": [
      "MAE: 0.25977184038319356\n",
      "MSE: 0.16629062399080535\n",
      "RMSE: 0.40778747404843785\n",
      "R2: 0.8318413497250066\n",
      "MAPE: 1.4519331456720324\n"
     ]
    },
    {
     "name": "stderr",
     "output_type": "stream",
     "text": [
      "/var/folders/sb/50cj9frx6576wh5j6rbpnb6c0000gp/T/ipykernel_36568/1086096361.py:71: SettingWithCopyWarning: \n",
      "A value is trying to be set on a copy of a slice from a DataFrame.\n",
      "Try using .loc[row_indexer,col_indexer] = value instead\n",
      "\n",
      "See the caveats in the documentation: https://pandas.pydata.org/pandas-docs/stable/user_guide/indexing.html#returning-a-view-versus-a-copy\n",
      "  batch.loc[:, 'predicted_value'] = preds\n"
     ]
    },
    {
     "name": "stdout",
     "output_type": "stream",
     "text": [
      "MAE: 0.258545507940744\n",
      "MSE: 0.1650770405744766\n",
      "RMSE: 0.40629673955678824\n",
      "R2: 0.832363932003347\n",
      "MAPE: 1.4436056011128673\n"
     ]
    },
    {
     "name": "stderr",
     "output_type": "stream",
     "text": [
      "/var/folders/sb/50cj9frx6576wh5j6rbpnb6c0000gp/T/ipykernel_36568/1086096361.py:71: SettingWithCopyWarning: \n",
      "A value is trying to be set on a copy of a slice from a DataFrame.\n",
      "Try using .loc[row_indexer,col_indexer] = value instead\n",
      "\n",
      "See the caveats in the documentation: https://pandas.pydata.org/pandas-docs/stable/user_guide/indexing.html#returning-a-view-versus-a-copy\n",
      "  batch.loc[:, 'predicted_value'] = preds\n"
     ]
    },
    {
     "name": "stdout",
     "output_type": "stream",
     "text": [
      "MAE: 0.2575582416856285\n",
      "MSE: 0.1639682973894814\n",
      "RMSE: 0.4049299907261518\n",
      "R2: 0.8329615815169784\n",
      "MAPE: 1.4367408417126\n"
     ]
    },
    {
     "name": "stderr",
     "output_type": "stream",
     "text": [
      "/var/folders/sb/50cj9frx6576wh5j6rbpnb6c0000gp/T/ipykernel_36568/1086096361.py:71: SettingWithCopyWarning: \n",
      "A value is trying to be set on a copy of a slice from a DataFrame.\n",
      "Try using .loc[row_indexer,col_indexer] = value instead\n",
      "\n",
      "See the caveats in the documentation: https://pandas.pydata.org/pandas-docs/stable/user_guide/indexing.html#returning-a-view-versus-a-copy\n",
      "  batch.loc[:, 'predicted_value'] = preds\n"
     ]
    },
    {
     "name": "stdout",
     "output_type": "stream",
     "text": [
      "MAE: 0.2576671425554513\n",
      "MSE: 0.16378738598030335\n",
      "RMSE: 0.40470654304113163\n",
      "R2: 0.8332300320877066\n",
      "MAPE: 1.4343617729738796\n"
     ]
    },
    {
     "name": "stderr",
     "output_type": "stream",
     "text": [
      "/var/folders/sb/50cj9frx6576wh5j6rbpnb6c0000gp/T/ipykernel_36568/1086096361.py:71: SettingWithCopyWarning: \n",
      "A value is trying to be set on a copy of a slice from a DataFrame.\n",
      "Try using .loc[row_indexer,col_indexer] = value instead\n",
      "\n",
      "See the caveats in the documentation: https://pandas.pydata.org/pandas-docs/stable/user_guide/indexing.html#returning-a-view-versus-a-copy\n",
      "  batch.loc[:, 'predicted_value'] = preds\n"
     ]
    },
    {
     "name": "stdout",
     "output_type": "stream",
     "text": [
      "MAE: 0.25896761853785055\n",
      "MSE: 0.16683812938684373\n",
      "RMSE: 0.4084582345685342\n",
      "R2: 0.8305386871181388\n",
      "MAPE: 1.4283008685423346\n"
     ]
    },
    {
     "name": "stderr",
     "output_type": "stream",
     "text": [
      "/var/folders/sb/50cj9frx6576wh5j6rbpnb6c0000gp/T/ipykernel_36568/1086096361.py:71: SettingWithCopyWarning: \n",
      "A value is trying to be set on a copy of a slice from a DataFrame.\n",
      "Try using .loc[row_indexer,col_indexer] = value instead\n",
      "\n",
      "See the caveats in the documentation: https://pandas.pydata.org/pandas-docs/stable/user_guide/indexing.html#returning-a-view-versus-a-copy\n",
      "  batch.loc[:, 'predicted_value'] = preds\n"
     ]
    },
    {
     "name": "stdout",
     "output_type": "stream",
     "text": [
      "MAE: 0.2596184519431476\n",
      "MSE: 0.16886314758072318\n",
      "RMSE: 0.4109296139008762\n",
      "R2: 0.8285682970787874\n",
      "MAPE: 1.420235865640283\n"
     ]
    },
    {
     "name": "stderr",
     "output_type": "stream",
     "text": [
      "/var/folders/sb/50cj9frx6576wh5j6rbpnb6c0000gp/T/ipykernel_36568/1086096361.py:71: SettingWithCopyWarning: \n",
      "A value is trying to be set on a copy of a slice from a DataFrame.\n",
      "Try using .loc[row_indexer,col_indexer] = value instead\n",
      "\n",
      "See the caveats in the documentation: https://pandas.pydata.org/pandas-docs/stable/user_guide/indexing.html#returning-a-view-versus-a-copy\n",
      "  batch.loc[:, 'predicted_value'] = preds\n"
     ]
    },
    {
     "name": "stdout",
     "output_type": "stream",
     "text": [
      "MAE: 0.2595595028414046\n",
      "MSE: 0.16850296582418336\n",
      "RMSE: 0.41049112758278145\n",
      "R2: 0.8289273359723575\n",
      "MAPE: 1.4140513358374673\n"
     ]
    },
    {
     "name": "stderr",
     "output_type": "stream",
     "text": [
      "/var/folders/sb/50cj9frx6576wh5j6rbpnb6c0000gp/T/ipykernel_36568/1086096361.py:71: SettingWithCopyWarning: \n",
      "A value is trying to be set on a copy of a slice from a DataFrame.\n",
      "Try using .loc[row_indexer,col_indexer] = value instead\n",
      "\n",
      "See the caveats in the documentation: https://pandas.pydata.org/pandas-docs/stable/user_guide/indexing.html#returning-a-view-versus-a-copy\n",
      "  batch.loc[:, 'predicted_value'] = preds\n"
     ]
    },
    {
     "name": "stdout",
     "output_type": "stream",
     "text": [
      "MAE: 0.2592732858292272\n",
      "MSE: 0.16783719856311718\n",
      "RMSE: 0.4096793850843818\n",
      "R2: 0.8292711219819199\n",
      "MAPE: 1.407257529307209\n"
     ]
    },
    {
     "name": "stderr",
     "output_type": "stream",
     "text": [
      "/var/folders/sb/50cj9frx6576wh5j6rbpnb6c0000gp/T/ipykernel_36568/1086096361.py:71: SettingWithCopyWarning: \n",
      "A value is trying to be set on a copy of a slice from a DataFrame.\n",
      "Try using .loc[row_indexer,col_indexer] = value instead\n",
      "\n",
      "See the caveats in the documentation: https://pandas.pydata.org/pandas-docs/stable/user_guide/indexing.html#returning-a-view-versus-a-copy\n",
      "  batch.loc[:, 'predicted_value'] = preds\n"
     ]
    },
    {
     "name": "stdout",
     "output_type": "stream",
     "text": [
      "MAE: 0.2589126833132571\n",
      "MSE: 0.16713229267223617\n",
      "RMSE: 0.40881816578062696\n",
      "R2: 0.8303347294555017\n",
      "MAPE: 1.4088801808828677\n"
     ]
    },
    {
     "name": "stderr",
     "output_type": "stream",
     "text": [
      "/var/folders/sb/50cj9frx6576wh5j6rbpnb6c0000gp/T/ipykernel_36568/1086096361.py:71: SettingWithCopyWarning: \n",
      "A value is trying to be set on a copy of a slice from a DataFrame.\n",
      "Try using .loc[row_indexer,col_indexer] = value instead\n",
      "\n",
      "See the caveats in the documentation: https://pandas.pydata.org/pandas-docs/stable/user_guide/indexing.html#returning-a-view-versus-a-copy\n",
      "  batch.loc[:, 'predicted_value'] = preds\n"
     ]
    },
    {
     "name": "stdout",
     "output_type": "stream",
     "text": [
      "MAE: 0.2585206110038354\n",
      "MSE: 0.16641600302242657\n",
      "RMSE: 0.4079411759340145\n",
      "R2: 0.8313215861758941\n",
      "MAPE: 1.4116112792089155\n"
     ]
    },
    {
     "name": "stderr",
     "output_type": "stream",
     "text": [
      "/var/folders/sb/50cj9frx6576wh5j6rbpnb6c0000gp/T/ipykernel_36568/1086096361.py:71: SettingWithCopyWarning: \n",
      "A value is trying to be set on a copy of a slice from a DataFrame.\n",
      "Try using .loc[row_indexer,col_indexer] = value instead\n",
      "\n",
      "See the caveats in the documentation: https://pandas.pydata.org/pandas-docs/stable/user_guide/indexing.html#returning-a-view-versus-a-copy\n",
      "  batch.loc[:, 'predicted_value'] = preds\n"
     ]
    },
    {
     "name": "stdout",
     "output_type": "stream",
     "text": [
      "MAE: 0.2581258073193382\n",
      "MSE: 0.16570573200523248\n",
      "RMSE: 0.4070696893717739\n",
      "R2: 0.8321163485665075\n",
      "MAPE: 1.4060689221220528\n"
     ]
    },
    {
     "name": "stderr",
     "output_type": "stream",
     "text": [
      "/var/folders/sb/50cj9frx6576wh5j6rbpnb6c0000gp/T/ipykernel_36568/1086096361.py:71: SettingWithCopyWarning: \n",
      "A value is trying to be set on a copy of a slice from a DataFrame.\n",
      "Try using .loc[row_indexer,col_indexer] = value instead\n",
      "\n",
      "See the caveats in the documentation: https://pandas.pydata.org/pandas-docs/stable/user_guide/indexing.html#returning-a-view-versus-a-copy\n",
      "  batch.loc[:, 'predicted_value'] = preds\n"
     ]
    },
    {
     "name": "stdout",
     "output_type": "stream",
     "text": [
      "MAE: 0.25778673306505434\n",
      "MSE: 0.16494114606411306\n",
      "RMSE: 0.40612946958342366\n",
      "R2: 0.8330869496883114\n",
      "MAPE: 1.4244022128338436\n"
     ]
    },
    {
     "name": "stderr",
     "output_type": "stream",
     "text": [
      "/var/folders/sb/50cj9frx6576wh5j6rbpnb6c0000gp/T/ipykernel_36568/1086096361.py:71: SettingWithCopyWarning: \n",
      "A value is trying to be set on a copy of a slice from a DataFrame.\n",
      "Try using .loc[row_indexer,col_indexer] = value instead\n",
      "\n",
      "See the caveats in the documentation: https://pandas.pydata.org/pandas-docs/stable/user_guide/indexing.html#returning-a-view-versus-a-copy\n",
      "  batch.loc[:, 'predicted_value'] = preds\n"
     ]
    },
    {
     "name": "stdout",
     "output_type": "stream",
     "text": [
      "MAE: 0.2574751873803442\n",
      "MSE: 0.16420322103275192\n",
      "RMSE: 0.4052199662316159\n",
      "R2: 0.8340313842161046\n",
      "MAPE: 1.4294036568069934\n"
     ]
    },
    {
     "name": "stderr",
     "output_type": "stream",
     "text": [
      "/var/folders/sb/50cj9frx6576wh5j6rbpnb6c0000gp/T/ipykernel_36568/1086096361.py:71: SettingWithCopyWarning: \n",
      "A value is trying to be set on a copy of a slice from a DataFrame.\n",
      "Try using .loc[row_indexer,col_indexer] = value instead\n",
      "\n",
      "See the caveats in the documentation: https://pandas.pydata.org/pandas-docs/stable/user_guide/indexing.html#returning-a-view-versus-a-copy\n",
      "  batch.loc[:, 'predicted_value'] = preds\n"
     ]
    },
    {
     "name": "stdout",
     "output_type": "stream",
     "text": [
      "MAE: 0.25712256140595796\n",
      "MSE: 0.16344855591915627\n",
      "RMSE: 0.40428771428174304\n",
      "R2: 0.8349701241587486\n",
      "MAPE: 1.4220902098582706\n"
     ]
    },
    {
     "name": "stderr",
     "output_type": "stream",
     "text": [
      "/var/folders/sb/50cj9frx6576wh5j6rbpnb6c0000gp/T/ipykernel_36568/1086096361.py:71: SettingWithCopyWarning: \n",
      "A value is trying to be set on a copy of a slice from a DataFrame.\n",
      "Try using .loc[row_indexer,col_indexer] = value instead\n",
      "\n",
      "See the caveats in the documentation: https://pandas.pydata.org/pandas-docs/stable/user_guide/indexing.html#returning-a-view-versus-a-copy\n",
      "  batch.loc[:, 'predicted_value'] = preds\n"
     ]
    },
    {
     "name": "stdout",
     "output_type": "stream",
     "text": [
      "MAE: 0.25687345668361816\n",
      "MSE: 0.1628384350140847\n",
      "RMSE: 0.4035324460487468\n",
      "R2: 0.8359638336071484\n",
      "MAPE: 1.4737367864541575\n"
     ]
    },
    {
     "name": "stderr",
     "output_type": "stream",
     "text": [
      "/var/folders/sb/50cj9frx6576wh5j6rbpnb6c0000gp/T/ipykernel_36568/1086096361.py:71: SettingWithCopyWarning: \n",
      "A value is trying to be set on a copy of a slice from a DataFrame.\n",
      "Try using .loc[row_indexer,col_indexer] = value instead\n",
      "\n",
      "See the caveats in the documentation: https://pandas.pydata.org/pandas-docs/stable/user_guide/indexing.html#returning-a-view-versus-a-copy\n",
      "  batch.loc[:, 'predicted_value'] = preds\n"
     ]
    },
    {
     "name": "stdout",
     "output_type": "stream",
     "text": [
      "MAE: 0.2565282711372904\n",
      "MSE: 0.16212467731879798\n",
      "RMSE: 0.4026470878061804\n",
      "R2: 0.837077535063978\n",
      "MAPE: 1.5094449995764256\n"
     ]
    },
    {
     "name": "stderr",
     "output_type": "stream",
     "text": [
      "/var/folders/sb/50cj9frx6576wh5j6rbpnb6c0000gp/T/ipykernel_36568/1086096361.py:71: SettingWithCopyWarning: \n",
      "A value is trying to be set on a copy of a slice from a DataFrame.\n",
      "Try using .loc[row_indexer,col_indexer] = value instead\n",
      "\n",
      "See the caveats in the documentation: https://pandas.pydata.org/pandas-docs/stable/user_guide/indexing.html#returning-a-view-versus-a-copy\n",
      "  batch.loc[:, 'predicted_value'] = preds\n"
     ]
    },
    {
     "name": "stdout",
     "output_type": "stream",
     "text": [
      "MAE: 0.25631119751601056\n",
      "MSE: 0.16152011825422571\n",
      "RMSE: 0.40189565592853294\n",
      "R2: 0.8375927290854461\n",
      "MAPE: 1.5051202628627385\n"
     ]
    },
    {
     "name": "stderr",
     "output_type": "stream",
     "text": [
      "/var/folders/sb/50cj9frx6576wh5j6rbpnb6c0000gp/T/ipykernel_36568/1086096361.py:71: SettingWithCopyWarning: \n",
      "A value is trying to be set on a copy of a slice from a DataFrame.\n",
      "Try using .loc[row_indexer,col_indexer] = value instead\n",
      "\n",
      "See the caveats in the documentation: https://pandas.pydata.org/pandas-docs/stable/user_guide/indexing.html#returning-a-view-versus-a-copy\n",
      "  batch.loc[:, 'predicted_value'] = preds\n"
     ]
    },
    {
     "name": "stdout",
     "output_type": "stream",
     "text": [
      "MAE: 0.2566514355212935\n",
      "MSE: 0.16149993811573699\n",
      "RMSE: 0.40187054895293955\n",
      "R2: 0.8377896505110292\n",
      "MAPE: 1.5012934107186595\n"
     ]
    },
    {
     "name": "stderr",
     "output_type": "stream",
     "text": [
      "/var/folders/sb/50cj9frx6576wh5j6rbpnb6c0000gp/T/ipykernel_36568/1086096361.py:71: SettingWithCopyWarning: \n",
      "A value is trying to be set on a copy of a slice from a DataFrame.\n",
      "Try using .loc[row_indexer,col_indexer] = value instead\n",
      "\n",
      "See the caveats in the documentation: https://pandas.pydata.org/pandas-docs/stable/user_guide/indexing.html#returning-a-view-versus-a-copy\n",
      "  batch.loc[:, 'predicted_value'] = preds\n"
     ]
    },
    {
     "name": "stdout",
     "output_type": "stream",
     "text": [
      "MAE: 0.25658562680611613\n",
      "MSE: 0.1613359240403028\n",
      "RMSE: 0.4016664337983731\n",
      "R2: 0.8380491925879407\n",
      "MAPE: 1.5010406285619016\n",
      "Experimenting with num_nearest_neighbors=100 and distance_metric=dtw\n",
      "int64\n"
     ]
    },
    {
     "name": "stderr",
     "output_type": "stream",
     "text": [
      "/var/folders/sb/50cj9frx6576wh5j6rbpnb6c0000gp/T/ipykernel_36568/1086096361.py:71: SettingWithCopyWarning: \n",
      "A value is trying to be set on a copy of a slice from a DataFrame.\n",
      "Try using .loc[row_indexer,col_indexer] = value instead\n",
      "\n",
      "See the caveats in the documentation: https://pandas.pydata.org/pandas-docs/stable/user_guide/indexing.html#returning-a-view-versus-a-copy\n",
      "  batch.loc[:, 'predicted_value'] = preds\n"
     ]
    },
    {
     "name": "stdout",
     "output_type": "stream",
     "text": [
      "MAE: 0.2564782397269203\n",
      "MSE: 0.16078933647322657\n",
      "RMSE: 0.4009854566854346\n",
      "R2: 0.8386061964893072\n",
      "MAPE: 1.4948931884110745\n"
     ]
    },
    {
     "name": "stderr",
     "output_type": "stream",
     "text": [
      "/var/folders/sb/50cj9frx6576wh5j6rbpnb6c0000gp/T/ipykernel_36568/1086096361.py:71: SettingWithCopyWarning: \n",
      "A value is trying to be set on a copy of a slice from a DataFrame.\n",
      "Try using .loc[row_indexer,col_indexer] = value instead\n",
      "\n",
      "See the caveats in the documentation: https://pandas.pydata.org/pandas-docs/stable/user_guide/indexing.html#returning-a-view-versus-a-copy\n",
      "  batch.loc[:, 'predicted_value'] = preds\n"
     ]
    },
    {
     "name": "stdout",
     "output_type": "stream",
     "text": [
      "MAE: 0.25576400990986004\n",
      "MSE: 0.1603244650661455\n",
      "RMSE: 0.4004053759206356\n",
      "R2: 0.8389218081599381\n",
      "MAPE: 1.4855930757724767\n"
     ]
    },
    {
     "name": "stderr",
     "output_type": "stream",
     "text": [
      "/var/folders/sb/50cj9frx6576wh5j6rbpnb6c0000gp/T/ipykernel_36568/1086096361.py:71: SettingWithCopyWarning: \n",
      "A value is trying to be set on a copy of a slice from a DataFrame.\n",
      "Try using .loc[row_indexer,col_indexer] = value instead\n",
      "\n",
      "See the caveats in the documentation: https://pandas.pydata.org/pandas-docs/stable/user_guide/indexing.html#returning-a-view-versus-a-copy\n",
      "  batch.loc[:, 'predicted_value'] = preds\n"
     ]
    },
    {
     "name": "stdout",
     "output_type": "stream",
     "text": [
      "MAE: 0.2550989478659263\n",
      "MSE: 0.15947210602530368\n",
      "RMSE: 0.39933958735054514\n",
      "R2: 0.839065388524586\n",
      "MAPE: 1.4793821179018065\n"
     ]
    },
    {
     "name": "stderr",
     "output_type": "stream",
     "text": [
      "/var/folders/sb/50cj9frx6576wh5j6rbpnb6c0000gp/T/ipykernel_36568/1086096361.py:71: SettingWithCopyWarning: \n",
      "A value is trying to be set on a copy of a slice from a DataFrame.\n",
      "Try using .loc[row_indexer,col_indexer] = value instead\n",
      "\n",
      "See the caveats in the documentation: https://pandas.pydata.org/pandas-docs/stable/user_guide/indexing.html#returning-a-view-versus-a-copy\n",
      "  batch.loc[:, 'predicted_value'] = preds\n"
     ]
    },
    {
     "name": "stdout",
     "output_type": "stream",
     "text": [
      "MAE: 0.25440329634887915\n",
      "MSE: 0.15862763019219178\n",
      "RMSE: 0.3982808433658237\n",
      "R2: 0.8396348758296105\n",
      "MAPE: 1.4714925243491657\n"
     ]
    },
    {
     "name": "stderr",
     "output_type": "stream",
     "text": [
      "/var/folders/sb/50cj9frx6576wh5j6rbpnb6c0000gp/T/ipykernel_36568/1086096361.py:71: SettingWithCopyWarning: \n",
      "A value is trying to be set on a copy of a slice from a DataFrame.\n",
      "Try using .loc[row_indexer,col_indexer] = value instead\n",
      "\n",
      "See the caveats in the documentation: https://pandas.pydata.org/pandas-docs/stable/user_guide/indexing.html#returning-a-view-versus-a-copy\n",
      "  batch.loc[:, 'predicted_value'] = preds\n"
     ]
    },
    {
     "name": "stdout",
     "output_type": "stream",
     "text": [
      "MAE: 0.25410336838843756\n",
      "MSE: 0.157990932076892\n",
      "RMSE: 0.39748073170518844\n",
      "R2: 0.8397415389842289\n",
      "MAPE: 1.4913989402131396\n"
     ]
    },
    {
     "name": "stderr",
     "output_type": "stream",
     "text": [
      "/var/folders/sb/50cj9frx6576wh5j6rbpnb6c0000gp/T/ipykernel_36568/1086096361.py:71: SettingWithCopyWarning: \n",
      "A value is trying to be set on a copy of a slice from a DataFrame.\n",
      "Try using .loc[row_indexer,col_indexer] = value instead\n",
      "\n",
      "See the caveats in the documentation: https://pandas.pydata.org/pandas-docs/stable/user_guide/indexing.html#returning-a-view-versus-a-copy\n",
      "  batch.loc[:, 'predicted_value'] = preds\n"
     ]
    },
    {
     "name": "stdout",
     "output_type": "stream",
     "text": [
      "MAE: 0.25450547775313115\n",
      "MSE: 0.15886870730859506\n",
      "RMSE: 0.3985833756048978\n",
      "R2: 0.8391466395356992\n",
      "MAPE: 1.4883078493139688\n"
     ]
    },
    {
     "name": "stderr",
     "output_type": "stream",
     "text": [
      "/var/folders/sb/50cj9frx6576wh5j6rbpnb6c0000gp/T/ipykernel_36568/1086096361.py:71: SettingWithCopyWarning: \n",
      "A value is trying to be set on a copy of a slice from a DataFrame.\n",
      "Try using .loc[row_indexer,col_indexer] = value instead\n",
      "\n",
      "See the caveats in the documentation: https://pandas.pydata.org/pandas-docs/stable/user_guide/indexing.html#returning-a-view-versus-a-copy\n",
      "  batch.loc[:, 'predicted_value'] = preds\n"
     ]
    },
    {
     "name": "stdout",
     "output_type": "stream",
     "text": [
      "MAE: 0.2551286601844811\n",
      "MSE: 0.15979755843778506\n",
      "RMSE: 0.39974686795243947\n",
      "R2: 0.8380910949595123\n",
      "MAPE: 1.484399232419251\n"
     ]
    },
    {
     "name": "stderr",
     "output_type": "stream",
     "text": [
      "/var/folders/sb/50cj9frx6576wh5j6rbpnb6c0000gp/T/ipykernel_36568/1086096361.py:71: SettingWithCopyWarning: \n",
      "A value is trying to be set on a copy of a slice from a DataFrame.\n",
      "Try using .loc[row_indexer,col_indexer] = value instead\n",
      "\n",
      "See the caveats in the documentation: https://pandas.pydata.org/pandas-docs/stable/user_guide/indexing.html#returning-a-view-versus-a-copy\n",
      "  batch.loc[:, 'predicted_value'] = preds\n"
     ]
    },
    {
     "name": "stdout",
     "output_type": "stream",
     "text": [
      "MAE: 0.2547371162578971\n",
      "MSE: 0.15922309942416088\n",
      "RMSE: 0.3990276925529867\n",
      "R2: 0.8388395159289594\n",
      "MAPE: 1.4788635366469276\n"
     ]
    },
    {
     "name": "stderr",
     "output_type": "stream",
     "text": [
      "/var/folders/sb/50cj9frx6576wh5j6rbpnb6c0000gp/T/ipykernel_36568/1086096361.py:71: SettingWithCopyWarning: \n",
      "A value is trying to be set on a copy of a slice from a DataFrame.\n",
      "Try using .loc[row_indexer,col_indexer] = value instead\n",
      "\n",
      "See the caveats in the documentation: https://pandas.pydata.org/pandas-docs/stable/user_guide/indexing.html#returning-a-view-versus-a-copy\n",
      "  batch.loc[:, 'predicted_value'] = preds\n"
     ]
    },
    {
     "name": "stdout",
     "output_type": "stream",
     "text": [
      "MAE: 0.2548007124345327\n",
      "MSE: 0.158910935669374\n",
      "RMSE: 0.398636345143508\n",
      "R2: 0.8388928830604863\n",
      "MAPE: 1.4733288639086781\n"
     ]
    },
    {
     "name": "stderr",
     "output_type": "stream",
     "text": [
      "/var/folders/sb/50cj9frx6576wh5j6rbpnb6c0000gp/T/ipykernel_36568/1086096361.py:71: SettingWithCopyWarning: \n",
      "A value is trying to be set on a copy of a slice from a DataFrame.\n",
      "Try using .loc[row_indexer,col_indexer] = value instead\n",
      "\n",
      "See the caveats in the documentation: https://pandas.pydata.org/pandas-docs/stable/user_guide/indexing.html#returning-a-view-versus-a-copy\n",
      "  batch.loc[:, 'predicted_value'] = preds\n"
     ]
    },
    {
     "name": "stdout",
     "output_type": "stream",
     "text": [
      "MAE: 0.2543608202741212\n",
      "MSE: 0.1582835718227511\n",
      "RMSE: 0.3978486795538614\n",
      "R2: 0.8396242419590373\n",
      "MAPE: 1.4653996233953483\n"
     ]
    },
    {
     "name": "stderr",
     "output_type": "stream",
     "text": [
      "/var/folders/sb/50cj9frx6576wh5j6rbpnb6c0000gp/T/ipykernel_36568/1086096361.py:71: SettingWithCopyWarning: \n",
      "A value is trying to be set on a copy of a slice from a DataFrame.\n",
      "Try using .loc[row_indexer,col_indexer] = value instead\n",
      "\n",
      "See the caveats in the documentation: https://pandas.pydata.org/pandas-docs/stable/user_guide/indexing.html#returning-a-view-versus-a-copy\n",
      "  batch.loc[:, 'predicted_value'] = preds\n"
     ]
    },
    {
     "name": "stdout",
     "output_type": "stream",
     "text": [
      "MAE: 0.25408360219728293\n",
      "MSE: 0.15764943733057807\n",
      "RMSE: 0.39705092536169473\n",
      "R2: 0.8405610390272257\n",
      "MAPE: 1.4582315002829056\n"
     ]
    },
    {
     "name": "stderr",
     "output_type": "stream",
     "text": [
      "/var/folders/sb/50cj9frx6576wh5j6rbpnb6c0000gp/T/ipykernel_36568/1086096361.py:71: SettingWithCopyWarning: \n",
      "A value is trying to be set on a copy of a slice from a DataFrame.\n",
      "Try using .loc[row_indexer,col_indexer] = value instead\n",
      "\n",
      "See the caveats in the documentation: https://pandas.pydata.org/pandas-docs/stable/user_guide/indexing.html#returning-a-view-versus-a-copy\n",
      "  batch.loc[:, 'predicted_value'] = preds\n"
     ]
    },
    {
     "name": "stdout",
     "output_type": "stream",
     "text": [
      "MAE: 0.2536219959868153\n",
      "MSE: 0.15697304528133602\n",
      "RMSE: 0.3961982398766254\n",
      "R2: 0.8414504686151855\n",
      "MAPE: 1.4581854394226232\n"
     ]
    },
    {
     "name": "stderr",
     "output_type": "stream",
     "text": [
      "/var/folders/sb/50cj9frx6576wh5j6rbpnb6c0000gp/T/ipykernel_36568/1086096361.py:71: SettingWithCopyWarning: \n",
      "A value is trying to be set on a copy of a slice from a DataFrame.\n",
      "Try using .loc[row_indexer,col_indexer] = value instead\n",
      "\n",
      "See the caveats in the documentation: https://pandas.pydata.org/pandas-docs/stable/user_guide/indexing.html#returning-a-view-versus-a-copy\n",
      "  batch.loc[:, 'predicted_value'] = preds\n"
     ]
    },
    {
     "name": "stdout",
     "output_type": "stream",
     "text": [
      "MAE: 0.25329269497262874\n",
      "MSE: 0.15637305483805866\n",
      "RMSE: 0.3954403303130052\n",
      "R2: 0.8421261574261658\n",
      "MAPE: 1.466141349292639\n"
     ]
    },
    {
     "name": "stderr",
     "output_type": "stream",
     "text": [
      "/var/folders/sb/50cj9frx6576wh5j6rbpnb6c0000gp/T/ipykernel_36568/1086096361.py:71: SettingWithCopyWarning: \n",
      "A value is trying to be set on a copy of a slice from a DataFrame.\n",
      "Try using .loc[row_indexer,col_indexer] = value instead\n",
      "\n",
      "See the caveats in the documentation: https://pandas.pydata.org/pandas-docs/stable/user_guide/indexing.html#returning-a-view-versus-a-copy\n",
      "  batch.loc[:, 'predicted_value'] = preds\n"
     ]
    },
    {
     "name": "stdout",
     "output_type": "stream",
     "text": [
      "MAE: 0.25317213857455156\n",
      "MSE: 0.15585446183081292\n",
      "RMSE: 0.39478406987974185\n",
      "R2: 0.8428754256255894\n",
      "MAPE: 1.4673395991314517\n"
     ]
    },
    {
     "name": "stderr",
     "output_type": "stream",
     "text": [
      "/var/folders/sb/50cj9frx6576wh5j6rbpnb6c0000gp/T/ipykernel_36568/1086096361.py:71: SettingWithCopyWarning: \n",
      "A value is trying to be set on a copy of a slice from a DataFrame.\n",
      "Try using .loc[row_indexer,col_indexer] = value instead\n",
      "\n",
      "See the caveats in the documentation: https://pandas.pydata.org/pandas-docs/stable/user_guide/indexing.html#returning-a-view-versus-a-copy\n",
      "  batch.loc[:, 'predicted_value'] = preds\n"
     ]
    },
    {
     "name": "stdout",
     "output_type": "stream",
     "text": [
      "MAE: 0.2529447050586675\n",
      "MSE: 0.15528890844801005\n",
      "RMSE: 0.3940671369805024\n",
      "R2: 0.8433913477825479\n",
      "MAPE: 1.4621320944396154\n"
     ]
    },
    {
     "name": "stderr",
     "output_type": "stream",
     "text": [
      "/var/folders/sb/50cj9frx6576wh5j6rbpnb6c0000gp/T/ipykernel_36568/1086096361.py:71: SettingWithCopyWarning: \n",
      "A value is trying to be set on a copy of a slice from a DataFrame.\n",
      "Try using .loc[row_indexer,col_indexer] = value instead\n",
      "\n",
      "See the caveats in the documentation: https://pandas.pydata.org/pandas-docs/stable/user_guide/indexing.html#returning-a-view-versus-a-copy\n",
      "  batch.loc[:, 'predicted_value'] = preds\n"
     ]
    },
    {
     "name": "stdout",
     "output_type": "stream",
     "text": [
      "MAE: 0.2526242114621342\n",
      "MSE: 0.15470968332318097\n",
      "RMSE: 0.3933315183444889\n",
      "R2: 0.8442794694182085\n",
      "MAPE: 1.4635486953869072\n"
     ]
    },
    {
     "name": "stderr",
     "output_type": "stream",
     "text": [
      "/var/folders/sb/50cj9frx6576wh5j6rbpnb6c0000gp/T/ipykernel_36568/1086096361.py:71: SettingWithCopyWarning: \n",
      "A value is trying to be set on a copy of a slice from a DataFrame.\n",
      "Try using .loc[row_indexer,col_indexer] = value instead\n",
      "\n",
      "See the caveats in the documentation: https://pandas.pydata.org/pandas-docs/stable/user_guide/indexing.html#returning-a-view-versus-a-copy\n",
      "  batch.loc[:, 'predicted_value'] = preds\n"
     ]
    },
    {
     "name": "stdout",
     "output_type": "stream",
     "text": [
      "MAE: 0.25236847233400106\n",
      "MSE: 0.1542432691522849\n",
      "RMSE: 0.39273816869803335\n",
      "R2: 0.8451106893130105\n",
      "MAPE: 1.5003418953889496\n"
     ]
    },
    {
     "name": "stderr",
     "output_type": "stream",
     "text": [
      "/var/folders/sb/50cj9frx6576wh5j6rbpnb6c0000gp/T/ipykernel_36568/1086096361.py:71: SettingWithCopyWarning: \n",
      "A value is trying to be set on a copy of a slice from a DataFrame.\n",
      "Try using .loc[row_indexer,col_indexer] = value instead\n",
      "\n",
      "See the caveats in the documentation: https://pandas.pydata.org/pandas-docs/stable/user_guide/indexing.html#returning-a-view-versus-a-copy\n",
      "  batch.loc[:, 'predicted_value'] = preds\n"
     ]
    },
    {
     "name": "stdout",
     "output_type": "stream",
     "text": [
      "MAE: 0.2521568898818505\n",
      "MSE: 0.15369922117156892\n",
      "RMSE: 0.3920449223897294\n",
      "R2: 0.8457973018663055\n",
      "MAPE: 1.527628392010249\n"
     ]
    },
    {
     "name": "stderr",
     "output_type": "stream",
     "text": [
      "/var/folders/sb/50cj9frx6576wh5j6rbpnb6c0000gp/T/ipykernel_36568/1086096361.py:71: SettingWithCopyWarning: \n",
      "A value is trying to be set on a copy of a slice from a DataFrame.\n",
      "Try using .loc[row_indexer,col_indexer] = value instead\n",
      "\n",
      "See the caveats in the documentation: https://pandas.pydata.org/pandas-docs/stable/user_guide/indexing.html#returning-a-view-versus-a-copy\n",
      "  batch.loc[:, 'predicted_value'] = preds\n"
     ]
    },
    {
     "name": "stdout",
     "output_type": "stream",
     "text": [
      "MAE: 0.25204686338891613\n",
      "MSE: 0.15322504263395267\n",
      "RMSE: 0.3914397049788801\n",
      "R2: 0.8463847923753338\n",
      "MAPE: 1.523266178023505\n"
     ]
    },
    {
     "name": "stderr",
     "output_type": "stream",
     "text": [
      "/var/folders/sb/50cj9frx6576wh5j6rbpnb6c0000gp/T/ipykernel_36568/1086096361.py:71: SettingWithCopyWarning: \n",
      "A value is trying to be set on a copy of a slice from a DataFrame.\n",
      "Try using .loc[row_indexer,col_indexer] = value instead\n",
      "\n",
      "See the caveats in the documentation: https://pandas.pydata.org/pandas-docs/stable/user_guide/indexing.html#returning-a-view-versus-a-copy\n",
      "  batch.loc[:, 'predicted_value'] = preds\n"
     ]
    },
    {
     "name": "stdout",
     "output_type": "stream",
     "text": [
      "MAE: 0.25193822580919184\n",
      "MSE: 0.15294166119175348\n",
      "RMSE: 0.3910775641631126\n",
      "R2: 0.8467891586968068\n",
      "MAPE: 1.5236783440208697\n",
      "Experimenting with num_nearest_neighbors=200 and distance_metric=cosine\n",
      "int64\n"
     ]
    },
    {
     "name": "stderr",
     "output_type": "stream",
     "text": [
      "/var/folders/sb/50cj9frx6576wh5j6rbpnb6c0000gp/T/ipykernel_36568/1086096361.py:71: SettingWithCopyWarning: \n",
      "A value is trying to be set on a copy of a slice from a DataFrame.\n",
      "Try using .loc[row_indexer,col_indexer] = value instead\n",
      "\n",
      "See the caveats in the documentation: https://pandas.pydata.org/pandas-docs/stable/user_guide/indexing.html#returning-a-view-versus-a-copy\n",
      "  batch.loc[:, 'predicted_value'] = preds\n"
     ]
    },
    {
     "name": "stdout",
     "output_type": "stream",
     "text": [
      "MAE: 0.25403698546906744\n",
      "MSE: 0.1568118615703872\n",
      "RMSE: 0.3959947746756101\n",
      "R2: 0.8429978564760339\n",
      "MAPE: 1.5183701213438234\n"
     ]
    },
    {
     "name": "stderr",
     "output_type": "stream",
     "text": [
      "/var/folders/sb/50cj9frx6576wh5j6rbpnb6c0000gp/T/ipykernel_36568/1086096361.py:71: SettingWithCopyWarning: \n",
      "A value is trying to be set on a copy of a slice from a DataFrame.\n",
      "Try using .loc[row_indexer,col_indexer] = value instead\n",
      "\n",
      "See the caveats in the documentation: https://pandas.pydata.org/pandas-docs/stable/user_guide/indexing.html#returning-a-view-versus-a-copy\n",
      "  batch.loc[:, 'predicted_value'] = preds\n"
     ]
    },
    {
     "name": "stdout",
     "output_type": "stream",
     "text": [
      "MAE: 0.253068998307779\n",
      "MSE: 0.15593243129425008\n",
      "RMSE: 0.3948828070380503\n",
      "R2: 0.8432921269760566\n",
      "MAPE: 1.5103547916498758\n"
     ]
    },
    {
     "name": "stderr",
     "output_type": "stream",
     "text": [
      "/var/folders/sb/50cj9frx6576wh5j6rbpnb6c0000gp/T/ipykernel_36568/1086096361.py:71: SettingWithCopyWarning: \n",
      "A value is trying to be set on a copy of a slice from a DataFrame.\n",
      "Try using .loc[row_indexer,col_indexer] = value instead\n",
      "\n",
      "See the caveats in the documentation: https://pandas.pydata.org/pandas-docs/stable/user_guide/indexing.html#returning-a-view-versus-a-copy\n",
      "  batch.loc[:, 'predicted_value'] = preds\n"
     ]
    },
    {
     "name": "stdout",
     "output_type": "stream",
     "text": [
      "MAE: 0.2525218390182113\n",
      "MSE: 0.15520286893083896\n",
      "RMSE: 0.39395795325242383\n",
      "R2: 0.84348363038162\n",
      "MAPE: 1.5058827902462666\n"
     ]
    },
    {
     "name": "stderr",
     "output_type": "stream",
     "text": [
      "/var/folders/sb/50cj9frx6576wh5j6rbpnb6c0000gp/T/ipykernel_36568/1086096361.py:71: SettingWithCopyWarning: \n",
      "A value is trying to be set on a copy of a slice from a DataFrame.\n",
      "Try using .loc[row_indexer,col_indexer] = value instead\n",
      "\n",
      "See the caveats in the documentation: https://pandas.pydata.org/pandas-docs/stable/user_guide/indexing.html#returning-a-view-versus-a-copy\n",
      "  batch.loc[:, 'predicted_value'] = preds\n"
     ]
    },
    {
     "name": "stdout",
     "output_type": "stream",
     "text": [
      "MAE: 0.25200168748927365\n",
      "MSE: 0.15451771748752033\n",
      "RMSE: 0.39308741710657735\n",
      "R2: 0.8437993698545357\n",
      "MAPE: 1.5001761359632848\n"
     ]
    },
    {
     "name": "stderr",
     "output_type": "stream",
     "text": [
      "/var/folders/sb/50cj9frx6576wh5j6rbpnb6c0000gp/T/ipykernel_36568/1086096361.py:71: SettingWithCopyWarning: \n",
      "A value is trying to be set on a copy of a slice from a DataFrame.\n",
      "Try using .loc[row_indexer,col_indexer] = value instead\n",
      "\n",
      "See the caveats in the documentation: https://pandas.pydata.org/pandas-docs/stable/user_guide/indexing.html#returning-a-view-versus-a-copy\n",
      "  batch.loc[:, 'predicted_value'] = preds\n"
     ]
    },
    {
     "name": "stdout",
     "output_type": "stream",
     "text": [
      "MAE: 0.25145202994818405\n",
      "MSE: 0.15393199556223192\n",
      "RMSE: 0.3923416821626679\n",
      "R2: 0.8442807722814717\n",
      "MAPE: 1.4930203479622297\n"
     ]
    },
    {
     "name": "stderr",
     "output_type": "stream",
     "text": [
      "/var/folders/sb/50cj9frx6576wh5j6rbpnb6c0000gp/T/ipykernel_36568/1086096361.py:71: SettingWithCopyWarning: \n",
      "A value is trying to be set on a copy of a slice from a DataFrame.\n",
      "Try using .loc[row_indexer,col_indexer] = value instead\n",
      "\n",
      "See the caveats in the documentation: https://pandas.pydata.org/pandas-docs/stable/user_guide/indexing.html#returning-a-view-versus-a-copy\n",
      "  batch.loc[:, 'predicted_value'] = preds\n"
     ]
    },
    {
     "name": "stdout",
     "output_type": "stream",
     "text": [
      "MAE: 0.25134873317167544\n",
      "MSE: 0.15361488304256665\n",
      "RMSE: 0.3919373458125248\n",
      "R2: 0.8444444017517154\n",
      "MAPE: 1.4885160232842471\n"
     ]
    },
    {
     "name": "stderr",
     "output_type": "stream",
     "text": [
      "/var/folders/sb/50cj9frx6576wh5j6rbpnb6c0000gp/T/ipykernel_36568/1086096361.py:71: SettingWithCopyWarning: \n",
      "A value is trying to be set on a copy of a slice from a DataFrame.\n",
      "Try using .loc[row_indexer,col_indexer] = value instead\n",
      "\n",
      "See the caveats in the documentation: https://pandas.pydata.org/pandas-docs/stable/user_guide/indexing.html#returning-a-view-versus-a-copy\n",
      "  batch.loc[:, 'predicted_value'] = preds\n"
     ]
    },
    {
     "name": "stdout",
     "output_type": "stream",
     "text": [
      "MAE: 0.251587577259319\n",
      "MSE: 0.15431925170337252\n",
      "RMSE: 0.3928348911481419\n",
      "R2: 0.8437307664158245\n",
      "MAPE: 1.4971692605355609\n"
     ]
    },
    {
     "name": "stderr",
     "output_type": "stream",
     "text": [
      "/var/folders/sb/50cj9frx6576wh5j6rbpnb6c0000gp/T/ipykernel_36568/1086096361.py:71: SettingWithCopyWarning: \n",
      "A value is trying to be set on a copy of a slice from a DataFrame.\n",
      "Try using .loc[row_indexer,col_indexer] = value instead\n",
      "\n",
      "See the caveats in the documentation: https://pandas.pydata.org/pandas-docs/stable/user_guide/indexing.html#returning-a-view-versus-a-copy\n",
      "  batch.loc[:, 'predicted_value'] = preds\n"
     ]
    },
    {
     "name": "stdout",
     "output_type": "stream",
     "text": [
      "MAE: 0.25184850489491895\n",
      "MSE: 0.15512607263966546\n",
      "RMSE: 0.3938604735685792\n",
      "R2: 0.8430151383764592\n",
      "MAPE: 1.4954955663978888\n"
     ]
    },
    {
     "name": "stderr",
     "output_type": "stream",
     "text": [
      "/var/folders/sb/50cj9frx6576wh5j6rbpnb6c0000gp/T/ipykernel_36568/1086096361.py:71: SettingWithCopyWarning: \n",
      "A value is trying to be set on a copy of a slice from a DataFrame.\n",
      "Try using .loc[row_indexer,col_indexer] = value instead\n",
      "\n",
      "See the caveats in the documentation: https://pandas.pydata.org/pandas-docs/stable/user_guide/indexing.html#returning-a-view-versus-a-copy\n",
      "  batch.loc[:, 'predicted_value'] = preds\n"
     ]
    },
    {
     "name": "stdout",
     "output_type": "stream",
     "text": [
      "MAE: 0.2513578029399841\n",
      "MSE: 0.1545248133112651\n",
      "RMSE: 0.3930964427608893\n",
      "R2: 0.8437091523465091\n",
      "MAPE: 1.4902603073861693\n"
     ]
    },
    {
     "name": "stderr",
     "output_type": "stream",
     "text": [
      "/var/folders/sb/50cj9frx6576wh5j6rbpnb6c0000gp/T/ipykernel_36568/1086096361.py:71: SettingWithCopyWarning: \n",
      "A value is trying to be set on a copy of a slice from a DataFrame.\n",
      "Try using .loc[row_indexer,col_indexer] = value instead\n",
      "\n",
      "See the caveats in the documentation: https://pandas.pydata.org/pandas-docs/stable/user_guide/indexing.html#returning-a-view-versus-a-copy\n",
      "  batch.loc[:, 'predicted_value'] = preds\n"
     ]
    },
    {
     "name": "stdout",
     "output_type": "stream",
     "text": [
      "MAE: 0.25148752621492404\n",
      "MSE: 0.1543245372807778\n",
      "RMSE: 0.39284161857010236\n",
      "R2: 0.8438962968534198\n",
      "MAPE: 1.484896919470518\n"
     ]
    },
    {
     "name": "stderr",
     "output_type": "stream",
     "text": [
      "/var/folders/sb/50cj9frx6576wh5j6rbpnb6c0000gp/T/ipykernel_36568/1086096361.py:71: SettingWithCopyWarning: \n",
      "A value is trying to be set on a copy of a slice from a DataFrame.\n",
      "Try using .loc[row_indexer,col_indexer] = value instead\n",
      "\n",
      "See the caveats in the documentation: https://pandas.pydata.org/pandas-docs/stable/user_guide/indexing.html#returning-a-view-versus-a-copy\n",
      "  batch.loc[:, 'predicted_value'] = preds\n"
     ]
    },
    {
     "name": "stdout",
     "output_type": "stream",
     "text": [
      "MAE: 0.25143598856515975\n",
      "MSE: 0.15400268761156258\n",
      "RMSE: 0.3924317617262428\n",
      "R2: 0.8442526701869513\n",
      "MAPE: 1.4875893637516948\n"
     ]
    },
    {
     "name": "stderr",
     "output_type": "stream",
     "text": [
      "/var/folders/sb/50cj9frx6576wh5j6rbpnb6c0000gp/T/ipykernel_36568/1086096361.py:71: SettingWithCopyWarning: \n",
      "A value is trying to be set on a copy of a slice from a DataFrame.\n",
      "Try using .loc[row_indexer,col_indexer] = value instead\n",
      "\n",
      "See the caveats in the documentation: https://pandas.pydata.org/pandas-docs/stable/user_guide/indexing.html#returning-a-view-versus-a-copy\n",
      "  batch.loc[:, 'predicted_value'] = preds\n"
     ]
    },
    {
     "name": "stdout",
     "output_type": "stream",
     "text": [
      "MAE: 0.25107736642891687\n",
      "MSE: 0.15346267248822157\n",
      "RMSE: 0.3917431205371979\n",
      "R2: 0.8450221952219454\n",
      "MAPE: 1.55103450957052\n"
     ]
    },
    {
     "name": "stderr",
     "output_type": "stream",
     "text": [
      "/var/folders/sb/50cj9frx6576wh5j6rbpnb6c0000gp/T/ipykernel_36568/1086096361.py:71: SettingWithCopyWarning: \n",
      "A value is trying to be set on a copy of a slice from a DataFrame.\n",
      "Try using .loc[row_indexer,col_indexer] = value instead\n",
      "\n",
      "See the caveats in the documentation: https://pandas.pydata.org/pandas-docs/stable/user_guide/indexing.html#returning-a-view-versus-a-copy\n",
      "  batch.loc[:, 'predicted_value'] = preds\n"
     ]
    },
    {
     "name": "stdout",
     "output_type": "stream",
     "text": [
      "MAE: 0.2507348695400986\n",
      "MSE: 0.15290899879061468\n",
      "RMSE: 0.39103580244092057\n",
      "R2: 0.8456873374667178\n",
      "MAPE: 1.5604489774000967\n"
     ]
    },
    {
     "name": "stderr",
     "output_type": "stream",
     "text": [
      "/var/folders/sb/50cj9frx6576wh5j6rbpnb6c0000gp/T/ipykernel_36568/1086096361.py:71: SettingWithCopyWarning: \n",
      "A value is trying to be set on a copy of a slice from a DataFrame.\n",
      "Try using .loc[row_indexer,col_indexer] = value instead\n",
      "\n",
      "See the caveats in the documentation: https://pandas.pydata.org/pandas-docs/stable/user_guide/indexing.html#returning-a-view-versus-a-copy\n",
      "  batch.loc[:, 'predicted_value'] = preds\n"
     ]
    },
    {
     "name": "stdout",
     "output_type": "stream",
     "text": [
      "MAE: 0.25055380021728385\n",
      "MSE: 0.15243471300368427\n",
      "RMSE: 0.3904288834137201\n",
      "R2: 0.8464056107987237\n",
      "MAPE: 1.561225535044028\n"
     ]
    },
    {
     "name": "stderr",
     "output_type": "stream",
     "text": [
      "/var/folders/sb/50cj9frx6576wh5j6rbpnb6c0000gp/T/ipykernel_36568/1086096361.py:71: SettingWithCopyWarning: \n",
      "A value is trying to be set on a copy of a slice from a DataFrame.\n",
      "Try using .loc[row_indexer,col_indexer] = value instead\n",
      "\n",
      "See the caveats in the documentation: https://pandas.pydata.org/pandas-docs/stable/user_guide/indexing.html#returning-a-view-versus-a-copy\n",
      "  batch.loc[:, 'predicted_value'] = preds\n"
     ]
    },
    {
     "name": "stdout",
     "output_type": "stream",
     "text": [
      "MAE: 0.2507931882209111\n",
      "MSE: 0.15222133415656117\n",
      "RMSE: 0.39015552560044714\n",
      "R2: 0.846546653408285\n",
      "MAPE: 1.5565904025363266\n"
     ]
    },
    {
     "name": "stderr",
     "output_type": "stream",
     "text": [
      "/var/folders/sb/50cj9frx6576wh5j6rbpnb6c0000gp/T/ipykernel_36568/1086096361.py:71: SettingWithCopyWarning: \n",
      "A value is trying to be set on a copy of a slice from a DataFrame.\n",
      "Try using .loc[row_indexer,col_indexer] = value instead\n",
      "\n",
      "See the caveats in the documentation: https://pandas.pydata.org/pandas-docs/stable/user_guide/indexing.html#returning-a-view-versus-a-copy\n",
      "  batch.loc[:, 'predicted_value'] = preds\n"
     ]
    },
    {
     "name": "stdout",
     "output_type": "stream",
     "text": [
      "MAE: 0.25071156742718487\n",
      "MSE: 0.151808571020041\n",
      "RMSE: 0.38962619396036635\n",
      "R2: 0.846919172703696\n",
      "MAPE: 1.5510188619639405\n"
     ]
    },
    {
     "name": "stderr",
     "output_type": "stream",
     "text": [
      "/var/folders/sb/50cj9frx6576wh5j6rbpnb6c0000gp/T/ipykernel_36568/1086096361.py:71: SettingWithCopyWarning: \n",
      "A value is trying to be set on a copy of a slice from a DataFrame.\n",
      "Try using .loc[row_indexer,col_indexer] = value instead\n",
      "\n",
      "See the caveats in the documentation: https://pandas.pydata.org/pandas-docs/stable/user_guide/indexing.html#returning-a-view-versus-a-copy\n",
      "  batch.loc[:, 'predicted_value'] = preds\n"
     ]
    },
    {
     "name": "stdout",
     "output_type": "stream",
     "text": [
      "MAE: 0.2503350954197164\n",
      "MSE: 0.15127943025449545\n",
      "RMSE: 0.3889465647804277\n",
      "R2: 0.8477119749666759\n",
      "MAPE: 1.546941232166798\n"
     ]
    },
    {
     "name": "stderr",
     "output_type": "stream",
     "text": [
      "/var/folders/sb/50cj9frx6576wh5j6rbpnb6c0000gp/T/ipykernel_36568/1086096361.py:71: SettingWithCopyWarning: \n",
      "A value is trying to be set on a copy of a slice from a DataFrame.\n",
      "Try using .loc[row_indexer,col_indexer] = value instead\n",
      "\n",
      "See the caveats in the documentation: https://pandas.pydata.org/pandas-docs/stable/user_guide/indexing.html#returning-a-view-versus-a-copy\n",
      "  batch.loc[:, 'predicted_value'] = preds\n"
     ]
    },
    {
     "name": "stdout",
     "output_type": "stream",
     "text": [
      "MAE: 0.2501452790190218\n",
      "MSE: 0.1508158733015614\n",
      "RMSE: 0.38835019415671906\n",
      "R2: 0.8482047973110316\n",
      "MAPE: 1.5705122148399888\n"
     ]
    },
    {
     "name": "stderr",
     "output_type": "stream",
     "text": [
      "/var/folders/sb/50cj9frx6576wh5j6rbpnb6c0000gp/T/ipykernel_36568/1086096361.py:71: SettingWithCopyWarning: \n",
      "A value is trying to be set on a copy of a slice from a DataFrame.\n",
      "Try using .loc[row_indexer,col_indexer] = value instead\n",
      "\n",
      "See the caveats in the documentation: https://pandas.pydata.org/pandas-docs/stable/user_guide/indexing.html#returning-a-view-versus-a-copy\n",
      "  batch.loc[:, 'predicted_value'] = preds\n"
     ]
    },
    {
     "name": "stdout",
     "output_type": "stream",
     "text": [
      "MAE: 0.24999917920858383\n",
      "MSE: 0.15040348323050368\n",
      "RMSE: 0.38781887941473875\n",
      "R2: 0.8486962067856793\n",
      "MAPE: 1.564430917439101\n"
     ]
    },
    {
     "name": "stderr",
     "output_type": "stream",
     "text": [
      "/var/folders/sb/50cj9frx6576wh5j6rbpnb6c0000gp/T/ipykernel_36568/1086096361.py:71: SettingWithCopyWarning: \n",
      "A value is trying to be set on a copy of a slice from a DataFrame.\n",
      "Try using .loc[row_indexer,col_indexer] = value instead\n",
      "\n",
      "See the caveats in the documentation: https://pandas.pydata.org/pandas-docs/stable/user_guide/indexing.html#returning-a-view-versus-a-copy\n",
      "  batch.loc[:, 'predicted_value'] = preds\n"
     ]
    },
    {
     "name": "stdout",
     "output_type": "stream",
     "text": [
      "MAE: 0.2499015387891372\n",
      "MSE: 0.15009055722759462\n",
      "RMSE: 0.387415225859277\n",
      "R2: 0.8491915640699594\n",
      "MAPE: 1.5647263585957316\n",
      "Experimenting with num_nearest_neighbors=200 and distance_metric=euclidean\n",
      "int64\n"
     ]
    },
    {
     "name": "stderr",
     "output_type": "stream",
     "text": [
      "/var/folders/sb/50cj9frx6576wh5j6rbpnb6c0000gp/T/ipykernel_36568/1086096361.py:71: SettingWithCopyWarning: \n",
      "A value is trying to be set on a copy of a slice from a DataFrame.\n",
      "Try using .loc[row_indexer,col_indexer] = value instead\n",
      "\n",
      "See the caveats in the documentation: https://pandas.pydata.org/pandas-docs/stable/user_guide/indexing.html#returning-a-view-versus-a-copy\n",
      "  batch.loc[:, 'predicted_value'] = preds\n"
     ]
    },
    {
     "name": "stdout",
     "output_type": "stream",
     "text": [
      "MAE: 0.25099493217125673\n",
      "MSE: 0.15153095466269034\n",
      "RMSE: 0.38926977106203653\n",
      "R2: 0.8478238485234381\n",
      "MAPE: 1.5615392716021057\n"
     ]
    },
    {
     "name": "stderr",
     "output_type": "stream",
     "text": [
      "/var/folders/sb/50cj9frx6576wh5j6rbpnb6c0000gp/T/ipykernel_36568/1086096361.py:71: SettingWithCopyWarning: \n",
      "A value is trying to be set on a copy of a slice from a DataFrame.\n",
      "Try using .loc[row_indexer,col_indexer] = value instead\n",
      "\n",
      "See the caveats in the documentation: https://pandas.pydata.org/pandas-docs/stable/user_guide/indexing.html#returning-a-view-versus-a-copy\n",
      "  batch.loc[:, 'predicted_value'] = preds\n"
     ]
    },
    {
     "name": "stdout",
     "output_type": "stream",
     "text": [
      "MAE: 0.2505348761171917\n",
      "MSE: 0.15109866978649883\n",
      "RMSE: 0.38871412347186307\n",
      "R2: 0.8480413089374408\n",
      "MAPE: 1.554537929105514\n"
     ]
    },
    {
     "name": "stderr",
     "output_type": "stream",
     "text": [
      "/var/folders/sb/50cj9frx6576wh5j6rbpnb6c0000gp/T/ipykernel_36568/1086096361.py:71: SettingWithCopyWarning: \n",
      "A value is trying to be set on a copy of a slice from a DataFrame.\n",
      "Try using .loc[row_indexer,col_indexer] = value instead\n",
      "\n",
      "See the caveats in the documentation: https://pandas.pydata.org/pandas-docs/stable/user_guide/indexing.html#returning-a-view-versus-a-copy\n",
      "  batch.loc[:, 'predicted_value'] = preds\n"
     ]
    },
    {
     "name": "stdout",
     "output_type": "stream",
     "text": [
      "MAE: 0.24986281664765395\n",
      "MSE: 0.1504090660431692\n",
      "RMSE: 0.3878260770540955\n",
      "R2: 0.8482415511211413\n",
      "MAPE: 1.5475792873747614\n"
     ]
    },
    {
     "name": "stderr",
     "output_type": "stream",
     "text": [
      "/var/folders/sb/50cj9frx6576wh5j6rbpnb6c0000gp/T/ipykernel_36568/1086096361.py:71: SettingWithCopyWarning: \n",
      "A value is trying to be set on a copy of a slice from a DataFrame.\n",
      "Try using .loc[row_indexer,col_indexer] = value instead\n",
      "\n",
      "See the caveats in the documentation: https://pandas.pydata.org/pandas-docs/stable/user_guide/indexing.html#returning-a-view-versus-a-copy\n",
      "  batch.loc[:, 'predicted_value'] = preds\n"
     ]
    },
    {
     "name": "stdout",
     "output_type": "stream",
     "text": [
      "MAE: 0.24948877140333625\n",
      "MSE: 0.14988603447807644\n",
      "RMSE: 0.3871511778079416\n",
      "R2: 0.8483548713717206\n",
      "MAPE: 1.5435645753662226\n"
     ]
    },
    {
     "name": "stderr",
     "output_type": "stream",
     "text": [
      "/var/folders/sb/50cj9frx6576wh5j6rbpnb6c0000gp/T/ipykernel_36568/1086096361.py:71: SettingWithCopyWarning: \n",
      "A value is trying to be set on a copy of a slice from a DataFrame.\n",
      "Try using .loc[row_indexer,col_indexer] = value instead\n",
      "\n",
      "See the caveats in the documentation: https://pandas.pydata.org/pandas-docs/stable/user_guide/indexing.html#returning-a-view-versus-a-copy\n",
      "  batch.loc[:, 'predicted_value'] = preds\n"
     ]
    },
    {
     "name": "stdout",
     "output_type": "stream",
     "text": [
      "MAE: 0.24899486507301866\n",
      "MSE: 0.1493002348357419\n",
      "RMSE: 0.38639388560863885\n",
      "R2: 0.8486230264567363\n",
      "MAPE: 1.5385337475174794\n"
     ]
    },
    {
     "name": "stderr",
     "output_type": "stream",
     "text": [
      "/var/folders/sb/50cj9frx6576wh5j6rbpnb6c0000gp/T/ipykernel_36568/1086096361.py:71: SettingWithCopyWarning: \n",
      "A value is trying to be set on a copy of a slice from a DataFrame.\n",
      "Try using .loc[row_indexer,col_indexer] = value instead\n",
      "\n",
      "See the caveats in the documentation: https://pandas.pydata.org/pandas-docs/stable/user_guide/indexing.html#returning-a-view-versus-a-copy\n",
      "  batch.loc[:, 'predicted_value'] = preds\n"
     ]
    },
    {
     "name": "stdout",
     "output_type": "stream",
     "text": [
      "MAE: 0.2486807389755913\n",
      "MSE: 0.14886761618280972\n",
      "RMSE: 0.38583366387966944\n",
      "R2: 0.8489809465545045\n",
      "MAPE: 1.5330836167101893\n"
     ]
    },
    {
     "name": "stderr",
     "output_type": "stream",
     "text": [
      "/var/folders/sb/50cj9frx6576wh5j6rbpnb6c0000gp/T/ipykernel_36568/1086096361.py:71: SettingWithCopyWarning: \n",
      "A value is trying to be set on a copy of a slice from a DataFrame.\n",
      "Try using .loc[row_indexer,col_indexer] = value instead\n",
      "\n",
      "See the caveats in the documentation: https://pandas.pydata.org/pandas-docs/stable/user_guide/indexing.html#returning-a-view-versus-a-copy\n",
      "  batch.loc[:, 'predicted_value'] = preds\n"
     ]
    },
    {
     "name": "stdout",
     "output_type": "stream",
     "text": [
      "MAE: 0.2486182421689924\n",
      "MSE: 0.1489214786286338\n",
      "RMSE: 0.38590345765312056\n",
      "R2: 0.8489858479699361\n",
      "MAPE: 1.5273511809518465\n"
     ]
    },
    {
     "name": "stderr",
     "output_type": "stream",
     "text": [
      "/var/folders/sb/50cj9frx6576wh5j6rbpnb6c0000gp/T/ipykernel_36568/1086096361.py:71: SettingWithCopyWarning: \n",
      "A value is trying to be set on a copy of a slice from a DataFrame.\n",
      "Try using .loc[row_indexer,col_indexer] = value instead\n",
      "\n",
      "See the caveats in the documentation: https://pandas.pydata.org/pandas-docs/stable/user_guide/indexing.html#returning-a-view-versus-a-copy\n",
      "  batch.loc[:, 'predicted_value'] = preds\n"
     ]
    },
    {
     "name": "stdout",
     "output_type": "stream",
     "text": [
      "MAE: 0.24971384757633427\n",
      "MSE: 0.15147175008737873\n",
      "RMSE: 0.3891937179443917\n",
      "R2: 0.8466905486955952\n",
      "MAPE: 1.5243043843759532\n"
     ]
    },
    {
     "name": "stderr",
     "output_type": "stream",
     "text": [
      "/var/folders/sb/50cj9frx6576wh5j6rbpnb6c0000gp/T/ipykernel_36568/1086096361.py:71: SettingWithCopyWarning: \n",
      "A value is trying to be set on a copy of a slice from a DataFrame.\n",
      "Try using .loc[row_indexer,col_indexer] = value instead\n",
      "\n",
      "See the caveats in the documentation: https://pandas.pydata.org/pandas-docs/stable/user_guide/indexing.html#returning-a-view-versus-a-copy\n",
      "  batch.loc[:, 'predicted_value'] = preds\n"
     ]
    },
    {
     "name": "stdout",
     "output_type": "stream",
     "text": [
      "MAE: 0.24998433988398255\n",
      "MSE: 0.1517483656748269\n",
      "RMSE: 0.38954892590639617\n",
      "R2: 0.8464164910108205\n",
      "MAPE: 1.5191239176066573\n"
     ]
    },
    {
     "name": "stderr",
     "output_type": "stream",
     "text": [
      "/var/folders/sb/50cj9frx6576wh5j6rbpnb6c0000gp/T/ipykernel_36568/1086096361.py:71: SettingWithCopyWarning: \n",
      "A value is trying to be set on a copy of a slice from a DataFrame.\n",
      "Try using .loc[row_indexer,col_indexer] = value instead\n",
      "\n",
      "See the caveats in the documentation: https://pandas.pydata.org/pandas-docs/stable/user_guide/indexing.html#returning-a-view-versus-a-copy\n",
      "  batch.loc[:, 'predicted_value'] = preds\n"
     ]
    },
    {
     "name": "stdout",
     "output_type": "stream",
     "text": [
      "MAE: 0.24981776141461304\n",
      "MSE: 0.1513576832761422\n",
      "RMSE: 0.3890471478833153\n",
      "R2: 0.8466811272252184\n",
      "MAPE: 1.5129278279230638\n"
     ]
    },
    {
     "name": "stderr",
     "output_type": "stream",
     "text": [
      "/var/folders/sb/50cj9frx6576wh5j6rbpnb6c0000gp/T/ipykernel_36568/1086096361.py:71: SettingWithCopyWarning: \n",
      "A value is trying to be set on a copy of a slice from a DataFrame.\n",
      "Try using .loc[row_indexer,col_indexer] = value instead\n",
      "\n",
      "See the caveats in the documentation: https://pandas.pydata.org/pandas-docs/stable/user_guide/indexing.html#returning-a-view-versus-a-copy\n",
      "  batch.loc[:, 'predicted_value'] = preds\n"
     ]
    },
    {
     "name": "stdout",
     "output_type": "stream",
     "text": [
      "MAE: 0.24981529764403262\n",
      "MSE: 0.15107904561128233\n",
      "RMSE: 0.3886888802259235\n",
      "R2: 0.8469105496446601\n",
      "MAPE: 1.5085072631096281\n"
     ]
    },
    {
     "name": "stderr",
     "output_type": "stream",
     "text": [
      "/var/folders/sb/50cj9frx6576wh5j6rbpnb6c0000gp/T/ipykernel_36568/1086096361.py:71: SettingWithCopyWarning: \n",
      "A value is trying to be set on a copy of a slice from a DataFrame.\n",
      "Try using .loc[row_indexer,col_indexer] = value instead\n",
      "\n",
      "See the caveats in the documentation: https://pandas.pydata.org/pandas-docs/stable/user_guide/indexing.html#returning-a-view-versus-a-copy\n",
      "  batch.loc[:, 'predicted_value'] = preds\n"
     ]
    },
    {
     "name": "stdout",
     "output_type": "stream",
     "text": [
      "MAE: 0.24963637160691088\n",
      "MSE: 0.15067784617967206\n",
      "RMSE: 0.3881724438695669\n",
      "R2: 0.847490522067853\n",
      "MAPE: 1.5111397960779351\n"
     ]
    },
    {
     "name": "stderr",
     "output_type": "stream",
     "text": [
      "/var/folders/sb/50cj9frx6576wh5j6rbpnb6c0000gp/T/ipykernel_36568/1086096361.py:71: SettingWithCopyWarning: \n",
      "A value is trying to be set on a copy of a slice from a DataFrame.\n",
      "Try using .loc[row_indexer,col_indexer] = value instead\n",
      "\n",
      "See the caveats in the documentation: https://pandas.pydata.org/pandas-docs/stable/user_guide/indexing.html#returning-a-view-versus-a-copy\n",
      "  batch.loc[:, 'predicted_value'] = preds\n"
     ]
    },
    {
     "name": "stdout",
     "output_type": "stream",
     "text": [
      "MAE: 0.24943089868094873\n",
      "MSE: 0.1503160215510847\n",
      "RMSE: 0.3877061020297265\n",
      "R2: 0.8480268827162698\n",
      "MAPE: 1.5770045870835\n"
     ]
    },
    {
     "name": "stderr",
     "output_type": "stream",
     "text": [
      "/var/folders/sb/50cj9frx6576wh5j6rbpnb6c0000gp/T/ipykernel_36568/1086096361.py:71: SettingWithCopyWarning: \n",
      "A value is trying to be set on a copy of a slice from a DataFrame.\n",
      "Try using .loc[row_indexer,col_indexer] = value instead\n",
      "\n",
      "See the caveats in the documentation: https://pandas.pydata.org/pandas-docs/stable/user_guide/indexing.html#returning-a-view-versus-a-copy\n",
      "  batch.loc[:, 'predicted_value'] = preds\n"
     ]
    },
    {
     "name": "stdout",
     "output_type": "stream",
     "text": [
      "MAE: 0.24951041271560612\n",
      "MSE: 0.1502504767123074\n",
      "RMSE: 0.3876215637865203\n",
      "R2: 0.8481573893440627\n",
      "MAPE: 1.5865291370068575\n"
     ]
    },
    {
     "name": "stderr",
     "output_type": "stream",
     "text": [
      "/var/folders/sb/50cj9frx6576wh5j6rbpnb6c0000gp/T/ipykernel_36568/1086096361.py:71: SettingWithCopyWarning: \n",
      "A value is trying to be set on a copy of a slice from a DataFrame.\n",
      "Try using .loc[row_indexer,col_indexer] = value instead\n",
      "\n",
      "See the caveats in the documentation: https://pandas.pydata.org/pandas-docs/stable/user_guide/indexing.html#returning-a-view-versus-a-copy\n",
      "  batch.loc[:, 'predicted_value'] = preds\n"
     ]
    },
    {
     "name": "stdout",
     "output_type": "stream",
     "text": [
      "MAE: 0.24937803182192536\n",
      "MSE: 0.14986030658918661\n",
      "RMSE: 0.38711794919531517\n",
      "R2: 0.8486046807673489\n",
      "MAPE: 1.5838575843460125\n"
     ]
    },
    {
     "name": "stderr",
     "output_type": "stream",
     "text": [
      "/var/folders/sb/50cj9frx6576wh5j6rbpnb6c0000gp/T/ipykernel_36568/1086096361.py:71: SettingWithCopyWarning: \n",
      "A value is trying to be set on a copy of a slice from a DataFrame.\n",
      "Try using .loc[row_indexer,col_indexer] = value instead\n",
      "\n",
      "See the caveats in the documentation: https://pandas.pydata.org/pandas-docs/stable/user_guide/indexing.html#returning-a-view-versus-a-copy\n",
      "  batch.loc[:, 'predicted_value'] = preds\n"
     ]
    },
    {
     "name": "stdout",
     "output_type": "stream",
     "text": [
      "MAE: 0.24928007377605624\n",
      "MSE: 0.14949427537788687\n",
      "RMSE: 0.38664489570908195\n",
      "R2: 0.8491538699235583\n",
      "MAPE: 1.6201012438947404\n"
     ]
    },
    {
     "name": "stderr",
     "output_type": "stream",
     "text": [
      "/var/folders/sb/50cj9frx6576wh5j6rbpnb6c0000gp/T/ipykernel_36568/1086096361.py:71: SettingWithCopyWarning: \n",
      "A value is trying to be set on a copy of a slice from a DataFrame.\n",
      "Try using .loc[row_indexer,col_indexer] = value instead\n",
      "\n",
      "See the caveats in the documentation: https://pandas.pydata.org/pandas-docs/stable/user_guide/indexing.html#returning-a-view-versus-a-copy\n",
      "  batch.loc[:, 'predicted_value'] = preds\n"
     ]
    },
    {
     "name": "stdout",
     "output_type": "stream",
     "text": [
      "MAE: 0.2490739907247327\n",
      "MSE: 0.14906042680234077\n",
      "RMSE: 0.3860834453875752\n",
      "R2: 0.8497717800669708\n",
      "MAPE: 1.6411234745949188\n"
     ]
    },
    {
     "name": "stderr",
     "output_type": "stream",
     "text": [
      "/var/folders/sb/50cj9frx6576wh5j6rbpnb6c0000gp/T/ipykernel_36568/1086096361.py:71: SettingWithCopyWarning: \n",
      "A value is trying to be set on a copy of a slice from a DataFrame.\n",
      "Try using .loc[row_indexer,col_indexer] = value instead\n",
      "\n",
      "See the caveats in the documentation: https://pandas.pydata.org/pandas-docs/stable/user_guide/indexing.html#returning-a-view-versus-a-copy\n",
      "  batch.loc[:, 'predicted_value'] = preds\n"
     ]
    },
    {
     "name": "stdout",
     "output_type": "stream",
     "text": [
      "MAE: 0.2489921001594635\n",
      "MSE: 0.14870362462110734\n",
      "RMSE: 0.38562108944027856\n",
      "R2: 0.850131271957569\n",
      "MAPE: 1.635663108417868\n"
     ]
    },
    {
     "name": "stderr",
     "output_type": "stream",
     "text": [
      "/var/folders/sb/50cj9frx6576wh5j6rbpnb6c0000gp/T/ipykernel_36568/1086096361.py:71: SettingWithCopyWarning: \n",
      "A value is trying to be set on a copy of a slice from a DataFrame.\n",
      "Try using .loc[row_indexer,col_indexer] = value instead\n",
      "\n",
      "See the caveats in the documentation: https://pandas.pydata.org/pandas-docs/stable/user_guide/indexing.html#returning-a-view-versus-a-copy\n",
      "  batch.loc[:, 'predicted_value'] = preds\n"
     ]
    },
    {
     "name": "stdout",
     "output_type": "stream",
     "text": [
      "MAE: 0.24920457598724285\n",
      "MSE: 0.14872092259113232\n",
      "RMSE: 0.3856435175017626\n",
      "R2: 0.850254549481235\n",
      "MAPE: 1.6317403502437637\n"
     ]
    },
    {
     "name": "stderr",
     "output_type": "stream",
     "text": [
      "/var/folders/sb/50cj9frx6576wh5j6rbpnb6c0000gp/T/ipykernel_36568/1086096361.py:71: SettingWithCopyWarning: \n",
      "A value is trying to be set on a copy of a slice from a DataFrame.\n",
      "Try using .loc[row_indexer,col_indexer] = value instead\n",
      "\n",
      "See the caveats in the documentation: https://pandas.pydata.org/pandas-docs/stable/user_guide/indexing.html#returning-a-view-versus-a-copy\n",
      "  batch.loc[:, 'predicted_value'] = preds\n"
     ]
    },
    {
     "name": "stdout",
     "output_type": "stream",
     "text": [
      "MAE: 0.249137165990696\n",
      "MSE: 0.14853778040717508\n",
      "RMSE: 0.38540599425433836\n",
      "R2: 0.8505399854985581\n",
      "MAPE: 1.6338675648972842\n",
      "Experimenting with num_nearest_neighbors=200 and distance_metric=chebyshev\n",
      "int64\n"
     ]
    },
    {
     "name": "stderr",
     "output_type": "stream",
     "text": [
      "/var/folders/sb/50cj9frx6576wh5j6rbpnb6c0000gp/T/ipykernel_36568/1086096361.py:71: SettingWithCopyWarning: \n",
      "A value is trying to be set on a copy of a slice from a DataFrame.\n",
      "Try using .loc[row_indexer,col_indexer] = value instead\n",
      "\n",
      "See the caveats in the documentation: https://pandas.pydata.org/pandas-docs/stable/user_guide/indexing.html#returning-a-view-versus-a-copy\n",
      "  batch.loc[:, 'predicted_value'] = preds\n"
     ]
    },
    {
     "name": "stdout",
     "output_type": "stream",
     "text": [
      "MAE: 0.2511865512698242\n",
      "MSE: 0.15187191088189628\n",
      "RMSE: 0.3897074683424687\n",
      "R2: 0.8473277081260615\n",
      "MAPE: 1.6325041405035359\n"
     ]
    },
    {
     "name": "stderr",
     "output_type": "stream",
     "text": [
      "/var/folders/sb/50cj9frx6576wh5j6rbpnb6c0000gp/T/ipykernel_36568/1086096361.py:71: SettingWithCopyWarning: \n",
      "A value is trying to be set on a copy of a slice from a DataFrame.\n",
      "Try using .loc[row_indexer,col_indexer] = value instead\n",
      "\n",
      "See the caveats in the documentation: https://pandas.pydata.org/pandas-docs/stable/user_guide/indexing.html#returning-a-view-versus-a-copy\n",
      "  batch.loc[:, 'predicted_value'] = preds\n"
     ]
    },
    {
     "name": "stdout",
     "output_type": "stream",
     "text": [
      "MAE: 0.2507079545550369\n",
      "MSE: 0.15129693370409417\n",
      "RMSE: 0.3889690652276787\n",
      "R2: 0.8477175902994838\n",
      "MAPE: 1.6253834409346664\n"
     ]
    },
    {
     "name": "stderr",
     "output_type": "stream",
     "text": [
      "/var/folders/sb/50cj9frx6576wh5j6rbpnb6c0000gp/T/ipykernel_36568/1086096361.py:71: SettingWithCopyWarning: \n",
      "A value is trying to be set on a copy of a slice from a DataFrame.\n",
      "Try using .loc[row_indexer,col_indexer] = value instead\n",
      "\n",
      "See the caveats in the documentation: https://pandas.pydata.org/pandas-docs/stable/user_guide/indexing.html#returning-a-view-versus-a-copy\n",
      "  batch.loc[:, 'predicted_value'] = preds\n"
     ]
    },
    {
     "name": "stdout",
     "output_type": "stream",
     "text": [
      "MAE: 0.24987120686414535\n",
      "MSE: 0.1505883095658281\n",
      "RMSE: 0.38805709575502945\n",
      "R2: 0.8479709881217721\n",
      "MAPE: 1.6181721683587391\n"
     ]
    },
    {
     "name": "stderr",
     "output_type": "stream",
     "text": [
      "/var/folders/sb/50cj9frx6576wh5j6rbpnb6c0000gp/T/ipykernel_36568/1086096361.py:71: SettingWithCopyWarning: \n",
      "A value is trying to be set on a copy of a slice from a DataFrame.\n",
      "Try using .loc[row_indexer,col_indexer] = value instead\n",
      "\n",
      "See the caveats in the documentation: https://pandas.pydata.org/pandas-docs/stable/user_guide/indexing.html#returning-a-view-versus-a-copy\n",
      "  batch.loc[:, 'predicted_value'] = preds\n"
     ]
    },
    {
     "name": "stdout",
     "output_type": "stream",
     "text": [
      "MAE: 0.2492789627121048\n",
      "MSE: 0.15000220379949744\n",
      "RMSE: 0.38730117970320904\n",
      "R2: 0.8481994630094711\n",
      "MAPE: 1.6124343057985402\n"
     ]
    },
    {
     "name": "stderr",
     "output_type": "stream",
     "text": [
      "/var/folders/sb/50cj9frx6576wh5j6rbpnb6c0000gp/T/ipykernel_36568/1086096361.py:71: SettingWithCopyWarning: \n",
      "A value is trying to be set on a copy of a slice from a DataFrame.\n",
      "Try using .loc[row_indexer,col_indexer] = value instead\n",
      "\n",
      "See the caveats in the documentation: https://pandas.pydata.org/pandas-docs/stable/user_guide/indexing.html#returning-a-view-versus-a-copy\n",
      "  batch.loc[:, 'predicted_value'] = preds\n"
     ]
    },
    {
     "name": "stdout",
     "output_type": "stream",
     "text": [
      "MAE: 0.2489731907687874\n",
      "MSE: 0.14954273044896896\n",
      "RMSE: 0.386707551579962\n",
      "R2: 0.8483446642866336\n",
      "MAPE: 1.609415755594905\n"
     ]
    },
    {
     "name": "stderr",
     "output_type": "stream",
     "text": [
      "/var/folders/sb/50cj9frx6576wh5j6rbpnb6c0000gp/T/ipykernel_36568/1086096361.py:71: SettingWithCopyWarning: \n",
      "A value is trying to be set on a copy of a slice from a DataFrame.\n",
      "Try using .loc[row_indexer,col_indexer] = value instead\n",
      "\n",
      "See the caveats in the documentation: https://pandas.pydata.org/pandas-docs/stable/user_guide/indexing.html#returning-a-view-versus-a-copy\n",
      "  batch.loc[:, 'predicted_value'] = preds\n"
     ]
    },
    {
     "name": "stdout",
     "output_type": "stream",
     "text": [
      "MAE: 0.2484835562143938\n",
      "MSE: 0.14897776794405412\n",
      "RMSE: 0.38597638262470685\n",
      "R2: 0.8487921491288578\n",
      "MAPE: 1.6053248832986864\n"
     ]
    },
    {
     "name": "stderr",
     "output_type": "stream",
     "text": [
      "/var/folders/sb/50cj9frx6576wh5j6rbpnb6c0000gp/T/ipykernel_36568/1086096361.py:71: SettingWithCopyWarning: \n",
      "A value is trying to be set on a copy of a slice from a DataFrame.\n",
      "Try using .loc[row_indexer,col_indexer] = value instead\n",
      "\n",
      "See the caveats in the documentation: https://pandas.pydata.org/pandas-docs/stable/user_guide/indexing.html#returning-a-view-versus-a-copy\n",
      "  batch.loc[:, 'predicted_value'] = preds\n"
     ]
    },
    {
     "name": "stdout",
     "output_type": "stream",
     "text": [
      "MAE: 0.24922223771207144\n",
      "MSE: 0.14971717550080116\n",
      "RMSE: 0.38693303748943586\n",
      "R2: 0.8481130925434885\n",
      "MAPE: 1.601800600197571\n"
     ]
    },
    {
     "name": "stderr",
     "output_type": "stream",
     "text": [
      "/var/folders/sb/50cj9frx6576wh5j6rbpnb6c0000gp/T/ipykernel_36568/1086096361.py:71: SettingWithCopyWarning: \n",
      "A value is trying to be set on a copy of a slice from a DataFrame.\n",
      "Try using .loc[row_indexer,col_indexer] = value instead\n",
      "\n",
      "See the caveats in the documentation: https://pandas.pydata.org/pandas-docs/stable/user_guide/indexing.html#returning-a-view-versus-a-copy\n",
      "  batch.loc[:, 'predicted_value'] = preds\n"
     ]
    },
    {
     "name": "stdout",
     "output_type": "stream",
     "text": [
      "MAE: 0.2493191523076636\n",
      "MSE: 0.14970227513312687\n",
      "RMSE: 0.38691378255772546\n",
      "R2: 0.8483600474697368\n",
      "MAPE: 1.598951825542608\n"
     ]
    },
    {
     "name": "stderr",
     "output_type": "stream",
     "text": [
      "/var/folders/sb/50cj9frx6576wh5j6rbpnb6c0000gp/T/ipykernel_36568/1086096361.py:71: SettingWithCopyWarning: \n",
      "A value is trying to be set on a copy of a slice from a DataFrame.\n",
      "Try using .loc[row_indexer,col_indexer] = value instead\n",
      "\n",
      "See the caveats in the documentation: https://pandas.pydata.org/pandas-docs/stable/user_guide/indexing.html#returning-a-view-versus-a-copy\n",
      "  batch.loc[:, 'predicted_value'] = preds\n"
     ]
    },
    {
     "name": "stdout",
     "output_type": "stream",
     "text": [
      "MAE: 0.24947211529502214\n",
      "MSE: 0.14999665799779027\n",
      "RMSE: 0.3872940200904092\n",
      "R2: 0.8481733506108418\n",
      "MAPE: 1.593641757708298\n"
     ]
    },
    {
     "name": "stderr",
     "output_type": "stream",
     "text": [
      "/var/folders/sb/50cj9frx6576wh5j6rbpnb6c0000gp/T/ipykernel_36568/1086096361.py:71: SettingWithCopyWarning: \n",
      "A value is trying to be set on a copy of a slice from a DataFrame.\n",
      "Try using .loc[row_indexer,col_indexer] = value instead\n",
      "\n",
      "See the caveats in the documentation: https://pandas.pydata.org/pandas-docs/stable/user_guide/indexing.html#returning-a-view-versus-a-copy\n",
      "  batch.loc[:, 'predicted_value'] = preds\n"
     ]
    },
    {
     "name": "stdout",
     "output_type": "stream",
     "text": [
      "MAE: 0.24959981712107387\n",
      "MSE: 0.14990999113188166\n",
      "RMSE: 0.38718211623457205\n",
      "R2: 0.8482697653287881\n",
      "MAPE: 1.5893212002491492\n"
     ]
    },
    {
     "name": "stderr",
     "output_type": "stream",
     "text": [
      "/var/folders/sb/50cj9frx6576wh5j6rbpnb6c0000gp/T/ipykernel_36568/1086096361.py:71: SettingWithCopyWarning: \n",
      "A value is trying to be set on a copy of a slice from a DataFrame.\n",
      "Try using .loc[row_indexer,col_indexer] = value instead\n",
      "\n",
      "See the caveats in the documentation: https://pandas.pydata.org/pandas-docs/stable/user_guide/indexing.html#returning-a-view-versus-a-copy\n",
      "  batch.loc[:, 'predicted_value'] = preds\n"
     ]
    },
    {
     "name": "stdout",
     "output_type": "stream",
     "text": [
      "MAE: 0.24970087476119301\n",
      "MSE: 0.14972046258262253\n",
      "RMSE: 0.3869372850768229\n",
      "R2: 0.848395193459557\n",
      "MAPE: 1.5847520286420298\n"
     ]
    },
    {
     "name": "stderr",
     "output_type": "stream",
     "text": [
      "/var/folders/sb/50cj9frx6576wh5j6rbpnb6c0000gp/T/ipykernel_36568/1086096361.py:71: SettingWithCopyWarning: \n",
      "A value is trying to be set on a copy of a slice from a DataFrame.\n",
      "Try using .loc[row_indexer,col_indexer] = value instead\n",
      "\n",
      "See the caveats in the documentation: https://pandas.pydata.org/pandas-docs/stable/user_guide/indexing.html#returning-a-view-versus-a-copy\n",
      "  batch.loc[:, 'predicted_value'] = preds\n"
     ]
    },
    {
     "name": "stdout",
     "output_type": "stream",
     "text": [
      "MAE: 0.24954433519769767\n",
      "MSE: 0.1494002093231165\n",
      "RMSE: 0.3865232325787371\n",
      "R2: 0.8488637261013249\n",
      "MAPE: 1.6528374940875878\n"
     ]
    },
    {
     "name": "stderr",
     "output_type": "stream",
     "text": [
      "/var/folders/sb/50cj9frx6576wh5j6rbpnb6c0000gp/T/ipykernel_36568/1086096361.py:71: SettingWithCopyWarning: \n",
      "A value is trying to be set on a copy of a slice from a DataFrame.\n",
      "Try using .loc[row_indexer,col_indexer] = value instead\n",
      "\n",
      "See the caveats in the documentation: https://pandas.pydata.org/pandas-docs/stable/user_guide/indexing.html#returning-a-view-versus-a-copy\n",
      "  batch.loc[:, 'predicted_value'] = preds\n"
     ]
    },
    {
     "name": "stdout",
     "output_type": "stream",
     "text": [
      "MAE: 0.24939224768405358\n",
      "MSE: 0.14903084062760796\n",
      "RMSE: 0.386045127708676\n",
      "R2: 0.8493871272893443\n",
      "MAPE: 1.6513643190087304\n"
     ]
    },
    {
     "name": "stderr",
     "output_type": "stream",
     "text": [
      "/var/folders/sb/50cj9frx6576wh5j6rbpnb6c0000gp/T/ipykernel_36568/1086096361.py:71: SettingWithCopyWarning: \n",
      "A value is trying to be set on a copy of a slice from a DataFrame.\n",
      "Try using .loc[row_indexer,col_indexer] = value instead\n",
      "\n",
      "See the caveats in the documentation: https://pandas.pydata.org/pandas-docs/stable/user_guide/indexing.html#returning-a-view-versus-a-copy\n",
      "  batch.loc[:, 'predicted_value'] = preds\n"
     ]
    },
    {
     "name": "stdout",
     "output_type": "stream",
     "text": [
      "MAE: 0.2492029425060273\n",
      "MSE: 0.14862561411577185\n",
      "RMSE: 0.38551992700218735\n",
      "R2: 0.8499490876549565\n",
      "MAPE: 1.6531031091316608\n"
     ]
    },
    {
     "name": "stderr",
     "output_type": "stream",
     "text": [
      "/var/folders/sb/50cj9frx6576wh5j6rbpnb6c0000gp/T/ipykernel_36568/1086096361.py:71: SettingWithCopyWarning: \n",
      "A value is trying to be set on a copy of a slice from a DataFrame.\n",
      "Try using .loc[row_indexer,col_indexer] = value instead\n",
      "\n",
      "See the caveats in the documentation: https://pandas.pydata.org/pandas-docs/stable/user_guide/indexing.html#returning-a-view-versus-a-copy\n",
      "  batch.loc[:, 'predicted_value'] = preds\n"
     ]
    },
    {
     "name": "stdout",
     "output_type": "stream",
     "text": [
      "MAE: 0.2491531907952952\n",
      "MSE: 0.14831770045065445\n",
      "RMSE: 0.385120371378423\n",
      "R2: 0.8502317191498722\n",
      "MAPE: 1.6499083545322517\n"
     ]
    },
    {
     "name": "stderr",
     "output_type": "stream",
     "text": [
      "/var/folders/sb/50cj9frx6576wh5j6rbpnb6c0000gp/T/ipykernel_36568/1086096361.py:71: SettingWithCopyWarning: \n",
      "A value is trying to be set on a copy of a slice from a DataFrame.\n",
      "Try using .loc[row_indexer,col_indexer] = value instead\n",
      "\n",
      "See the caveats in the documentation: https://pandas.pydata.org/pandas-docs/stable/user_guide/indexing.html#returning-a-view-versus-a-copy\n",
      "  batch.loc[:, 'predicted_value'] = preds\n"
     ]
    },
    {
     "name": "stdout",
     "output_type": "stream",
     "text": [
      "MAE: 0.24903100413342966\n",
      "MSE: 0.14797657167639203\n",
      "RMSE: 0.3846772305146121\n",
      "R2: 0.8507095892909959\n",
      "MAPE: 1.6470605457065302\n"
     ]
    },
    {
     "name": "stderr",
     "output_type": "stream",
     "text": [
      "/var/folders/sb/50cj9frx6576wh5j6rbpnb6c0000gp/T/ipykernel_36568/1086096361.py:71: SettingWithCopyWarning: \n",
      "A value is trying to be set on a copy of a slice from a DataFrame.\n",
      "Try using .loc[row_indexer,col_indexer] = value instead\n",
      "\n",
      "See the caveats in the documentation: https://pandas.pydata.org/pandas-docs/stable/user_guide/indexing.html#returning-a-view-versus-a-copy\n",
      "  batch.loc[:, 'predicted_value'] = preds\n"
     ]
    },
    {
     "name": "stdout",
     "output_type": "stream",
     "text": [
      "MAE: 0.24894398059107117\n",
      "MSE: 0.14764329623575628\n",
      "RMSE: 0.3842437979144963\n",
      "R2: 0.8512435042931854\n",
      "MAPE: 1.670731133451407\n"
     ]
    },
    {
     "name": "stderr",
     "output_type": "stream",
     "text": [
      "/var/folders/sb/50cj9frx6576wh5j6rbpnb6c0000gp/T/ipykernel_36568/1086096361.py:71: SettingWithCopyWarning: \n",
      "A value is trying to be set on a copy of a slice from a DataFrame.\n",
      "Try using .loc[row_indexer,col_indexer] = value instead\n",
      "\n",
      "See the caveats in the documentation: https://pandas.pydata.org/pandas-docs/stable/user_guide/indexing.html#returning-a-view-versus-a-copy\n",
      "  batch.loc[:, 'predicted_value'] = preds\n"
     ]
    },
    {
     "name": "stdout",
     "output_type": "stream",
     "text": [
      "MAE: 0.24887814578089576\n",
      "MSE: 0.1473334840811325\n",
      "RMSE: 0.38384044091410235\n",
      "R2: 0.8515977232550388\n",
      "MAPE: 1.6656038964929851\n"
     ]
    },
    {
     "name": "stderr",
     "output_type": "stream",
     "text": [
      "/var/folders/sb/50cj9frx6576wh5j6rbpnb6c0000gp/T/ipykernel_36568/1086096361.py:71: SettingWithCopyWarning: \n",
      "A value is trying to be set on a copy of a slice from a DataFrame.\n",
      "Try using .loc[row_indexer,col_indexer] = value instead\n",
      "\n",
      "See the caveats in the documentation: https://pandas.pydata.org/pandas-docs/stable/user_guide/indexing.html#returning-a-view-versus-a-copy\n",
      "  batch.loc[:, 'predicted_value'] = preds\n"
     ]
    },
    {
     "name": "stdout",
     "output_type": "stream",
     "text": [
      "MAE: 0.24904461408030196\n",
      "MSE: 0.14729044923044818\n",
      "RMSE: 0.3837843785649022\n",
      "R2: 0.8517677050719293\n",
      "MAPE: 1.661651422514686\n"
     ]
    },
    {
     "name": "stderr",
     "output_type": "stream",
     "text": [
      "/var/folders/sb/50cj9frx6576wh5j6rbpnb6c0000gp/T/ipykernel_36568/1086096361.py:71: SettingWithCopyWarning: \n",
      "A value is trying to be set on a copy of a slice from a DataFrame.\n",
      "Try using .loc[row_indexer,col_indexer] = value instead\n",
      "\n",
      "See the caveats in the documentation: https://pandas.pydata.org/pandas-docs/stable/user_guide/indexing.html#returning-a-view-versus-a-copy\n",
      "  batch.loc[:, 'predicted_value'] = preds\n"
     ]
    },
    {
     "name": "stdout",
     "output_type": "stream",
     "text": [
      "MAE: 0.24883057129906827\n",
      "MSE: 0.14698822433078124\n",
      "RMSE: 0.3833904332802023\n",
      "R2: 0.8522623390712142\n",
      "MAPE: 1.664855846277414\n",
      "Experimenting with num_nearest_neighbors=200 and distance_metric=dtw\n",
      "int64\n"
     ]
    },
    {
     "name": "stderr",
     "output_type": "stream",
     "text": [
      "/var/folders/sb/50cj9frx6576wh5j6rbpnb6c0000gp/T/ipykernel_36568/1086096361.py:71: SettingWithCopyWarning: \n",
      "A value is trying to be set on a copy of a slice from a DataFrame.\n",
      "Try using .loc[row_indexer,col_indexer] = value instead\n",
      "\n",
      "See the caveats in the documentation: https://pandas.pydata.org/pandas-docs/stable/user_guide/indexing.html#returning-a-view-versus-a-copy\n",
      "  batch.loc[:, 'predicted_value'] = preds\n"
     ]
    },
    {
     "name": "stdout",
     "output_type": "stream",
     "text": [
      "MAE: 0.24938522501190294\n",
      "MSE: 0.14741895022960017\n",
      "RMSE: 0.3839517550807655\n",
      "R2: 0.8518919582922325\n",
      "MAPE: 1.6604336182565238\n"
     ]
    },
    {
     "name": "stderr",
     "output_type": "stream",
     "text": [
      "/var/folders/sb/50cj9frx6576wh5j6rbpnb6c0000gp/T/ipykernel_36568/1086096361.py:71: SettingWithCopyWarning: \n",
      "A value is trying to be set on a copy of a slice from a DataFrame.\n",
      "Try using .loc[row_indexer,col_indexer] = value instead\n",
      "\n",
      "See the caveats in the documentation: https://pandas.pydata.org/pandas-docs/stable/user_guide/indexing.html#returning-a-view-versus-a-copy\n",
      "  batch.loc[:, 'predicted_value'] = preds\n"
     ]
    },
    {
     "name": "stdout",
     "output_type": "stream",
     "text": [
      "MAE: 0.2493198941735894\n",
      "MSE: 0.14729492131567656\n",
      "RMSE: 0.3837902048198684\n",
      "R2: 0.8518557809537609\n",
      "MAPE: 1.6550315550734211\n"
     ]
    },
    {
     "name": "stderr",
     "output_type": "stream",
     "text": [
      "/var/folders/sb/50cj9frx6576wh5j6rbpnb6c0000gp/T/ipykernel_36568/1086096361.py:71: SettingWithCopyWarning: \n",
      "A value is trying to be set on a copy of a slice from a DataFrame.\n",
      "Try using .loc[row_indexer,col_indexer] = value instead\n",
      "\n",
      "See the caveats in the documentation: https://pandas.pydata.org/pandas-docs/stable/user_guide/indexing.html#returning-a-view-versus-a-copy\n",
      "  batch.loc[:, 'predicted_value'] = preds\n"
     ]
    },
    {
     "name": "stdout",
     "output_type": "stream",
     "text": [
      "MAE: 0.248715778483205\n",
      "MSE: 0.14676224329760376\n",
      "RMSE: 0.38309560594922487\n",
      "R2: 0.8519809783097124\n",
      "MAPE: 1.6488824607266692\n"
     ]
    },
    {
     "name": "stderr",
     "output_type": "stream",
     "text": [
      "/var/folders/sb/50cj9frx6576wh5j6rbpnb6c0000gp/T/ipykernel_36568/1086096361.py:71: SettingWithCopyWarning: \n",
      "A value is trying to be set on a copy of a slice from a DataFrame.\n",
      "Try using .loc[row_indexer,col_indexer] = value instead\n",
      "\n",
      "See the caveats in the documentation: https://pandas.pydata.org/pandas-docs/stable/user_guide/indexing.html#returning-a-view-versus-a-copy\n",
      "  batch.loc[:, 'predicted_value'] = preds\n"
     ]
    },
    {
     "name": "stdout",
     "output_type": "stream",
     "text": [
      "MAE: 0.2482415412735224\n",
      "MSE: 0.1462332942125469\n",
      "RMSE: 0.38240462106588996\n",
      "R2: 0.8521517696963694\n",
      "MAPE: 1.643571647907671\n"
     ]
    },
    {
     "name": "stderr",
     "output_type": "stream",
     "text": [
      "/var/folders/sb/50cj9frx6576wh5j6rbpnb6c0000gp/T/ipykernel_36568/1086096361.py:71: SettingWithCopyWarning: \n",
      "A value is trying to be set on a copy of a slice from a DataFrame.\n",
      "Try using .loc[row_indexer,col_indexer] = value instead\n",
      "\n",
      "See the caveats in the documentation: https://pandas.pydata.org/pandas-docs/stable/user_guide/indexing.html#returning-a-view-versus-a-copy\n",
      "  batch.loc[:, 'predicted_value'] = preds\n"
     ]
    },
    {
     "name": "stdout",
     "output_type": "stream",
     "text": [
      "MAE: 0.2478618355450516\n",
      "MSE: 0.14575982861631717\n",
      "RMSE: 0.38178505551725983\n",
      "R2: 0.8523573130229738\n",
      "MAPE: 1.6396977725459394\n"
     ]
    },
    {
     "name": "stderr",
     "output_type": "stream",
     "text": [
      "/var/folders/sb/50cj9frx6576wh5j6rbpnb6c0000gp/T/ipykernel_36568/1086096361.py:71: SettingWithCopyWarning: \n",
      "A value is trying to be set on a copy of a slice from a DataFrame.\n",
      "Try using .loc[row_indexer,col_indexer] = value instead\n",
      "\n",
      "See the caveats in the documentation: https://pandas.pydata.org/pandas-docs/stable/user_guide/indexing.html#returning-a-view-versus-a-copy\n",
      "  batch.loc[:, 'predicted_value'] = preds\n"
     ]
    },
    {
     "name": "stdout",
     "output_type": "stream",
     "text": [
      "MAE: 0.24766582790442104\n",
      "MSE: 0.14550275998705106\n",
      "RMSE: 0.38144824024636825\n",
      "R2: 0.8526264168710369\n",
      "MAPE: 1.6344526942589521\n"
     ]
    },
    {
     "name": "stderr",
     "output_type": "stream",
     "text": [
      "/var/folders/sb/50cj9frx6576wh5j6rbpnb6c0000gp/T/ipykernel_36568/1086096361.py:71: SettingWithCopyWarning: \n",
      "A value is trying to be set on a copy of a slice from a DataFrame.\n",
      "Try using .loc[row_indexer,col_indexer] = value instead\n",
      "\n",
      "See the caveats in the documentation: https://pandas.pydata.org/pandas-docs/stable/user_guide/indexing.html#returning-a-view-versus-a-copy\n",
      "  batch.loc[:, 'predicted_value'] = preds\n"
     ]
    },
    {
     "name": "stdout",
     "output_type": "stream",
     "text": [
      "MAE: 0.24817057075425417\n",
      "MSE: 0.14646752498755414\n",
      "RMSE: 0.38271075891272527\n",
      "R2: 0.8517311993758698\n",
      "MAPE: 1.6299741833656116\n"
     ]
    },
    {
     "name": "stderr",
     "output_type": "stream",
     "text": [
      "/var/folders/sb/50cj9frx6576wh5j6rbpnb6c0000gp/T/ipykernel_36568/1086096361.py:71: SettingWithCopyWarning: \n",
      "A value is trying to be set on a copy of a slice from a DataFrame.\n",
      "Try using .loc[row_indexer,col_indexer] = value instead\n",
      "\n",
      "See the caveats in the documentation: https://pandas.pydata.org/pandas-docs/stable/user_guide/indexing.html#returning-a-view-versus-a-copy\n",
      "  batch.loc[:, 'predicted_value'] = preds\n"
     ]
    },
    {
     "name": "stdout",
     "output_type": "stream",
     "text": [
      "MAE: 0.24944038399319698\n",
      "MSE: 0.14926718167489772\n",
      "RMSE: 0.386351111911041\n",
      "R2: 0.8490369743166654\n",
      "MAPE: 1.6274730712029817\n"
     ]
    },
    {
     "name": "stderr",
     "output_type": "stream",
     "text": [
      "/var/folders/sb/50cj9frx6576wh5j6rbpnb6c0000gp/T/ipykernel_36568/1086096361.py:71: SettingWithCopyWarning: \n",
      "A value is trying to be set on a copy of a slice from a DataFrame.\n",
      "Try using .loc[row_indexer,col_indexer] = value instead\n",
      "\n",
      "See the caveats in the documentation: https://pandas.pydata.org/pandas-docs/stable/user_guide/indexing.html#returning-a-view-versus-a-copy\n",
      "  batch.loc[:, 'predicted_value'] = preds\n"
     ]
    },
    {
     "name": "stdout",
     "output_type": "stream",
     "text": [
      "MAE: 0.24966542204939737\n",
      "MSE: 0.1499660225467252\n",
      "RMSE: 0.38725446743288217\n",
      "R2: 0.8483519250178096\n",
      "MAPE: 1.6227933762796838\n"
     ]
    },
    {
     "name": "stderr",
     "output_type": "stream",
     "text": [
      "/var/folders/sb/50cj9frx6576wh5j6rbpnb6c0000gp/T/ipykernel_36568/1086096361.py:71: SettingWithCopyWarning: \n",
      "A value is trying to be set on a copy of a slice from a DataFrame.\n",
      "Try using .loc[row_indexer,col_indexer] = value instead\n",
      "\n",
      "See the caveats in the documentation: https://pandas.pydata.org/pandas-docs/stable/user_guide/indexing.html#returning-a-view-versus-a-copy\n",
      "  batch.loc[:, 'predicted_value'] = preds\n"
     ]
    },
    {
     "name": "stdout",
     "output_type": "stream",
     "text": [
      "MAE: 0.24977475258636442\n",
      "MSE: 0.14986596963885274\n",
      "RMSE: 0.38712526349859\n",
      "R2: 0.8485303945942758\n",
      "MAPE: 1.6187456020151056\n"
     ]
    },
    {
     "name": "stderr",
     "output_type": "stream",
     "text": [
      "/var/folders/sb/50cj9frx6576wh5j6rbpnb6c0000gp/T/ipykernel_36568/1086096361.py:71: SettingWithCopyWarning: \n",
      "A value is trying to be set on a copy of a slice from a DataFrame.\n",
      "Try using .loc[row_indexer,col_indexer] = value instead\n",
      "\n",
      "See the caveats in the documentation: https://pandas.pydata.org/pandas-docs/stable/user_guide/indexing.html#returning-a-view-versus-a-copy\n",
      "  batch.loc[:, 'predicted_value'] = preds\n"
     ]
    },
    {
     "name": "stdout",
     "output_type": "stream",
     "text": [
      "MAE: 0.2499381640472411\n",
      "MSE: 0.1497814649362596\n",
      "RMSE: 0.38701610423373806\n",
      "R2: 0.8485265326762627\n",
      "MAPE: 1.6146227831108084\n"
     ]
    },
    {
     "name": "stderr",
     "output_type": "stream",
     "text": [
      "/var/folders/sb/50cj9frx6576wh5j6rbpnb6c0000gp/T/ipykernel_36568/1086096361.py:71: SettingWithCopyWarning: \n",
      "A value is trying to be set on a copy of a slice from a DataFrame.\n",
      "Try using .loc[row_indexer,col_indexer] = value instead\n",
      "\n",
      "See the caveats in the documentation: https://pandas.pydata.org/pandas-docs/stable/user_guide/indexing.html#returning-a-view-versus-a-copy\n",
      "  batch.loc[:, 'predicted_value'] = preds\n"
     ]
    },
    {
     "name": "stdout",
     "output_type": "stream",
     "text": [
      "MAE: 0.24981026861265698\n",
      "MSE: 0.14948459091431832\n",
      "RMSE: 0.3866323717878759\n",
      "R2: 0.8489769868044126\n",
      "MAPE: 1.6133046437111924\n"
     ]
    },
    {
     "name": "stderr",
     "output_type": "stream",
     "text": [
      "/var/folders/sb/50cj9frx6576wh5j6rbpnb6c0000gp/T/ipykernel_36568/1086096361.py:71: SettingWithCopyWarning: \n",
      "A value is trying to be set on a copy of a slice from a DataFrame.\n",
      "Try using .loc[row_indexer,col_indexer] = value instead\n",
      "\n",
      "See the caveats in the documentation: https://pandas.pydata.org/pandas-docs/stable/user_guide/indexing.html#returning-a-view-versus-a-copy\n",
      "  batch.loc[:, 'predicted_value'] = preds\n"
     ]
    },
    {
     "name": "stdout",
     "output_type": "stream",
     "text": [
      "MAE: 0.2497108607270236\n",
      "MSE: 0.1491990698566366\n",
      "RMSE: 0.3862629542897385\n",
      "R2: 0.8493307229208955\n",
      "MAPE: 1.6741114960438097\n"
     ]
    },
    {
     "name": "stderr",
     "output_type": "stream",
     "text": [
      "/var/folders/sb/50cj9frx6576wh5j6rbpnb6c0000gp/T/ipykernel_36568/1086096361.py:71: SettingWithCopyWarning: \n",
      "A value is trying to be set on a copy of a slice from a DataFrame.\n",
      "Try using .loc[row_indexer,col_indexer] = value instead\n",
      "\n",
      "See the caveats in the documentation: https://pandas.pydata.org/pandas-docs/stable/user_guide/indexing.html#returning-a-view-versus-a-copy\n",
      "  batch.loc[:, 'predicted_value'] = preds\n"
     ]
    },
    {
     "name": "stdout",
     "output_type": "stream",
     "text": [
      "MAE: 0.2495549560435225\n",
      "MSE: 0.1488647855707189\n",
      "RMSE: 0.38582999568555953\n",
      "R2: 0.8497436417506822\n",
      "MAPE: 1.6839069949932433\n"
     ]
    },
    {
     "name": "stderr",
     "output_type": "stream",
     "text": [
      "/var/folders/sb/50cj9frx6576wh5j6rbpnb6c0000gp/T/ipykernel_36568/1086096361.py:71: SettingWithCopyWarning: \n",
      "A value is trying to be set on a copy of a slice from a DataFrame.\n",
      "Try using .loc[row_indexer,col_indexer] = value instead\n",
      "\n",
      "See the caveats in the documentation: https://pandas.pydata.org/pandas-docs/stable/user_guide/indexing.html#returning-a-view-versus-a-copy\n",
      "  batch.loc[:, 'predicted_value'] = preds\n"
     ]
    },
    {
     "name": "stdout",
     "output_type": "stream",
     "text": [
      "MAE: 0.24957296655316724\n",
      "MSE: 0.14860432059026674\n",
      "RMSE: 0.38549230937888596\n",
      "R2: 0.850028981962512\n",
      "MAPE: 1.6789570904347586\n"
     ]
    },
    {
     "name": "stderr",
     "output_type": "stream",
     "text": [
      "/var/folders/sb/50cj9frx6576wh5j6rbpnb6c0000gp/T/ipykernel_36568/1086096361.py:71: SettingWithCopyWarning: \n",
      "A value is trying to be set on a copy of a slice from a DataFrame.\n",
      "Try using .loc[row_indexer,col_indexer] = value instead\n",
      "\n",
      "See the caveats in the documentation: https://pandas.pydata.org/pandas-docs/stable/user_guide/indexing.html#returning-a-view-versus-a-copy\n",
      "  batch.loc[:, 'predicted_value'] = preds\n"
     ]
    },
    {
     "name": "stdout",
     "output_type": "stream",
     "text": [
      "MAE: 0.24934892194598415\n",
      "MSE: 0.14824543490946424\n",
      "RMSE: 0.3850265379288345\n",
      "R2: 0.850480678522699\n",
      "MAPE: 1.6754955579988438\n"
     ]
    },
    {
     "name": "stderr",
     "output_type": "stream",
     "text": [
      "/var/folders/sb/50cj9frx6576wh5j6rbpnb6c0000gp/T/ipykernel_36568/1086096361.py:71: SettingWithCopyWarning: \n",
      "A value is trying to be set on a copy of a slice from a DataFrame.\n",
      "Try using .loc[row_indexer,col_indexer] = value instead\n",
      "\n",
      "See the caveats in the documentation: https://pandas.pydata.org/pandas-docs/stable/user_guide/indexing.html#returning-a-view-versus-a-copy\n",
      "  batch.loc[:, 'predicted_value'] = preds\n"
     ]
    },
    {
     "name": "stdout",
     "output_type": "stream",
     "text": [
      "MAE: 0.24926444994601954\n",
      "MSE: 0.14799312887197522\n",
      "RMSE: 0.38469875080636173\n",
      "R2: 0.850943709190138\n",
      "MAPE: 1.7012982840528095\n"
     ]
    },
    {
     "name": "stderr",
     "output_type": "stream",
     "text": [
      "/var/folders/sb/50cj9frx6576wh5j6rbpnb6c0000gp/T/ipykernel_36568/1086096361.py:71: SettingWithCopyWarning: \n",
      "A value is trying to be set on a copy of a slice from a DataFrame.\n",
      "Try using .loc[row_indexer,col_indexer] = value instead\n",
      "\n",
      "See the caveats in the documentation: https://pandas.pydata.org/pandas-docs/stable/user_guide/indexing.html#returning-a-view-versus-a-copy\n",
      "  batch.loc[:, 'predicted_value'] = preds\n"
     ]
    },
    {
     "name": "stdout",
     "output_type": "stream",
     "text": [
      "MAE: 0.2491045425411518\n",
      "MSE: 0.14763345948218948\n",
      "RMSE: 0.38423099755510287\n",
      "R2: 0.8514475629548246\n",
      "MAPE: 1.718822043814609\n"
     ]
    },
    {
     "name": "stderr",
     "output_type": "stream",
     "text": [
      "/var/folders/sb/50cj9frx6576wh5j6rbpnb6c0000gp/T/ipykernel_36568/1086096361.py:71: SettingWithCopyWarning: \n",
      "A value is trying to be set on a copy of a slice from a DataFrame.\n",
      "Try using .loc[row_indexer,col_indexer] = value instead\n",
      "\n",
      "See the caveats in the documentation: https://pandas.pydata.org/pandas-docs/stable/user_guide/indexing.html#returning-a-view-versus-a-copy\n",
      "  batch.loc[:, 'predicted_value'] = preds\n"
     ]
    },
    {
     "name": "stdout",
     "output_type": "stream",
     "text": [
      "MAE: 0.24930189323181431\n",
      "MSE: 0.14765625539290084\n",
      "RMSE: 0.38426066074072796\n",
      "R2: 0.8514444389902661\n",
      "MAPE: 1.7160075174443092\n"
     ]
    },
    {
     "name": "stderr",
     "output_type": "stream",
     "text": [
      "/var/folders/sb/50cj9frx6576wh5j6rbpnb6c0000gp/T/ipykernel_36568/1086096361.py:71: SettingWithCopyWarning: \n",
      "A value is trying to be set on a copy of a slice from a DataFrame.\n",
      "Try using .loc[row_indexer,col_indexer] = value instead\n",
      "\n",
      "See the caveats in the documentation: https://pandas.pydata.org/pandas-docs/stable/user_guide/indexing.html#returning-a-view-versus-a-copy\n",
      "  batch.loc[:, 'predicted_value'] = preds\n"
     ]
    },
    {
     "name": "stdout",
     "output_type": "stream",
     "text": [
      "MAE: 0.24915121771481233\n",
      "MSE: 0.14741985335963506\n",
      "RMSE: 0.38395293117729296\n",
      "R2: 0.8518398862206361\n",
      "MAPE: 1.7162355875062747\n",
      "Experimenting with num_nearest_neighbors=300 and distance_metric=cosine\n",
      "int64\n"
     ]
    },
    {
     "name": "stderr",
     "output_type": "stream",
     "text": [
      "/var/folders/sb/50cj9frx6576wh5j6rbpnb6c0000gp/T/ipykernel_36568/1086096361.py:71: SettingWithCopyWarning: \n",
      "A value is trying to be set on a copy of a slice from a DataFrame.\n",
      "Try using .loc[row_indexer,col_indexer] = value instead\n",
      "\n",
      "See the caveats in the documentation: https://pandas.pydata.org/pandas-docs/stable/user_guide/indexing.html#returning-a-view-versus-a-copy\n",
      "  batch.loc[:, 'predicted_value'] = preds\n"
     ]
    },
    {
     "name": "stdout",
     "output_type": "stream",
     "text": [
      "MAE: 0.2496911435385288\n",
      "MSE: 0.1479812497574795\n",
      "RMSE: 0.3846833109942248\n",
      "R2: 0.8512774753174392\n",
      "MAPE: 1.713314877044187\n"
     ]
    },
    {
     "name": "stderr",
     "output_type": "stream",
     "text": [
      "/var/folders/sb/50cj9frx6576wh5j6rbpnb6c0000gp/T/ipykernel_36568/1086096361.py:71: SettingWithCopyWarning: \n",
      "A value is trying to be set on a copy of a slice from a DataFrame.\n",
      "Try using .loc[row_indexer,col_indexer] = value instead\n",
      "\n",
      "See the caveats in the documentation: https://pandas.pydata.org/pandas-docs/stable/user_guide/indexing.html#returning-a-view-versus-a-copy\n",
      "  batch.loc[:, 'predicted_value'] = preds\n"
     ]
    },
    {
     "name": "stdout",
     "output_type": "stream",
     "text": [
      "MAE: 0.24938422189108217\n",
      "MSE: 0.14758605153317408\n",
      "RMSE: 0.3841693006125998\n",
      "R2: 0.851364869588816\n",
      "MAPE: 1.709639330923242\n"
     ]
    },
    {
     "name": "stderr",
     "output_type": "stream",
     "text": [
      "/var/folders/sb/50cj9frx6576wh5j6rbpnb6c0000gp/T/ipykernel_36568/1086096361.py:71: SettingWithCopyWarning: \n",
      "A value is trying to be set on a copy of a slice from a DataFrame.\n",
      "Try using .loc[row_indexer,col_indexer] = value instead\n",
      "\n",
      "See the caveats in the documentation: https://pandas.pydata.org/pandas-docs/stable/user_guide/indexing.html#returning-a-view-versus-a-copy\n",
      "  batch.loc[:, 'predicted_value'] = preds\n"
     ]
    },
    {
     "name": "stdout",
     "output_type": "stream",
     "text": [
      "MAE: 0.2488598997889203\n",
      "MSE: 0.14707592255884117\n",
      "RMSE: 0.38350478818241784\n",
      "R2: 0.851779667429011\n",
      "MAPE: 1.7038552348581621\n"
     ]
    },
    {
     "name": "stderr",
     "output_type": "stream",
     "text": [
      "/var/folders/sb/50cj9frx6576wh5j6rbpnb6c0000gp/T/ipykernel_36568/1086096361.py:71: SettingWithCopyWarning: \n",
      "A value is trying to be set on a copy of a slice from a DataFrame.\n",
      "Try using .loc[row_indexer,col_indexer] = value instead\n",
      "\n",
      "See the caveats in the documentation: https://pandas.pydata.org/pandas-docs/stable/user_guide/indexing.html#returning-a-view-versus-a-copy\n",
      "  batch.loc[:, 'predicted_value'] = preds\n"
     ]
    },
    {
     "name": "stdout",
     "output_type": "stream",
     "text": [
      "MAE: 0.24855877120046038\n",
      "MSE: 0.14673093593944006\n",
      "RMSE: 0.3830547427450025\n",
      "R2: 0.8519410706814023\n",
      "MAPE: 1.69887542977835\n"
     ]
    },
    {
     "name": "stderr",
     "output_type": "stream",
     "text": [
      "/var/folders/sb/50cj9frx6576wh5j6rbpnb6c0000gp/T/ipykernel_36568/1086096361.py:71: SettingWithCopyWarning: \n",
      "A value is trying to be set on a copy of a slice from a DataFrame.\n",
      "Try using .loc[row_indexer,col_indexer] = value instead\n",
      "\n",
      "See the caveats in the documentation: https://pandas.pydata.org/pandas-docs/stable/user_guide/indexing.html#returning-a-view-versus-a-copy\n",
      "  batch.loc[:, 'predicted_value'] = preds\n"
     ]
    },
    {
     "name": "stdout",
     "output_type": "stream",
     "text": [
      "MAE: 0.24862787682038348\n",
      "MSE: 0.14671035055770387\n",
      "RMSE: 0.38302787177659\n",
      "R2: 0.8520564605994579\n",
      "MAPE: 1.6942583689409911\n"
     ]
    },
    {
     "name": "stderr",
     "output_type": "stream",
     "text": [
      "/var/folders/sb/50cj9frx6576wh5j6rbpnb6c0000gp/T/ipykernel_36568/1086096361.py:71: SettingWithCopyWarning: \n",
      "A value is trying to be set on a copy of a slice from a DataFrame.\n",
      "Try using .loc[row_indexer,col_indexer] = value instead\n",
      "\n",
      "See the caveats in the documentation: https://pandas.pydata.org/pandas-docs/stable/user_guide/indexing.html#returning-a-view-versus-a-copy\n",
      "  batch.loc[:, 'predicted_value'] = preds\n"
     ]
    },
    {
     "name": "stdout",
     "output_type": "stream",
     "text": [
      "MAE: 0.24939390711054132\n",
      "MSE: 0.14811646840170117\n",
      "RMSE: 0.3848590240616701\n",
      "R2: 0.8508545378118513\n",
      "MAPE: 1.6899620909001258\n"
     ]
    },
    {
     "name": "stderr",
     "output_type": "stream",
     "text": [
      "/var/folders/sb/50cj9frx6576wh5j6rbpnb6c0000gp/T/ipykernel_36568/1086096361.py:71: SettingWithCopyWarning: \n",
      "A value is trying to be set on a copy of a slice from a DataFrame.\n",
      "Try using .loc[row_indexer,col_indexer] = value instead\n",
      "\n",
      "See the caveats in the documentation: https://pandas.pydata.org/pandas-docs/stable/user_guide/indexing.html#returning-a-view-versus-a-copy\n",
      "  batch.loc[:, 'predicted_value'] = preds\n"
     ]
    },
    {
     "name": "stdout",
     "output_type": "stream",
     "text": [
      "MAE: 0.2498422908412458\n",
      "MSE: 0.14852503185695654\n",
      "RMSE: 0.38538945478172665\n",
      "R2: 0.8504593425161922\n",
      "MAPE: 1.6888957765072017\n"
     ]
    },
    {
     "name": "stderr",
     "output_type": "stream",
     "text": [
      "/var/folders/sb/50cj9frx6576wh5j6rbpnb6c0000gp/T/ipykernel_36568/1086096361.py:71: SettingWithCopyWarning: \n",
      "A value is trying to be set on a copy of a slice from a DataFrame.\n",
      "Try using .loc[row_indexer,col_indexer] = value instead\n",
      "\n",
      "See the caveats in the documentation: https://pandas.pydata.org/pandas-docs/stable/user_guide/indexing.html#returning-a-view-versus-a-copy\n",
      "  batch.loc[:, 'predicted_value'] = preds\n"
     ]
    },
    {
     "name": "stdout",
     "output_type": "stream",
     "text": [
      "MAE: 0.24994169712202685\n",
      "MSE: 0.14854678214361017\n",
      "RMSE: 0.3854176723291372\n",
      "R2: 0.8503999807408381\n",
      "MAPE: 1.684955687514979\n"
     ]
    },
    {
     "name": "stderr",
     "output_type": "stream",
     "text": [
      "/var/folders/sb/50cj9frx6576wh5j6rbpnb6c0000gp/T/ipykernel_36568/1086096361.py:71: SettingWithCopyWarning: \n",
      "A value is trying to be set on a copy of a slice from a DataFrame.\n",
      "Try using .loc[row_indexer,col_indexer] = value instead\n",
      "\n",
      "See the caveats in the documentation: https://pandas.pydata.org/pandas-docs/stable/user_guide/indexing.html#returning-a-view-versus-a-copy\n",
      "  batch.loc[:, 'predicted_value'] = preds\n"
     ]
    },
    {
     "name": "stdout",
     "output_type": "stream",
     "text": [
      "MAE: 0.2500339290248318\n",
      "MSE: 0.14837889952050906\n",
      "RMSE: 0.3851998176537848\n",
      "R2: 0.8505264907814929\n",
      "MAPE: 1.680322156757346\n"
     ]
    },
    {
     "name": "stderr",
     "output_type": "stream",
     "text": [
      "/var/folders/sb/50cj9frx6576wh5j6rbpnb6c0000gp/T/ipykernel_36568/1086096361.py:71: SettingWithCopyWarning: \n",
      "A value is trying to be set on a copy of a slice from a DataFrame.\n",
      "Try using .loc[row_indexer,col_indexer] = value instead\n",
      "\n",
      "See the caveats in the documentation: https://pandas.pydata.org/pandas-docs/stable/user_guide/indexing.html#returning-a-view-versus-a-copy\n",
      "  batch.loc[:, 'predicted_value'] = preds\n"
     ]
    },
    {
     "name": "stdout",
     "output_type": "stream",
     "text": [
      "MAE: 0.2498584078441474\n",
      "MSE: 0.1480327952142091\n",
      "RMSE: 0.384750302422505\n",
      "R2: 0.8510177765639343\n",
      "MAPE: 1.675042733004719\n"
     ]
    },
    {
     "name": "stderr",
     "output_type": "stream",
     "text": [
      "/var/folders/sb/50cj9frx6576wh5j6rbpnb6c0000gp/T/ipykernel_36568/1086096361.py:71: SettingWithCopyWarning: \n",
      "A value is trying to be set on a copy of a slice from a DataFrame.\n",
      "Try using .loc[row_indexer,col_indexer] = value instead\n",
      "\n",
      "See the caveats in the documentation: https://pandas.pydata.org/pandas-docs/stable/user_guide/indexing.html#returning-a-view-versus-a-copy\n",
      "  batch.loc[:, 'predicted_value'] = preds\n"
     ]
    },
    {
     "name": "stdout",
     "output_type": "stream",
     "text": [
      "MAE: 0.24972734704912763\n",
      "MSE: 0.14775889672561193\n",
      "RMSE: 0.38439419444837086\n",
      "R2: 0.851411261714184\n",
      "MAPE: 1.6744414646139758\n"
     ]
    },
    {
     "name": "stderr",
     "output_type": "stream",
     "text": [
      "/var/folders/sb/50cj9frx6576wh5j6rbpnb6c0000gp/T/ipykernel_36568/1086096361.py:71: SettingWithCopyWarning: \n",
      "A value is trying to be set on a copy of a slice from a DataFrame.\n",
      "Try using .loc[row_indexer,col_indexer] = value instead\n",
      "\n",
      "See the caveats in the documentation: https://pandas.pydata.org/pandas-docs/stable/user_guide/indexing.html#returning-a-view-versus-a-copy\n",
      "  batch.loc[:, 'predicted_value'] = preds\n"
     ]
    },
    {
     "name": "stdout",
     "output_type": "stream",
     "text": [
      "MAE: 0.24948269821616187\n",
      "MSE: 0.1473949667388759\n",
      "RMSE: 0.38392052138284544\n",
      "R2: 0.8518300421774653\n",
      "MAPE: 1.6791548556158729\n"
     ]
    },
    {
     "name": "stderr",
     "output_type": "stream",
     "text": [
      "/var/folders/sb/50cj9frx6576wh5j6rbpnb6c0000gp/T/ipykernel_36568/1086096361.py:71: SettingWithCopyWarning: \n",
      "A value is trying to be set on a copy of a slice from a DataFrame.\n",
      "Try using .loc[row_indexer,col_indexer] = value instead\n",
      "\n",
      "See the caveats in the documentation: https://pandas.pydata.org/pandas-docs/stable/user_guide/indexing.html#returning-a-view-versus-a-copy\n",
      "  batch.loc[:, 'predicted_value'] = preds\n"
     ]
    },
    {
     "name": "stdout",
     "output_type": "stream",
     "text": [
      "MAE: 0.24934707182464608\n",
      "MSE: 0.14708593730299982\n",
      "RMSE: 0.3835178448299372\n",
      "R2: 0.8522347622386548\n",
      "MAPE: 1.6802133630863032\n"
     ]
    },
    {
     "name": "stderr",
     "output_type": "stream",
     "text": [
      "/var/folders/sb/50cj9frx6576wh5j6rbpnb6c0000gp/T/ipykernel_36568/1086096361.py:71: SettingWithCopyWarning: \n",
      "A value is trying to be set on a copy of a slice from a DataFrame.\n",
      "Try using .loc[row_indexer,col_indexer] = value instead\n",
      "\n",
      "See the caveats in the documentation: https://pandas.pydata.org/pandas-docs/stable/user_guide/indexing.html#returning-a-view-versus-a-copy\n",
      "  batch.loc[:, 'predicted_value'] = preds\n"
     ]
    },
    {
     "name": "stdout",
     "output_type": "stream",
     "text": [
      "MAE: 0.2490949419125337\n",
      "MSE: 0.14670061644854263\n",
      "RMSE: 0.3830151647762039\n",
      "R2: 0.8527207315033438\n",
      "MAPE: 1.6757884424516711\n"
     ]
    },
    {
     "name": "stderr",
     "output_type": "stream",
     "text": [
      "/var/folders/sb/50cj9frx6576wh5j6rbpnb6c0000gp/T/ipykernel_36568/1086096361.py:71: SettingWithCopyWarning: \n",
      "A value is trying to be set on a copy of a slice from a DataFrame.\n",
      "Try using .loc[row_indexer,col_indexer] = value instead\n",
      "\n",
      "See the caveats in the documentation: https://pandas.pydata.org/pandas-docs/stable/user_guide/indexing.html#returning-a-view-versus-a-copy\n",
      "  batch.loc[:, 'predicted_value'] = preds\n"
     ]
    },
    {
     "name": "stdout",
     "output_type": "stream",
     "text": [
      "MAE: 0.24892975314925087\n",
      "MSE: 0.1463834686645732\n",
      "RMSE: 0.3826009261156763\n",
      "R2: 0.8531118859101227\n",
      "MAPE: 1.6716145066416992\n"
     ]
    },
    {
     "name": "stderr",
     "output_type": "stream",
     "text": [
      "/var/folders/sb/50cj9frx6576wh5j6rbpnb6c0000gp/T/ipykernel_36568/1086096361.py:71: SettingWithCopyWarning: \n",
      "A value is trying to be set on a copy of a slice from a DataFrame.\n",
      "Try using .loc[row_indexer,col_indexer] = value instead\n",
      "\n",
      "See the caveats in the documentation: https://pandas.pydata.org/pandas-docs/stable/user_guide/indexing.html#returning-a-view-versus-a-copy\n",
      "  batch.loc[:, 'predicted_value'] = preds\n"
     ]
    },
    {
     "name": "stdout",
     "output_type": "stream",
     "text": [
      "MAE: 0.248731449393112\n",
      "MSE: 0.1460587138974592\n",
      "RMSE: 0.38217628641434465\n",
      "R2: 0.8535827196362822\n",
      "MAPE: 1.6938536092857175\n"
     ]
    },
    {
     "name": "stderr",
     "output_type": "stream",
     "text": [
      "/var/folders/sb/50cj9frx6576wh5j6rbpnb6c0000gp/T/ipykernel_36568/1086096361.py:71: SettingWithCopyWarning: \n",
      "A value is trying to be set on a copy of a slice from a DataFrame.\n",
      "Try using .loc[row_indexer,col_indexer] = value instead\n",
      "\n",
      "See the caveats in the documentation: https://pandas.pydata.org/pandas-docs/stable/user_guide/indexing.html#returning-a-view-versus-a-copy\n",
      "  batch.loc[:, 'predicted_value'] = preds\n"
     ]
    },
    {
     "name": "stdout",
     "output_type": "stream",
     "text": [
      "MAE: 0.24861701093224212\n",
      "MSE: 0.14576345181940953\n",
      "RMSE: 0.38178980057016915\n",
      "R2: 0.8540664137067852\n",
      "MAPE: 1.706089697145795\n"
     ]
    },
    {
     "name": "stderr",
     "output_type": "stream",
     "text": [
      "/var/folders/sb/50cj9frx6576wh5j6rbpnb6c0000gp/T/ipykernel_36568/1086096361.py:71: SettingWithCopyWarning: \n",
      "A value is trying to be set on a copy of a slice from a DataFrame.\n",
      "Try using .loc[row_indexer,col_indexer] = value instead\n",
      "\n",
      "See the caveats in the documentation: https://pandas.pydata.org/pandas-docs/stable/user_guide/indexing.html#returning-a-view-versus-a-copy\n",
      "  batch.loc[:, 'predicted_value'] = preds\n"
     ]
    },
    {
     "name": "stdout",
     "output_type": "stream",
     "text": [
      "MAE: 0.24848213678072273\n",
      "MSE: 0.1454669189565372\n",
      "RMSE: 0.3814012571512281\n",
      "R2: 0.8544149033983872\n",
      "MAPE: 1.7036583391142504\n"
     ]
    },
    {
     "name": "stderr",
     "output_type": "stream",
     "text": [
      "/var/folders/sb/50cj9frx6576wh5j6rbpnb6c0000gp/T/ipykernel_36568/1086096361.py:71: SettingWithCopyWarning: \n",
      "A value is trying to be set on a copy of a slice from a DataFrame.\n",
      "Try using .loc[row_indexer,col_indexer] = value instead\n",
      "\n",
      "See the caveats in the documentation: https://pandas.pydata.org/pandas-docs/stable/user_guide/indexing.html#returning-a-view-versus-a-copy\n",
      "  batch.loc[:, 'predicted_value'] = preds\n"
     ]
    },
    {
     "name": "stdout",
     "output_type": "stream",
     "text": [
      "MAE: 0.2487914868150259\n",
      "MSE: 0.14556656744011295\n",
      "RMSE: 0.3815318694946897\n",
      "R2: 0.8543382556712456\n",
      "MAPE: 1.7035504390431375\n"
     ]
    },
    {
     "name": "stderr",
     "output_type": "stream",
     "text": [
      "/var/folders/sb/50cj9frx6576wh5j6rbpnb6c0000gp/T/ipykernel_36568/1086096361.py:71: SettingWithCopyWarning: \n",
      "A value is trying to be set on a copy of a slice from a DataFrame.\n",
      "Try using .loc[row_indexer,col_indexer] = value instead\n",
      "\n",
      "See the caveats in the documentation: https://pandas.pydata.org/pandas-docs/stable/user_guide/indexing.html#returning-a-view-versus-a-copy\n",
      "  batch.loc[:, 'predicted_value'] = preds\n"
     ]
    },
    {
     "name": "stdout",
     "output_type": "stream",
     "text": [
      "MAE: 0.24875319188125783\n",
      "MSE: 0.14546609664902113\n",
      "RMSE: 0.3814001791413071\n",
      "R2: 0.8545419732681321\n",
      "MAPE: 1.7035555572594048\n",
      "Experimenting with num_nearest_neighbors=300 and distance_metric=euclidean\n",
      "int64\n"
     ]
    },
    {
     "name": "stderr",
     "output_type": "stream",
     "text": [
      "/var/folders/sb/50cj9frx6576wh5j6rbpnb6c0000gp/T/ipykernel_36568/1086096361.py:71: SettingWithCopyWarning: \n",
      "A value is trying to be set on a copy of a slice from a DataFrame.\n",
      "Try using .loc[row_indexer,col_indexer] = value instead\n",
      "\n",
      "See the caveats in the documentation: https://pandas.pydata.org/pandas-docs/stable/user_guide/indexing.html#returning-a-view-versus-a-copy\n",
      "  batch.loc[:, 'predicted_value'] = preds\n"
     ]
    },
    {
     "name": "stdout",
     "output_type": "stream",
     "text": [
      "MAE: 0.2498652185163457\n",
      "MSE: 0.146867067575459\n",
      "RMSE: 0.3832323936927292\n",
      "R2: 0.8532599958565563\n",
      "MAPE: 1.700397715401575\n"
     ]
    },
    {
     "name": "stderr",
     "output_type": "stream",
     "text": [
      "/var/folders/sb/50cj9frx6576wh5j6rbpnb6c0000gp/T/ipykernel_36568/1086096361.py:71: SettingWithCopyWarning: \n",
      "A value is trying to be set on a copy of a slice from a DataFrame.\n",
      "Try using .loc[row_indexer,col_indexer] = value instead\n",
      "\n",
      "See the caveats in the documentation: https://pandas.pydata.org/pandas-docs/stable/user_guide/indexing.html#returning-a-view-versus-a-copy\n",
      "  batch.loc[:, 'predicted_value'] = preds\n"
     ]
    },
    {
     "name": "stdout",
     "output_type": "stream",
     "text": [
      "MAE: 0.24943753341988223\n",
      "MSE: 0.14644124955783938\n",
      "RMSE: 0.3826764293209596\n",
      "R2: 0.8535336442008666\n",
      "MAPE: 1.69491683059532\n"
     ]
    },
    {
     "name": "stderr",
     "output_type": "stream",
     "text": [
      "/var/folders/sb/50cj9frx6576wh5j6rbpnb6c0000gp/T/ipykernel_36568/1086096361.py:71: SettingWithCopyWarning: \n",
      "A value is trying to be set on a copy of a slice from a DataFrame.\n",
      "Try using .loc[row_indexer,col_indexer] = value instead\n",
      "\n",
      "See the caveats in the documentation: https://pandas.pydata.org/pandas-docs/stable/user_guide/indexing.html#returning-a-view-versus-a-copy\n",
      "  batch.loc[:, 'predicted_value'] = preds\n"
     ]
    },
    {
     "name": "stdout",
     "output_type": "stream",
     "text": [
      "MAE: 0.24896471712246204\n",
      "MSE: 0.14601306970206857\n",
      "RMSE: 0.3821165655949354\n",
      "R2: 0.8536147267125077\n",
      "MAPE: 1.6900354109525793\n"
     ]
    },
    {
     "name": "stderr",
     "output_type": "stream",
     "text": [
      "/var/folders/sb/50cj9frx6576wh5j6rbpnb6c0000gp/T/ipykernel_36568/1086096361.py:71: SettingWithCopyWarning: \n",
      "A value is trying to be set on a copy of a slice from a DataFrame.\n",
      "Try using .loc[row_indexer,col_indexer] = value instead\n",
      "\n",
      "See the caveats in the documentation: https://pandas.pydata.org/pandas-docs/stable/user_guide/indexing.html#returning-a-view-versus-a-copy\n",
      "  batch.loc[:, 'predicted_value'] = preds\n"
     ]
    },
    {
     "name": "stdout",
     "output_type": "stream",
     "text": [
      "MAE: 0.24859591118357333\n",
      "MSE: 0.1456046962010793\n",
      "RMSE: 0.3815818342126356\n",
      "R2: 0.8537343760334828\n",
      "MAPE: 1.685564613020852\n"
     ]
    },
    {
     "name": "stderr",
     "output_type": "stream",
     "text": [
      "/var/folders/sb/50cj9frx6576wh5j6rbpnb6c0000gp/T/ipykernel_36568/1086096361.py:71: SettingWithCopyWarning: \n",
      "A value is trying to be set on a copy of a slice from a DataFrame.\n",
      "Try using .loc[row_indexer,col_indexer] = value instead\n",
      "\n",
      "See the caveats in the documentation: https://pandas.pydata.org/pandas-docs/stable/user_guide/indexing.html#returning-a-view-versus-a-copy\n",
      "  batch.loc[:, 'predicted_value'] = preds\n"
     ]
    },
    {
     "name": "stdout",
     "output_type": "stream",
     "text": [
      "MAE: 0.24832563495008275\n",
      "MSE: 0.14532279107471197\n",
      "RMSE: 0.3812122651157908\n",
      "R2: 0.8537853417187528\n",
      "MAPE: 1.6813636667440313\n"
     ]
    },
    {
     "name": "stderr",
     "output_type": "stream",
     "text": [
      "/var/folders/sb/50cj9frx6576wh5j6rbpnb6c0000gp/T/ipykernel_36568/1086096361.py:71: SettingWithCopyWarning: \n",
      "A value is trying to be set on a copy of a slice from a DataFrame.\n",
      "Try using .loc[row_indexer,col_indexer] = value instead\n",
      "\n",
      "See the caveats in the documentation: https://pandas.pydata.org/pandas-docs/stable/user_guide/indexing.html#returning-a-view-versus-a-copy\n",
      "  batch.loc[:, 'predicted_value'] = preds\n"
     ]
    },
    {
     "name": "stdout",
     "output_type": "stream",
     "text": [
      "MAE: 0.2481497176191359\n",
      "MSE: 0.1450757710366163\n",
      "RMSE: 0.3808881345442731\n",
      "R2: 0.8540509915514358\n",
      "MAPE: 1.677747369920483\n"
     ]
    },
    {
     "name": "stderr",
     "output_type": "stream",
     "text": [
      "/var/folders/sb/50cj9frx6576wh5j6rbpnb6c0000gp/T/ipykernel_36568/1086096361.py:71: SettingWithCopyWarning: \n",
      "A value is trying to be set on a copy of a slice from a DataFrame.\n",
      "Try using .loc[row_indexer,col_indexer] = value instead\n",
      "\n",
      "See the caveats in the documentation: https://pandas.pydata.org/pandas-docs/stable/user_guide/indexing.html#returning-a-view-versus-a-copy\n",
      "  batch.loc[:, 'predicted_value'] = preds\n"
     ]
    },
    {
     "name": "stdout",
     "output_type": "stream",
     "text": [
      "MAE: 0.24816959644122727\n",
      "MSE: 0.14528647840218062\n",
      "RMSE: 0.38116463424900876\n",
      "R2: 0.8538654277051221\n",
      "MAPE: 1.6732654901148398\n"
     ]
    },
    {
     "name": "stderr",
     "output_type": "stream",
     "text": [
      "/var/folders/sb/50cj9frx6576wh5j6rbpnb6c0000gp/T/ipykernel_36568/1086096361.py:71: SettingWithCopyWarning: \n",
      "A value is trying to be set on a copy of a slice from a DataFrame.\n",
      "Try using .loc[row_indexer,col_indexer] = value instead\n",
      "\n",
      "See the caveats in the documentation: https://pandas.pydata.org/pandas-docs/stable/user_guide/indexing.html#returning-a-view-versus-a-copy\n",
      "  batch.loc[:, 'predicted_value'] = preds\n"
     ]
    },
    {
     "name": "stdout",
     "output_type": "stream",
     "text": [
      "MAE: 0.2485262073253805\n",
      "MSE: 0.1458797183692466\n",
      "RMSE: 0.38194203535254745\n",
      "R2: 0.8535035900517027\n",
      "MAPE: 1.67093107224698\n"
     ]
    },
    {
     "name": "stderr",
     "output_type": "stream",
     "text": [
      "/var/folders/sb/50cj9frx6576wh5j6rbpnb6c0000gp/T/ipykernel_36568/1086096361.py:71: SettingWithCopyWarning: \n",
      "A value is trying to be set on a copy of a slice from a DataFrame.\n",
      "Try using .loc[row_indexer,col_indexer] = value instead\n",
      "\n",
      "See the caveats in the documentation: https://pandas.pydata.org/pandas-docs/stable/user_guide/indexing.html#returning-a-view-versus-a-copy\n",
      "  batch.loc[:, 'predicted_value'] = preds\n"
     ]
    },
    {
     "name": "stdout",
     "output_type": "stream",
     "text": [
      "MAE: 0.2486551803688373\n",
      "MSE: 0.14584693703525733\n",
      "RMSE: 0.38189911892443185\n",
      "R2: 0.8534565502565437\n",
      "MAPE: 1.668176774833011\n"
     ]
    },
    {
     "name": "stderr",
     "output_type": "stream",
     "text": [
      "/var/folders/sb/50cj9frx6576wh5j6rbpnb6c0000gp/T/ipykernel_36568/1086096361.py:71: SettingWithCopyWarning: \n",
      "A value is trying to be set on a copy of a slice from a DataFrame.\n",
      "Try using .loc[row_indexer,col_indexer] = value instead\n",
      "\n",
      "See the caveats in the documentation: https://pandas.pydata.org/pandas-docs/stable/user_guide/indexing.html#returning-a-view-versus-a-copy\n",
      "  batch.loc[:, 'predicted_value'] = preds\n"
     ]
    },
    {
     "name": "stdout",
     "output_type": "stream",
     "text": [
      "MAE: 0.24876113241419773\n",
      "MSE: 0.14576889778531704\n",
      "RMSE: 0.38179693265572084\n",
      "R2: 0.8535537060461692\n",
      "MAPE: 1.664544823646563\n"
     ]
    },
    {
     "name": "stderr",
     "output_type": "stream",
     "text": [
      "/var/folders/sb/50cj9frx6576wh5j6rbpnb6c0000gp/T/ipykernel_36568/1086096361.py:71: SettingWithCopyWarning: \n",
      "A value is trying to be set on a copy of a slice from a DataFrame.\n",
      "Try using .loc[row_indexer,col_indexer] = value instead\n",
      "\n",
      "See the caveats in the documentation: https://pandas.pydata.org/pandas-docs/stable/user_guide/indexing.html#returning-a-view-versus-a-copy\n",
      "  batch.loc[:, 'predicted_value'] = preds\n"
     ]
    },
    {
     "name": "stdout",
     "output_type": "stream",
     "text": [
      "MAE: 0.24900012081019207\n",
      "MSE: 0.14579415976667165\n",
      "RMSE: 0.38183001422972457\n",
      "R2: 0.853362673530358\n",
      "MAPE: 1.661442276062967\n"
     ]
    },
    {
     "name": "stderr",
     "output_type": "stream",
     "text": [
      "/var/folders/sb/50cj9frx6576wh5j6rbpnb6c0000gp/T/ipykernel_36568/1086096361.py:71: SettingWithCopyWarning: \n",
      "A value is trying to be set on a copy of a slice from a DataFrame.\n",
      "Try using .loc[row_indexer,col_indexer] = value instead\n",
      "\n",
      "See the caveats in the documentation: https://pandas.pydata.org/pandas-docs/stable/user_guide/indexing.html#returning-a-view-versus-a-copy\n",
      "  batch.loc[:, 'predicted_value'] = preds\n"
     ]
    },
    {
     "name": "stdout",
     "output_type": "stream",
     "text": [
      "MAE: 0.24884519871892344\n",
      "MSE: 0.14553704466650336\n",
      "RMSE: 0.38149317774568836\n",
      "R2: 0.8537267653072034\n",
      "MAPE: 1.6592883975463755\n"
     ]
    },
    {
     "name": "stderr",
     "output_type": "stream",
     "text": [
      "/var/folders/sb/50cj9frx6576wh5j6rbpnb6c0000gp/T/ipykernel_36568/1086096361.py:71: SettingWithCopyWarning: \n",
      "A value is trying to be set on a copy of a slice from a DataFrame.\n",
      "Try using .loc[row_indexer,col_indexer] = value instead\n",
      "\n",
      "See the caveats in the documentation: https://pandas.pydata.org/pandas-docs/stable/user_guide/indexing.html#returning-a-view-versus-a-copy\n",
      "  batch.loc[:, 'predicted_value'] = preds\n"
     ]
    },
    {
     "name": "stdout",
     "output_type": "stream",
     "text": [
      "MAE: 0.24880088742000034\n",
      "MSE: 0.14535032423835353\n",
      "RMSE: 0.3812483760468411\n",
      "R2: 0.8539353776819961\n",
      "MAPE: 1.6565275890477342\n"
     ]
    },
    {
     "name": "stderr",
     "output_type": "stream",
     "text": [
      "/var/folders/sb/50cj9frx6576wh5j6rbpnb6c0000gp/T/ipykernel_36568/1086096361.py:71: SettingWithCopyWarning: \n",
      "A value is trying to be set on a copy of a slice from a DataFrame.\n",
      "Try using .loc[row_indexer,col_indexer] = value instead\n",
      "\n",
      "See the caveats in the documentation: https://pandas.pydata.org/pandas-docs/stable/user_guide/indexing.html#returning-a-view-versus-a-copy\n",
      "  batch.loc[:, 'predicted_value'] = preds\n"
     ]
    },
    {
     "name": "stdout",
     "output_type": "stream",
     "text": [
      "MAE: 0.24861792614220307\n",
      "MSE: 0.1450509594011053\n",
      "RMSE: 0.38085556238698326\n",
      "R2: 0.8542996379865404\n",
      "MAPE: 1.6694195341356068\n"
     ]
    },
    {
     "name": "stderr",
     "output_type": "stream",
     "text": [
      "/var/folders/sb/50cj9frx6576wh5j6rbpnb6c0000gp/T/ipykernel_36568/1086096361.py:71: SettingWithCopyWarning: \n",
      "A value is trying to be set on a copy of a slice from a DataFrame.\n",
      "Try using .loc[row_indexer,col_indexer] = value instead\n",
      "\n",
      "See the caveats in the documentation: https://pandas.pydata.org/pandas-docs/stable/user_guide/indexing.html#returning-a-view-versus-a-copy\n",
      "  batch.loc[:, 'predicted_value'] = preds\n"
     ]
    },
    {
     "name": "stdout",
     "output_type": "stream",
     "text": [
      "MAE: 0.24845148020616567\n",
      "MSE: 0.14475310082123458\n",
      "RMSE: 0.38046432266539076\n",
      "R2: 0.8546680851504299\n",
      "MAPE: 1.6650764147928483\n"
     ]
    },
    {
     "name": "stderr",
     "output_type": "stream",
     "text": [
      "/var/folders/sb/50cj9frx6576wh5j6rbpnb6c0000gp/T/ipykernel_36568/1086096361.py:71: SettingWithCopyWarning: \n",
      "A value is trying to be set on a copy of a slice from a DataFrame.\n",
      "Try using .loc[row_indexer,col_indexer] = value instead\n",
      "\n",
      "See the caveats in the documentation: https://pandas.pydata.org/pandas-docs/stable/user_guide/indexing.html#returning-a-view-versus-a-copy\n",
      "  batch.loc[:, 'predicted_value'] = preds\n"
     ]
    },
    {
     "name": "stdout",
     "output_type": "stream",
     "text": [
      "MAE: 0.24843617705002388\n",
      "MSE: 0.144551529220603\n",
      "RMSE: 0.3801993282747919\n",
      "R2: 0.854863925717152\n",
      "MAPE: 1.6625745003588581\n"
     ]
    },
    {
     "name": "stderr",
     "output_type": "stream",
     "text": [
      "/var/folders/sb/50cj9frx6576wh5j6rbpnb6c0000gp/T/ipykernel_36568/1086096361.py:71: SettingWithCopyWarning: \n",
      "A value is trying to be set on a copy of a slice from a DataFrame.\n",
      "Try using .loc[row_indexer,col_indexer] = value instead\n",
      "\n",
      "See the caveats in the documentation: https://pandas.pydata.org/pandas-docs/stable/user_guide/indexing.html#returning-a-view-versus-a-copy\n",
      "  batch.loc[:, 'predicted_value'] = preds\n"
     ]
    },
    {
     "name": "stdout",
     "output_type": "stream",
     "text": [
      "MAE: 0.2482377378720636\n",
      "MSE: 0.1442503462325837\n",
      "RMSE: 0.3798030361023773\n",
      "R2: 0.8553254949046759\n",
      "MAPE: 1.6612401034846618\n"
     ]
    },
    {
     "name": "stderr",
     "output_type": "stream",
     "text": [
      "/var/folders/sb/50cj9frx6576wh5j6rbpnb6c0000gp/T/ipykernel_36568/1086096361.py:71: SettingWithCopyWarning: \n",
      "A value is trying to be set on a copy of a slice from a DataFrame.\n",
      "Try using .loc[row_indexer,col_indexer] = value instead\n",
      "\n",
      "See the caveats in the documentation: https://pandas.pydata.org/pandas-docs/stable/user_guide/indexing.html#returning-a-view-versus-a-copy\n",
      "  batch.loc[:, 'predicted_value'] = preds\n"
     ]
    },
    {
     "name": "stdout",
     "output_type": "stream",
     "text": [
      "MAE: 0.24807727256728695\n",
      "MSE: 0.14394439846076368\n",
      "RMSE: 0.3794000506862956\n",
      "R2: 0.8557800668121622\n",
      "MAPE: 1.6580968755851766\n"
     ]
    },
    {
     "name": "stderr",
     "output_type": "stream",
     "text": [
      "/var/folders/sb/50cj9frx6576wh5j6rbpnb6c0000gp/T/ipykernel_36568/1086096361.py:71: SettingWithCopyWarning: \n",
      "A value is trying to be set on a copy of a slice from a DataFrame.\n",
      "Try using .loc[row_indexer,col_indexer] = value instead\n",
      "\n",
      "See the caveats in the documentation: https://pandas.pydata.org/pandas-docs/stable/user_guide/indexing.html#returning-a-view-versus-a-copy\n",
      "  batch.loc[:, 'predicted_value'] = preds\n"
     ]
    },
    {
     "name": "stdout",
     "output_type": "stream",
     "text": [
      "MAE: 0.2480863170549519\n",
      "MSE: 0.14375081054054842\n",
      "RMSE: 0.3791448411102918\n",
      "R2: 0.8559866047490097\n",
      "MAPE: 1.6545859587209235\n"
     ]
    },
    {
     "name": "stderr",
     "output_type": "stream",
     "text": [
      "/var/folders/sb/50cj9frx6576wh5j6rbpnb6c0000gp/T/ipykernel_36568/1086096361.py:71: SettingWithCopyWarning: \n",
      "A value is trying to be set on a copy of a slice from a DataFrame.\n",
      "Try using .loc[row_indexer,col_indexer] = value instead\n",
      "\n",
      "See the caveats in the documentation: https://pandas.pydata.org/pandas-docs/stable/user_guide/indexing.html#returning-a-view-versus-a-copy\n",
      "  batch.loc[:, 'predicted_value'] = preds\n"
     ]
    },
    {
     "name": "stdout",
     "output_type": "stream",
     "text": [
      "MAE: 0.24798639587981505\n",
      "MSE: 0.14359329353423464\n",
      "RMSE: 0.3789370574834753\n",
      "R2: 0.8562357313405649\n",
      "MAPE: 1.6576150084593837\n",
      "Experimenting with num_nearest_neighbors=300 and distance_metric=chebyshev\n",
      "int64\n"
     ]
    },
    {
     "name": "stderr",
     "output_type": "stream",
     "text": [
      "/var/folders/sb/50cj9frx6576wh5j6rbpnb6c0000gp/T/ipykernel_36568/1086096361.py:71: SettingWithCopyWarning: \n",
      "A value is trying to be set on a copy of a slice from a DataFrame.\n",
      "Try using .loc[row_indexer,col_indexer] = value instead\n",
      "\n",
      "See the caveats in the documentation: https://pandas.pydata.org/pandas-docs/stable/user_guide/indexing.html#returning-a-view-versus-a-copy\n",
      "  batch.loc[:, 'predicted_value'] = preds\n"
     ]
    },
    {
     "name": "stdout",
     "output_type": "stream",
     "text": [
      "MAE: 0.2505163626068108\n",
      "MSE: 0.14872837343642137\n",
      "RMSE: 0.3856531776563255\n",
      "R2: 0.8511963301968093\n",
      "MAPE: 1.654696163638481\n"
     ]
    },
    {
     "name": "stderr",
     "output_type": "stream",
     "text": [
      "/var/folders/sb/50cj9frx6576wh5j6rbpnb6c0000gp/T/ipykernel_36568/1086096361.py:71: SettingWithCopyWarning: \n",
      "A value is trying to be set on a copy of a slice from a DataFrame.\n",
      "Try using .loc[row_indexer,col_indexer] = value instead\n",
      "\n",
      "See the caveats in the documentation: https://pandas.pydata.org/pandas-docs/stable/user_guide/indexing.html#returning-a-view-versus-a-copy\n",
      "  batch.loc[:, 'predicted_value'] = preds\n"
     ]
    },
    {
     "name": "stdout",
     "output_type": "stream",
     "text": [
      "MAE: 0.2505929869627588\n",
      "MSE: 0.14937634684705353\n",
      "RMSE: 0.38649236324545083\n",
      "R2: 0.8502813579120033\n",
      "MAPE: 1.650806410073489\n"
     ]
    },
    {
     "name": "stderr",
     "output_type": "stream",
     "text": [
      "/var/folders/sb/50cj9frx6576wh5j6rbpnb6c0000gp/T/ipykernel_36568/1086096361.py:71: SettingWithCopyWarning: \n",
      "A value is trying to be set on a copy of a slice from a DataFrame.\n",
      "Try using .loc[row_indexer,col_indexer] = value instead\n",
      "\n",
      "See the caveats in the documentation: https://pandas.pydata.org/pandas-docs/stable/user_guide/indexing.html#returning-a-view-versus-a-copy\n",
      "  batch.loc[:, 'predicted_value'] = preds\n"
     ]
    },
    {
     "name": "stdout",
     "output_type": "stream",
     "text": [
      "MAE: 0.2500931596594918\n",
      "MSE: 0.14892229772078508\n",
      "RMSE: 0.38590451891729005\n",
      "R2: 0.850427819053905\n",
      "MAPE: 1.6460570387125868\n"
     ]
    },
    {
     "name": "stderr",
     "output_type": "stream",
     "text": [
      "/var/folders/sb/50cj9frx6576wh5j6rbpnb6c0000gp/T/ipykernel_36568/1086096361.py:71: SettingWithCopyWarning: \n",
      "A value is trying to be set on a copy of a slice from a DataFrame.\n",
      "Try using .loc[row_indexer,col_indexer] = value instead\n",
      "\n",
      "See the caveats in the documentation: https://pandas.pydata.org/pandas-docs/stable/user_guide/indexing.html#returning-a-view-versus-a-copy\n",
      "  batch.loc[:, 'predicted_value'] = preds\n"
     ]
    },
    {
     "name": "stdout",
     "output_type": "stream",
     "text": [
      "MAE: 0.2499242254049615\n",
      "MSE: 0.14860358148732197\n",
      "RMSE: 0.3854913507295877\n",
      "R2: 0.8504460009807944\n",
      "MAPE: 1.6444142005827573\n"
     ]
    },
    {
     "name": "stderr",
     "output_type": "stream",
     "text": [
      "/var/folders/sb/50cj9frx6576wh5j6rbpnb6c0000gp/T/ipykernel_36568/1086096361.py:71: SettingWithCopyWarning: \n",
      "A value is trying to be set on a copy of a slice from a DataFrame.\n",
      "Try using .loc[row_indexer,col_indexer] = value instead\n",
      "\n",
      "See the caveats in the documentation: https://pandas.pydata.org/pandas-docs/stable/user_guide/indexing.html#returning-a-view-versus-a-copy\n",
      "  batch.loc[:, 'predicted_value'] = preds\n"
     ]
    },
    {
     "name": "stdout",
     "output_type": "stream",
     "text": [
      "MAE: 0.24991885960856183\n",
      "MSE: 0.14855207090135705\n",
      "RMSE: 0.3854245333412976\n",
      "R2: 0.8505125171872838\n",
      "MAPE: 1.6401171502342942\n"
     ]
    },
    {
     "name": "stderr",
     "output_type": "stream",
     "text": [
      "/var/folders/sb/50cj9frx6576wh5j6rbpnb6c0000gp/T/ipykernel_36568/1086096361.py:71: SettingWithCopyWarning: \n",
      "A value is trying to be set on a copy of a slice from a DataFrame.\n",
      "Try using .loc[row_indexer,col_indexer] = value instead\n",
      "\n",
      "See the caveats in the documentation: https://pandas.pydata.org/pandas-docs/stable/user_guide/indexing.html#returning-a-view-versus-a-copy\n",
      "  batch.loc[:, 'predicted_value'] = preds\n"
     ]
    },
    {
     "name": "stdout",
     "output_type": "stream",
     "text": [
      "MAE: 0.2497161757366264\n",
      "MSE: 0.1482751035387725\n",
      "RMSE: 0.3850650640330443\n",
      "R2: 0.8507397417705388\n",
      "MAPE: 1.6354546395329803\n"
     ]
    },
    {
     "name": "stderr",
     "output_type": "stream",
     "text": [
      "/var/folders/sb/50cj9frx6576wh5j6rbpnb6c0000gp/T/ipykernel_36568/1086096361.py:71: SettingWithCopyWarning: \n",
      "A value is trying to be set on a copy of a slice from a DataFrame.\n",
      "Try using .loc[row_indexer,col_indexer] = value instead\n",
      "\n",
      "See the caveats in the documentation: https://pandas.pydata.org/pandas-docs/stable/user_guide/indexing.html#returning-a-view-versus-a-copy\n",
      "  batch.loc[:, 'predicted_value'] = preds\n"
     ]
    },
    {
     "name": "stdout",
     "output_type": "stream",
     "text": [
      "MAE: 0.2500294309787847\n",
      "MSE: 0.1487133961728561\n",
      "RMSE: 0.38563375911978465\n",
      "R2: 0.8503259948397939\n",
      "MAPE: 1.6324512179312527\n"
     ]
    },
    {
     "name": "stderr",
     "output_type": "stream",
     "text": [
      "/var/folders/sb/50cj9frx6576wh5j6rbpnb6c0000gp/T/ipykernel_36568/1086096361.py:71: SettingWithCopyWarning: \n",
      "A value is trying to be set on a copy of a slice from a DataFrame.\n",
      "Try using .loc[row_indexer,col_indexer] = value instead\n",
      "\n",
      "See the caveats in the documentation: https://pandas.pydata.org/pandas-docs/stable/user_guide/indexing.html#returning-a-view-versus-a-copy\n",
      "  batch.loc[:, 'predicted_value'] = preds\n"
     ]
    },
    {
     "name": "stdout",
     "output_type": "stream",
     "text": [
      "MAE: 0.25043721180686734\n",
      "MSE: 0.14976365254502033\n",
      "RMSE: 0.3869930910817664\n",
      "R2: 0.849429737422763\n",
      "MAPE: 1.6298120073278555\n"
     ]
    },
    {
     "name": "stderr",
     "output_type": "stream",
     "text": [
      "/var/folders/sb/50cj9frx6576wh5j6rbpnb6c0000gp/T/ipykernel_36568/1086096361.py:71: SettingWithCopyWarning: \n",
      "A value is trying to be set on a copy of a slice from a DataFrame.\n",
      "Try using .loc[row_indexer,col_indexer] = value instead\n",
      "\n",
      "See the caveats in the documentation: https://pandas.pydata.org/pandas-docs/stable/user_guide/indexing.html#returning-a-view-versus-a-copy\n",
      "  batch.loc[:, 'predicted_value'] = preds\n"
     ]
    },
    {
     "name": "stdout",
     "output_type": "stream",
     "text": [
      "MAE: 0.2508340571242099\n",
      "MSE: 0.15042117055274576\n",
      "RMSE: 0.38784168233023353\n",
      "R2: 0.8486719089412289\n",
      "MAPE: 1.627788821155769\n"
     ]
    },
    {
     "name": "stderr",
     "output_type": "stream",
     "text": [
      "/var/folders/sb/50cj9frx6576wh5j6rbpnb6c0000gp/T/ipykernel_36568/1086096361.py:71: SettingWithCopyWarning: \n",
      "A value is trying to be set on a copy of a slice from a DataFrame.\n",
      "Try using .loc[row_indexer,col_indexer] = value instead\n",
      "\n",
      "See the caveats in the documentation: https://pandas.pydata.org/pandas-docs/stable/user_guide/indexing.html#returning-a-view-versus-a-copy\n",
      "  batch.loc[:, 'predicted_value'] = preds\n"
     ]
    },
    {
     "name": "stdout",
     "output_type": "stream",
     "text": [
      "MAE: 0.25085263398866764\n",
      "MSE: 0.15031925129641185\n",
      "RMSE: 0.38771026720530866\n",
      "R2: 0.8487948688089147\n",
      "MAPE: 1.624418323106311\n"
     ]
    },
    {
     "name": "stderr",
     "output_type": "stream",
     "text": [
      "/var/folders/sb/50cj9frx6576wh5j6rbpnb6c0000gp/T/ipykernel_36568/1086096361.py:71: SettingWithCopyWarning: \n",
      "A value is trying to be set on a copy of a slice from a DataFrame.\n",
      "Try using .loc[row_indexer,col_indexer] = value instead\n",
      "\n",
      "See the caveats in the documentation: https://pandas.pydata.org/pandas-docs/stable/user_guide/indexing.html#returning-a-view-versus-a-copy\n",
      "  batch.loc[:, 'predicted_value'] = preds\n"
     ]
    },
    {
     "name": "stdout",
     "output_type": "stream",
     "text": [
      "MAE: 0.2508343072447295\n",
      "MSE: 0.15014185858648849\n",
      "RMSE: 0.38748142998921703\n",
      "R2: 0.8488425144645225\n",
      "MAPE: 1.620956658293688\n"
     ]
    },
    {
     "name": "stderr",
     "output_type": "stream",
     "text": [
      "/var/folders/sb/50cj9frx6576wh5j6rbpnb6c0000gp/T/ipykernel_36568/1086096361.py:71: SettingWithCopyWarning: \n",
      "A value is trying to be set on a copy of a slice from a DataFrame.\n",
      "Try using .loc[row_indexer,col_indexer] = value instead\n",
      "\n",
      "See the caveats in the documentation: https://pandas.pydata.org/pandas-docs/stable/user_guide/indexing.html#returning-a-view-versus-a-copy\n",
      "  batch.loc[:, 'predicted_value'] = preds\n"
     ]
    },
    {
     "name": "stdout",
     "output_type": "stream",
     "text": [
      "MAE: 0.25084349824171037\n",
      "MSE: 0.1499815193479805\n",
      "RMSE: 0.387274475466665\n",
      "R2: 0.8490624283557293\n",
      "MAPE: 1.6172638908369055\n"
     ]
    },
    {
     "name": "stderr",
     "output_type": "stream",
     "text": [
      "/var/folders/sb/50cj9frx6576wh5j6rbpnb6c0000gp/T/ipykernel_36568/1086096361.py:71: SettingWithCopyWarning: \n",
      "A value is trying to be set on a copy of a slice from a DataFrame.\n",
      "Try using .loc[row_indexer,col_indexer] = value instead\n",
      "\n",
      "See the caveats in the documentation: https://pandas.pydata.org/pandas-docs/stable/user_guide/indexing.html#returning-a-view-versus-a-copy\n",
      "  batch.loc[:, 'predicted_value'] = preds\n"
     ]
    },
    {
     "name": "stdout",
     "output_type": "stream",
     "text": [
      "MAE: 0.25074814551742136\n",
      "MSE: 0.14976513667519986\n",
      "RMSE: 0.3869950085921004\n",
      "R2: 0.8493816025408395\n",
      "MAPE: 1.6166674637605698\n"
     ]
    },
    {
     "name": "stderr",
     "output_type": "stream",
     "text": [
      "/var/folders/sb/50cj9frx6576wh5j6rbpnb6c0000gp/T/ipykernel_36568/1086096361.py:71: SettingWithCopyWarning: \n",
      "A value is trying to be set on a copy of a slice from a DataFrame.\n",
      "Try using .loc[row_indexer,col_indexer] = value instead\n",
      "\n",
      "See the caveats in the documentation: https://pandas.pydata.org/pandas-docs/stable/user_guide/indexing.html#returning-a-view-versus-a-copy\n",
      "  batch.loc[:, 'predicted_value'] = preds\n"
     ]
    },
    {
     "name": "stdout",
     "output_type": "stream",
     "text": [
      "MAE: 0.2505747190529889\n",
      "MSE: 0.14947560014916067\n",
      "RMSE: 0.38662074459237267\n",
      "R2: 0.8497063463128358\n",
      "MAPE: 1.6160552788417981\n"
     ]
    },
    {
     "name": "stderr",
     "output_type": "stream",
     "text": [
      "/var/folders/sb/50cj9frx6576wh5j6rbpnb6c0000gp/T/ipykernel_36568/1086096361.py:71: SettingWithCopyWarning: \n",
      "A value is trying to be set on a copy of a slice from a DataFrame.\n",
      "Try using .loc[row_indexer,col_indexer] = value instead\n",
      "\n",
      "See the caveats in the documentation: https://pandas.pydata.org/pandas-docs/stable/user_guide/indexing.html#returning-a-view-versus-a-copy\n",
      "  batch.loc[:, 'predicted_value'] = preds\n"
     ]
    },
    {
     "name": "stdout",
     "output_type": "stream",
     "text": [
      "MAE: 0.2504220430124311\n",
      "MSE: 0.14918533809910003\n",
      "RMSE: 0.3862451787389715\n",
      "R2: 0.85009441888805\n",
      "MAPE: 1.6271935819626222\n"
     ]
    },
    {
     "name": "stderr",
     "output_type": "stream",
     "text": [
      "/var/folders/sb/50cj9frx6576wh5j6rbpnb6c0000gp/T/ipykernel_36568/1086096361.py:71: SettingWithCopyWarning: \n",
      "A value is trying to be set on a copy of a slice from a DataFrame.\n",
      "Try using .loc[row_indexer,col_indexer] = value instead\n",
      "\n",
      "See the caveats in the documentation: https://pandas.pydata.org/pandas-docs/stable/user_guide/indexing.html#returning-a-view-versus-a-copy\n",
      "  batch.loc[:, 'predicted_value'] = preds\n"
     ]
    },
    {
     "name": "stdout",
     "output_type": "stream",
     "text": [
      "MAE: 0.25032246526398594\n",
      "MSE: 0.14892430558875386\n",
      "RMSE: 0.3859071204172759\n",
      "R2: 0.8503727034405251\n",
      "MAPE: 1.6262049475131093\n"
     ]
    },
    {
     "name": "stderr",
     "output_type": "stream",
     "text": [
      "/var/folders/sb/50cj9frx6576wh5j6rbpnb6c0000gp/T/ipykernel_36568/1086096361.py:71: SettingWithCopyWarning: \n",
      "A value is trying to be set on a copy of a slice from a DataFrame.\n",
      "Try using .loc[row_indexer,col_indexer] = value instead\n",
      "\n",
      "See the caveats in the documentation: https://pandas.pydata.org/pandas-docs/stable/user_guide/indexing.html#returning-a-view-versus-a-copy\n",
      "  batch.loc[:, 'predicted_value'] = preds\n"
     ]
    },
    {
     "name": "stdout",
     "output_type": "stream",
     "text": [
      "MAE: 0.2500904047826927\n",
      "MSE: 0.14860330938831695\n",
      "RMSE: 0.3854909978045103\n",
      "R2: 0.8508151986377201\n",
      "MAPE: 1.6529593414655992\n"
     ]
    },
    {
     "name": "stderr",
     "output_type": "stream",
     "text": [
      "/var/folders/sb/50cj9frx6576wh5j6rbpnb6c0000gp/T/ipykernel_36568/1086096361.py:71: SettingWithCopyWarning: \n",
      "A value is trying to be set on a copy of a slice from a DataFrame.\n",
      "Try using .loc[row_indexer,col_indexer] = value instead\n",
      "\n",
      "See the caveats in the documentation: https://pandas.pydata.org/pandas-docs/stable/user_guide/indexing.html#returning-a-view-versus-a-copy\n",
      "  batch.loc[:, 'predicted_value'] = preds\n"
     ]
    },
    {
     "name": "stdout",
     "output_type": "stream",
     "text": [
      "MAE: 0.25003209990758024\n",
      "MSE: 0.1483860498419695\n",
      "RMSE: 0.38520909885667226\n",
      "R2: 0.8509868520255113\n",
      "MAPE: 1.649488160592462\n"
     ]
    },
    {
     "name": "stderr",
     "output_type": "stream",
     "text": [
      "/var/folders/sb/50cj9frx6576wh5j6rbpnb6c0000gp/T/ipykernel_36568/1086096361.py:71: SettingWithCopyWarning: \n",
      "A value is trying to be set on a copy of a slice from a DataFrame.\n",
      "Try using .loc[row_indexer,col_indexer] = value instead\n",
      "\n",
      "See the caveats in the documentation: https://pandas.pydata.org/pandas-docs/stable/user_guide/indexing.html#returning-a-view-versus-a-copy\n",
      "  batch.loc[:, 'predicted_value'] = preds\n"
     ]
    },
    {
     "name": "stdout",
     "output_type": "stream",
     "text": [
      "MAE: 0.2499000716502973\n",
      "MSE: 0.14811262742028306\n",
      "RMSE: 0.3848540339145259\n",
      "R2: 0.8513314877916309\n",
      "MAPE: 1.6473542132841228\n"
     ]
    },
    {
     "name": "stderr",
     "output_type": "stream",
     "text": [
      "/var/folders/sb/50cj9frx6576wh5j6rbpnb6c0000gp/T/ipykernel_36568/1086096361.py:71: SettingWithCopyWarning: \n",
      "A value is trying to be set on a copy of a slice from a DataFrame.\n",
      "Try using .loc[row_indexer,col_indexer] = value instead\n",
      "\n",
      "See the caveats in the documentation: https://pandas.pydata.org/pandas-docs/stable/user_guide/indexing.html#returning-a-view-versus-a-copy\n",
      "  batch.loc[:, 'predicted_value'] = preds\n"
     ]
    },
    {
     "name": "stdout",
     "output_type": "stream",
     "text": [
      "MAE: 0.2498266717629324\n",
      "MSE: 0.1479908963728574\n",
      "RMSE: 0.3846958491754979\n",
      "R2: 0.8515766084600875\n",
      "MAPE: 1.6483427568177669\n",
      "Experimenting with num_nearest_neighbors=300 and distance_metric=dtw\n",
      "int64\n"
     ]
    },
    {
     "name": "stderr",
     "output_type": "stream",
     "text": [
      "/var/folders/sb/50cj9frx6576wh5j6rbpnb6c0000gp/T/ipykernel_36568/1086096361.py:71: SettingWithCopyWarning: \n",
      "A value is trying to be set on a copy of a slice from a DataFrame.\n",
      "Try using .loc[row_indexer,col_indexer] = value instead\n",
      "\n",
      "See the caveats in the documentation: https://pandas.pydata.org/pandas-docs/stable/user_guide/indexing.html#returning-a-view-versus-a-copy\n",
      "  batch.loc[:, 'predicted_value'] = preds\n"
     ]
    },
    {
     "name": "stdout",
     "output_type": "stream",
     "text": [
      "MAE: 0.25111031186887284\n",
      "MSE: 0.1506123569711845\n",
      "RMSE: 0.3880880788831119\n",
      "R2: 0.8489945210589559\n",
      "MAPE: 1.6450499511100876\n"
     ]
    },
    {
     "name": "stderr",
     "output_type": "stream",
     "text": [
      "/var/folders/sb/50cj9frx6576wh5j6rbpnb6c0000gp/T/ipykernel_36568/1086096361.py:71: SettingWithCopyWarning: \n",
      "A value is trying to be set on a copy of a slice from a DataFrame.\n",
      "Try using .loc[row_indexer,col_indexer] = value instead\n",
      "\n",
      "See the caveats in the documentation: https://pandas.pydata.org/pandas-docs/stable/user_guide/indexing.html#returning-a-view-versus-a-copy\n",
      "  batch.loc[:, 'predicted_value'] = preds\n"
     ]
    },
    {
     "name": "stdout",
     "output_type": "stream",
     "text": [
      "MAE: 0.2509678172349604\n",
      "MSE: 0.15059376367342878\n",
      "RMSE: 0.3880641231464573\n",
      "R2: 0.8490141128120827\n",
      "MAPE: 1.6407850861794477\n"
     ]
    },
    {
     "name": "stderr",
     "output_type": "stream",
     "text": [
      "/var/folders/sb/50cj9frx6576wh5j6rbpnb6c0000gp/T/ipykernel_36568/1086096361.py:71: SettingWithCopyWarning: \n",
      "A value is trying to be set on a copy of a slice from a DataFrame.\n",
      "Try using .loc[row_indexer,col_indexer] = value instead\n",
      "\n",
      "See the caveats in the documentation: https://pandas.pydata.org/pandas-docs/stable/user_guide/indexing.html#returning-a-view-versus-a-copy\n",
      "  batch.loc[:, 'predicted_value'] = preds\n"
     ]
    },
    {
     "name": "stdout",
     "output_type": "stream",
     "text": [
      "MAE: 0.2505817661023769\n",
      "MSE: 0.15020506403342196\n",
      "RMSE: 0.3875629807314186\n",
      "R2: 0.849101529047178\n",
      "MAPE: 1.6372173672506392\n"
     ]
    },
    {
     "name": "stderr",
     "output_type": "stream",
     "text": [
      "/var/folders/sb/50cj9frx6576wh5j6rbpnb6c0000gp/T/ipykernel_36568/1086096361.py:71: SettingWithCopyWarning: \n",
      "A value is trying to be set on a copy of a slice from a DataFrame.\n",
      "Try using .loc[row_indexer,col_indexer] = value instead\n",
      "\n",
      "See the caveats in the documentation: https://pandas.pydata.org/pandas-docs/stable/user_guide/indexing.html#returning-a-view-versus-a-copy\n",
      "  batch.loc[:, 'predicted_value'] = preds\n"
     ]
    },
    {
     "name": "stdout",
     "output_type": "stream",
     "text": [
      "MAE: 0.2504740267632623\n",
      "MSE: 0.14998408940448943\n",
      "RMSE: 0.38727779358554687\n",
      "R2: 0.8490562599507143\n",
      "MAPE: 1.635700751575622\n"
     ]
    },
    {
     "name": "stderr",
     "output_type": "stream",
     "text": [
      "/var/folders/sb/50cj9frx6576wh5j6rbpnb6c0000gp/T/ipykernel_36568/1086096361.py:71: SettingWithCopyWarning: \n",
      "A value is trying to be set on a copy of a slice from a DataFrame.\n",
      "Try using .loc[row_indexer,col_indexer] = value instead\n",
      "\n",
      "See the caveats in the documentation: https://pandas.pydata.org/pandas-docs/stable/user_guide/indexing.html#returning-a-view-versus-a-copy\n",
      "  batch.loc[:, 'predicted_value'] = preds\n"
     ]
    },
    {
     "name": "stdout",
     "output_type": "stream",
     "text": [
      "MAE: 0.25016763768531136\n",
      "MSE: 0.14963061127747557\n",
      "RMSE: 0.38682116187907245\n",
      "R2: 0.8493076831500033\n",
      "MAPE: 1.6313451023643903\n"
     ]
    },
    {
     "name": "stderr",
     "output_type": "stream",
     "text": [
      "/var/folders/sb/50cj9frx6576wh5j6rbpnb6c0000gp/T/ipykernel_36568/1086096361.py:71: SettingWithCopyWarning: \n",
      "A value is trying to be set on a copy of a slice from a DataFrame.\n",
      "Try using .loc[row_indexer,col_indexer] = value instead\n",
      "\n",
      "See the caveats in the documentation: https://pandas.pydata.org/pandas-docs/stable/user_guide/indexing.html#returning-a-view-versus-a-copy\n",
      "  batch.loc[:, 'predicted_value'] = preds\n"
     ]
    },
    {
     "name": "stdout",
     "output_type": "stream",
     "text": [
      "MAE: 0.24998192008738854\n",
      "MSE: 0.14933855649592367\n",
      "RMSE: 0.38644347128127765\n",
      "R2: 0.8493771034592295\n",
      "MAPE: 1.6285054279887399\n"
     ]
    },
    {
     "name": "stderr",
     "output_type": "stream",
     "text": [
      "/var/folders/sb/50cj9frx6576wh5j6rbpnb6c0000gp/T/ipykernel_36568/1086096361.py:71: SettingWithCopyWarning: \n",
      "A value is trying to be set on a copy of a slice from a DataFrame.\n",
      "Try using .loc[row_indexer,col_indexer] = value instead\n",
      "\n",
      "See the caveats in the documentation: https://pandas.pydata.org/pandas-docs/stable/user_guide/indexing.html#returning-a-view-versus-a-copy\n",
      "  batch.loc[:, 'predicted_value'] = preds\n"
     ]
    },
    {
     "name": "stdout",
     "output_type": "stream",
     "text": [
      "MAE: 0.2506317675243347\n",
      "MSE: 0.1508685919283592\n",
      "RMSE: 0.3884180633394374\n",
      "R2: 0.8480013986940267\n",
      "MAPE: 1.6299531678963033\n"
     ]
    },
    {
     "name": "stderr",
     "output_type": "stream",
     "text": [
      "/var/folders/sb/50cj9frx6576wh5j6rbpnb6c0000gp/T/ipykernel_36568/1086096361.py:71: SettingWithCopyWarning: \n",
      "A value is trying to be set on a copy of a slice from a DataFrame.\n",
      "Try using .loc[row_indexer,col_indexer] = value instead\n",
      "\n",
      "See the caveats in the documentation: https://pandas.pydata.org/pandas-docs/stable/user_guide/indexing.html#returning-a-view-versus-a-copy\n",
      "  batch.loc[:, 'predicted_value'] = preds\n"
     ]
    },
    {
     "name": "stdout",
     "output_type": "stream",
     "text": [
      "MAE: 0.2507111678711999\n",
      "MSE: 0.15122888911332133\n",
      "RMSE: 0.3888815875216019\n",
      "R2: 0.8476096475147156\n",
      "MAPE: 1.6266518476516807\n"
     ]
    },
    {
     "name": "stderr",
     "output_type": "stream",
     "text": [
      "/var/folders/sb/50cj9frx6576wh5j6rbpnb6c0000gp/T/ipykernel_36568/1086096361.py:71: SettingWithCopyWarning: \n",
      "A value is trying to be set on a copy of a slice from a DataFrame.\n",
      "Try using .loc[row_indexer,col_indexer] = value instead\n",
      "\n",
      "See the caveats in the documentation: https://pandas.pydata.org/pandas-docs/stable/user_guide/indexing.html#returning-a-view-versus-a-copy\n",
      "  batch.loc[:, 'predicted_value'] = preds\n"
     ]
    },
    {
     "name": "stdout",
     "output_type": "stream",
     "text": [
      "MAE: 0.2509573579374682\n",
      "MSE: 0.15130868528967278\n",
      "RMSE: 0.3889841710014339\n",
      "R2: 0.8475533576452503\n",
      "MAPE: 1.6240179216220028\n"
     ]
    },
    {
     "name": "stderr",
     "output_type": "stream",
     "text": [
      "/var/folders/sb/50cj9frx6576wh5j6rbpnb6c0000gp/T/ipykernel_36568/1086096361.py:71: SettingWithCopyWarning: \n",
      "A value is trying to be set on a copy of a slice from a DataFrame.\n",
      "Try using .loc[row_indexer,col_indexer] = value instead\n",
      "\n",
      "See the caveats in the documentation: https://pandas.pydata.org/pandas-docs/stable/user_guide/indexing.html#returning-a-view-versus-a-copy\n",
      "  batch.loc[:, 'predicted_value'] = preds\n"
     ]
    },
    {
     "name": "stdout",
     "output_type": "stream",
     "text": [
      "MAE: 0.2510009342257737\n",
      "MSE: 0.15126446869848453\n",
      "RMSE: 0.38892733087105685\n",
      "R2: 0.8476209041077915\n",
      "MAPE: 1.6231815169003736\n"
     ]
    },
    {
     "name": "stderr",
     "output_type": "stream",
     "text": [
      "/var/folders/sb/50cj9frx6576wh5j6rbpnb6c0000gp/T/ipykernel_36568/1086096361.py:71: SettingWithCopyWarning: \n",
      "A value is trying to be set on a copy of a slice from a DataFrame.\n",
      "Try using .loc[row_indexer,col_indexer] = value instead\n",
      "\n",
      "See the caveats in the documentation: https://pandas.pydata.org/pandas-docs/stable/user_guide/indexing.html#returning-a-view-versus-a-copy\n",
      "  batch.loc[:, 'predicted_value'] = preds\n"
     ]
    },
    {
     "name": "stdout",
     "output_type": "stream",
     "text": [
      "MAE: 0.2511617552303018\n",
      "MSE: 0.15125792344915046\n",
      "RMSE: 0.3889189162912373\n",
      "R2: 0.8475219349516797\n",
      "MAPE: 1.6205172948952231\n"
     ]
    },
    {
     "name": "stderr",
     "output_type": "stream",
     "text": [
      "/var/folders/sb/50cj9frx6576wh5j6rbpnb6c0000gp/T/ipykernel_36568/1086096361.py:71: SettingWithCopyWarning: \n",
      "A value is trying to be set on a copy of a slice from a DataFrame.\n",
      "Try using .loc[row_indexer,col_indexer] = value instead\n",
      "\n",
      "See the caveats in the documentation: https://pandas.pydata.org/pandas-docs/stable/user_guide/indexing.html#returning-a-view-versus-a-copy\n",
      "  batch.loc[:, 'predicted_value'] = preds\n"
     ]
    },
    {
     "name": "stdout",
     "output_type": "stream",
     "text": [
      "MAE: 0.2510022606792721\n",
      "MSE: 0.1509851835822735\n",
      "RMSE: 0.3885681196164625\n",
      "R2: 0.847899392627454\n",
      "MAPE: 1.619811700205199\n"
     ]
    },
    {
     "name": "stderr",
     "output_type": "stream",
     "text": [
      "/var/folders/sb/50cj9frx6576wh5j6rbpnb6c0000gp/T/ipykernel_36568/1086096361.py:71: SettingWithCopyWarning: \n",
      "A value is trying to be set on a copy of a slice from a DataFrame.\n",
      "Try using .loc[row_indexer,col_indexer] = value instead\n",
      "\n",
      "See the caveats in the documentation: https://pandas.pydata.org/pandas-docs/stable/user_guide/indexing.html#returning-a-view-versus-a-copy\n",
      "  batch.loc[:, 'predicted_value'] = preds\n"
     ]
    },
    {
     "name": "stdout",
     "output_type": "stream",
     "text": [
      "MAE: 0.2509205777936076\n",
      "MSE: 0.15077890323634624\n",
      "RMSE: 0.3883025923636697\n",
      "R2: 0.8481837111504256\n",
      "MAPE: 1.656428602872676\n"
     ]
    },
    {
     "name": "stderr",
     "output_type": "stream",
     "text": [
      "/var/folders/sb/50cj9frx6576wh5j6rbpnb6c0000gp/T/ipykernel_36568/1086096361.py:71: SettingWithCopyWarning: \n",
      "A value is trying to be set on a copy of a slice from a DataFrame.\n",
      "Try using .loc[row_indexer,col_indexer] = value instead\n",
      "\n",
      "See the caveats in the documentation: https://pandas.pydata.org/pandas-docs/stable/user_guide/indexing.html#returning-a-view-versus-a-copy\n",
      "  batch.loc[:, 'predicted_value'] = preds\n"
     ]
    },
    {
     "name": "stdout",
     "output_type": "stream",
     "text": [
      "MAE: 0.25083007712325756\n",
      "MSE: 0.15053277058727732\n",
      "RMSE: 0.387985528837452\n",
      "R2: 0.8484491705281518\n",
      "MAPE: 1.661867499767886\n"
     ]
    },
    {
     "name": "stderr",
     "output_type": "stream",
     "text": [
      "/var/folders/sb/50cj9frx6576wh5j6rbpnb6c0000gp/T/ipykernel_36568/1086096361.py:71: SettingWithCopyWarning: \n",
      "A value is trying to be set on a copy of a slice from a DataFrame.\n",
      "Try using .loc[row_indexer,col_indexer] = value instead\n",
      "\n",
      "See the caveats in the documentation: https://pandas.pydata.org/pandas-docs/stable/user_guide/indexing.html#returning-a-view-versus-a-copy\n",
      "  batch.loc[:, 'predicted_value'] = preds\n"
     ]
    },
    {
     "name": "stdout",
     "output_type": "stream",
     "text": [
      "MAE: 0.2506542628030126\n",
      "MSE: 0.15025193047897414\n",
      "RMSE: 0.3876234390216543\n",
      "R2: 0.84883443908297\n",
      "MAPE: 1.6645301239589911\n"
     ]
    },
    {
     "name": "stderr",
     "output_type": "stream",
     "text": [
      "/var/folders/sb/50cj9frx6576wh5j6rbpnb6c0000gp/T/ipykernel_36568/1086096361.py:71: SettingWithCopyWarning: \n",
      "A value is trying to be set on a copy of a slice from a DataFrame.\n",
      "Try using .loc[row_indexer,col_indexer] = value instead\n",
      "\n",
      "See the caveats in the documentation: https://pandas.pydata.org/pandas-docs/stable/user_guide/indexing.html#returning-a-view-versus-a-copy\n",
      "  batch.loc[:, 'predicted_value'] = preds\n"
     ]
    },
    {
     "name": "stdout",
     "output_type": "stream",
     "text": [
      "MAE: 0.2505660088636495\n",
      "MSE: 0.15001312614577753\n",
      "RMSE: 0.38731528003136867\n",
      "R2: 0.8490892481979215\n",
      "MAPE: 1.6608744284779542\n"
     ]
    },
    {
     "name": "stderr",
     "output_type": "stream",
     "text": [
      "/var/folders/sb/50cj9frx6576wh5j6rbpnb6c0000gp/T/ipykernel_36568/1086096361.py:71: SettingWithCopyWarning: \n",
      "A value is trying to be set on a copy of a slice from a DataFrame.\n",
      "Try using .loc[row_indexer,col_indexer] = value instead\n",
      "\n",
      "See the caveats in the documentation: https://pandas.pydata.org/pandas-docs/stable/user_guide/indexing.html#returning-a-view-versus-a-copy\n",
      "  batch.loc[:, 'predicted_value'] = preds\n"
     ]
    },
    {
     "name": "stdout",
     "output_type": "stream",
     "text": [
      "MAE: 0.25055857611549975\n",
      "MSE: 0.14982137262992198\n",
      "RMSE: 0.38706765898215\n",
      "R2: 0.8492870727735042\n",
      "MAPE: 1.6585575224844957\n"
     ]
    },
    {
     "name": "stderr",
     "output_type": "stream",
     "text": [
      "/var/folders/sb/50cj9frx6576wh5j6rbpnb6c0000gp/T/ipykernel_36568/1086096361.py:71: SettingWithCopyWarning: \n",
      "A value is trying to be set on a copy of a slice from a DataFrame.\n",
      "Try using .loc[row_indexer,col_indexer] = value instead\n",
      "\n",
      "See the caveats in the documentation: https://pandas.pydata.org/pandas-docs/stable/user_guide/indexing.html#returning-a-view-versus-a-copy\n",
      "  batch.loc[:, 'predicted_value'] = preds\n"
     ]
    },
    {
     "name": "stdout",
     "output_type": "stream",
     "text": [
      "MAE: 0.25045899454361703\n",
      "MSE: 0.14958312605865148\n",
      "RMSE: 0.38675977823275715\n",
      "R2: 0.8496732271080661\n",
      "MAPE: 1.6577729942026347\n"
     ]
    },
    {
     "name": "stderr",
     "output_type": "stream",
     "text": [
      "/var/folders/sb/50cj9frx6576wh5j6rbpnb6c0000gp/T/ipykernel_36568/1086096361.py:71: SettingWithCopyWarning: \n",
      "A value is trying to be set on a copy of a slice from a DataFrame.\n",
      "Try using .loc[row_indexer,col_indexer] = value instead\n",
      "\n",
      "See the caveats in the documentation: https://pandas.pydata.org/pandas-docs/stable/user_guide/indexing.html#returning-a-view-versus-a-copy\n",
      "  batch.loc[:, 'predicted_value'] = preds\n"
     ]
    },
    {
     "name": "stdout",
     "output_type": "stream",
     "text": [
      "MAE: 0.25060521052593265\n",
      "MSE: 0.1495880102192346\n",
      "RMSE: 0.3867660923856105\n",
      "R2: 0.8496681166308\n",
      "MAPE: 1.6557570271477569\n"
     ]
    },
    {
     "name": "stderr",
     "output_type": "stream",
     "text": [
      "/var/folders/sb/50cj9frx6576wh5j6rbpnb6c0000gp/T/ipykernel_36568/1086096361.py:71: SettingWithCopyWarning: \n",
      "A value is trying to be set on a copy of a slice from a DataFrame.\n",
      "Try using .loc[row_indexer,col_indexer] = value instead\n",
      "\n",
      "See the caveats in the documentation: https://pandas.pydata.org/pandas-docs/stable/user_guide/indexing.html#returning-a-view-versus-a-copy\n",
      "  batch.loc[:, 'predicted_value'] = preds\n"
     ]
    },
    {
     "name": "stdout",
     "output_type": "stream",
     "text": [
      "MAE: 0.25050926805728174\n",
      "MSE: 0.1494369951082152\n",
      "RMSE: 0.3865708151273389\n",
      "R2: 0.8499073537198952\n",
      "MAPE: 1.6565661106709777\n",
      "Experimenting with num_nearest_neighbors=400 and distance_metric=cosine\n",
      "int64\n"
     ]
    },
    {
     "name": "stderr",
     "output_type": "stream",
     "text": [
      "/var/folders/sb/50cj9frx6576wh5j6rbpnb6c0000gp/T/ipykernel_36568/1086096361.py:71: SettingWithCopyWarning: \n",
      "A value is trying to be set on a copy of a slice from a DataFrame.\n",
      "Try using .loc[row_indexer,col_indexer] = value instead\n",
      "\n",
      "See the caveats in the documentation: https://pandas.pydata.org/pandas-docs/stable/user_guide/indexing.html#returning-a-view-versus-a-copy\n",
      "  batch.loc[:, 'predicted_value'] = preds\n"
     ]
    },
    {
     "name": "stdout",
     "output_type": "stream",
     "text": [
      "MAE: 0.251455744629454\n",
      "MSE: 0.15056965330066252\n",
      "RMSE: 0.3880330569689424\n",
      "R2: 0.8488486880927876\n",
      "MAPE: 1.6529201023778521\n"
     ]
    },
    {
     "name": "stderr",
     "output_type": "stream",
     "text": [
      "/var/folders/sb/50cj9frx6576wh5j6rbpnb6c0000gp/T/ipykernel_36568/1086096361.py:71: SettingWithCopyWarning: \n",
      "A value is trying to be set on a copy of a slice from a DataFrame.\n",
      "Try using .loc[row_indexer,col_indexer] = value instead\n",
      "\n",
      "See the caveats in the documentation: https://pandas.pydata.org/pandas-docs/stable/user_guide/indexing.html#returning-a-view-versus-a-copy\n",
      "  batch.loc[:, 'predicted_value'] = preds\n"
     ]
    },
    {
     "name": "stdout",
     "output_type": "stream",
     "text": [
      "MAE: 0.25113040862079733\n",
      "MSE: 0.15027368184903006\n",
      "RMSE: 0.38765149535250093\n",
      "R2: 0.8490418449202647\n",
      "MAPE: 1.648510298578373\n"
     ]
    },
    {
     "name": "stderr",
     "output_type": "stream",
     "text": [
      "/var/folders/sb/50cj9frx6576wh5j6rbpnb6c0000gp/T/ipykernel_36568/1086096361.py:71: SettingWithCopyWarning: \n",
      "A value is trying to be set on a copy of a slice from a DataFrame.\n",
      "Try using .loc[row_indexer,col_indexer] = value instead\n",
      "\n",
      "See the caveats in the documentation: https://pandas.pydata.org/pandas-docs/stable/user_guide/indexing.html#returning-a-view-versus-a-copy\n",
      "  batch.loc[:, 'predicted_value'] = preds\n"
     ]
    },
    {
     "name": "stdout",
     "output_type": "stream",
     "text": [
      "MAE: 0.25074184348259276\n",
      "MSE: 0.14989032890921924\n",
      "RMSE: 0.3871567239622983\n",
      "R2: 0.8491397052849772\n",
      "MAPE: 1.6445367528526829\n"
     ]
    },
    {
     "name": "stderr",
     "output_type": "stream",
     "text": [
      "/var/folders/sb/50cj9frx6576wh5j6rbpnb6c0000gp/T/ipykernel_36568/1086096361.py:71: SettingWithCopyWarning: \n",
      "A value is trying to be set on a copy of a slice from a DataFrame.\n",
      "Try using .loc[row_indexer,col_indexer] = value instead\n",
      "\n",
      "See the caveats in the documentation: https://pandas.pydata.org/pandas-docs/stable/user_guide/indexing.html#returning-a-view-versus-a-copy\n",
      "  batch.loc[:, 'predicted_value'] = preds\n"
     ]
    },
    {
     "name": "stdout",
     "output_type": "stream",
     "text": [
      "MAE: 0.2505133890166236\n",
      "MSE: 0.149600612624273\n",
      "RMSE: 0.38678238406663895\n",
      "R2: 0.8492515146435694\n",
      "MAPE: 1.6418774945114833\n"
     ]
    },
    {
     "name": "stderr",
     "output_type": "stream",
     "text": [
      "/var/folders/sb/50cj9frx6576wh5j6rbpnb6c0000gp/T/ipykernel_36568/1086096361.py:71: SettingWithCopyWarning: \n",
      "A value is trying to be set on a copy of a slice from a DataFrame.\n",
      "Try using .loc[row_indexer,col_indexer] = value instead\n",
      "\n",
      "See the caveats in the documentation: https://pandas.pydata.org/pandas-docs/stable/user_guide/indexing.html#returning-a-view-versus-a-copy\n",
      "  batch.loc[:, 'predicted_value'] = preds\n"
     ]
    },
    {
     "name": "stdout",
     "output_type": "stream",
     "text": [
      "MAE: 0.25037707037379936\n",
      "MSE: 0.1494343558966302\n",
      "RMSE: 0.38656740149245666\n",
      "R2: 0.8493664648024186\n",
      "MAPE: 1.6378380431448032\n"
     ]
    },
    {
     "name": "stderr",
     "output_type": "stream",
     "text": [
      "/var/folders/sb/50cj9frx6576wh5j6rbpnb6c0000gp/T/ipykernel_36568/1086096361.py:71: SettingWithCopyWarning: \n",
      "A value is trying to be set on a copy of a slice from a DataFrame.\n",
      "Try using .loc[row_indexer,col_indexer] = value instead\n",
      "\n",
      "See the caveats in the documentation: https://pandas.pydata.org/pandas-docs/stable/user_guide/indexing.html#returning-a-view-versus-a-copy\n",
      "  batch.loc[:, 'predicted_value'] = preds\n"
     ]
    },
    {
     "name": "stdout",
     "output_type": "stream",
     "text": [
      "MAE: 0.25034506107226717\n",
      "MSE: 0.14939316545559006\n",
      "RMSE: 0.38651412064191143\n",
      "R2: 0.849322723613087\n",
      "MAPE: 1.6348171545617427\n"
     ]
    },
    {
     "name": "stderr",
     "output_type": "stream",
     "text": [
      "/var/folders/sb/50cj9frx6576wh5j6rbpnb6c0000gp/T/ipykernel_36568/1086096361.py:71: SettingWithCopyWarning: \n",
      "A value is trying to be set on a copy of a slice from a DataFrame.\n",
      "Try using .loc[row_indexer,col_indexer] = value instead\n",
      "\n",
      "See the caveats in the documentation: https://pandas.pydata.org/pandas-docs/stable/user_guide/indexing.html#returning-a-view-versus-a-copy\n",
      "  batch.loc[:, 'predicted_value'] = preds\n"
     ]
    },
    {
     "name": "stdout",
     "output_type": "stream",
     "text": [
      "MAE: 0.25056586235877537\n",
      "MSE: 0.14952251350904186\n",
      "RMSE: 0.38668141086563995\n",
      "R2: 0.8492182845695171\n",
      "MAPE: 1.6331405493101878\n"
     ]
    },
    {
     "name": "stderr",
     "output_type": "stream",
     "text": [
      "/var/folders/sb/50cj9frx6576wh5j6rbpnb6c0000gp/T/ipykernel_36568/1086096361.py:71: SettingWithCopyWarning: \n",
      "A value is trying to be set on a copy of a slice from a DataFrame.\n",
      "Try using .loc[row_indexer,col_indexer] = value instead\n",
      "\n",
      "See the caveats in the documentation: https://pandas.pydata.org/pandas-docs/stable/user_guide/indexing.html#returning-a-view-versus-a-copy\n",
      "  batch.loc[:, 'predicted_value'] = preds\n"
     ]
    },
    {
     "name": "stdout",
     "output_type": "stream",
     "text": [
      "MAE: 0.2510621728962156\n",
      "MSE: 0.1501136167534884\n",
      "RMSE: 0.3874449854540492\n",
      "R2: 0.8485115348346398\n",
      "MAPE: 1.6316722457332498\n"
     ]
    },
    {
     "name": "stderr",
     "output_type": "stream",
     "text": [
      "/var/folders/sb/50cj9frx6576wh5j6rbpnb6c0000gp/T/ipykernel_36568/1086096361.py:71: SettingWithCopyWarning: \n",
      "A value is trying to be set on a copy of a slice from a DataFrame.\n",
      "Try using .loc[row_indexer,col_indexer] = value instead\n",
      "\n",
      "See the caveats in the documentation: https://pandas.pydata.org/pandas-docs/stable/user_guide/indexing.html#returning-a-view-versus-a-copy\n",
      "  batch.loc[:, 'predicted_value'] = preds\n"
     ]
    },
    {
     "name": "stdout",
     "output_type": "stream",
     "text": [
      "MAE: 0.25124965103055485\n",
      "MSE: 0.15056434691416665\n",
      "RMSE: 0.388026219364319\n",
      "R2: 0.8482004314893564\n",
      "MAPE: 1.6284468204866702\n"
     ]
    },
    {
     "name": "stderr",
     "output_type": "stream",
     "text": [
      "/var/folders/sb/50cj9frx6576wh5j6rbpnb6c0000gp/T/ipykernel_36568/1086096361.py:71: SettingWithCopyWarning: \n",
      "A value is trying to be set on a copy of a slice from a DataFrame.\n",
      "Try using .loc[row_indexer,col_indexer] = value instead\n",
      "\n",
      "See the caveats in the documentation: https://pandas.pydata.org/pandas-docs/stable/user_guide/indexing.html#returning-a-view-versus-a-copy\n",
      "  batch.loc[:, 'predicted_value'] = preds\n"
     ]
    },
    {
     "name": "stdout",
     "output_type": "stream",
     "text": [
      "MAE: 0.2511461818818635\n",
      "MSE: 0.15037214458184173\n",
      "RMSE: 0.38777847359264506\n",
      "R2: 0.8483642643620594\n",
      "MAPE: 1.625281334583646\n"
     ]
    },
    {
     "name": "stderr",
     "output_type": "stream",
     "text": [
      "/var/folders/sb/50cj9frx6576wh5j6rbpnb6c0000gp/T/ipykernel_36568/1086096361.py:71: SettingWithCopyWarning: \n",
      "A value is trying to be set on a copy of a slice from a DataFrame.\n",
      "Try using .loc[row_indexer,col_indexer] = value instead\n",
      "\n",
      "See the caveats in the documentation: https://pandas.pydata.org/pandas-docs/stable/user_guide/indexing.html#returning-a-view-versus-a-copy\n",
      "  batch.loc[:, 'predicted_value'] = preds\n"
     ]
    },
    {
     "name": "stdout",
     "output_type": "stream",
     "text": [
      "MAE: 0.25095266031204255\n",
      "MSE: 0.15009573593969955\n",
      "RMSE: 0.38742190947299243\n",
      "R2: 0.848741936966704\n",
      "MAPE: 1.621371084678313\n"
     ]
    },
    {
     "name": "stderr",
     "output_type": "stream",
     "text": [
      "/var/folders/sb/50cj9frx6576wh5j6rbpnb6c0000gp/T/ipykernel_36568/1086096361.py:71: SettingWithCopyWarning: \n",
      "A value is trying to be set on a copy of a slice from a DataFrame.\n",
      "Try using .loc[row_indexer,col_indexer] = value instead\n",
      "\n",
      "See the caveats in the documentation: https://pandas.pydata.org/pandas-docs/stable/user_guide/indexing.html#returning-a-view-versus-a-copy\n",
      "  batch.loc[:, 'predicted_value'] = preds\n"
     ]
    },
    {
     "name": "stdout",
     "output_type": "stream",
     "text": [
      "MAE: 0.25080393439125975\n",
      "MSE: 0.14983007749888097\n",
      "RMSE: 0.38707890345365115\n",
      "R2: 0.8490998551437658\n",
      "MAPE: 1.6209309084107872\n"
     ]
    },
    {
     "name": "stderr",
     "output_type": "stream",
     "text": [
      "/var/folders/sb/50cj9frx6576wh5j6rbpnb6c0000gp/T/ipykernel_36568/1086096361.py:71: SettingWithCopyWarning: \n",
      "A value is trying to be set on a copy of a slice from a DataFrame.\n",
      "Try using .loc[row_indexer,col_indexer] = value instead\n",
      "\n",
      "See the caveats in the documentation: https://pandas.pydata.org/pandas-docs/stable/user_guide/indexing.html#returning-a-view-versus-a-copy\n",
      "  batch.loc[:, 'predicted_value'] = preds\n"
     ]
    },
    {
     "name": "stdout",
     "output_type": "stream",
     "text": [
      "MAE: 0.2508106189444342\n",
      "MSE: 0.14976316805760023\n",
      "RMSE: 0.386992465117346\n",
      "R2: 0.8491833496075004\n",
      "MAPE: 1.6182515778907072\n"
     ]
    },
    {
     "name": "stderr",
     "output_type": "stream",
     "text": [
      "/var/folders/sb/50cj9frx6576wh5j6rbpnb6c0000gp/T/ipykernel_36568/1086096361.py:71: SettingWithCopyWarning: \n",
      "A value is trying to be set on a copy of a slice from a DataFrame.\n",
      "Try using .loc[row_indexer,col_indexer] = value instead\n",
      "\n",
      "See the caveats in the documentation: https://pandas.pydata.org/pandas-docs/stable/user_guide/indexing.html#returning-a-view-versus-a-copy\n",
      "  batch.loc[:, 'predicted_value'] = preds\n"
     ]
    },
    {
     "name": "stdout",
     "output_type": "stream",
     "text": [
      "MAE: 0.2507565478266925\n",
      "MSE: 0.14957190797705355\n",
      "RMSE: 0.3867452753131621\n",
      "R2: 0.8493783353259104\n",
      "MAPE: 1.6250874147971424\n"
     ]
    },
    {
     "name": "stderr",
     "output_type": "stream",
     "text": [
      "/var/folders/sb/50cj9frx6576wh5j6rbpnb6c0000gp/T/ipykernel_36568/1086096361.py:71: SettingWithCopyWarning: \n",
      "A value is trying to be set on a copy of a slice from a DataFrame.\n",
      "Try using .loc[row_indexer,col_indexer] = value instead\n",
      "\n",
      "See the caveats in the documentation: https://pandas.pydata.org/pandas-docs/stable/user_guide/indexing.html#returning-a-view-versus-a-copy\n",
      "  batch.loc[:, 'predicted_value'] = preds\n"
     ]
    },
    {
     "name": "stdout",
     "output_type": "stream",
     "text": [
      "MAE: 0.2505338168086534\n",
      "MSE: 0.14927675134290516\n",
      "RMSE: 0.38636349639025835\n",
      "R2: 0.8498353049249632\n",
      "MAPE: 1.6255871552762358\n"
     ]
    },
    {
     "name": "stderr",
     "output_type": "stream",
     "text": [
      "/var/folders/sb/50cj9frx6576wh5j6rbpnb6c0000gp/T/ipykernel_36568/1086096361.py:71: SettingWithCopyWarning: \n",
      "A value is trying to be set on a copy of a slice from a DataFrame.\n",
      "Try using .loc[row_indexer,col_indexer] = value instead\n",
      "\n",
      "See the caveats in the documentation: https://pandas.pydata.org/pandas-docs/stable/user_guide/indexing.html#returning-a-view-versus-a-copy\n",
      "  batch.loc[:, 'predicted_value'] = preds\n"
     ]
    },
    {
     "name": "stdout",
     "output_type": "stream",
     "text": [
      "MAE: 0.25037558421195233\n",
      "MSE: 0.1490036147432907\n",
      "RMSE: 0.38600986353108996\n",
      "R2: 0.8501751964698956\n",
      "MAPE: 1.6236972040761077\n"
     ]
    },
    {
     "name": "stderr",
     "output_type": "stream",
     "text": [
      "/var/folders/sb/50cj9frx6576wh5j6rbpnb6c0000gp/T/ipykernel_36568/1086096361.py:71: SettingWithCopyWarning: \n",
      "A value is trying to be set on a copy of a slice from a DataFrame.\n",
      "Try using .loc[row_indexer,col_indexer] = value instead\n",
      "\n",
      "See the caveats in the documentation: https://pandas.pydata.org/pandas-docs/stable/user_guide/indexing.html#returning-a-view-versus-a-copy\n",
      "  batch.loc[:, 'predicted_value'] = preds\n"
     ]
    },
    {
     "name": "stdout",
     "output_type": "stream",
     "text": [
      "MAE: 0.2502059416409805\n",
      "MSE: 0.1487277043786969\n",
      "RMSE: 0.38565231022087354\n",
      "R2: 0.850568540756118\n",
      "MAPE: 1.6360125004442811\n"
     ]
    },
    {
     "name": "stderr",
     "output_type": "stream",
     "text": [
      "/var/folders/sb/50cj9frx6576wh5j6rbpnb6c0000gp/T/ipykernel_36568/1086096361.py:71: SettingWithCopyWarning: \n",
      "A value is trying to be set on a copy of a slice from a DataFrame.\n",
      "Try using .loc[row_indexer,col_indexer] = value instead\n",
      "\n",
      "See the caveats in the documentation: https://pandas.pydata.org/pandas-docs/stable/user_guide/indexing.html#returning-a-view-versus-a-copy\n",
      "  batch.loc[:, 'predicted_value'] = preds\n"
     ]
    },
    {
     "name": "stdout",
     "output_type": "stream",
     "text": [
      "MAE: 0.25010783625519595\n",
      "MSE: 0.14848273852785576\n",
      "RMSE: 0.3853345799793418\n",
      "R2: 0.8508088159404181\n",
      "MAPE: 1.6336457492114345\n"
     ]
    },
    {
     "name": "stderr",
     "output_type": "stream",
     "text": [
      "/var/folders/sb/50cj9frx6576wh5j6rbpnb6c0000gp/T/ipykernel_36568/1086096361.py:71: SettingWithCopyWarning: \n",
      "A value is trying to be set on a copy of a slice from a DataFrame.\n",
      "Try using .loc[row_indexer,col_indexer] = value instead\n",
      "\n",
      "See the caveats in the documentation: https://pandas.pydata.org/pandas-docs/stable/user_guide/indexing.html#returning-a-view-versus-a-copy\n",
      "  batch.loc[:, 'predicted_value'] = preds\n"
     ]
    },
    {
     "name": "stdout",
     "output_type": "stream",
     "text": [
      "MAE: 0.2500839074671121\n",
      "MSE: 0.14830082229069425\n",
      "RMSE: 0.38509845791783465\n",
      "R2: 0.8510224280295531\n",
      "MAPE: 1.6304358571287028\n"
     ]
    },
    {
     "name": "stderr",
     "output_type": "stream",
     "text": [
      "/var/folders/sb/50cj9frx6576wh5j6rbpnb6c0000gp/T/ipykernel_36568/1086096361.py:71: SettingWithCopyWarning: \n",
      "A value is trying to be set on a copy of a slice from a DataFrame.\n",
      "Try using .loc[row_indexer,col_indexer] = value instead\n",
      "\n",
      "See the caveats in the documentation: https://pandas.pydata.org/pandas-docs/stable/user_guide/indexing.html#returning-a-view-versus-a-copy\n",
      "  batch.loc[:, 'predicted_value'] = preds\n"
     ]
    },
    {
     "name": "stdout",
     "output_type": "stream",
     "text": [
      "MAE: 0.2500204410427555\n",
      "MSE: 0.14818114117042577\n",
      "RMSE: 0.3849430362669596\n",
      "R2: 0.851224364777281\n",
      "MAPE: 1.6325030965758185\n",
      "Experimenting with num_nearest_neighbors=400 and distance_metric=euclidean\n",
      "int64\n"
     ]
    },
    {
     "name": "stderr",
     "output_type": "stream",
     "text": [
      "/var/folders/sb/50cj9frx6576wh5j6rbpnb6c0000gp/T/ipykernel_36568/1086096361.py:71: SettingWithCopyWarning: \n",
      "A value is trying to be set on a copy of a slice from a DataFrame.\n",
      "Try using .loc[row_indexer,col_indexer] = value instead\n",
      "\n",
      "See the caveats in the documentation: https://pandas.pydata.org/pandas-docs/stable/user_guide/indexing.html#returning-a-view-versus-a-copy\n",
      "  batch.loc[:, 'predicted_value'] = preds\n"
     ]
    },
    {
     "name": "stdout",
     "output_type": "stream",
     "text": [
      "MAE: 0.2510707167462855\n",
      "MSE: 0.1501867762318675\n",
      "RMSE: 0.3875393866845891\n",
      "R2: 0.8493113522898942\n",
      "MAPE: 1.6311733444717604\n"
     ]
    },
    {
     "name": "stderr",
     "output_type": "stream",
     "text": [
      "/var/folders/sb/50cj9frx6576wh5j6rbpnb6c0000gp/T/ipykernel_36568/1086096361.py:71: SettingWithCopyWarning: \n",
      "A value is trying to be set on a copy of a slice from a DataFrame.\n",
      "Try using .loc[row_indexer,col_indexer] = value instead\n",
      "\n",
      "See the caveats in the documentation: https://pandas.pydata.org/pandas-docs/stable/user_guide/indexing.html#returning-a-view-versus-a-copy\n",
      "  batch.loc[:, 'predicted_value'] = preds\n"
     ]
    },
    {
     "name": "stdout",
     "output_type": "stream",
     "text": [
      "MAE: 0.25058150027638426\n",
      "MSE: 0.14978340361988934\n",
      "RMSE: 0.38701860888061873\n",
      "R2: 0.8494802893600859\n",
      "MAPE: 1.62683601391802\n"
     ]
    },
    {
     "name": "stderr",
     "output_type": "stream",
     "text": [
      "/var/folders/sb/50cj9frx6576wh5j6rbpnb6c0000gp/T/ipykernel_36568/1086096361.py:71: SettingWithCopyWarning: \n",
      "A value is trying to be set on a copy of a slice from a DataFrame.\n",
      "Try using .loc[row_indexer,col_indexer] = value instead\n",
      "\n",
      "See the caveats in the documentation: https://pandas.pydata.org/pandas-docs/stable/user_guide/indexing.html#returning-a-view-versus-a-copy\n",
      "  batch.loc[:, 'predicted_value'] = preds\n"
     ]
    },
    {
     "name": "stdout",
     "output_type": "stream",
     "text": [
      "MAE: 0.25037885700206686\n",
      "MSE: 0.14950510620294255\n",
      "RMSE: 0.38665890162123845\n",
      "R2: 0.8495573445520845\n",
      "MAPE: 1.625247008915264\n"
     ]
    },
    {
     "name": "stderr",
     "output_type": "stream",
     "text": [
      "/var/folders/sb/50cj9frx6576wh5j6rbpnb6c0000gp/T/ipykernel_36568/1086096361.py:71: SettingWithCopyWarning: \n",
      "A value is trying to be set on a copy of a slice from a DataFrame.\n",
      "Try using .loc[row_indexer,col_indexer] = value instead\n",
      "\n",
      "See the caveats in the documentation: https://pandas.pydata.org/pandas-docs/stable/user_guide/indexing.html#returning-a-view-versus-a-copy\n",
      "  batch.loc[:, 'predicted_value'] = preds\n"
     ]
    },
    {
     "name": "stdout",
     "output_type": "stream",
     "text": [
      "MAE: 0.25025942775704635\n",
      "MSE: 0.14925028424391087\n",
      "RMSE: 0.38632924331962093\n",
      "R2: 0.8496018076704442\n",
      "MAPE: 1.6219643271643358\n"
     ]
    },
    {
     "name": "stderr",
     "output_type": "stream",
     "text": [
      "/var/folders/sb/50cj9frx6576wh5j6rbpnb6c0000gp/T/ipykernel_36568/1086096361.py:71: SettingWithCopyWarning: \n",
      "A value is trying to be set on a copy of a slice from a DataFrame.\n",
      "Try using .loc[row_indexer,col_indexer] = value instead\n",
      "\n",
      "See the caveats in the documentation: https://pandas.pydata.org/pandas-docs/stable/user_guide/indexing.html#returning-a-view-versus-a-copy\n",
      "  batch.loc[:, 'predicted_value'] = preds\n"
     ]
    },
    {
     "name": "stdout",
     "output_type": "stream",
     "text": [
      "MAE: 0.24999740529009576\n",
      "MSE: 0.14892762614419505\n",
      "RMSE: 0.3859114226661282\n",
      "R2: 0.849815547364566\n",
      "MAPE: 1.6186552849606692\n"
     ]
    },
    {
     "name": "stderr",
     "output_type": "stream",
     "text": [
      "/var/folders/sb/50cj9frx6576wh5j6rbpnb6c0000gp/T/ipykernel_36568/1086096361.py:71: SettingWithCopyWarning: \n",
      "A value is trying to be set on a copy of a slice from a DataFrame.\n",
      "Try using .loc[row_indexer,col_indexer] = value instead\n",
      "\n",
      "See the caveats in the documentation: https://pandas.pydata.org/pandas-docs/stable/user_guide/indexing.html#returning-a-view-versus-a-copy\n",
      "  batch.loc[:, 'predicted_value'] = preds\n"
     ]
    },
    {
     "name": "stdout",
     "output_type": "stream",
     "text": [
      "MAE: 0.2501245899074587\n",
      "MSE: 0.14909820140358826\n",
      "RMSE: 0.3861323625437115\n",
      "R2: 0.8497587379356654\n",
      "MAPE: 1.6153679541182027\n"
     ]
    },
    {
     "name": "stderr",
     "output_type": "stream",
     "text": [
      "/var/folders/sb/50cj9frx6576wh5j6rbpnb6c0000gp/T/ipykernel_36568/1086096361.py:71: SettingWithCopyWarning: \n",
      "A value is trying to be set on a copy of a slice from a DataFrame.\n",
      "Try using .loc[row_indexer,col_indexer] = value instead\n",
      "\n",
      "See the caveats in the documentation: https://pandas.pydata.org/pandas-docs/stable/user_guide/indexing.html#returning-a-view-versus-a-copy\n",
      "  batch.loc[:, 'predicted_value'] = preds\n"
     ]
    },
    {
     "name": "stdout",
     "output_type": "stream",
     "text": [
      "MAE: 0.25069760599348795\n",
      "MSE: 0.15043860871361814\n",
      "RMSE: 0.3878641627085675\n",
      "R2: 0.8484811576833243\n",
      "MAPE: 1.6140610219328555\n"
     ]
    },
    {
     "name": "stderr",
     "output_type": "stream",
     "text": [
      "/var/folders/sb/50cj9frx6576wh5j6rbpnb6c0000gp/T/ipykernel_36568/1086096361.py:71: SettingWithCopyWarning: \n",
      "A value is trying to be set on a copy of a slice from a DataFrame.\n",
      "Try using .loc[row_indexer,col_indexer] = value instead\n",
      "\n",
      "See the caveats in the documentation: https://pandas.pydata.org/pandas-docs/stable/user_guide/indexing.html#returning-a-view-versus-a-copy\n",
      "  batch.loc[:, 'predicted_value'] = preds\n"
     ]
    },
    {
     "name": "stdout",
     "output_type": "stream",
     "text": [
      "MAE: 0.2505909075788023\n",
      "MSE: 0.15021568193811013\n",
      "RMSE: 0.3875766787851278\n",
      "R2: 0.8487639658018125\n",
      "MAPE: 1.6106359032123347\n"
     ]
    },
    {
     "name": "stderr",
     "output_type": "stream",
     "text": [
      "/var/folders/sb/50cj9frx6576wh5j6rbpnb6c0000gp/T/ipykernel_36568/1086096361.py:71: SettingWithCopyWarning: \n",
      "A value is trying to be set on a copy of a slice from a DataFrame.\n",
      "Try using .loc[row_indexer,col_indexer] = value instead\n",
      "\n",
      "See the caveats in the documentation: https://pandas.pydata.org/pandas-docs/stable/user_guide/indexing.html#returning-a-view-versus-a-copy\n",
      "  batch.loc[:, 'predicted_value'] = preds\n"
     ]
    },
    {
     "name": "stdout",
     "output_type": "stream",
     "text": [
      "MAE: 0.2505761693118421\n",
      "MSE: 0.15008743171553232\n",
      "RMSE: 0.3874111920370039\n",
      "R2: 0.8489258035778002\n",
      "MAPE: 1.6077953707378059\n"
     ]
    },
    {
     "name": "stderr",
     "output_type": "stream",
     "text": [
      "/var/folders/sb/50cj9frx6576wh5j6rbpnb6c0000gp/T/ipykernel_36568/1086096361.py:71: SettingWithCopyWarning: \n",
      "A value is trying to be set on a copy of a slice from a DataFrame.\n",
      "Try using .loc[row_indexer,col_indexer] = value instead\n",
      "\n",
      "See the caveats in the documentation: https://pandas.pydata.org/pandas-docs/stable/user_guide/indexing.html#returning-a-view-versus-a-copy\n",
      "  batch.loc[:, 'predicted_value'] = preds\n"
     ]
    },
    {
     "name": "stdout",
     "output_type": "stream",
     "text": [
      "MAE: 0.2508829706908676\n",
      "MSE: 0.1501769306627294\n",
      "RMSE: 0.3875266838073598\n",
      "R2: 0.8487127295810943\n",
      "MAPE: 1.6059496401029978\n"
     ]
    },
    {
     "name": "stderr",
     "output_type": "stream",
     "text": [
      "/var/folders/sb/50cj9frx6576wh5j6rbpnb6c0000gp/T/ipykernel_36568/1086096361.py:71: SettingWithCopyWarning: \n",
      "A value is trying to be set on a copy of a slice from a DataFrame.\n",
      "Try using .loc[row_indexer,col_indexer] = value instead\n",
      "\n",
      "See the caveats in the documentation: https://pandas.pydata.org/pandas-docs/stable/user_guide/indexing.html#returning-a-view-versus-a-copy\n",
      "  batch.loc[:, 'predicted_value'] = preds\n"
     ]
    },
    {
     "name": "stdout",
     "output_type": "stream",
     "text": [
      "MAE: 0.25072138914265946\n",
      "MSE: 0.1499210884130077\n",
      "RMSE: 0.3871964467980145\n",
      "R2: 0.8490338130710184\n",
      "MAPE: 1.6044781673309825\n"
     ]
    },
    {
     "name": "stderr",
     "output_type": "stream",
     "text": [
      "/var/folders/sb/50cj9frx6576wh5j6rbpnb6c0000gp/T/ipykernel_36568/1086096361.py:71: SettingWithCopyWarning: \n",
      "A value is trying to be set on a copy of a slice from a DataFrame.\n",
      "Try using .loc[row_indexer,col_indexer] = value instead\n",
      "\n",
      "See the caveats in the documentation: https://pandas.pydata.org/pandas-docs/stable/user_guide/indexing.html#returning-a-view-versus-a-copy\n",
      "  batch.loc[:, 'predicted_value'] = preds\n"
     ]
    },
    {
     "name": "stdout",
     "output_type": "stream",
     "text": [
      "MAE: 0.2506345035279441\n",
      "MSE: 0.14972073687727933\n",
      "RMSE: 0.3869376395199611\n",
      "R2: 0.849308288834133\n",
      "MAPE: 1.6064062629406353\n"
     ]
    },
    {
     "name": "stderr",
     "output_type": "stream",
     "text": [
      "/var/folders/sb/50cj9frx6576wh5j6rbpnb6c0000gp/T/ipykernel_36568/1086096361.py:71: SettingWithCopyWarning: \n",
      "A value is trying to be set on a copy of a slice from a DataFrame.\n",
      "Try using .loc[row_indexer,col_indexer] = value instead\n",
      "\n",
      "See the caveats in the documentation: https://pandas.pydata.org/pandas-docs/stable/user_guide/indexing.html#returning-a-view-versus-a-copy\n",
      "  batch.loc[:, 'predicted_value'] = preds\n"
     ]
    },
    {
     "name": "stdout",
     "output_type": "stream",
     "text": [
      "MAE: 0.25048344911244075\n",
      "MSE: 0.149490027043368\n",
      "RMSE: 0.38663940182470796\n",
      "R2: 0.8495853578640978\n",
      "MAPE: 1.6065327938787486\n"
     ]
    },
    {
     "name": "stderr",
     "output_type": "stream",
     "text": [
      "/var/folders/sb/50cj9frx6576wh5j6rbpnb6c0000gp/T/ipykernel_36568/1086096361.py:71: SettingWithCopyWarning: \n",
      "A value is trying to be set on a copy of a slice from a DataFrame.\n",
      "Try using .loc[row_indexer,col_indexer] = value instead\n",
      "\n",
      "See the caveats in the documentation: https://pandas.pydata.org/pandas-docs/stable/user_guide/indexing.html#returning-a-view-versus-a-copy\n",
      "  batch.loc[:, 'predicted_value'] = preds\n"
     ]
    },
    {
     "name": "stdout",
     "output_type": "stream",
     "text": [
      "MAE: 0.25036540910248584\n",
      "MSE: 0.1492495736747185\n",
      "RMSE: 0.38632832367653097\n",
      "R2: 0.8498746075865034\n",
      "MAPE: 1.604662034765331\n"
     ]
    },
    {
     "name": "stderr",
     "output_type": "stream",
     "text": [
      "/var/folders/sb/50cj9frx6576wh5j6rbpnb6c0000gp/T/ipykernel_36568/1086096361.py:71: SettingWithCopyWarning: \n",
      "A value is trying to be set on a copy of a slice from a DataFrame.\n",
      "Try using .loc[row_indexer,col_indexer] = value instead\n",
      "\n",
      "See the caveats in the documentation: https://pandas.pydata.org/pandas-docs/stable/user_guide/indexing.html#returning-a-view-versus-a-copy\n",
      "  batch.loc[:, 'predicted_value'] = preds\n"
     ]
    },
    {
     "name": "stdout",
     "output_type": "stream",
     "text": [
      "MAE: 0.25037374203849605\n",
      "MSE: 0.14909197419035186\n",
      "RMSE: 0.3861242988861901\n",
      "R2: 0.8500278894969697\n",
      "MAPE: 1.6022156300525157\n"
     ]
    },
    {
     "name": "stderr",
     "output_type": "stream",
     "text": [
      "/var/folders/sb/50cj9frx6576wh5j6rbpnb6c0000gp/T/ipykernel_36568/1086096361.py:71: SettingWithCopyWarning: \n",
      "A value is trying to be set on a copy of a slice from a DataFrame.\n",
      "Try using .loc[row_indexer,col_indexer] = value instead\n",
      "\n",
      "See the caveats in the documentation: https://pandas.pydata.org/pandas-docs/stable/user_guide/indexing.html#returning-a-view-versus-a-copy\n",
      "  batch.loc[:, 'predicted_value'] = preds\n"
     ]
    },
    {
     "name": "stdout",
     "output_type": "stream",
     "text": [
      "MAE: 0.2503008555588635\n",
      "MSE: 0.14890215476926402\n",
      "RMSE: 0.38587841967291203\n",
      "R2: 0.8503406135017116\n",
      "MAPE: 1.6244054312470515\n"
     ]
    },
    {
     "name": "stderr",
     "output_type": "stream",
     "text": [
      "/var/folders/sb/50cj9frx6576wh5j6rbpnb6c0000gp/T/ipykernel_36568/1086096361.py:71: SettingWithCopyWarning: \n",
      "A value is trying to be set on a copy of a slice from a DataFrame.\n",
      "Try using .loc[row_indexer,col_indexer] = value instead\n",
      "\n",
      "See the caveats in the documentation: https://pandas.pydata.org/pandas-docs/stable/user_guide/indexing.html#returning-a-view-versus-a-copy\n",
      "  batch.loc[:, 'predicted_value'] = preds\n"
     ]
    },
    {
     "name": "stdout",
     "output_type": "stream",
     "text": [
      "MAE: 0.25012785897090495\n",
      "MSE: 0.1486454791166515\n",
      "RMSE: 0.38554569005067546\n",
      "R2: 0.8506056646734425\n",
      "MAPE: 1.6231121298131455\n"
     ]
    },
    {
     "name": "stderr",
     "output_type": "stream",
     "text": [
      "/var/folders/sb/50cj9frx6576wh5j6rbpnb6c0000gp/T/ipykernel_36568/1086096361.py:71: SettingWithCopyWarning: \n",
      "A value is trying to be set on a copy of a slice from a DataFrame.\n",
      "Try using .loc[row_indexer,col_indexer] = value instead\n",
      "\n",
      "See the caveats in the documentation: https://pandas.pydata.org/pandas-docs/stable/user_guide/indexing.html#returning-a-view-versus-a-copy\n",
      "  batch.loc[:, 'predicted_value'] = preds\n"
     ]
    },
    {
     "name": "stdout",
     "output_type": "stream",
     "text": [
      "MAE: 0.2501035693961658\n",
      "MSE: 0.14847871664836418\n",
      "RMSE: 0.3853293612591236\n",
      "R2: 0.8507513671918719\n",
      "MAPE: 1.6200654757413673\n"
     ]
    },
    {
     "name": "stderr",
     "output_type": "stream",
     "text": [
      "/var/folders/sb/50cj9frx6576wh5j6rbpnb6c0000gp/T/ipykernel_36568/1086096361.py:71: SettingWithCopyWarning: \n",
      "A value is trying to be set on a copy of a slice from a DataFrame.\n",
      "Try using .loc[row_indexer,col_indexer] = value instead\n",
      "\n",
      "See the caveats in the documentation: https://pandas.pydata.org/pandas-docs/stable/user_guide/indexing.html#returning-a-view-versus-a-copy\n",
      "  batch.loc[:, 'predicted_value'] = preds\n"
     ]
    },
    {
     "name": "stdout",
     "output_type": "stream",
     "text": [
      "MAE: 0.2502054788144499\n",
      "MSE: 0.14846582193603897\n",
      "RMSE: 0.38531262883019934\n",
      "R2: 0.8508340813123071\n",
      "MAPE: 1.6207271468557396\n"
     ]
    },
    {
     "name": "stderr",
     "output_type": "stream",
     "text": [
      "/var/folders/sb/50cj9frx6576wh5j6rbpnb6c0000gp/T/ipykernel_36568/1086096361.py:71: SettingWithCopyWarning: \n",
      "A value is trying to be set on a copy of a slice from a DataFrame.\n",
      "Try using .loc[row_indexer,col_indexer] = value instead\n",
      "\n",
      "See the caveats in the documentation: https://pandas.pydata.org/pandas-docs/stable/user_guide/indexing.html#returning-a-view-versus-a-copy\n",
      "  batch.loc[:, 'predicted_value'] = preds\n"
     ]
    },
    {
     "name": "stdout",
     "output_type": "stream",
     "text": [
      "MAE: 0.250112110125536\n",
      "MSE: 0.14833009476470868\n",
      "RMSE: 0.38513646252297207\n",
      "R2: 0.8510711425918416\n",
      "MAPE: 1.622978058561489\n",
      "Experimenting with num_nearest_neighbors=400 and distance_metric=chebyshev\n",
      "int64\n"
     ]
    },
    {
     "name": "stderr",
     "output_type": "stream",
     "text": [
      "/var/folders/sb/50cj9frx6576wh5j6rbpnb6c0000gp/T/ipykernel_36568/1086096361.py:71: SettingWithCopyWarning: \n",
      "A value is trying to be set on a copy of a slice from a DataFrame.\n",
      "Try using .loc[row_indexer,col_indexer] = value instead\n",
      "\n",
      "See the caveats in the documentation: https://pandas.pydata.org/pandas-docs/stable/user_guide/indexing.html#returning-a-view-versus-a-copy\n",
      "  batch.loc[:, 'predicted_value'] = preds\n"
     ]
    },
    {
     "name": "stdout",
     "output_type": "stream",
     "text": [
      "MAE: 0.25304065139221255\n",
      "MSE: 0.15518247291175588\n",
      "RMSE: 0.39393206636646866\n",
      "R2: 0.8442705908683249\n",
      "MAPE: 1.6217000912110702\n"
     ]
    },
    {
     "name": "stderr",
     "output_type": "stream",
     "text": [
      "/var/folders/sb/50cj9frx6576wh5j6rbpnb6c0000gp/T/ipykernel_36568/1086096361.py:71: SettingWithCopyWarning: \n",
      "A value is trying to be set on a copy of a slice from a DataFrame.\n",
      "Try using .loc[row_indexer,col_indexer] = value instead\n",
      "\n",
      "See the caveats in the documentation: https://pandas.pydata.org/pandas-docs/stable/user_guide/indexing.html#returning-a-view-versus-a-copy\n",
      "  batch.loc[:, 'predicted_value'] = preds\n"
     ]
    },
    {
     "name": "stdout",
     "output_type": "stream",
     "text": [
      "MAE: 0.25337083271037386\n",
      "MSE: 0.15578064537677536\n",
      "RMSE: 0.3946905691510444\n",
      "R2: 0.8437355962868075\n",
      "MAPE: 1.6185417150248096\n"
     ]
    },
    {
     "name": "stderr",
     "output_type": "stream",
     "text": [
      "/var/folders/sb/50cj9frx6576wh5j6rbpnb6c0000gp/T/ipykernel_36568/1086096361.py:71: SettingWithCopyWarning: \n",
      "A value is trying to be set on a copy of a slice from a DataFrame.\n",
      "Try using .loc[row_indexer,col_indexer] = value instead\n",
      "\n",
      "See the caveats in the documentation: https://pandas.pydata.org/pandas-docs/stable/user_guide/indexing.html#returning-a-view-versus-a-copy\n",
      "  batch.loc[:, 'predicted_value'] = preds\n"
     ]
    },
    {
     "name": "stdout",
     "output_type": "stream",
     "text": [
      "MAE: 0.2530727520596793\n",
      "MSE: 0.1554558505100871\n",
      "RMSE: 0.3942788993974787\n",
      "R2: 0.8437925562079602\n",
      "MAPE: 1.6156142131199938\n"
     ]
    },
    {
     "name": "stderr",
     "output_type": "stream",
     "text": [
      "/var/folders/sb/50cj9frx6576wh5j6rbpnb6c0000gp/T/ipykernel_36568/1086096361.py:71: SettingWithCopyWarning: \n",
      "A value is trying to be set on a copy of a slice from a DataFrame.\n",
      "Try using .loc[row_indexer,col_indexer] = value instead\n",
      "\n",
      "See the caveats in the documentation: https://pandas.pydata.org/pandas-docs/stable/user_guide/indexing.html#returning-a-view-versus-a-copy\n",
      "  batch.loc[:, 'predicted_value'] = preds\n"
     ]
    },
    {
     "name": "stdout",
     "output_type": "stream",
     "text": [
      "MAE: 0.25279704530394115\n",
      "MSE: 0.1551467534429066\n",
      "RMSE: 0.3938867266650485\n",
      "R2: 0.8438625736164602\n",
      "MAPE: 1.612926865627427\n"
     ]
    },
    {
     "name": "stderr",
     "output_type": "stream",
     "text": [
      "/var/folders/sb/50cj9frx6576wh5j6rbpnb6c0000gp/T/ipykernel_36568/1086096361.py:71: SettingWithCopyWarning: \n",
      "A value is trying to be set on a copy of a slice from a DataFrame.\n",
      "Try using .loc[row_indexer,col_indexer] = value instead\n",
      "\n",
      "See the caveats in the documentation: https://pandas.pydata.org/pandas-docs/stable/user_guide/indexing.html#returning-a-view-versus-a-copy\n",
      "  batch.loc[:, 'predicted_value'] = preds\n"
     ]
    },
    {
     "name": "stdout",
     "output_type": "stream",
     "text": [
      "MAE: 0.2526675779014291\n",
      "MSE: 0.15494685645634704\n",
      "RMSE: 0.3936328955465321\n",
      "R2: 0.8438266818060252\n",
      "MAPE: 1.6109249666996026\n"
     ]
    },
    {
     "name": "stderr",
     "output_type": "stream",
     "text": [
      "/var/folders/sb/50cj9frx6576wh5j6rbpnb6c0000gp/T/ipykernel_36568/1086096361.py:71: SettingWithCopyWarning: \n",
      "A value is trying to be set on a copy of a slice from a DataFrame.\n",
      "Try using .loc[row_indexer,col_indexer] = value instead\n",
      "\n",
      "See the caveats in the documentation: https://pandas.pydata.org/pandas-docs/stable/user_guide/indexing.html#returning-a-view-versus-a-copy\n",
      "  batch.loc[:, 'predicted_value'] = preds\n"
     ]
    },
    {
     "name": "stdout",
     "output_type": "stream",
     "text": [
      "MAE: 0.2524165555663003\n",
      "MSE: 0.15463880411323755\n",
      "RMSE: 0.3932414069159523\n",
      "R2: 0.8438876299795175\n",
      "MAPE: 1.6081836626239594\n"
     ]
    },
    {
     "name": "stderr",
     "output_type": "stream",
     "text": [
      "/var/folders/sb/50cj9frx6576wh5j6rbpnb6c0000gp/T/ipykernel_36568/1086096361.py:71: SettingWithCopyWarning: \n",
      "A value is trying to be set on a copy of a slice from a DataFrame.\n",
      "Try using .loc[row_indexer,col_indexer] = value instead\n",
      "\n",
      "See the caveats in the documentation: https://pandas.pydata.org/pandas-docs/stable/user_guide/indexing.html#returning-a-view-versus-a-copy\n",
      "  batch.loc[:, 'predicted_value'] = preds\n"
     ]
    },
    {
     "name": "stdout",
     "output_type": "stream",
     "text": [
      "MAE: 0.2524835260835663\n",
      "MSE: 0.1547167153402665\n",
      "RMSE: 0.39334045728893247\n",
      "R2: 0.8437875593530978\n",
      "MAPE: 1.6116691892608601\n"
     ]
    },
    {
     "name": "stderr",
     "output_type": "stream",
     "text": [
      "/var/folders/sb/50cj9frx6576wh5j6rbpnb6c0000gp/T/ipykernel_36568/1086096361.py:71: SettingWithCopyWarning: \n",
      "A value is trying to be set on a copy of a slice from a DataFrame.\n",
      "Try using .loc[row_indexer,col_indexer] = value instead\n",
      "\n",
      "See the caveats in the documentation: https://pandas.pydata.org/pandas-docs/stable/user_guide/indexing.html#returning-a-view-versus-a-copy\n",
      "  batch.loc[:, 'predicted_value'] = preds\n"
     ]
    },
    {
     "name": "stdout",
     "output_type": "stream",
     "text": [
      "MAE: 0.25288128993796544\n",
      "MSE: 0.15548363042121358\n",
      "RMSE: 0.39431412658084364\n",
      "R2: 0.843105667467234\n",
      "MAPE: 1.6108093604685434\n"
     ]
    },
    {
     "name": "stderr",
     "output_type": "stream",
     "text": [
      "/var/folders/sb/50cj9frx6576wh5j6rbpnb6c0000gp/T/ipykernel_36568/1086096361.py:71: SettingWithCopyWarning: \n",
      "A value is trying to be set on a copy of a slice from a DataFrame.\n",
      "Try using .loc[row_indexer,col_indexer] = value instead\n",
      "\n",
      "See the caveats in the documentation: https://pandas.pydata.org/pandas-docs/stable/user_guide/indexing.html#returning-a-view-versus-a-copy\n",
      "  batch.loc[:, 'predicted_value'] = preds\n"
     ]
    },
    {
     "name": "stdout",
     "output_type": "stream",
     "text": [
      "MAE: 0.2529248929319516\n",
      "MSE: 0.15554852850815037\n",
      "RMSE: 0.3943964103641796\n",
      "R2: 0.8430938131817622\n",
      "MAPE: 1.6081434044711258\n"
     ]
    },
    {
     "name": "stderr",
     "output_type": "stream",
     "text": [
      "/var/folders/sb/50cj9frx6576wh5j6rbpnb6c0000gp/T/ipykernel_36568/1086096361.py:71: SettingWithCopyWarning: \n",
      "A value is trying to be set on a copy of a slice from a DataFrame.\n",
      "Try using .loc[row_indexer,col_indexer] = value instead\n",
      "\n",
      "See the caveats in the documentation: https://pandas.pydata.org/pandas-docs/stable/user_guide/indexing.html#returning-a-view-versus-a-copy\n",
      "  batch.loc[:, 'predicted_value'] = preds\n"
     ]
    },
    {
     "name": "stdout",
     "output_type": "stream",
     "text": [
      "MAE: 0.25289050975435945\n",
      "MSE: 0.1554228596770257\n",
      "RMSE: 0.3942370602531245\n",
      "R2: 0.843100757405328\n",
      "MAPE: 1.6054084530259891\n"
     ]
    },
    {
     "name": "stderr",
     "output_type": "stream",
     "text": [
      "/var/folders/sb/50cj9frx6576wh5j6rbpnb6c0000gp/T/ipykernel_36568/1086096361.py:71: SettingWithCopyWarning: \n",
      "A value is trying to be set on a copy of a slice from a DataFrame.\n",
      "Try using .loc[row_indexer,col_indexer] = value instead\n",
      "\n",
      "See the caveats in the documentation: https://pandas.pydata.org/pandas-docs/stable/user_guide/indexing.html#returning-a-view-versus-a-copy\n",
      "  batch.loc[:, 'predicted_value'] = preds\n"
     ]
    },
    {
     "name": "stdout",
     "output_type": "stream",
     "text": [
      "MAE: 0.2527341508191505\n",
      "MSE: 0.15516954216910364\n",
      "RMSE: 0.3939156536228329\n",
      "R2: 0.8434314619706376\n",
      "MAPE: 1.602023470650303\n"
     ]
    },
    {
     "name": "stderr",
     "output_type": "stream",
     "text": [
      "/var/folders/sb/50cj9frx6576wh5j6rbpnb6c0000gp/T/ipykernel_36568/1086096361.py:71: SettingWithCopyWarning: \n",
      "A value is trying to be set on a copy of a slice from a DataFrame.\n",
      "Try using .loc[row_indexer,col_indexer] = value instead\n",
      "\n",
      "See the caveats in the documentation: https://pandas.pydata.org/pandas-docs/stable/user_guide/indexing.html#returning-a-view-versus-a-copy\n",
      "  batch.loc[:, 'predicted_value'] = preds\n"
     ]
    },
    {
     "name": "stdout",
     "output_type": "stream",
     "text": [
      "MAE: 0.25261950440405234\n",
      "MSE: 0.15493445465414338\n",
      "RMSE: 0.39361714222597494\n",
      "R2: 0.8437496254990761\n",
      "MAPE: 1.624788589332412\n"
     ]
    },
    {
     "name": "stderr",
     "output_type": "stream",
     "text": [
      "/var/folders/sb/50cj9frx6576wh5j6rbpnb6c0000gp/T/ipykernel_36568/1086096361.py:71: SettingWithCopyWarning: \n",
      "A value is trying to be set on a copy of a slice from a DataFrame.\n",
      "Try using .loc[row_indexer,col_indexer] = value instead\n",
      "\n",
      "See the caveats in the documentation: https://pandas.pydata.org/pandas-docs/stable/user_guide/indexing.html#returning-a-view-versus-a-copy\n",
      "  batch.loc[:, 'predicted_value'] = preds\n"
     ]
    },
    {
     "name": "stdout",
     "output_type": "stream",
     "text": [
      "MAE: 0.2525084920150683\n",
      "MSE: 0.15472459190875673\n",
      "RMSE: 0.3933504695672254\n",
      "R2: 0.8439941555793873\n",
      "MAPE: 1.6216332414818748\n"
     ]
    },
    {
     "name": "stderr",
     "output_type": "stream",
     "text": [
      "/var/folders/sb/50cj9frx6576wh5j6rbpnb6c0000gp/T/ipykernel_36568/1086096361.py:71: SettingWithCopyWarning: \n",
      "A value is trying to be set on a copy of a slice from a DataFrame.\n",
      "Try using .loc[row_indexer,col_indexer] = value instead\n",
      "\n",
      "See the caveats in the documentation: https://pandas.pydata.org/pandas-docs/stable/user_guide/indexing.html#returning-a-view-versus-a-copy\n",
      "  batch.loc[:, 'predicted_value'] = preds\n"
     ]
    },
    {
     "name": "stdout",
     "output_type": "stream",
     "text": [
      "MAE: 0.2525318996838816\n",
      "MSE: 0.15460527228280482\n",
      "RMSE: 0.3931987694319564\n",
      "R2: 0.8440990807720077\n",
      "MAPE: 1.621802172198742\n"
     ]
    },
    {
     "name": "stderr",
     "output_type": "stream",
     "text": [
      "/var/folders/sb/50cj9frx6576wh5j6rbpnb6c0000gp/T/ipykernel_36568/1086096361.py:71: SettingWithCopyWarning: \n",
      "A value is trying to be set on a copy of a slice from a DataFrame.\n",
      "Try using .loc[row_indexer,col_indexer] = value instead\n",
      "\n",
      "See the caveats in the documentation: https://pandas.pydata.org/pandas-docs/stable/user_guide/indexing.html#returning-a-view-versus-a-copy\n",
      "  batch.loc[:, 'predicted_value'] = preds\n"
     ]
    },
    {
     "name": "stdout",
     "output_type": "stream",
     "text": [
      "MAE: 0.25234296446933846\n",
      "MSE: 0.15432303871757752\n",
      "RMSE: 0.3928397112278461\n",
      "R2: 0.84445069439002\n",
      "MAPE: 1.61995229477662\n"
     ]
    },
    {
     "name": "stderr",
     "output_type": "stream",
     "text": [
      "/var/folders/sb/50cj9frx6576wh5j6rbpnb6c0000gp/T/ipykernel_36568/1086096361.py:71: SettingWithCopyWarning: \n",
      "A value is trying to be set on a copy of a slice from a DataFrame.\n",
      "Try using .loc[row_indexer,col_indexer] = value instead\n",
      "\n",
      "See the caveats in the documentation: https://pandas.pydata.org/pandas-docs/stable/user_guide/indexing.html#returning-a-view-versus-a-copy\n",
      "  batch.loc[:, 'predicted_value'] = preds\n"
     ]
    },
    {
     "name": "stdout",
     "output_type": "stream",
     "text": [
      "MAE: 0.2521758635430464\n",
      "MSE: 0.1540637836172692\n",
      "RMSE: 0.39250959684734993\n",
      "R2: 0.8448172642798714\n",
      "MAPE: 1.6193581185516934\n"
     ]
    },
    {
     "name": "stderr",
     "output_type": "stream",
     "text": [
      "/var/folders/sb/50cj9frx6576wh5j6rbpnb6c0000gp/T/ipykernel_36568/1086096361.py:71: SettingWithCopyWarning: \n",
      "A value is trying to be set on a copy of a slice from a DataFrame.\n",
      "Try using .loc[row_indexer,col_indexer] = value instead\n",
      "\n",
      "See the caveats in the documentation: https://pandas.pydata.org/pandas-docs/stable/user_guide/indexing.html#returning-a-view-versus-a-copy\n",
      "  batch.loc[:, 'predicted_value'] = preds\n"
     ]
    },
    {
     "name": "stdout",
     "output_type": "stream",
     "text": [
      "MAE: 0.2520589510500476\n",
      "MSE: 0.15382322942423854\n",
      "RMSE: 0.39220304616899465\n",
      "R2: 0.8451242730532906\n",
      "MAPE: 1.6171490663901886\n"
     ]
    },
    {
     "name": "stderr",
     "output_type": "stream",
     "text": [
      "/var/folders/sb/50cj9frx6576wh5j6rbpnb6c0000gp/T/ipykernel_36568/1086096361.py:71: SettingWithCopyWarning: \n",
      "A value is trying to be set on a copy of a slice from a DataFrame.\n",
      "Try using .loc[row_indexer,col_indexer] = value instead\n",
      "\n",
      "See the caveats in the documentation: https://pandas.pydata.org/pandas-docs/stable/user_guide/indexing.html#returning-a-view-versus-a-copy\n",
      "  batch.loc[:, 'predicted_value'] = preds\n"
     ]
    },
    {
     "name": "stdout",
     "output_type": "stream",
     "text": [
      "MAE: 0.25192062522576947\n",
      "MSE: 0.15358519480431113\n",
      "RMSE: 0.3918994702781711\n",
      "R2: 0.8454612758697424\n",
      "MAPE: 1.6300934510800187\n"
     ]
    },
    {
     "name": "stderr",
     "output_type": "stream",
     "text": [
      "/var/folders/sb/50cj9frx6576wh5j6rbpnb6c0000gp/T/ipykernel_36568/1086096361.py:71: SettingWithCopyWarning: \n",
      "A value is trying to be set on a copy of a slice from a DataFrame.\n",
      "Try using .loc[row_indexer,col_indexer] = value instead\n",
      "\n",
      "See the caveats in the documentation: https://pandas.pydata.org/pandas-docs/stable/user_guide/indexing.html#returning-a-view-versus-a-copy\n",
      "  batch.loc[:, 'predicted_value'] = preds\n"
     ]
    },
    {
     "name": "stdout",
     "output_type": "stream",
     "text": [
      "MAE: 0.2517732732315277\n",
      "MSE: 0.15332983373234588\n",
      "RMSE: 0.3915735355362334\n",
      "R2: 0.8457605433585091\n",
      "MAPE: 1.6285773444589355\n"
     ]
    },
    {
     "name": "stderr",
     "output_type": "stream",
     "text": [
      "/var/folders/sb/50cj9frx6576wh5j6rbpnb6c0000gp/T/ipykernel_36568/1086096361.py:71: SettingWithCopyWarning: \n",
      "A value is trying to be set on a copy of a slice from a DataFrame.\n",
      "Try using .loc[row_indexer,col_indexer] = value instead\n",
      "\n",
      "See the caveats in the documentation: https://pandas.pydata.org/pandas-docs/stable/user_guide/indexing.html#returning-a-view-versus-a-copy\n",
      "  batch.loc[:, 'predicted_value'] = preds\n"
     ]
    },
    {
     "name": "stdout",
     "output_type": "stream",
     "text": [
      "MAE: 0.251621986062089\n",
      "MSE: 0.15315310460954662\n",
      "RMSE: 0.3913478051676624\n",
      "R2: 0.84607048985339\n",
      "MAPE: 1.629230733269645\n",
      "Experimenting with num_nearest_neighbors=400 and distance_metric=dtw\n",
      "int64\n"
     ]
    },
    {
     "name": "stderr",
     "output_type": "stream",
     "text": [
      "/var/folders/sb/50cj9frx6576wh5j6rbpnb6c0000gp/T/ipykernel_36568/1086096361.py:71: SettingWithCopyWarning: \n",
      "A value is trying to be set on a copy of a slice from a DataFrame.\n",
      "Try using .loc[row_indexer,col_indexer] = value instead\n",
      "\n",
      "See the caveats in the documentation: https://pandas.pydata.org/pandas-docs/stable/user_guide/indexing.html#returning-a-view-versus-a-copy\n",
      "  batch.loc[:, 'predicted_value'] = preds\n"
     ]
    },
    {
     "name": "stdout",
     "output_type": "stream",
     "text": [
      "MAE: 0.25318591578176497\n",
      "MSE: 0.15622908278499867\n",
      "RMSE: 0.39525824821880523\n",
      "R2: 0.8430523824821875\n",
      "MAPE: 1.6287279130956567\n"
     ]
    },
    {
     "name": "stderr",
     "output_type": "stream",
     "text": [
      "/var/folders/sb/50cj9frx6576wh5j6rbpnb6c0000gp/T/ipykernel_36568/1086096361.py:71: SettingWithCopyWarning: \n",
      "A value is trying to be set on a copy of a slice from a DataFrame.\n",
      "Try using .loc[row_indexer,col_indexer] = value instead\n",
      "\n",
      "See the caveats in the documentation: https://pandas.pydata.org/pandas-docs/stable/user_guide/indexing.html#returning-a-view-versus-a-copy\n",
      "  batch.loc[:, 'predicted_value'] = preds\n"
     ]
    },
    {
     "name": "stdout",
     "output_type": "stream",
     "text": [
      "MAE: 0.2535902293498463\n",
      "MSE: 0.1571689913715347\n",
      "RMSE: 0.3964454456435774\n",
      "R2: 0.8419761206986349\n",
      "MAPE: 1.6257209615606003\n"
     ]
    },
    {
     "name": "stderr",
     "output_type": "stream",
     "text": [
      "/var/folders/sb/50cj9frx6576wh5j6rbpnb6c0000gp/T/ipykernel_36568/1086096361.py:71: SettingWithCopyWarning: \n",
      "A value is trying to be set on a copy of a slice from a DataFrame.\n",
      "Try using .loc[row_indexer,col_indexer] = value instead\n",
      "\n",
      "See the caveats in the documentation: https://pandas.pydata.org/pandas-docs/stable/user_guide/indexing.html#returning-a-view-versus-a-copy\n",
      "  batch.loc[:, 'predicted_value'] = preds\n"
     ]
    },
    {
     "name": "stdout",
     "output_type": "stream",
     "text": [
      "MAE: 0.253477618873067\n",
      "MSE: 0.1569558619185543\n",
      "RMSE: 0.39617655397379875\n",
      "R2: 0.841942221565299\n",
      "MAPE: 1.6234688795854932\n"
     ]
    },
    {
     "name": "stderr",
     "output_type": "stream",
     "text": [
      "/var/folders/sb/50cj9frx6576wh5j6rbpnb6c0000gp/T/ipykernel_36568/1086096361.py:71: SettingWithCopyWarning: \n",
      "A value is trying to be set on a copy of a slice from a DataFrame.\n",
      "Try using .loc[row_indexer,col_indexer] = value instead\n",
      "\n",
      "See the caveats in the documentation: https://pandas.pydata.org/pandas-docs/stable/user_guide/indexing.html#returning-a-view-versus-a-copy\n",
      "  batch.loc[:, 'predicted_value'] = preds\n"
     ]
    },
    {
     "name": "stdout",
     "output_type": "stream",
     "text": [
      "MAE: 0.25334524826637206\n",
      "MSE: 0.1567070883025037\n",
      "RMSE: 0.3958624613454826\n",
      "R2: 0.841971274926512\n",
      "MAPE: 1.6220808545314953\n"
     ]
    },
    {
     "name": "stderr",
     "output_type": "stream",
     "text": [
      "/var/folders/sb/50cj9frx6576wh5j6rbpnb6c0000gp/T/ipykernel_36568/1086096361.py:71: SettingWithCopyWarning: \n",
      "A value is trying to be set on a copy of a slice from a DataFrame.\n",
      "Try using .loc[row_indexer,col_indexer] = value instead\n",
      "\n",
      "See the caveats in the documentation: https://pandas.pydata.org/pandas-docs/stable/user_guide/indexing.html#returning-a-view-versus-a-copy\n",
      "  batch.loc[:, 'predicted_value'] = preds\n"
     ]
    },
    {
     "name": "stdout",
     "output_type": "stream",
     "text": [
      "MAE: 0.2531808807448819\n",
      "MSE: 0.15646818518472042\n",
      "RMSE: 0.39556059609713456\n",
      "R2: 0.8421890035141493\n",
      "MAPE: 1.6191765276025976\n"
     ]
    },
    {
     "name": "stderr",
     "output_type": "stream",
     "text": [
      "/var/folders/sb/50cj9frx6576wh5j6rbpnb6c0000gp/T/ipykernel_36568/1086096361.py:71: SettingWithCopyWarning: \n",
      "A value is trying to be set on a copy of a slice from a DataFrame.\n",
      "Try using .loc[row_indexer,col_indexer] = value instead\n",
      "\n",
      "See the caveats in the documentation: https://pandas.pydata.org/pandas-docs/stable/user_guide/indexing.html#returning-a-view-versus-a-copy\n",
      "  batch.loc[:, 'predicted_value'] = preds\n"
     ]
    },
    {
     "name": "stdout",
     "output_type": "stream",
     "text": [
      "MAE: 0.2531177154777842\n",
      "MSE: 0.1563302565986763\n",
      "RMSE: 0.3953862119481107\n",
      "R2: 0.8422481192095518\n",
      "MAPE: 1.616706382261612\n"
     ]
    },
    {
     "name": "stderr",
     "output_type": "stream",
     "text": [
      "/var/folders/sb/50cj9frx6576wh5j6rbpnb6c0000gp/T/ipykernel_36568/1086096361.py:71: SettingWithCopyWarning: \n",
      "A value is trying to be set on a copy of a slice from a DataFrame.\n",
      "Try using .loc[row_indexer,col_indexer] = value instead\n",
      "\n",
      "See the caveats in the documentation: https://pandas.pydata.org/pandas-docs/stable/user_guide/indexing.html#returning-a-view-versus-a-copy\n",
      "  batch.loc[:, 'predicted_value'] = preds\n"
     ]
    },
    {
     "name": "stdout",
     "output_type": "stream",
     "text": [
      "MAE: 0.25343034053516333\n",
      "MSE: 0.15668779305384198\n",
      "RMSE: 0.39583808944294635\n",
      "R2: 0.8420359719842232\n",
      "MAPE: 1.614187876501676\n"
     ]
    },
    {
     "name": "stderr",
     "output_type": "stream",
     "text": [
      "/var/folders/sb/50cj9frx6576wh5j6rbpnb6c0000gp/T/ipykernel_36568/1086096361.py:71: SettingWithCopyWarning: \n",
      "A value is trying to be set on a copy of a slice from a DataFrame.\n",
      "Try using .loc[row_indexer,col_indexer] = value instead\n",
      "\n",
      "See the caveats in the documentation: https://pandas.pydata.org/pandas-docs/stable/user_guide/indexing.html#returning-a-view-versus-a-copy\n",
      "  batch.loc[:, 'predicted_value'] = preds\n"
     ]
    },
    {
     "name": "stdout",
     "output_type": "stream",
     "text": [
      "MAE: 0.25367813308733406\n",
      "MSE: 0.15702448974352284\n",
      "RMSE: 0.39626315718663885\n",
      "R2: 0.8417252657277555\n",
      "MAPE: 1.6138707907649508\n"
     ]
    },
    {
     "name": "stderr",
     "output_type": "stream",
     "text": [
      "/var/folders/sb/50cj9frx6576wh5j6rbpnb6c0000gp/T/ipykernel_36568/1086096361.py:71: SettingWithCopyWarning: \n",
      "A value is trying to be set on a copy of a slice from a DataFrame.\n",
      "Try using .loc[row_indexer,col_indexer] = value instead\n",
      "\n",
      "See the caveats in the documentation: https://pandas.pydata.org/pandas-docs/stable/user_guide/indexing.html#returning-a-view-versus-a-copy\n",
      "  batch.loc[:, 'predicted_value'] = preds\n"
     ]
    },
    {
     "name": "stdout",
     "output_type": "stream",
     "text": [
      "MAE: 0.2540399825993392\n",
      "MSE: 0.1575564032826147\n",
      "RMSE: 0.39693375175539647\n",
      "R2: 0.8411516733647466\n",
      "MAPE: 1.6124016088476758\n"
     ]
    },
    {
     "name": "stderr",
     "output_type": "stream",
     "text": [
      "/var/folders/sb/50cj9frx6576wh5j6rbpnb6c0000gp/T/ipykernel_36568/1086096361.py:71: SettingWithCopyWarning: \n",
      "A value is trying to be set on a copy of a slice from a DataFrame.\n",
      "Try using .loc[row_indexer,col_indexer] = value instead\n",
      "\n",
      "See the caveats in the documentation: https://pandas.pydata.org/pandas-docs/stable/user_guide/indexing.html#returning-a-view-versus-a-copy\n",
      "  batch.loc[:, 'predicted_value'] = preds\n"
     ]
    },
    {
     "name": "stdout",
     "output_type": "stream",
     "text": [
      "MAE: 0.2539297585518574\n",
      "MSE: 0.1573682250072951\n",
      "RMSE: 0.3966966410335423\n",
      "R2: 0.8413490850530374\n",
      "MAPE: 1.6094621051931248\n"
     ]
    },
    {
     "name": "stderr",
     "output_type": "stream",
     "text": [
      "/var/folders/sb/50cj9frx6576wh5j6rbpnb6c0000gp/T/ipykernel_36568/1086096361.py:71: SettingWithCopyWarning: \n",
      "A value is trying to be set on a copy of a slice from a DataFrame.\n",
      "Try using .loc[row_indexer,col_indexer] = value instead\n",
      "\n",
      "See the caveats in the documentation: https://pandas.pydata.org/pandas-docs/stable/user_guide/indexing.html#returning-a-view-versus-a-copy\n",
      "  batch.loc[:, 'predicted_value'] = preds\n"
     ]
    },
    {
     "name": "stdout",
     "output_type": "stream",
     "text": [
      "MAE: 0.25394420343273416\n",
      "MSE: 0.15726812765030804\n",
      "RMSE: 0.3965704573594811\n",
      "R2: 0.841459007447327\n",
      "MAPE: 1.6066696801736928\n"
     ]
    },
    {
     "name": "stderr",
     "output_type": "stream",
     "text": [
      "/var/folders/sb/50cj9frx6576wh5j6rbpnb6c0000gp/T/ipykernel_36568/1086096361.py:71: SettingWithCopyWarning: \n",
      "A value is trying to be set on a copy of a slice from a DataFrame.\n",
      "Try using .loc[row_indexer,col_indexer] = value instead\n",
      "\n",
      "See the caveats in the documentation: https://pandas.pydata.org/pandas-docs/stable/user_guide/indexing.html#returning-a-view-versus-a-copy\n",
      "  batch.loc[:, 'predicted_value'] = preds\n"
     ]
    },
    {
     "name": "stdout",
     "output_type": "stream",
     "text": [
      "MAE: 0.2538320853249632\n",
      "MSE: 0.15703861554392873\n",
      "RMSE: 0.39628098054780364\n",
      "R2: 0.8417664690410445\n",
      "MAPE: 1.609166718360911\n"
     ]
    },
    {
     "name": "stderr",
     "output_type": "stream",
     "text": [
      "/var/folders/sb/50cj9frx6576wh5j6rbpnb6c0000gp/T/ipykernel_36568/1086096361.py:71: SettingWithCopyWarning: \n",
      "A value is trying to be set on a copy of a slice from a DataFrame.\n",
      "Try using .loc[row_indexer,col_indexer] = value instead\n",
      "\n",
      "See the caveats in the documentation: https://pandas.pydata.org/pandas-docs/stable/user_guide/indexing.html#returning-a-view-versus-a-copy\n",
      "  batch.loc[:, 'predicted_value'] = preds\n"
     ]
    },
    {
     "name": "stdout",
     "output_type": "stream",
     "text": [
      "MAE: 0.2537683658048408\n",
      "MSE: 0.15684633231917366\n",
      "RMSE: 0.3960382965309967\n",
      "R2: 0.8419915321654812\n",
      "MAPE: 1.6067998327825814\n"
     ]
    },
    {
     "name": "stderr",
     "output_type": "stream",
     "text": [
      "/var/folders/sb/50cj9frx6576wh5j6rbpnb6c0000gp/T/ipykernel_36568/1086096361.py:71: SettingWithCopyWarning: \n",
      "A value is trying to be set on a copy of a slice from a DataFrame.\n",
      "Try using .loc[row_indexer,col_indexer] = value instead\n",
      "\n",
      "See the caveats in the documentation: https://pandas.pydata.org/pandas-docs/stable/user_guide/indexing.html#returning-a-view-versus-a-copy\n",
      "  batch.loc[:, 'predicted_value'] = preds\n"
     ]
    },
    {
     "name": "stdout",
     "output_type": "stream",
     "text": [
      "MAE: 0.2537306346712031\n",
      "MSE: 0.1566707196487712\n",
      "RMSE: 0.3958165227081497\n",
      "R2: 0.8421836133161495\n",
      "MAPE: 1.6061925506888093\n"
     ]
    },
    {
     "name": "stderr",
     "output_type": "stream",
     "text": [
      "/var/folders/sb/50cj9frx6576wh5j6rbpnb6c0000gp/T/ipykernel_36568/1086096361.py:71: SettingWithCopyWarning: \n",
      "A value is trying to be set on a copy of a slice from a DataFrame.\n",
      "Try using .loc[row_indexer,col_indexer] = value instead\n",
      "\n",
      "See the caveats in the documentation: https://pandas.pydata.org/pandas-docs/stable/user_guide/indexing.html#returning-a-view-versus-a-copy\n",
      "  batch.loc[:, 'predicted_value'] = preds\n"
     ]
    },
    {
     "name": "stdout",
     "output_type": "stream",
     "text": [
      "MAE: 0.2536296158803028\n",
      "MSE: 0.1564464250462529\n",
      "RMSE: 0.3955330896982614\n",
      "R2: 0.8425079361708214\n",
      "MAPE: 1.603850231535763\n"
     ]
    },
    {
     "name": "stderr",
     "output_type": "stream",
     "text": [
      "/var/folders/sb/50cj9frx6576wh5j6rbpnb6c0000gp/T/ipykernel_36568/1086096361.py:71: SettingWithCopyWarning: \n",
      "A value is trying to be set on a copy of a slice from a DataFrame.\n",
      "Try using .loc[row_indexer,col_indexer] = value instead\n",
      "\n",
      "See the caveats in the documentation: https://pandas.pydata.org/pandas-docs/stable/user_guide/indexing.html#returning-a-view-versus-a-copy\n",
      "  batch.loc[:, 'predicted_value'] = preds\n"
     ]
    },
    {
     "name": "stdout",
     "output_type": "stream",
     "text": [
      "MAE: 0.25363846670933315\n",
      "MSE: 0.15629202331012512\n",
      "RMSE: 0.39533785969740504\n",
      "R2: 0.8426429352412315\n",
      "MAPE: 1.6021643894475206\n"
     ]
    },
    {
     "name": "stderr",
     "output_type": "stream",
     "text": [
      "/var/folders/sb/50cj9frx6576wh5j6rbpnb6c0000gp/T/ipykernel_36568/1086096361.py:71: SettingWithCopyWarning: \n",
      "A value is trying to be set on a copy of a slice from a DataFrame.\n",
      "Try using .loc[row_indexer,col_indexer] = value instead\n",
      "\n",
      "See the caveats in the documentation: https://pandas.pydata.org/pandas-docs/stable/user_guide/indexing.html#returning-a-view-versus-a-copy\n",
      "  batch.loc[:, 'predicted_value'] = preds\n"
     ]
    },
    {
     "name": "stdout",
     "output_type": "stream",
     "text": [
      "MAE: 0.2536050979214564\n",
      "MSE: 0.15609713089902832\n",
      "RMSE: 0.3950912943852703\n",
      "R2: 0.8429646145598563\n",
      "MAPE: 1.615688537954793\n"
     ]
    },
    {
     "name": "stderr",
     "output_type": "stream",
     "text": [
      "/var/folders/sb/50cj9frx6576wh5j6rbpnb6c0000gp/T/ipykernel_36568/1086096361.py:71: SettingWithCopyWarning: \n",
      "A value is trying to be set on a copy of a slice from a DataFrame.\n",
      "Try using .loc[row_indexer,col_indexer] = value instead\n",
      "\n",
      "See the caveats in the documentation: https://pandas.pydata.org/pandas-docs/stable/user_guide/indexing.html#returning-a-view-versus-a-copy\n",
      "  batch.loc[:, 'predicted_value'] = preds\n"
     ]
    },
    {
     "name": "stdout",
     "output_type": "stream",
     "text": [
      "MAE: 0.2535184706881433\n",
      "MSE: 0.15587871363765715\n",
      "RMSE: 0.3948147839654148\n",
      "R2: 0.8432368950701058\n",
      "MAPE: 1.6246537450811736\n"
     ]
    },
    {
     "name": "stderr",
     "output_type": "stream",
     "text": [
      "/var/folders/sb/50cj9frx6576wh5j6rbpnb6c0000gp/T/ipykernel_36568/1086096361.py:71: SettingWithCopyWarning: \n",
      "A value is trying to be set on a copy of a slice from a DataFrame.\n",
      "Try using .loc[row_indexer,col_indexer] = value instead\n",
      "\n",
      "See the caveats in the documentation: https://pandas.pydata.org/pandas-docs/stable/user_guide/indexing.html#returning-a-view-versus-a-copy\n",
      "  batch.loc[:, 'predicted_value'] = preds\n"
     ]
    },
    {
     "name": "stdout",
     "output_type": "stream",
     "text": [
      "MAE: 0.25365014081274984\n",
      "MSE: 0.15589217575418693\n",
      "RMSE: 0.3948318322453079\n",
      "R2: 0.8432107577163859\n",
      "MAPE: 1.6233130979451507\n"
     ]
    },
    {
     "name": "stderr",
     "output_type": "stream",
     "text": [
      "/var/folders/sb/50cj9frx6576wh5j6rbpnb6c0000gp/T/ipykernel_36568/1086096361.py:71: SettingWithCopyWarning: \n",
      "A value is trying to be set on a copy of a slice from a DataFrame.\n",
      "Try using .loc[row_indexer,col_indexer] = value instead\n",
      "\n",
      "See the caveats in the documentation: https://pandas.pydata.org/pandas-docs/stable/user_guide/indexing.html#returning-a-view-versus-a-copy\n",
      "  batch.loc[:, 'predicted_value'] = preds\n"
     ]
    },
    {
     "name": "stdout",
     "output_type": "stream",
     "text": [
      "MAE: 0.25360842462428473\n",
      "MSE: 0.15581607299944308\n",
      "RMSE: 0.39473544684946027\n",
      "R2: 0.8433620185255086\n",
      "MAPE: 1.6235993802627349\n",
      "Experimenting with num_nearest_neighbors=500 and distance_metric=cosine\n",
      "int64\n"
     ]
    },
    {
     "name": "stderr",
     "output_type": "stream",
     "text": [
      "/var/folders/sb/50cj9frx6576wh5j6rbpnb6c0000gp/T/ipykernel_36568/1086096361.py:71: SettingWithCopyWarning: \n",
      "A value is trying to be set on a copy of a slice from a DataFrame.\n",
      "Try using .loc[row_indexer,col_indexer] = value instead\n",
      "\n",
      "See the caveats in the documentation: https://pandas.pydata.org/pandas-docs/stable/user_guide/indexing.html#returning-a-view-versus-a-copy\n",
      "  batch.loc[:, 'predicted_value'] = preds\n"
     ]
    },
    {
     "name": "stdout",
     "output_type": "stream",
     "text": [
      "MAE: 0.25479736666947417\n",
      "MSE: 0.1580100597549842\n",
      "RMSE: 0.3975047921157482\n",
      "R2: 0.841191684909477\n",
      "MAPE: 1.6231279010539619\n"
     ]
    },
    {
     "name": "stderr",
     "output_type": "stream",
     "text": [
      "/var/folders/sb/50cj9frx6576wh5j6rbpnb6c0000gp/T/ipykernel_36568/1086096361.py:71: SettingWithCopyWarning: \n",
      "A value is trying to be set on a copy of a slice from a DataFrame.\n",
      "Try using .loc[row_indexer,col_indexer] = value instead\n",
      "\n",
      "See the caveats in the documentation: https://pandas.pydata.org/pandas-docs/stable/user_guide/indexing.html#returning-a-view-versus-a-copy\n",
      "  batch.loc[:, 'predicted_value'] = preds\n"
     ]
    },
    {
     "name": "stdout",
     "output_type": "stream",
     "text": [
      "MAE: 0.25493892363672055\n",
      "MSE: 0.15821542078043402\n",
      "RMSE: 0.39776302088106935\n",
      "R2: 0.8409657887501671\n",
      "MAPE: 1.620000792179078\n"
     ]
    },
    {
     "name": "stderr",
     "output_type": "stream",
     "text": [
      "/var/folders/sb/50cj9frx6576wh5j6rbpnb6c0000gp/T/ipykernel_36568/1086096361.py:71: SettingWithCopyWarning: \n",
      "A value is trying to be set on a copy of a slice from a DataFrame.\n",
      "Try using .loc[row_indexer,col_indexer] = value instead\n",
      "\n",
      "See the caveats in the documentation: https://pandas.pydata.org/pandas-docs/stable/user_guide/indexing.html#returning-a-view-versus-a-copy\n",
      "  batch.loc[:, 'predicted_value'] = preds\n"
     ]
    },
    {
     "name": "stdout",
     "output_type": "stream",
     "text": [
      "MAE: 0.2545380024243401\n",
      "MSE: 0.15785273845116543\n",
      "RMSE: 0.3973068567885098\n",
      "R2: 0.841079512902789\n",
      "MAPE: 1.6168699406568108\n"
     ]
    },
    {
     "name": "stderr",
     "output_type": "stream",
     "text": [
      "/var/folders/sb/50cj9frx6576wh5j6rbpnb6c0000gp/T/ipykernel_36568/1086096361.py:71: SettingWithCopyWarning: \n",
      "A value is trying to be set on a copy of a slice from a DataFrame.\n",
      "Try using .loc[row_indexer,col_indexer] = value instead\n",
      "\n",
      "See the caveats in the documentation: https://pandas.pydata.org/pandas-docs/stable/user_guide/indexing.html#returning-a-view-versus-a-copy\n",
      "  batch.loc[:, 'predicted_value'] = preds\n"
     ]
    },
    {
     "name": "stdout",
     "output_type": "stream",
     "text": [
      "MAE: 0.2542158469503396\n",
      "MSE: 0.1575159084856276\n",
      "RMSE: 0.3968827389615573\n",
      "R2: 0.8412595834631279\n",
      "MAPE: 1.6141214848315457\n"
     ]
    },
    {
     "name": "stderr",
     "output_type": "stream",
     "text": [
      "/var/folders/sb/50cj9frx6576wh5j6rbpnb6c0000gp/T/ipykernel_36568/1086096361.py:71: SettingWithCopyWarning: \n",
      "A value is trying to be set on a copy of a slice from a DataFrame.\n",
      "Try using .loc[row_indexer,col_indexer] = value instead\n",
      "\n",
      "See the caveats in the documentation: https://pandas.pydata.org/pandas-docs/stable/user_guide/indexing.html#returning-a-view-versus-a-copy\n",
      "  batch.loc[:, 'predicted_value'] = preds\n"
     ]
    },
    {
     "name": "stdout",
     "output_type": "stream",
     "text": [
      "MAE: 0.25399426081792886\n",
      "MSE: 0.157257691244547\n",
      "RMSE: 0.3965572988163842\n",
      "R2: 0.8414375255393303\n",
      "MAPE: 1.6110893051225463\n"
     ]
    },
    {
     "name": "stderr",
     "output_type": "stream",
     "text": [
      "/var/folders/sb/50cj9frx6576wh5j6rbpnb6c0000gp/T/ipykernel_36568/1086096361.py:71: SettingWithCopyWarning: \n",
      "A value is trying to be set on a copy of a slice from a DataFrame.\n",
      "Try using .loc[row_indexer,col_indexer] = value instead\n",
      "\n",
      "See the caveats in the documentation: https://pandas.pydata.org/pandas-docs/stable/user_guide/indexing.html#returning-a-view-versus-a-copy\n",
      "  batch.loc[:, 'predicted_value'] = preds\n"
     ]
    },
    {
     "name": "stdout",
     "output_type": "stream",
     "text": [
      "MAE: 0.2539942831832204\n",
      "MSE: 0.15730858521778282\n",
      "RMSE: 0.39662146338515625\n",
      "R2: 0.8414407584232347\n",
      "MAPE: 1.6096812641776994\n"
     ]
    },
    {
     "name": "stderr",
     "output_type": "stream",
     "text": [
      "/var/folders/sb/50cj9frx6576wh5j6rbpnb6c0000gp/T/ipykernel_36568/1086096361.py:71: SettingWithCopyWarning: \n",
      "A value is trying to be set on a copy of a slice from a DataFrame.\n",
      "Try using .loc[row_indexer,col_indexer] = value instead\n",
      "\n",
      "See the caveats in the documentation: https://pandas.pydata.org/pandas-docs/stable/user_guide/indexing.html#returning-a-view-versus-a-copy\n",
      "  batch.loc[:, 'predicted_value'] = preds\n"
     ]
    },
    {
     "name": "stdout",
     "output_type": "stream",
     "text": [
      "MAE: 0.25449158339605793\n",
      "MSE: 0.15855608771778248\n",
      "RMSE: 0.3981910191325044\n",
      "R2: 0.8402545993124089\n",
      "MAPE: 1.6082806373830303\n"
     ]
    },
    {
     "name": "stderr",
     "output_type": "stream",
     "text": [
      "/var/folders/sb/50cj9frx6576wh5j6rbpnb6c0000gp/T/ipykernel_36568/1086096361.py:71: SettingWithCopyWarning: \n",
      "A value is trying to be set on a copy of a slice from a DataFrame.\n",
      "Try using .loc[row_indexer,col_indexer] = value instead\n",
      "\n",
      "See the caveats in the documentation: https://pandas.pydata.org/pandas-docs/stable/user_guide/indexing.html#returning-a-view-versus-a-copy\n",
      "  batch.loc[:, 'predicted_value'] = preds\n"
     ]
    },
    {
     "name": "stdout",
     "output_type": "stream",
     "text": [
      "MAE: 0.2546591983219012\n",
      "MSE: 0.15877914441597954\n",
      "RMSE: 0.39847100825026094\n",
      "R2: 0.8400791120530094\n",
      "MAPE: 1.6068884490309816\n"
     ]
    },
    {
     "name": "stderr",
     "output_type": "stream",
     "text": [
      "/var/folders/sb/50cj9frx6576wh5j6rbpnb6c0000gp/T/ipykernel_36568/1086096361.py:71: SettingWithCopyWarning: \n",
      "A value is trying to be set on a copy of a slice from a DataFrame.\n",
      "Try using .loc[row_indexer,col_indexer] = value instead\n",
      "\n",
      "See the caveats in the documentation: https://pandas.pydata.org/pandas-docs/stable/user_guide/indexing.html#returning-a-view-versus-a-copy\n",
      "  batch.loc[:, 'predicted_value'] = preds\n"
     ]
    },
    {
     "name": "stdout",
     "output_type": "stream",
     "text": [
      "MAE: 0.2549695998847904\n",
      "MSE: 0.15927081440141708\n",
      "RMSE: 0.3990874771292844\n",
      "R2: 0.8396046795841998\n",
      "MAPE: 1.6050210056108294\n"
     ]
    },
    {
     "name": "stderr",
     "output_type": "stream",
     "text": [
      "/var/folders/sb/50cj9frx6576wh5j6rbpnb6c0000gp/T/ipykernel_36568/1086096361.py:71: SettingWithCopyWarning: \n",
      "A value is trying to be set on a copy of a slice from a DataFrame.\n",
      "Try using .loc[row_indexer,col_indexer] = value instead\n",
      "\n",
      "See the caveats in the documentation: https://pandas.pydata.org/pandas-docs/stable/user_guide/indexing.html#returning-a-view-versus-a-copy\n",
      "  batch.loc[:, 'predicted_value'] = preds\n"
     ]
    },
    {
     "name": "stdout",
     "output_type": "stream",
     "text": [
      "MAE: 0.25489640005679604\n",
      "MSE: 0.1591082649742025\n",
      "RMSE: 0.3988837737664977\n",
      "R2: 0.8396910431227032\n",
      "MAPE: 1.6027172171145119\n"
     ]
    },
    {
     "name": "stderr",
     "output_type": "stream",
     "text": [
      "/var/folders/sb/50cj9frx6576wh5j6rbpnb6c0000gp/T/ipykernel_36568/1086096361.py:71: SettingWithCopyWarning: \n",
      "A value is trying to be set on a copy of a slice from a DataFrame.\n",
      "Try using .loc[row_indexer,col_indexer] = value instead\n",
      "\n",
      "See the caveats in the documentation: https://pandas.pydata.org/pandas-docs/stable/user_guide/indexing.html#returning-a-view-versus-a-copy\n",
      "  batch.loc[:, 'predicted_value'] = preds\n"
     ]
    },
    {
     "name": "stdout",
     "output_type": "stream",
     "text": [
      "MAE: 0.25493910819832605\n",
      "MSE: 0.1590126566352917\n",
      "RMSE: 0.39876391089878194\n",
      "R2: 0.8397782915093923\n",
      "MAPE: 1.6003004583940048\n"
     ]
    },
    {
     "name": "stderr",
     "output_type": "stream",
     "text": [
      "/var/folders/sb/50cj9frx6576wh5j6rbpnb6c0000gp/T/ipykernel_36568/1086096361.py:71: SettingWithCopyWarning: \n",
      "A value is trying to be set on a copy of a slice from a DataFrame.\n",
      "Try using .loc[row_indexer,col_indexer] = value instead\n",
      "\n",
      "See the caveats in the documentation: https://pandas.pydata.org/pandas-docs/stable/user_guide/indexing.html#returning-a-view-versus-a-copy\n",
      "  batch.loc[:, 'predicted_value'] = preds\n"
     ]
    },
    {
     "name": "stdout",
     "output_type": "stream",
     "text": [
      "MAE: 0.2547975519345651\n",
      "MSE: 0.15879094928677756\n",
      "RMSE: 0.39848582068472344\n",
      "R2: 0.8400851995660252\n",
      "MAPE: 1.6013996801269939\n"
     ]
    },
    {
     "name": "stderr",
     "output_type": "stream",
     "text": [
      "/var/folders/sb/50cj9frx6576wh5j6rbpnb6c0000gp/T/ipykernel_36568/1086096361.py:71: SettingWithCopyWarning: \n",
      "A value is trying to be set on a copy of a slice from a DataFrame.\n",
      "Try using .loc[row_indexer,col_indexer] = value instead\n",
      "\n",
      "See the caveats in the documentation: https://pandas.pydata.org/pandas-docs/stable/user_guide/indexing.html#returning-a-view-versus-a-copy\n",
      "  batch.loc[:, 'predicted_value'] = preds\n"
     ]
    },
    {
     "name": "stdout",
     "output_type": "stream",
     "text": [
      "MAE: 0.25470250638161096\n",
      "MSE: 0.15860609246277496\n",
      "RMSE: 0.39825380407822214\n",
      "R2: 0.8403064679860419\n",
      "MAPE: 1.6003465877532752\n"
     ]
    },
    {
     "name": "stderr",
     "output_type": "stream",
     "text": [
      "/var/folders/sb/50cj9frx6576wh5j6rbpnb6c0000gp/T/ipykernel_36568/1086096361.py:71: SettingWithCopyWarning: \n",
      "A value is trying to be set on a copy of a slice from a DataFrame.\n",
      "Try using .loc[row_indexer,col_indexer] = value instead\n",
      "\n",
      "See the caveats in the documentation: https://pandas.pydata.org/pandas-docs/stable/user_guide/indexing.html#returning-a-view-versus-a-copy\n",
      "  batch.loc[:, 'predicted_value'] = preds\n"
     ]
    },
    {
     "name": "stdout",
     "output_type": "stream",
     "text": [
      "MAE: 0.25458202433379784\n",
      "MSE: 0.15837953159288798\n",
      "RMSE: 0.397969259607935\n",
      "R2: 0.8406281871632947\n",
      "MAPE: 1.606033385812455\n"
     ]
    },
    {
     "name": "stderr",
     "output_type": "stream",
     "text": [
      "/var/folders/sb/50cj9frx6576wh5j6rbpnb6c0000gp/T/ipykernel_36568/1086096361.py:71: SettingWithCopyWarning: \n",
      "A value is trying to be set on a copy of a slice from a DataFrame.\n",
      "Try using .loc[row_indexer,col_indexer] = value instead\n",
      "\n",
      "See the caveats in the documentation: https://pandas.pydata.org/pandas-docs/stable/user_guide/indexing.html#returning-a-view-versus-a-copy\n",
      "  batch.loc[:, 'predicted_value'] = preds\n"
     ]
    },
    {
     "name": "stdout",
     "output_type": "stream",
     "text": [
      "MAE: 0.2545994263403781\n",
      "MSE: 0.1582224391822272\n",
      "RMSE: 0.39777184312395364\n",
      "R2: 0.8407945757364089\n",
      "MAPE: 1.6041922849150667\n"
     ]
    },
    {
     "name": "stderr",
     "output_type": "stream",
     "text": [
      "/var/folders/sb/50cj9frx6576wh5j6rbpnb6c0000gp/T/ipykernel_36568/1086096361.py:71: SettingWithCopyWarning: \n",
      "A value is trying to be set on a copy of a slice from a DataFrame.\n",
      "Try using .loc[row_indexer,col_indexer] = value instead\n",
      "\n",
      "See the caveats in the documentation: https://pandas.pydata.org/pandas-docs/stable/user_guide/indexing.html#returning-a-view-versus-a-copy\n",
      "  batch.loc[:, 'predicted_value'] = preds\n"
     ]
    },
    {
     "name": "stdout",
     "output_type": "stream",
     "text": [
      "MAE: 0.25454724498247555\n",
      "MSE: 0.15803014744639562\n",
      "RMSE: 0.3975300585445026\n",
      "R2: 0.8409624195816697\n",
      "MAPE: 1.6017083459537482\n"
     ]
    },
    {
     "name": "stderr",
     "output_type": "stream",
     "text": [
      "/var/folders/sb/50cj9frx6576wh5j6rbpnb6c0000gp/T/ipykernel_36568/1086096361.py:71: SettingWithCopyWarning: \n",
      "A value is trying to be set on a copy of a slice from a DataFrame.\n",
      "Try using .loc[row_indexer,col_indexer] = value instead\n",
      "\n",
      "See the caveats in the documentation: https://pandas.pydata.org/pandas-docs/stable/user_guide/indexing.html#returning-a-view-versus-a-copy\n",
      "  batch.loc[:, 'predicted_value'] = preds\n"
     ]
    },
    {
     "name": "stdout",
     "output_type": "stream",
     "text": [
      "MAE: 0.2544005659917478\n",
      "MSE: 0.15779908030998424\n",
      "RMSE: 0.39723932372058063\n",
      "R2: 0.8413333232688011\n",
      "MAPE: 1.6009460156861937\n"
     ]
    },
    {
     "name": "stderr",
     "output_type": "stream",
     "text": [
      "/var/folders/sb/50cj9frx6576wh5j6rbpnb6c0000gp/T/ipykernel_36568/1086096361.py:71: SettingWithCopyWarning: \n",
      "A value is trying to be set on a copy of a slice from a DataFrame.\n",
      "Try using .loc[row_indexer,col_indexer] = value instead\n",
      "\n",
      "See the caveats in the documentation: https://pandas.pydata.org/pandas-docs/stable/user_guide/indexing.html#returning-a-view-versus-a-copy\n",
      "  batch.loc[:, 'predicted_value'] = preds\n"
     ]
    },
    {
     "name": "stdout",
     "output_type": "stream",
     "text": [
      "MAE: 0.2542502324477621\n",
      "MSE: 0.15755918624455792\n",
      "RMSE: 0.3969372573147524\n",
      "R2: 0.8417062250622404\n",
      "MAPE: 1.6241041235419091\n"
     ]
    },
    {
     "name": "stderr",
     "output_type": "stream",
     "text": [
      "/var/folders/sb/50cj9frx6576wh5j6rbpnb6c0000gp/T/ipykernel_36568/1086096361.py:71: SettingWithCopyWarning: \n",
      "A value is trying to be set on a copy of a slice from a DataFrame.\n",
      "Try using .loc[row_indexer,col_indexer] = value instead\n",
      "\n",
      "See the caveats in the documentation: https://pandas.pydata.org/pandas-docs/stable/user_guide/indexing.html#returning-a-view-versus-a-copy\n",
      "  batch.loc[:, 'predicted_value'] = preds\n"
     ]
    },
    {
     "name": "stdout",
     "output_type": "stream",
     "text": [
      "MAE: 0.25429263161480037\n",
      "MSE: 0.15742606390114502\n",
      "RMSE: 0.3967695349962558\n",
      "R2: 0.8418211063132307\n",
      "MAPE: 1.6217187703048161\n"
     ]
    },
    {
     "name": "stderr",
     "output_type": "stream",
     "text": [
      "/var/folders/sb/50cj9frx6576wh5j6rbpnb6c0000gp/T/ipykernel_36568/1086096361.py:71: SettingWithCopyWarning: \n",
      "A value is trying to be set on a copy of a slice from a DataFrame.\n",
      "Try using .loc[row_indexer,col_indexer] = value instead\n",
      "\n",
      "See the caveats in the documentation: https://pandas.pydata.org/pandas-docs/stable/user_guide/indexing.html#returning-a-view-versus-a-copy\n",
      "  batch.loc[:, 'predicted_value'] = preds\n"
     ]
    },
    {
     "name": "stdout",
     "output_type": "stream",
     "text": [
      "MAE: 0.25417617073124255\n",
      "MSE: 0.15724104725454993\n",
      "RMSE: 0.39653631265566325\n",
      "R2: 0.8420899532314319\n",
      "MAPE: 1.620984896910347\n",
      "Experimenting with num_nearest_neighbors=500 and distance_metric=euclidean\n",
      "int64\n"
     ]
    },
    {
     "name": "stderr",
     "output_type": "stream",
     "text": [
      "/var/folders/sb/50cj9frx6576wh5j6rbpnb6c0000gp/T/ipykernel_36568/1086096361.py:71: SettingWithCopyWarning: \n",
      "A value is trying to be set on a copy of a slice from a DataFrame.\n",
      "Try using .loc[row_indexer,col_indexer] = value instead\n",
      "\n",
      "See the caveats in the documentation: https://pandas.pydata.org/pandas-docs/stable/user_guide/indexing.html#returning-a-view-versus-a-copy\n",
      "  batch.loc[:, 'predicted_value'] = preds\n"
     ]
    },
    {
     "name": "stdout",
     "output_type": "stream",
     "text": [
      "MAE: 0.25480567947026417\n",
      "MSE: 0.15838944139070926\n",
      "RMSE: 0.3979817098695734\n",
      "R2: 0.8409482545547569\n",
      "MAPE: 1.6198192880458655\n"
     ]
    },
    {
     "name": "stderr",
     "output_type": "stream",
     "text": [
      "/var/folders/sb/50cj9frx6576wh5j6rbpnb6c0000gp/T/ipykernel_36568/1086096361.py:71: SettingWithCopyWarning: \n",
      "A value is trying to be set on a copy of a slice from a DataFrame.\n",
      "Try using .loc[row_indexer,col_indexer] = value instead\n",
      "\n",
      "See the caveats in the documentation: https://pandas.pydata.org/pandas-docs/stable/user_guide/indexing.html#returning-a-view-versus-a-copy\n",
      "  batch.loc[:, 'predicted_value'] = preds\n"
     ]
    },
    {
     "name": "stdout",
     "output_type": "stream",
     "text": [
      "MAE: 0.25455644406658545\n",
      "MSE: 0.158088899081394\n",
      "RMSE: 0.3976039475173681\n",
      "R2: 0.8411020216739561\n",
      "MAPE: 1.6170612749067275\n"
     ]
    },
    {
     "name": "stderr",
     "output_type": "stream",
     "text": [
      "/var/folders/sb/50cj9frx6576wh5j6rbpnb6c0000gp/T/ipykernel_36568/1086096361.py:71: SettingWithCopyWarning: \n",
      "A value is trying to be set on a copy of a slice from a DataFrame.\n",
      "Try using .loc[row_indexer,col_indexer] = value instead\n",
      "\n",
      "See the caveats in the documentation: https://pandas.pydata.org/pandas-docs/stable/user_guide/indexing.html#returning-a-view-versus-a-copy\n",
      "  batch.loc[:, 'predicted_value'] = preds\n"
     ]
    },
    {
     "name": "stdout",
     "output_type": "stream",
     "text": [
      "MAE: 0.2543898343055687\n",
      "MSE: 0.15785252256147964\n",
      "RMSE: 0.39730658509705025\n",
      "R2: 0.8411132970267026\n",
      "MAPE: 1.615240471985883\n"
     ]
    },
    {
     "name": "stderr",
     "output_type": "stream",
     "text": [
      "/var/folders/sb/50cj9frx6576wh5j6rbpnb6c0000gp/T/ipykernel_36568/1086096361.py:71: SettingWithCopyWarning: \n",
      "A value is trying to be set on a copy of a slice from a DataFrame.\n",
      "Try using .loc[row_indexer,col_indexer] = value instead\n",
      "\n",
      "See the caveats in the documentation: https://pandas.pydata.org/pandas-docs/stable/user_guide/indexing.html#returning-a-view-versus-a-copy\n",
      "  batch.loc[:, 'predicted_value'] = preds\n"
     ]
    },
    {
     "name": "stdout",
     "output_type": "stream",
     "text": [
      "MAE: 0.2542403248567367\n",
      "MSE: 0.15759384920677863\n",
      "RMSE: 0.3969809179378508\n",
      "R2: 0.8411882534138432\n",
      "MAPE: 1.6133123229749613\n"
     ]
    },
    {
     "name": "stderr",
     "output_type": "stream",
     "text": [
      "/var/folders/sb/50cj9frx6576wh5j6rbpnb6c0000gp/T/ipykernel_36568/1086096361.py:71: SettingWithCopyWarning: \n",
      "A value is trying to be set on a copy of a slice from a DataFrame.\n",
      "Try using .loc[row_indexer,col_indexer] = value instead\n",
      "\n",
      "See the caveats in the documentation: https://pandas.pydata.org/pandas-docs/stable/user_guide/indexing.html#returning-a-view-versus-a-copy\n",
      "  batch.loc[:, 'predicted_value'] = preds\n"
     ]
    },
    {
     "name": "stdout",
     "output_type": "stream",
     "text": [
      "MAE: 0.25405320866042713\n",
      "MSE: 0.15734639560641636\n",
      "RMSE: 0.39666912610690586\n",
      "R2: 0.8413289041264262\n",
      "MAPE: 1.610512241921017\n"
     ]
    },
    {
     "name": "stderr",
     "output_type": "stream",
     "text": [
      "/var/folders/sb/50cj9frx6576wh5j6rbpnb6c0000gp/T/ipykernel_36568/1086096361.py:71: SettingWithCopyWarning: \n",
      "A value is trying to be set on a copy of a slice from a DataFrame.\n",
      "Try using .loc[row_indexer,col_indexer] = value instead\n",
      "\n",
      "See the caveats in the documentation: https://pandas.pydata.org/pandas-docs/stable/user_guide/indexing.html#returning-a-view-versus-a-copy\n",
      "  batch.loc[:, 'predicted_value'] = preds\n"
     ]
    },
    {
     "name": "stdout",
     "output_type": "stream",
     "text": [
      "MAE: 0.25409826012029174\n",
      "MSE: 0.1574038605755537\n",
      "RMSE: 0.39674155388055043\n",
      "R2: 0.841244301953238\n",
      "MAPE: 1.611867255515748\n"
     ]
    },
    {
     "name": "stderr",
     "output_type": "stream",
     "text": [
      "/var/folders/sb/50cj9frx6576wh5j6rbpnb6c0000gp/T/ipykernel_36568/1086096361.py:71: SettingWithCopyWarning: \n",
      "A value is trying to be set on a copy of a slice from a DataFrame.\n",
      "Try using .loc[row_indexer,col_indexer] = value instead\n",
      "\n",
      "See the caveats in the documentation: https://pandas.pydata.org/pandas-docs/stable/user_guide/indexing.html#returning-a-view-versus-a-copy\n",
      "  batch.loc[:, 'predicted_value'] = preds\n"
     ]
    },
    {
     "name": "stdout",
     "output_type": "stream",
     "text": [
      "MAE: 0.254573766944426\n",
      "MSE: 0.15829123272106438\n",
      "RMSE: 0.397858307342029\n",
      "R2: 0.8404233894995097\n",
      "MAPE: 1.6110134926564028\n"
     ]
    },
    {
     "name": "stderr",
     "output_type": "stream",
     "text": [
      "/var/folders/sb/50cj9frx6576wh5j6rbpnb6c0000gp/T/ipykernel_36568/1086096361.py:71: SettingWithCopyWarning: \n",
      "A value is trying to be set on a copy of a slice from a DataFrame.\n",
      "Try using .loc[row_indexer,col_indexer] = value instead\n",
      "\n",
      "See the caveats in the documentation: https://pandas.pydata.org/pandas-docs/stable/user_guide/indexing.html#returning-a-view-versus-a-copy\n",
      "  batch.loc[:, 'predicted_value'] = preds\n"
     ]
    },
    {
     "name": "stdout",
     "output_type": "stream",
     "text": [
      "MAE: 0.25469418210301725\n",
      "MSE: 0.15865551180157464\n",
      "RMSE: 0.39831584427634137\n",
      "R2: 0.840179501644523\n",
      "MAPE: 1.6102763109593612\n"
     ]
    },
    {
     "name": "stderr",
     "output_type": "stream",
     "text": [
      "/var/folders/sb/50cj9frx6576wh5j6rbpnb6c0000gp/T/ipykernel_36568/1086096361.py:71: SettingWithCopyWarning: \n",
      "A value is trying to be set on a copy of a slice from a DataFrame.\n",
      "Try using .loc[row_indexer,col_indexer] = value instead\n",
      "\n",
      "See the caveats in the documentation: https://pandas.pydata.org/pandas-docs/stable/user_guide/indexing.html#returning-a-view-versus-a-copy\n",
      "  batch.loc[:, 'predicted_value'] = preds\n"
     ]
    },
    {
     "name": "stdout",
     "output_type": "stream",
     "text": [
      "MAE: 0.25506689287710693\n",
      "MSE: 0.15901835118508753\n",
      "RMSE: 0.39877105108707117\n",
      "R2: 0.8397730103350372\n",
      "MAPE: 1.6087896752892519\n"
     ]
    },
    {
     "name": "stderr",
     "output_type": "stream",
     "text": [
      "/var/folders/sb/50cj9frx6576wh5j6rbpnb6c0000gp/T/ipykernel_36568/1086096361.py:71: SettingWithCopyWarning: \n",
      "A value is trying to be set on a copy of a slice from a DataFrame.\n",
      "Try using .loc[row_indexer,col_indexer] = value instead\n",
      "\n",
      "See the caveats in the documentation: https://pandas.pydata.org/pandas-docs/stable/user_guide/indexing.html#returning-a-view-versus-a-copy\n",
      "  batch.loc[:, 'predicted_value'] = preds\n"
     ]
    },
    {
     "name": "stdout",
     "output_type": "stream",
     "text": [
      "MAE: 0.2549989830854595\n",
      "MSE: 0.15884786442873172\n",
      "RMSE: 0.3985572285490902\n",
      "R2: 0.8399071318056073\n",
      "MAPE: 1.6079827578126602\n"
     ]
    },
    {
     "name": "stderr",
     "output_type": "stream",
     "text": [
      "/var/folders/sb/50cj9frx6576wh5j6rbpnb6c0000gp/T/ipykernel_36568/1086096361.py:71: SettingWithCopyWarning: \n",
      "A value is trying to be set on a copy of a slice from a DataFrame.\n",
      "Try using .loc[row_indexer,col_indexer] = value instead\n",
      "\n",
      "See the caveats in the documentation: https://pandas.pydata.org/pandas-docs/stable/user_guide/indexing.html#returning-a-view-versus-a-copy\n",
      "  batch.loc[:, 'predicted_value'] = preds\n"
     ]
    },
    {
     "name": "stdout",
     "output_type": "stream",
     "text": [
      "MAE: 0.25487621612313677\n",
      "MSE: 0.1586212743671517\n",
      "RMSE: 0.3982728642113993\n",
      "R2: 0.8401616313764533\n",
      "MAPE: 1.6064258568259537\n"
     ]
    },
    {
     "name": "stderr",
     "output_type": "stream",
     "text": [
      "/var/folders/sb/50cj9frx6576wh5j6rbpnb6c0000gp/T/ipykernel_36568/1086096361.py:71: SettingWithCopyWarning: \n",
      "A value is trying to be set on a copy of a slice from a DataFrame.\n",
      "Try using .loc[row_indexer,col_indexer] = value instead\n",
      "\n",
      "See the caveats in the documentation: https://pandas.pydata.org/pandas-docs/stable/user_guide/indexing.html#returning-a-view-versus-a-copy\n",
      "  batch.loc[:, 'predicted_value'] = preds\n"
     ]
    },
    {
     "name": "stdout",
     "output_type": "stream",
     "text": [
      "MAE: 0.2547635691716461\n",
      "MSE: 0.15842294556685393\n",
      "RMSE: 0.39802380025176126\n",
      "R2: 0.8404386628874829\n",
      "MAPE: 1.6056122043779926\n"
     ]
    },
    {
     "name": "stderr",
     "output_type": "stream",
     "text": [
      "/var/folders/sb/50cj9frx6576wh5j6rbpnb6c0000gp/T/ipykernel_36568/1086096361.py:71: SettingWithCopyWarning: \n",
      "A value is trying to be set on a copy of a slice from a DataFrame.\n",
      "Try using .loc[row_indexer,col_indexer] = value instead\n",
      "\n",
      "See the caveats in the documentation: https://pandas.pydata.org/pandas-docs/stable/user_guide/indexing.html#returning-a-view-versus-a-copy\n",
      "  batch.loc[:, 'predicted_value'] = preds\n"
     ]
    },
    {
     "name": "stdout",
     "output_type": "stream",
     "text": [
      "MAE: 0.2546848673701374\n",
      "MSE: 0.15824204336616565\n",
      "RMSE: 0.3977964848589862\n",
      "R2: 0.8406960297397332\n",
      "MAPE: 1.6108558887049484\n"
     ]
    },
    {
     "name": "stderr",
     "output_type": "stream",
     "text": [
      "/var/folders/sb/50cj9frx6576wh5j6rbpnb6c0000gp/T/ipykernel_36568/1086096361.py:71: SettingWithCopyWarning: \n",
      "A value is trying to be set on a copy of a slice from a DataFrame.\n",
      "Try using .loc[row_indexer,col_indexer] = value instead\n",
      "\n",
      "See the caveats in the documentation: https://pandas.pydata.org/pandas-docs/stable/user_guide/indexing.html#returning-a-view-versus-a-copy\n",
      "  batch.loc[:, 'predicted_value'] = preds\n"
     ]
    },
    {
     "name": "stdout",
     "output_type": "stream",
     "text": [
      "MAE: 0.2544924936329916\n",
      "MSE: 0.15798202237524894\n",
      "RMSE: 0.3974695238320153\n",
      "R2: 0.8410473315741189\n",
      "MAPE: 1.6134405804304255\n"
     ]
    },
    {
     "name": "stderr",
     "output_type": "stream",
     "text": [
      "/var/folders/sb/50cj9frx6576wh5j6rbpnb6c0000gp/T/ipykernel_36568/1086096361.py:71: SettingWithCopyWarning: \n",
      "A value is trying to be set on a copy of a slice from a DataFrame.\n",
      "Try using .loc[row_indexer,col_indexer] = value instead\n",
      "\n",
      "See the caveats in the documentation: https://pandas.pydata.org/pandas-docs/stable/user_guide/indexing.html#returning-a-view-versus-a-copy\n",
      "  batch.loc[:, 'predicted_value'] = preds\n"
     ]
    },
    {
     "name": "stdout",
     "output_type": "stream",
     "text": [
      "MAE: 0.2544668768414322\n",
      "MSE: 0.15780810947889237\n",
      "RMSE: 0.3972506884561591\n",
      "R2: 0.8412590539220712\n",
      "MAPE: 1.6147026118654733\n"
     ]
    },
    {
     "name": "stderr",
     "output_type": "stream",
     "text": [
      "/var/folders/sb/50cj9frx6576wh5j6rbpnb6c0000gp/T/ipykernel_36568/1086096361.py:71: SettingWithCopyWarning: \n",
      "A value is trying to be set on a copy of a slice from a DataFrame.\n",
      "Try using .loc[row_indexer,col_indexer] = value instead\n",
      "\n",
      "See the caveats in the documentation: https://pandas.pydata.org/pandas-docs/stable/user_guide/indexing.html#returning-a-view-versus-a-copy\n",
      "  batch.loc[:, 'predicted_value'] = preds\n"
     ]
    },
    {
     "name": "stdout",
     "output_type": "stream",
     "text": [
      "MAE: 0.2543885317585224\n",
      "MSE: 0.15761868814497715\n",
      "RMSE: 0.3970122015064237\n",
      "R2: 0.8414567448637038\n",
      "MAPE: 1.6124744331444079\n"
     ]
    },
    {
     "name": "stderr",
     "output_type": "stream",
     "text": [
      "/var/folders/sb/50cj9frx6576wh5j6rbpnb6c0000gp/T/ipykernel_36568/1086096361.py:71: SettingWithCopyWarning: \n",
      "A value is trying to be set on a copy of a slice from a DataFrame.\n",
      "Try using .loc[row_indexer,col_indexer] = value instead\n",
      "\n",
      "See the caveats in the documentation: https://pandas.pydata.org/pandas-docs/stable/user_guide/indexing.html#returning-a-view-versus-a-copy\n",
      "  batch.loc[:, 'predicted_value'] = preds\n"
     ]
    },
    {
     "name": "stdout",
     "output_type": "stream",
     "text": [
      "MAE: 0.2542239758237426\n",
      "MSE: 0.1573835476299423\n",
      "RMSE: 0.39671595333429976\n",
      "R2: 0.8418040629906196\n",
      "MAPE: 1.6116898880172879\n"
     ]
    },
    {
     "name": "stderr",
     "output_type": "stream",
     "text": [
      "/var/folders/sb/50cj9frx6576wh5j6rbpnb6c0000gp/T/ipykernel_36568/1086096361.py:71: SettingWithCopyWarning: \n",
      "A value is trying to be set on a copy of a slice from a DataFrame.\n",
      "Try using .loc[row_indexer,col_indexer] = value instead\n",
      "\n",
      "See the caveats in the documentation: https://pandas.pydata.org/pandas-docs/stable/user_guide/indexing.html#returning-a-view-versus-a-copy\n",
      "  batch.loc[:, 'predicted_value'] = preds\n"
     ]
    },
    {
     "name": "stdout",
     "output_type": "stream",
     "text": [
      "MAE: 0.254076922068893\n",
      "MSE: 0.1571470478323459\n",
      "RMSE: 0.3964177693196231\n",
      "R2: 0.8421459500313392\n",
      "MAPE: 1.6202132280951302\n"
     ]
    },
    {
     "name": "stderr",
     "output_type": "stream",
     "text": [
      "/var/folders/sb/50cj9frx6576wh5j6rbpnb6c0000gp/T/ipykernel_36568/1086096361.py:71: SettingWithCopyWarning: \n",
      "A value is trying to be set on a copy of a slice from a DataFrame.\n",
      "Try using .loc[row_indexer,col_indexer] = value instead\n",
      "\n",
      "See the caveats in the documentation: https://pandas.pydata.org/pandas-docs/stable/user_guide/indexing.html#returning-a-view-versus-a-copy\n",
      "  batch.loc[:, 'predicted_value'] = preds\n"
     ]
    },
    {
     "name": "stdout",
     "output_type": "stream",
     "text": [
      "MAE: 0.25406498136507527\n",
      "MSE: 0.15700943734022055\n",
      "RMSE: 0.3962441637932609\n",
      "R2: 0.8422727254914228\n",
      "MAPE: 1.6179385877472494\n"
     ]
    },
    {
     "name": "stderr",
     "output_type": "stream",
     "text": [
      "/var/folders/sb/50cj9frx6576wh5j6rbpnb6c0000gp/T/ipykernel_36568/1086096361.py:71: SettingWithCopyWarning: \n",
      "A value is trying to be set on a copy of a slice from a DataFrame.\n",
      "Try using .loc[row_indexer,col_indexer] = value instead\n",
      "\n",
      "See the caveats in the documentation: https://pandas.pydata.org/pandas-docs/stable/user_guide/indexing.html#returning-a-view-versus-a-copy\n",
      "  batch.loc[:, 'predicted_value'] = preds\n"
     ]
    },
    {
     "name": "stdout",
     "output_type": "stream",
     "text": [
      "MAE: 0.25400126141153495\n",
      "MSE: 0.1568587730232872\n",
      "RMSE: 0.3960540026603534\n",
      "R2: 0.84250589758447\n",
      "MAPE: 1.6173933793918336\n",
      "Experimenting with num_nearest_neighbors=500 and distance_metric=chebyshev\n",
      "int64\n"
     ]
    },
    {
     "name": "stderr",
     "output_type": "stream",
     "text": [
      "/var/folders/sb/50cj9frx6576wh5j6rbpnb6c0000gp/T/ipykernel_36568/1086096361.py:71: SettingWithCopyWarning: \n",
      "A value is trying to be set on a copy of a slice from a DataFrame.\n",
      "Try using .loc[row_indexer,col_indexer] = value instead\n",
      "\n",
      "See the caveats in the documentation: https://pandas.pydata.org/pandas-docs/stable/user_guide/indexing.html#returning-a-view-versus-a-copy\n",
      "  batch.loc[:, 'predicted_value'] = preds\n"
     ]
    },
    {
     "name": "stdout",
     "output_type": "stream",
     "text": [
      "MAE: 0.2540945426438885\n",
      "MSE: 0.15703538425657435\n",
      "RMSE: 0.39627690351138856\n",
      "R2: 0.8424195557200868\n",
      "MAPE: 1.6157535321689354\n"
     ]
    },
    {
     "name": "stderr",
     "output_type": "stream",
     "text": [
      "/var/folders/sb/50cj9frx6576wh5j6rbpnb6c0000gp/T/ipykernel_36568/1086096361.py:71: SettingWithCopyWarning: \n",
      "A value is trying to be set on a copy of a slice from a DataFrame.\n",
      "Try using .loc[row_indexer,col_indexer] = value instead\n",
      "\n",
      "See the caveats in the documentation: https://pandas.pydata.org/pandas-docs/stable/user_guide/indexing.html#returning-a-view-versus-a-copy\n",
      "  batch.loc[:, 'predicted_value'] = preds\n"
     ]
    },
    {
     "name": "stdout",
     "output_type": "stream",
     "text": [
      "MAE: 0.2536913516069736\n",
      "MSE: 0.15669285689010115\n",
      "RMSE: 0.3958444857391614\n",
      "R2: 0.8425794925838723\n",
      "MAPE: 1.6124583960954693\n"
     ]
    },
    {
     "name": "stderr",
     "output_type": "stream",
     "text": [
      "/var/folders/sb/50cj9frx6576wh5j6rbpnb6c0000gp/T/ipykernel_36568/1086096361.py:71: SettingWithCopyWarning: \n",
      "A value is trying to be set on a copy of a slice from a DataFrame.\n",
      "Try using .loc[row_indexer,col_indexer] = value instead\n",
      "\n",
      "See the caveats in the documentation: https://pandas.pydata.org/pandas-docs/stable/user_guide/indexing.html#returning-a-view-versus-a-copy\n",
      "  batch.loc[:, 'predicted_value'] = preds\n"
     ]
    },
    {
     "name": "stdout",
     "output_type": "stream",
     "text": [
      "MAE: 0.2534108358938997\n",
      "MSE: 0.15641717988099857\n",
      "RMSE: 0.39549611866742584\n",
      "R2: 0.8426253728295187\n",
      "MAPE: 1.6106091057864838\n"
     ]
    },
    {
     "name": "stderr",
     "output_type": "stream",
     "text": [
      "/var/folders/sb/50cj9frx6576wh5j6rbpnb6c0000gp/T/ipykernel_36568/1086096361.py:71: SettingWithCopyWarning: \n",
      "A value is trying to be set on a copy of a slice from a DataFrame.\n",
      "Try using .loc[row_indexer,col_indexer] = value instead\n",
      "\n",
      "See the caveats in the documentation: https://pandas.pydata.org/pandas-docs/stable/user_guide/indexing.html#returning-a-view-versus-a-copy\n",
      "  batch.loc[:, 'predicted_value'] = preds\n"
     ]
    },
    {
     "name": "stdout",
     "output_type": "stream",
     "text": [
      "MAE: 0.2532344335117001\n",
      "MSE: 0.15617717749803758\n",
      "RMSE: 0.39519258279734654\n",
      "R2: 0.8426845808204433\n",
      "MAPE: 1.60934459994323\n"
     ]
    },
    {
     "name": "stderr",
     "output_type": "stream",
     "text": [
      "/var/folders/sb/50cj9frx6576wh5j6rbpnb6c0000gp/T/ipykernel_36568/1086096361.py:71: SettingWithCopyWarning: \n",
      "A value is trying to be set on a copy of a slice from a DataFrame.\n",
      "Try using .loc[row_indexer,col_indexer] = value instead\n",
      "\n",
      "See the caveats in the documentation: https://pandas.pydata.org/pandas-docs/stable/user_guide/indexing.html#returning-a-view-versus-a-copy\n",
      "  batch.loc[:, 'predicted_value'] = preds\n"
     ]
    },
    {
     "name": "stdout",
     "output_type": "stream",
     "text": [
      "MAE: 0.2530600067721617\n",
      "MSE: 0.15595045874392116\n",
      "RMSE: 0.39490563270725976\n",
      "R2: 0.8428328464935406\n",
      "MAPE: 1.6068333827340338\n"
     ]
    },
    {
     "name": "stderr",
     "output_type": "stream",
     "text": [
      "/var/folders/sb/50cj9frx6576wh5j6rbpnb6c0000gp/T/ipykernel_36568/1086096361.py:71: SettingWithCopyWarning: \n",
      "A value is trying to be set on a copy of a slice from a DataFrame.\n",
      "Try using .loc[row_indexer,col_indexer] = value instead\n",
      "\n",
      "See the caveats in the documentation: https://pandas.pydata.org/pandas-docs/stable/user_guide/indexing.html#returning-a-view-versus-a-copy\n",
      "  batch.loc[:, 'predicted_value'] = preds\n"
     ]
    },
    {
     "name": "stdout",
     "output_type": "stream",
     "text": [
      "MAE: 0.25305545728912404\n",
      "MSE: 0.156064433889209\n",
      "RMSE: 0.3950499131618801\n",
      "R2: 0.8427468134549557\n",
      "MAPE: 1.6050363945907558\n"
     ]
    },
    {
     "name": "stderr",
     "output_type": "stream",
     "text": [
      "/var/folders/sb/50cj9frx6576wh5j6rbpnb6c0000gp/T/ipykernel_36568/1086096361.py:71: SettingWithCopyWarning: \n",
      "A value is trying to be set on a copy of a slice from a DataFrame.\n",
      "Try using .loc[row_indexer,col_indexer] = value instead\n",
      "\n",
      "See the caveats in the documentation: https://pandas.pydata.org/pandas-docs/stable/user_guide/indexing.html#returning-a-view-versus-a-copy\n",
      "  batch.loc[:, 'predicted_value'] = preds\n"
     ]
    },
    {
     "name": "stdout",
     "output_type": "stream",
     "text": [
      "MAE: 0.25342828034239506\n",
      "MSE: 0.15653477748252964\n",
      "RMSE: 0.3956447617276509\n",
      "R2: 0.8422972473679249\n",
      "MAPE: 1.603360386135882\n"
     ]
    },
    {
     "name": "stderr",
     "output_type": "stream",
     "text": [
      "/var/folders/sb/50cj9frx6576wh5j6rbpnb6c0000gp/T/ipykernel_36568/1086096361.py:71: SettingWithCopyWarning: \n",
      "A value is trying to be set on a copy of a slice from a DataFrame.\n",
      "Try using .loc[row_indexer,col_indexer] = value instead\n",
      "\n",
      "See the caveats in the documentation: https://pandas.pydata.org/pandas-docs/stable/user_guide/indexing.html#returning-a-view-versus-a-copy\n",
      "  batch.loc[:, 'predicted_value'] = preds\n"
     ]
    },
    {
     "name": "stdout",
     "output_type": "stream",
     "text": [
      "MAE: 0.25368109155922347\n",
      "MSE: 0.15722027358049628\n",
      "RMSE: 0.3965101178790981\n",
      "R2: 0.8416087782898685\n",
      "MAPE: 1.6017576355856784\n"
     ]
    },
    {
     "name": "stderr",
     "output_type": "stream",
     "text": [
      "/var/folders/sb/50cj9frx6576wh5j6rbpnb6c0000gp/T/ipykernel_36568/1086096361.py:71: SettingWithCopyWarning: \n",
      "A value is trying to be set on a copy of a slice from a DataFrame.\n",
      "Try using .loc[row_indexer,col_indexer] = value instead\n",
      "\n",
      "See the caveats in the documentation: https://pandas.pydata.org/pandas-docs/stable/user_guide/indexing.html#returning-a-view-versus-a-copy\n",
      "  batch.loc[:, 'predicted_value'] = preds\n"
     ]
    },
    {
     "name": "stdout",
     "output_type": "stream",
     "text": [
      "MAE: 0.253635575523337\n",
      "MSE: 0.15707153102350027\n",
      "RMSE: 0.3963225088529546\n",
      "R2: 0.8417495135925201\n",
      "MAPE: 1.5997418519204736\n"
     ]
    },
    {
     "name": "stderr",
     "output_type": "stream",
     "text": [
      "/var/folders/sb/50cj9frx6576wh5j6rbpnb6c0000gp/T/ipykernel_36568/1086096361.py:71: SettingWithCopyWarning: \n",
      "A value is trying to be set on a copy of a slice from a DataFrame.\n",
      "Try using .loc[row_indexer,col_indexer] = value instead\n",
      "\n",
      "See the caveats in the documentation: https://pandas.pydata.org/pandas-docs/stable/user_guide/indexing.html#returning-a-view-versus-a-copy\n",
      "  batch.loc[:, 'predicted_value'] = preds\n"
     ]
    },
    {
     "name": "stdout",
     "output_type": "stream",
     "text": [
      "MAE: 0.25364418341052075\n",
      "MSE: 0.15695178682676075\n",
      "RMSE: 0.3961714109154783\n",
      "R2: 0.8418589470593493\n",
      "MAPE: 1.5979632488956632\n"
     ]
    },
    {
     "name": "stderr",
     "output_type": "stream",
     "text": [
      "/var/folders/sb/50cj9frx6576wh5j6rbpnb6c0000gp/T/ipykernel_36568/1086096361.py:71: SettingWithCopyWarning: \n",
      "A value is trying to be set on a copy of a slice from a DataFrame.\n",
      "Try using .loc[row_indexer,col_indexer] = value instead\n",
      "\n",
      "See the caveats in the documentation: https://pandas.pydata.org/pandas-docs/stable/user_guide/indexing.html#returning-a-view-versus-a-copy\n",
      "  batch.loc[:, 'predicted_value'] = preds\n"
     ]
    },
    {
     "name": "stdout",
     "output_type": "stream",
     "text": [
      "MAE: 0.2535446397176123\n",
      "MSE: 0.15676793266730984\n",
      "RMSE: 0.39593930427189195\n",
      "R2: 0.8421327187581786\n",
      "MAPE: 1.6224032848745422\n"
     ]
    },
    {
     "name": "stderr",
     "output_type": "stream",
     "text": [
      "/var/folders/sb/50cj9frx6576wh5j6rbpnb6c0000gp/T/ipykernel_36568/1086096361.py:71: SettingWithCopyWarning: \n",
      "A value is trying to be set on a copy of a slice from a DataFrame.\n",
      "Try using .loc[row_indexer,col_indexer] = value instead\n",
      "\n",
      "See the caveats in the documentation: https://pandas.pydata.org/pandas-docs/stable/user_guide/indexing.html#returning-a-view-versus-a-copy\n",
      "  batch.loc[:, 'predicted_value'] = preds\n"
     ]
    },
    {
     "name": "stdout",
     "output_type": "stream",
     "text": [
      "MAE: 0.25351118653675453\n",
      "MSE: 0.15663964337814518\n",
      "RMSE: 0.39577726485757764\n",
      "R2: 0.8422827019501915\n",
      "MAPE: 1.622148353448445\n"
     ]
    },
    {
     "name": "stderr",
     "output_type": "stream",
     "text": [
      "/var/folders/sb/50cj9frx6576wh5j6rbpnb6c0000gp/T/ipykernel_36568/1086096361.py:71: SettingWithCopyWarning: \n",
      "A value is trying to be set on a copy of a slice from a DataFrame.\n",
      "Try using .loc[row_indexer,col_indexer] = value instead\n",
      "\n",
      "See the caveats in the documentation: https://pandas.pydata.org/pandas-docs/stable/user_guide/indexing.html#returning-a-view-versus-a-copy\n",
      "  batch.loc[:, 'predicted_value'] = preds\n"
     ]
    },
    {
     "name": "stdout",
     "output_type": "stream",
     "text": [
      "MAE: 0.25341395506199893\n",
      "MSE: 0.15644640285120268\n",
      "RMSE: 0.3955330616411259\n",
      "R2: 0.8425424973788593\n",
      "MAPE: 1.6311103366179724\n"
     ]
    },
    {
     "name": "stderr",
     "output_type": "stream",
     "text": [
      "/var/folders/sb/50cj9frx6576wh5j6rbpnb6c0000gp/T/ipykernel_36568/1086096361.py:71: SettingWithCopyWarning: \n",
      "A value is trying to be set on a copy of a slice from a DataFrame.\n",
      "Try using .loc[row_indexer,col_indexer] = value instead\n",
      "\n",
      "See the caveats in the documentation: https://pandas.pydata.org/pandas-docs/stable/user_guide/indexing.html#returning-a-view-versus-a-copy\n",
      "  batch.loc[:, 'predicted_value'] = preds\n"
     ]
    },
    {
     "name": "stdout",
     "output_type": "stream",
     "text": [
      "MAE: 0.2532752120872265\n",
      "MSE: 0.15622052250255322\n",
      "RMSE: 0.39524741934964386\n",
      "R2: 0.8428292110756801\n",
      "MAPE: 1.6305664178541928\n"
     ]
    },
    {
     "name": "stderr",
     "output_type": "stream",
     "text": [
      "/var/folders/sb/50cj9frx6576wh5j6rbpnb6c0000gp/T/ipykernel_36568/1086096361.py:71: SettingWithCopyWarning: \n",
      "A value is trying to be set on a copy of a slice from a DataFrame.\n",
      "Try using .loc[row_indexer,col_indexer] = value instead\n",
      "\n",
      "See the caveats in the documentation: https://pandas.pydata.org/pandas-docs/stable/user_guide/indexing.html#returning-a-view-versus-a-copy\n",
      "  batch.loc[:, 'predicted_value'] = preds\n"
     ]
    },
    {
     "name": "stdout",
     "output_type": "stream",
     "text": [
      "MAE: 0.2532160041407762\n",
      "MSE: 0.1560332577417654\n",
      "RMSE: 0.3950104526993753\n",
      "R2: 0.8430390745018214\n",
      "MAPE: 1.6280871454117185\n"
     ]
    },
    {
     "name": "stderr",
     "output_type": "stream",
     "text": [
      "/var/folders/sb/50cj9frx6576wh5j6rbpnb6c0000gp/T/ipykernel_36568/1086096361.py:71: SettingWithCopyWarning: \n",
      "A value is trying to be set on a copy of a slice from a DataFrame.\n",
      "Try using .loc[row_indexer,col_indexer] = value instead\n",
      "\n",
      "See the caveats in the documentation: https://pandas.pydata.org/pandas-docs/stable/user_guide/indexing.html#returning-a-view-versus-a-copy\n",
      "  batch.loc[:, 'predicted_value'] = preds\n"
     ]
    },
    {
     "name": "stdout",
     "output_type": "stream",
     "text": [
      "MAE: 0.25310536420863394\n",
      "MSE: 0.1558294945417344\n",
      "RMSE: 0.3947524471637059\n",
      "R2: 0.8432779178801973\n",
      "MAPE: 1.6254948978879045\n"
     ]
    },
    {
     "name": "stderr",
     "output_type": "stream",
     "text": [
      "/var/folders/sb/50cj9frx6576wh5j6rbpnb6c0000gp/T/ipykernel_36568/1086096361.py:71: SettingWithCopyWarning: \n",
      "A value is trying to be set on a copy of a slice from a DataFrame.\n",
      "Try using .loc[row_indexer,col_indexer] = value instead\n",
      "\n",
      "See the caveats in the documentation: https://pandas.pydata.org/pandas-docs/stable/user_guide/indexing.html#returning-a-view-versus-a-copy\n",
      "  batch.loc[:, 'predicted_value'] = preds\n"
     ]
    },
    {
     "name": "stdout",
     "output_type": "stream",
     "text": [
      "MAE: 0.2530268586778819\n",
      "MSE: 0.15564758834897313\n",
      "RMSE: 0.3945219744817431\n",
      "R2: 0.8435554686934194\n",
      "MAPE: 1.62483793308786\n"
     ]
    },
    {
     "name": "stderr",
     "output_type": "stream",
     "text": [
      "/var/folders/sb/50cj9frx6576wh5j6rbpnb6c0000gp/T/ipykernel_36568/1086096361.py:71: SettingWithCopyWarning: \n",
      "A value is trying to be set on a copy of a slice from a DataFrame.\n",
      "Try using .loc[row_indexer,col_indexer] = value instead\n",
      "\n",
      "See the caveats in the documentation: https://pandas.pydata.org/pandas-docs/stable/user_guide/indexing.html#returning-a-view-versus-a-copy\n",
      "  batch.loc[:, 'predicted_value'] = preds\n"
     ]
    },
    {
     "name": "stdout",
     "output_type": "stream",
     "text": [
      "MAE: 0.2528718204235357\n",
      "MSE: 0.15542117048150753\n",
      "RMSE: 0.3942349178871749\n",
      "R2: 0.843869030938128\n",
      "MAPE: 1.6240682100558774\n"
     ]
    },
    {
     "name": "stderr",
     "output_type": "stream",
     "text": [
      "/var/folders/sb/50cj9frx6576wh5j6rbpnb6c0000gp/T/ipykernel_36568/1086096361.py:71: SettingWithCopyWarning: \n",
      "A value is trying to be set on a copy of a slice from a DataFrame.\n",
      "Try using .loc[row_indexer,col_indexer] = value instead\n",
      "\n",
      "See the caveats in the documentation: https://pandas.pydata.org/pandas-docs/stable/user_guide/indexing.html#returning-a-view-versus-a-copy\n",
      "  batch.loc[:, 'predicted_value'] = preds\n"
     ]
    },
    {
     "name": "stdout",
     "output_type": "stream",
     "text": [
      "MAE: 0.25285631204807985\n",
      "MSE: 0.15528395271394055\n",
      "RMSE: 0.39406084899916227\n",
      "R2: 0.8440191023630446\n",
      "MAPE: 1.6231917150688682\n"
     ]
    },
    {
     "name": "stderr",
     "output_type": "stream",
     "text": [
      "/var/folders/sb/50cj9frx6576wh5j6rbpnb6c0000gp/T/ipykernel_36568/1086096361.py:71: SettingWithCopyWarning: \n",
      "A value is trying to be set on a copy of a slice from a DataFrame.\n",
      "Try using .loc[row_indexer,col_indexer] = value instead\n",
      "\n",
      "See the caveats in the documentation: https://pandas.pydata.org/pandas-docs/stable/user_guide/indexing.html#returning-a-view-versus-a-copy\n",
      "  batch.loc[:, 'predicted_value'] = preds\n"
     ]
    },
    {
     "name": "stdout",
     "output_type": "stream",
     "text": [
      "MAE: 0.2527521775177726\n",
      "MSE: 0.15515281100344583\n",
      "RMSE: 0.3938944160602506\n",
      "R2: 0.8442459709228609\n",
      "MAPE: 1.6238597576337965\n",
      "Experimenting with num_nearest_neighbors=500 and distance_metric=dtw\n",
      "int64\n"
     ]
    },
    {
     "name": "stderr",
     "output_type": "stream",
     "text": [
      "/var/folders/sb/50cj9frx6576wh5j6rbpnb6c0000gp/T/ipykernel_36568/1086096361.py:71: SettingWithCopyWarning: \n",
      "A value is trying to be set on a copy of a slice from a DataFrame.\n",
      "Try using .loc[row_indexer,col_indexer] = value instead\n",
      "\n",
      "See the caveats in the documentation: https://pandas.pydata.org/pandas-docs/stable/user_guide/indexing.html#returning-a-view-versus-a-copy\n",
      "  batch.loc[:, 'predicted_value'] = preds\n"
     ]
    },
    {
     "name": "stdout",
     "output_type": "stream",
     "text": [
      "MAE: 0.25325901240854115\n",
      "MSE: 0.155790561708984\n",
      "RMSE: 0.3947031311111986\n",
      "R2: 0.8436612606970749\n",
      "MAPE: 1.6216828674408137\n"
     ]
    },
    {
     "name": "stderr",
     "output_type": "stream",
     "text": [
      "/var/folders/sb/50cj9frx6576wh5j6rbpnb6c0000gp/T/ipykernel_36568/1086096361.py:71: SettingWithCopyWarning: \n",
      "A value is trying to be set on a copy of a slice from a DataFrame.\n",
      "Try using .loc[row_indexer,col_indexer] = value instead\n",
      "\n",
      "See the caveats in the documentation: https://pandas.pydata.org/pandas-docs/stable/user_guide/indexing.html#returning-a-view-versus-a-copy\n",
      "  batch.loc[:, 'predicted_value'] = preds\n"
     ]
    },
    {
     "name": "stdout",
     "output_type": "stream",
     "text": [
      "MAE: 0.25291653962763205\n",
      "MSE: 0.15549100006115324\n",
      "RMSE: 0.3943234713546142\n",
      "R2: 0.8438048282752212\n",
      "MAPE: 1.6185900501045172\n"
     ]
    },
    {
     "name": "stderr",
     "output_type": "stream",
     "text": [
      "/var/folders/sb/50cj9frx6576wh5j6rbpnb6c0000gp/T/ipykernel_36568/1086096361.py:71: SettingWithCopyWarning: \n",
      "A value is trying to be set on a copy of a slice from a DataFrame.\n",
      "Try using .loc[row_indexer,col_indexer] = value instead\n",
      "\n",
      "See the caveats in the documentation: https://pandas.pydata.org/pandas-docs/stable/user_guide/indexing.html#returning-a-view-versus-a-copy\n",
      "  batch.loc[:, 'predicted_value'] = preds\n"
     ]
    },
    {
     "name": "stdout",
     "output_type": "stream",
     "text": [
      "MAE: 0.2527902309353184\n",
      "MSE: 0.15530164725276457\n",
      "RMSE: 0.3940832998907269\n",
      "R2: 0.8437914823726844\n",
      "MAPE: 1.6170272276689839\n"
     ]
    },
    {
     "name": "stderr",
     "output_type": "stream",
     "text": [
      "/var/folders/sb/50cj9frx6576wh5j6rbpnb6c0000gp/T/ipykernel_36568/1086096361.py:71: SettingWithCopyWarning: \n",
      "A value is trying to be set on a copy of a slice from a DataFrame.\n",
      "Try using .loc[row_indexer,col_indexer] = value instead\n",
      "\n",
      "See the caveats in the documentation: https://pandas.pydata.org/pandas-docs/stable/user_guide/indexing.html#returning-a-view-versus-a-copy\n",
      "  batch.loc[:, 'predicted_value'] = preds\n"
     ]
    },
    {
     "name": "stdout",
     "output_type": "stream",
     "text": [
      "MAE: 0.25254631290383567\n",
      "MSE: 0.1550296318673567\n",
      "RMSE: 0.39373802441135486\n",
      "R2: 0.8439526929532705\n",
      "MAPE: 1.6143882092209094\n"
     ]
    },
    {
     "name": "stderr",
     "output_type": "stream",
     "text": [
      "/var/folders/sb/50cj9frx6576wh5j6rbpnb6c0000gp/T/ipykernel_36568/1086096361.py:71: SettingWithCopyWarning: \n",
      "A value is trying to be set on a copy of a slice from a DataFrame.\n",
      "Try using .loc[row_indexer,col_indexer] = value instead\n",
      "\n",
      "See the caveats in the documentation: https://pandas.pydata.org/pandas-docs/stable/user_guide/indexing.html#returning-a-view-versus-a-copy\n",
      "  batch.loc[:, 'predicted_value'] = preds\n"
     ]
    },
    {
     "name": "stdout",
     "output_type": "stream",
     "text": [
      "MAE: 0.2525105641448816\n",
      "MSE: 0.1549063870824229\n",
      "RMSE: 0.39358148722014724\n",
      "R2: 0.8439760151580442\n",
      "MAPE: 1.617110810677946\n"
     ]
    },
    {
     "name": "stderr",
     "output_type": "stream",
     "text": [
      "/var/folders/sb/50cj9frx6576wh5j6rbpnb6c0000gp/T/ipykernel_36568/1086096361.py:71: SettingWithCopyWarning: \n",
      "A value is trying to be set on a copy of a slice from a DataFrame.\n",
      "Try using .loc[row_indexer,col_indexer] = value instead\n",
      "\n",
      "See the caveats in the documentation: https://pandas.pydata.org/pandas-docs/stable/user_guide/indexing.html#returning-a-view-versus-a-copy\n",
      "  batch.loc[:, 'predicted_value'] = preds\n"
     ]
    },
    {
     "name": "stdout",
     "output_type": "stream",
     "text": [
      "MAE: 0.2527997286449834\n",
      "MSE: 0.1555673173371125\n",
      "RMSE: 0.39442022937105103\n",
      "R2: 0.8434244919484215\n",
      "MAPE: 1.6150876241129715\n"
     ]
    },
    {
     "name": "stderr",
     "output_type": "stream",
     "text": [
      "/var/folders/sb/50cj9frx6576wh5j6rbpnb6c0000gp/T/ipykernel_36568/1086096361.py:71: SettingWithCopyWarning: \n",
      "A value is trying to be set on a copy of a slice from a DataFrame.\n",
      "Try using .loc[row_indexer,col_indexer] = value instead\n",
      "\n",
      "See the caveats in the documentation: https://pandas.pydata.org/pandas-docs/stable/user_guide/indexing.html#returning-a-view-versus-a-copy\n",
      "  batch.loc[:, 'predicted_value'] = preds\n"
     ]
    },
    {
     "name": "stdout",
     "output_type": "stream",
     "text": [
      "MAE: 0.25298718133945036\n",
      "MSE: 0.15570564853367994\n",
      "RMSE: 0.39459555057511725\n",
      "R2: 0.8433006184527856\n",
      "MAPE: 1.6148953862981545\n"
     ]
    },
    {
     "name": "stderr",
     "output_type": "stream",
     "text": [
      "/var/folders/sb/50cj9frx6576wh5j6rbpnb6c0000gp/T/ipykernel_36568/1086096361.py:71: SettingWithCopyWarning: \n",
      "A value is trying to be set on a copy of a slice from a DataFrame.\n",
      "Try using .loc[row_indexer,col_indexer] = value instead\n",
      "\n",
      "See the caveats in the documentation: https://pandas.pydata.org/pandas-docs/stable/user_guide/indexing.html#returning-a-view-versus-a-copy\n",
      "  batch.loc[:, 'predicted_value'] = preds\n"
     ]
    },
    {
     "name": "stdout",
     "output_type": "stream",
     "text": [
      "MAE: 0.25293078446416095\n",
      "MSE: 0.1555633989620949\n",
      "RMSE: 0.3944152620805829\n",
      "R2: 0.8434543372902418\n",
      "MAPE: 1.6125194409147148\n"
     ]
    },
    {
     "name": "stderr",
     "output_type": "stream",
     "text": [
      "/var/folders/sb/50cj9frx6576wh5j6rbpnb6c0000gp/T/ipykernel_36568/1086096361.py:71: SettingWithCopyWarning: \n",
      "A value is trying to be set on a copy of a slice from a DataFrame.\n",
      "Try using .loc[row_indexer,col_indexer] = value instead\n",
      "\n",
      "See the caveats in the documentation: https://pandas.pydata.org/pandas-docs/stable/user_guide/indexing.html#returning-a-view-versus-a-copy\n",
      "  batch.loc[:, 'predicted_value'] = preds\n"
     ]
    },
    {
     "name": "stdout",
     "output_type": "stream",
     "text": [
      "MAE: 0.2530004620875209\n",
      "MSE: 0.1555314284594313\n",
      "RMSE: 0.39437473101028075\n",
      "R2: 0.8434938673194039\n",
      "MAPE: 1.6121960888807767\n"
     ]
    },
    {
     "name": "stderr",
     "output_type": "stream",
     "text": [
      "/var/folders/sb/50cj9frx6576wh5j6rbpnb6c0000gp/T/ipykernel_36568/1086096361.py:71: SettingWithCopyWarning: \n",
      "A value is trying to be set on a copy of a slice from a DataFrame.\n",
      "Try using .loc[row_indexer,col_indexer] = value instead\n",
      "\n",
      "See the caveats in the documentation: https://pandas.pydata.org/pandas-docs/stable/user_guide/indexing.html#returning-a-view-versus-a-copy\n",
      "  batch.loc[:, 'predicted_value'] = preds\n"
     ]
    },
    {
     "name": "stdout",
     "output_type": "stream",
     "text": [
      "MAE: 0.25314205931174255\n",
      "MSE: 0.1555268400606983\n",
      "RMSE: 0.3943689136591503\n",
      "R2: 0.8434574888471962\n",
      "MAPE: 1.6103956697260093\n"
     ]
    },
    {
     "name": "stderr",
     "output_type": "stream",
     "text": [
      "/var/folders/sb/50cj9frx6576wh5j6rbpnb6c0000gp/T/ipykernel_36568/1086096361.py:71: SettingWithCopyWarning: \n",
      "A value is trying to be set on a copy of a slice from a DataFrame.\n",
      "Try using .loc[row_indexer,col_indexer] = value instead\n",
      "\n",
      "See the caveats in the documentation: https://pandas.pydata.org/pandas-docs/stable/user_guide/indexing.html#returning-a-view-versus-a-copy\n",
      "  batch.loc[:, 'predicted_value'] = preds\n"
     ]
    },
    {
     "name": "stdout",
     "output_type": "stream",
     "text": [
      "MAE: 0.2530701866458689\n",
      "MSE: 0.15535084708513866\n",
      "RMSE: 0.39414571808550536\n",
      "R2: 0.8436919077065599\n",
      "MAPE: 1.6109223352332211\n"
     ]
    },
    {
     "name": "stderr",
     "output_type": "stream",
     "text": [
      "/var/folders/sb/50cj9frx6576wh5j6rbpnb6c0000gp/T/ipykernel_36568/1086096361.py:71: SettingWithCopyWarning: \n",
      "A value is trying to be set on a copy of a slice from a DataFrame.\n",
      "Try using .loc[row_indexer,col_indexer] = value instead\n",
      "\n",
      "See the caveats in the documentation: https://pandas.pydata.org/pandas-docs/stable/user_guide/indexing.html#returning-a-view-versus-a-copy\n",
      "  batch.loc[:, 'predicted_value'] = preds\n"
     ]
    },
    {
     "name": "stdout",
     "output_type": "stream",
     "text": [
      "MAE: 0.25302143684548284\n",
      "MSE: 0.15520790537991858\n",
      "RMSE: 0.39396434531556096\n",
      "R2: 0.8438176769563113\n",
      "MAPE: 1.6098026241649268\n"
     ]
    },
    {
     "name": "stderr",
     "output_type": "stream",
     "text": [
      "/var/folders/sb/50cj9frx6576wh5j6rbpnb6c0000gp/T/ipykernel_36568/1086096361.py:71: SettingWithCopyWarning: \n",
      "A value is trying to be set on a copy of a slice from a DataFrame.\n",
      "Try using .loc[row_indexer,col_indexer] = value instead\n",
      "\n",
      "See the caveats in the documentation: https://pandas.pydata.org/pandas-docs/stable/user_guide/indexing.html#returning-a-view-versus-a-copy\n",
      "  batch.loc[:, 'predicted_value'] = preds\n"
     ]
    },
    {
     "name": "stdout",
     "output_type": "stream",
     "text": [
      "MAE: 0.2529371704700069\n",
      "MSE: 0.15503463554817776\n",
      "RMSE: 0.393744378433747\n",
      "R2: 0.8440339235701246\n",
      "MAPE: 1.6136170219531882\n"
     ]
    },
    {
     "name": "stderr",
     "output_type": "stream",
     "text": [
      "/var/folders/sb/50cj9frx6576wh5j6rbpnb6c0000gp/T/ipykernel_36568/1086096361.py:71: SettingWithCopyWarning: \n",
      "A value is trying to be set on a copy of a slice from a DataFrame.\n",
      "Try using .loc[row_indexer,col_indexer] = value instead\n",
      "\n",
      "See the caveats in the documentation: https://pandas.pydata.org/pandas-docs/stable/user_guide/indexing.html#returning-a-view-versus-a-copy\n",
      "  batch.loc[:, 'predicted_value'] = preds\n"
     ]
    },
    {
     "name": "stdout",
     "output_type": "stream",
     "text": [
      "MAE: 0.2528019362701224\n",
      "MSE: 0.1548281631923383\n",
      "RMSE: 0.3934821002184703\n",
      "R2: 0.8443536804518894\n",
      "MAPE: 1.61451161481879\n"
     ]
    },
    {
     "name": "stderr",
     "output_type": "stream",
     "text": [
      "/var/folders/sb/50cj9frx6576wh5j6rbpnb6c0000gp/T/ipykernel_36568/1086096361.py:71: SettingWithCopyWarning: \n",
      "A value is trying to be set on a copy of a slice from a DataFrame.\n",
      "Try using .loc[row_indexer,col_indexer] = value instead\n",
      "\n",
      "See the caveats in the documentation: https://pandas.pydata.org/pandas-docs/stable/user_guide/indexing.html#returning-a-view-versus-a-copy\n",
      "  batch.loc[:, 'predicted_value'] = preds\n"
     ]
    },
    {
     "name": "stdout",
     "output_type": "stream",
     "text": [
      "MAE: 0.2527549602738995\n",
      "MSE: 0.15466204946605833\n",
      "RMSE: 0.3932709618902193\n",
      "R2: 0.8445123665164154\n",
      "MAPE: 1.6130684927965147\n"
     ]
    },
    {
     "name": "stderr",
     "output_type": "stream",
     "text": [
      "/var/folders/sb/50cj9frx6576wh5j6rbpnb6c0000gp/T/ipykernel_36568/1086096361.py:71: SettingWithCopyWarning: \n",
      "A value is trying to be set on a copy of a slice from a DataFrame.\n",
      "Try using .loc[row_indexer,col_indexer] = value instead\n",
      "\n",
      "See the caveats in the documentation: https://pandas.pydata.org/pandas-docs/stable/user_guide/indexing.html#returning-a-view-versus-a-copy\n",
      "  batch.loc[:, 'predicted_value'] = preds\n"
     ]
    },
    {
     "name": "stdout",
     "output_type": "stream",
     "text": [
      "MAE: 0.25261352436945567\n",
      "MSE: 0.1544574600120121\n",
      "RMSE: 0.3930107632266731\n",
      "R2: 0.844807246270626\n",
      "MAPE: 1.6117041180240175\n"
     ]
    },
    {
     "name": "stderr",
     "output_type": "stream",
     "text": [
      "/var/folders/sb/50cj9frx6576wh5j6rbpnb6c0000gp/T/ipykernel_36568/1086096361.py:71: SettingWithCopyWarning: \n",
      "A value is trying to be set on a copy of a slice from a DataFrame.\n",
      "Try using .loc[row_indexer,col_indexer] = value instead\n",
      "\n",
      "See the caveats in the documentation: https://pandas.pydata.org/pandas-docs/stable/user_guide/indexing.html#returning-a-view-versus-a-copy\n",
      "  batch.loc[:, 'predicted_value'] = preds\n"
     ]
    },
    {
     "name": "stdout",
     "output_type": "stream",
     "text": [
      "MAE: 0.25247274401542225\n",
      "MSE: 0.15424681723958208\n",
      "RMSE: 0.392742685787504\n",
      "R2: 0.8450876844908464\n",
      "MAPE: 1.6109962597085563\n"
     ]
    },
    {
     "name": "stderr",
     "output_type": "stream",
     "text": [
      "/var/folders/sb/50cj9frx6576wh5j6rbpnb6c0000gp/T/ipykernel_36568/1086096361.py:71: SettingWithCopyWarning: \n",
      "A value is trying to be set on a copy of a slice from a DataFrame.\n",
      "Try using .loc[row_indexer,col_indexer] = value instead\n",
      "\n",
      "See the caveats in the documentation: https://pandas.pydata.org/pandas-docs/stable/user_guide/indexing.html#returning-a-view-versus-a-copy\n",
      "  batch.loc[:, 'predicted_value'] = preds\n"
     ]
    },
    {
     "name": "stdout",
     "output_type": "stream",
     "text": [
      "MAE: 0.25243800860629095\n",
      "MSE: 0.15410130659343987\n",
      "RMSE: 0.3925573927382337\n",
      "R2: 0.8452204291527264\n",
      "MAPE: 1.6089106797744621\n"
     ]
    },
    {
     "name": "stderr",
     "output_type": "stream",
     "text": [
      "/var/folders/sb/50cj9frx6576wh5j6rbpnb6c0000gp/T/ipykernel_36568/1086096361.py:71: SettingWithCopyWarning: \n",
      "A value is trying to be set on a copy of a slice from a DataFrame.\n",
      "Try using .loc[row_indexer,col_indexer] = value instead\n",
      "\n",
      "See the caveats in the documentation: https://pandas.pydata.org/pandas-docs/stable/user_guide/indexing.html#returning-a-view-versus-a-copy\n",
      "  batch.loc[:, 'predicted_value'] = preds\n"
     ]
    },
    {
     "name": "stdout",
     "output_type": "stream",
     "text": [
      "MAE: 0.2523736804687545\n",
      "MSE: 0.15392985476405813\n",
      "RMSE: 0.39233895392129764\n",
      "R2: 0.8454288535279606\n",
      "MAPE: 1.6077488091611838\n"
     ]
    },
    {
     "name": "stderr",
     "output_type": "stream",
     "text": [
      "/var/folders/sb/50cj9frx6576wh5j6rbpnb6c0000gp/T/ipykernel_36568/1086096361.py:71: SettingWithCopyWarning: \n",
      "A value is trying to be set on a copy of a slice from a DataFrame.\n",
      "Try using .loc[row_indexer,col_indexer] = value instead\n",
      "\n",
      "See the caveats in the documentation: https://pandas.pydata.org/pandas-docs/stable/user_guide/indexing.html#returning-a-view-versus-a-copy\n",
      "  batch.loc[:, 'predicted_value'] = preds\n"
     ]
    },
    {
     "name": "stdout",
     "output_type": "stream",
     "text": [
      "MAE: 0.2523162259967348\n",
      "MSE: 0.15385795821617854\n",
      "RMSE: 0.39224731766600845\n",
      "R2: 0.8455696873540627\n",
      "MAPE: 1.6090009140609685\n"
     ]
    }
   ],
   "source": [
    "# Define the values to experiment with\n",
    "num_nearest_neighbors_values = [100, 200, 300, 400, 500]\n",
    "distance_metrics = ['euclidean_expotential', 'cosine_expotential', 'dtw_exponential']\n",
    "\n",
    "# Loop through the values and create processors\n",
    "for num_nearest_neighbors in num_nearest_neighbors_values:\n",
    "    for distance_metric in distance_metrics:\n",
    "        print(f\"Experimenting with num_nearest_neighbors={num_nearest_neighbors} and distance_metric={distance_metric}\")\n",
    "        \n",
    "        # Create the processor with the current values\n",
    "        processor = processor_factory.get_processor('CSL312', use_encoding=False, use_bucketing=False, num_nearest_neighbors=num_nearest_neighbors, distance_metric=distance_metric)\n",
    "        \n",
    "    \n",
    "\n",
    "        data = df_normalized.sort_values([case_id_col, work_day_col], ascending=True, kind='mergesort')\n",
    "        data['Target'] = data.groupby(case_id_col)[target_col].shift(-1)\n",
    "        # data['Target_orig'] = data.groupby(case_id_col)['Titer (g/L) original'].shift(-1)\n",
    "        data['Target'] = data.groupby(case_id_col)['Target'].ffill().bfill()\n",
    "        # data['Target_orig'] = data.groupby(case_id_col)['Target_orig'].ffill()\n",
    "\n",
    "        historic, current = processor.split_data(data, train_ratio=0.5, split=\"temporal sim\")\n",
    "        historic.sort_values([case_id_col, work_day_col], ascending=True, kind='mergesort', inplace=True)\n",
    "        current.sort_values([case_id_col, work_day_col], ascending=True, kind='mergesort', inplace=True)\n",
    "\n",
    "        if config == 'no_encoding_bucketing' or config == 'encoding_bucketing':\n",
    "            features_used = features + ['Cluster']\n",
    "        else:\n",
    "            features_used = features\n",
    "\n",
    "        # n_neighbors = 200\n",
    "        # # Initialize the NearestNeighbors model\n",
    "        # nn_model = NearestNeighbors(n_neighbors=n_neighbors, metric=\"cosine\")\n",
    "        # # Fit the model on the historic data\n",
    "        # nn_model.fit(historic[features_used])\n",
    "\n",
    "        batch_size = 50\n",
    "\n",
    "        nn_model = processor.train_nn_model(historic[features_used])\n",
    "\n",
    "        for start in range(0, len(current), batch_size):\n",
    "            end = start + batch_size\n",
    "            batch = current.iloc[start:end]\n",
    "            # Find the n nearest neighbors for the selected row\n",
    "            # distances, indices = nn_model.kneighbors([row[features_used]])\n",
    "            distances, indices = processor.find_nearest_neighbors(nn_model, batch[features_used])\n",
    "            nearest_neighbors = pd.concat([historic.iloc[indices[i]] for i in range(len(batch))])\n",
    "\n",
    "            target = nearest_neighbors['Target'].values\n",
    "            target_test = batch['Target']\n",
    "\n",
    "            if target_test is None:\n",
    "                continue\n",
    "            \n",
    "\n",
    "            if method == 'Catboost':\n",
    "                # Create the CatBoostRegressor model\n",
    "                model = CatBoostRegressor(iterations=1000, learning_rate=0.1, depth=6, loss_function='MAE', verbose=0)\n",
    "                model.fit(nearest_neighbors[features_used], target)\n",
    "\n",
    "            if method == 'HMM':\n",
    "                # Create an instance of the HMM model\n",
    "                model = hmm.GaussianHMM(n_components=7)  # Specify the number of hidden states\n",
    "                model.fit(nearest_neighbors[features_used])\n",
    "\n",
    "            # Make predictions on the testing data\n",
    "            preds = model.predict(batch[features_used])\n",
    "\n",
    "            # true_conc_glu = row['Target_orig']\n",
    "            # preds_scaled = scalers[target_col].inverse_transform(preds.reshape(-1, 1))\n",
    "\n",
    "            batch.loc[:, 'predicted_value'] = preds\n",
    "\n",
    "            results.append(batch)\n",
    "\n",
    "            # Add the current row with its prediction to the historic data\n",
    "            # row_with_prediction[target_col] = preds_scaled[0][0]\n",
    "            historic = pd.concat([historic, batch], ignore_index=True)\n",
    "            historic.sort_values([case_id_col, work_day_col], ascending=True, kind='mergesort', inplace=True)\n",
    "            nn_model =processor.train_nn_model(historic[features_used])  # Refit the model with the updated historic data\n",
    "\n",
    "            results_df = pd.concat(results)\n",
    "\n",
    "            # Calculate metrics\n",
    "            true_values = results_df[target_col]\n",
    "            predicted_values = results_df['predicted_value']\n",
    "\n",
    "            MAE_t = mean_absolute_error(true_values, predicted_values)\n",
    "            MSE_t = mean_squared_error(true_values, predicted_values)\n",
    "            RMSE_t = math.sqrt(MSE_t)\n",
    "            r2_t = r2_score(true_values, predicted_values)\n",
    "            mape_t = mean_absolute_percentage_error(true_values, predicted_values)\n",
    "\n",
    "            # Save results to a CSV file\n",
    "            # results_df.to_csv('predictions_with_row_data.csv', index=False)\n",
    "\n",
    "            # Print metrics\n",
    "            print(f\"MAE: {MAE_t}\")\n",
    "            print(f\"MSE: {MSE_t}\")\n",
    "            print(f\"RMSE: {RMSE_t}\")\n",
    "            print(f\"R2: {r2_t}\")\n",
    "            print(f\"MAPE: {mape_t}\")\n",
    "\n",
    "            results_df.to_csv(f'results/CSL312_{method}_{config}_{num_nearest_neighbors}_{distance_metric}.csv', index=False)\n"
   ]
  },
  {
   "cell_type": "code",
   "execution_count": null,
   "id": "2934654d",
   "metadata": {},
   "outputs": [],
   "source": [
    "results = []\n",
    "method = 'Catboost'\n",
    "# config = 'no_encoding_no_bucketing'\n",
    "config = 'no_encoding_bucketing'\n",
    "# config = 'encoding_no_bucketing'\n",
    "# config = 'encoding_bucketing'\n",
    "\n",
    "data = df_normalized.sort_values([case_id_col, work_day_col], ascending=True, kind='mergesort')\n",
    "data['Target'] = data.groupby(case_id_col)[target_col].shift(-1)\n",
    "data['Target_orig'] = data.groupby(case_id_col)['Titer (g/L) original'].shift(-1)\n",
    "data['Target'] = data.groupby(case_id_col)['Target'].ffill().bfill()\n",
    "data['Target_orig'] = data.groupby(case_id_col)['Target_orig'].ffill().bfill()\n",
    "\n",
    "historic, current = split_data(data, train_ratio=0.5, split=\"temporal sim\")\n",
    "historic.sort_values([case_id_col, work_day_col], ascending=True, kind='mergesort', inplace=True)\n",
    "current.sort_values([case_id_col, work_day_col], ascending=True, kind='mergesort', inplace=True)\n",
    "\n",
    "if config == 'no_encoding_bucketing' or config == 'encoding_bucketing':\n",
    "    features_used = features + ['Cluster']\n",
    "else:\n",
    "    features_used = features\n",
    "\n",
    "n_neighbors = 200\n",
    "# Initialize the NearestNeighbors model\n",
    "nn_model = NearestNeighbors(n_neighbors=n_neighbors)\n",
    "# Fit the model on the historic data\n",
    "nn_model.fit(historic[features_used])\n",
    "\n",
    "for index, row in current.iterrows():\n",
    "    # Find the n nearest neighbors for the selected row\n",
    "    distances, indices = nn_model.kneighbors([row[features_used]])\n",
    "    nearest_neighbors = historic.iloc[indices[0]]\n",
    "\n",
    "    target = nearest_neighbors['Target'].values\n",
    "    target_test = row['Target']\n",
    "\n",
    "    if target_test is None:\n",
    "        continue\n",
    "    \n",
    "\n",
    "    if method == 'Catboost':\n",
    "        # Create the CatBoostRegressor model\n",
    "        model = CatBoostRegressor(iterations=1000, learning_rate=0.1, depth=6, loss_function='MAE', verbose=0)\n",
    "        model.fit(nearest_neighbors[features_used], target)\n",
    "\n",
    "    if method == 'HMM':\n",
    "        # Create an instance of the HMM model\n",
    "        model = hmm.GaussianHMM(n_components=7)  # Specify the number of hidden states\n",
    "        model.fit(df_without_last[features+['Cluster']])\n",
    "\n",
    "    # Make predictions on the testing data\n",
    "    preds = model.predict(row[features_used])\n",
    "\n",
    "    true_conc_glu = row['Target_orig']\n",
    "    preds_scaled = scalers[target_col].inverse_transform(preds.reshape(-1, 1))\n",
    "    \n",
    "    key = row[case_id_col] + '_' + str(row[work_day_col])\n",
    "    results.append({\n",
    "        'key': key,\n",
    "        'row_data': row.to_dict(),\n",
    "        'true_value': true_conc_glu,\n",
    "        'predicted_value': preds_scaled[0][0]\n",
    "    })\n",
    "\n",
    "    # Add the current row with its prediction to the historic data\n",
    "    row_with_prediction = row.copy()\n",
    "    # row_with_prediction[target_col] = preds_scaled[0][0]\n",
    "    historic = pd.concat([historic, pd.DataFrame([row_with_prediction])], ignore_index=True)\n",
    "    historic.sort_values([case_id_col, work_day_col], ascending=True, kind='mergesort', inplace=True)\n",
    "    nn_model.fit(historic[features_used])  # Refit the model with the updated historic data\n"
   ]
  },
  {
   "cell_type": "code",
   "execution_count": null,
   "id": "aedf2413",
   "metadata": {},
   "outputs": [],
   "source": [
    "results_df = pd.DataFrame(results)\n",
    "\n",
    "# Calculate metrics\n",
    "true_values = results_df['true_value']\n",
    "predicted_values = results_df['predicted_value']\n",
    "\n",
    "MAE_t = mean_absolute_error(true_values, predicted_values)\n",
    "MSE_t = mean_squared_error(true_values, predicted_values)\n",
    "RMSE_t = math.sqrt(MSE_t)\n",
    "r2_t = r2_score(true_values, predicted_values)\n",
    "mape_t = mean_absolute_percentage_error(true_values, predicted_values)\n",
    "\n",
    "# Save results to a CSV file\n",
    "# results_df.to_csv('predictions_with_row_data.csv', index=False)\n",
    "\n",
    "# Print metrics\n",
    "print(f\"MAE: {MAE_t}\")\n",
    "print(f\"MSE: {MSE_t}\")\n",
    "print(f\"RMSE: {RMSE_t}\")\n",
    "print(f\"R2: {r2_t}\")\n",
    "print(f\"MAPE: {mape_t}\")"
   ]
  },
  {
   "cell_type": "code",
   "execution_count": null,
   "id": "f104a0fb",
   "metadata": {},
   "outputs": [],
   "source": [
    "results_df.to_csv(f'results/CSL312_{method}_{config}_200_results.csv', index=False)"
   ]
  },
  {
   "cell_type": "code",
   "execution_count": null,
   "id": "9a56260c",
   "metadata": {},
   "outputs": [],
   "source": [
    "import importlib\n",
    "import sys\n",
    "import time"
   ]
  },
  {
   "cell_type": "code",
   "execution_count": null,
   "id": "e405a22d",
   "metadata": {},
   "outputs": [],
   "source": [
    "min_prefix_length = 1\n",
    "max_prefix_length = df_normalized[work_day_col].max()"
   ]
  },
  {
   "cell_type": "code",
   "execution_count": null,
   "id": "a5a136d1",
   "metadata": {},
   "outputs": [],
   "source": [
    "# Remove both EncoderFactory and AggregateTransformer from sys.modules\n",
    "modules_to_remove = ['EncoderFactory', 'transformers.AggregateTransformer', 'DatasetManager', \"dataset_confs\"]\n",
    "for module in modules_to_remove:\n",
    "    if module in sys.modules:\n",
    "        del sys.modules[module]\n",
    "\n",
    "# Re-import the modules\n",
    "import EncoderFactory\n",
    "import transformers.AggregateTransformer\n",
    "import DatasetManager\n",
    "from DatasetManager import DatasetManager\n",
    "\n",
    "# Reload the modules\n",
    "importlib.reload(transformers.AggregateTransformer)\n",
    "importlib.reload(EncoderFactory)\n",
    "# importlib.reload(DatasetManager)"
   ]
  },
  {
   "cell_type": "code",
   "execution_count": null,
   "id": "521d5525",
   "metadata": {},
   "outputs": [],
   "source": [
    "dataset_manager = DatasetManager(\"CSL312\")"
   ]
  },
  {
   "cell_type": "code",
   "execution_count": null,
   "id": "d7c4555e",
   "metadata": {},
   "outputs": [],
   "source": [
    "start_test_prefix_generation = time.time()\n",
    "dt_prefixes = dataset_manager.generate_prefix_data(df_normalized, min_prefix_length, max_prefix_length)\n",
    "test_prefix_generation_time = time.time() - start_test_prefix_generation"
   ]
  },
  {
   "cell_type": "code",
   "execution_count": null,
   "id": "6e6cd636",
   "metadata": {},
   "outputs": [],
   "source": [
    "dt_prefixes[target_col].isnull().sum()"
   ]
  },
  {
   "cell_type": "code",
   "execution_count": null,
   "id": "683e3507",
   "metadata": {},
   "outputs": [],
   "source": [
    "dt_prefixes"
   ]
  },
  {
   "cell_type": "code",
   "execution_count": null,
   "id": "92e55fcf",
   "metadata": {},
   "outputs": [],
   "source": [
    "encoder = EncoderFactory.get_encoder(method='agg', case_id_col=case_id_col, static_cat_cols=None, static_num_cols=None, dynamic_cat_cols=['Cluster'],\n",
    "                dynamic_num_cols=features, target_cols=[target_col,'Titer (g/L) original'], work_day_col=work_day_col, fillna=True, max_events=None, activity_col=None, resource_col=None, timestamp_col=timestamp_col,\n",
    "                scale_model=None)"
   ]
  },
  {
   "cell_type": "code",
   "execution_count": null,
   "id": "d3d14eb1",
   "metadata": {},
   "outputs": [],
   "source": [
    "dt_transformed = encoder.transform(dt_prefixes)\n",
    "dt_transformed.columns"
   ]
  },
  {
   "cell_type": "code",
   "execution_count": null,
   "id": "95c0a9a3",
   "metadata": {},
   "outputs": [],
   "source": [
    "dt_transformed = dt_transformed.reset_index(drop=False, inplace=False)\n",
    "dt_transformed[work_day_col] = dt_transformed[case_id_col].str.split('_').str[2]\n",
    "dt_transformed[work_day_col] = dt_transformed[work_day_col].fillna(0)\n",
    "dt_transformed[case_id_col] = dt_transformed[case_id_col].str.split('_').str[0] + '_' + dt_transformed[case_id_col].str.split('_').str[1]\n"
   ]
  },
  {
   "cell_type": "code",
   "execution_count": null,
   "id": "91018803",
   "metadata": {},
   "outputs": [],
   "source": [
    "\n",
    "dt_transformed\n"
   ]
  },
  {
   "cell_type": "code",
   "execution_count": null,
   "id": "77ce6cb0",
   "metadata": {},
   "outputs": [],
   "source": [
    "features_new = [col for col in dt_transformed.columns if col not in [\"Cluster\", \"'Titer (g/L) original'\", case_id_col, target_col, work_day_col]]"
   ]
  },
  {
   "cell_type": "code",
   "execution_count": null,
   "id": "1e8473ae",
   "metadata": {},
   "outputs": [],
   "source": [
    "results = []\n",
    "method = 'Catboost'\n",
    "# config = 'no_encoding_no_bucketing'\n",
    "# config = 'no_encoding_bucketing'\n",
    "config = 'encoding_no_bucketing'\n",
    "# config = 'encoding_bucketing'\n",
    "\n",
    "data = dt_prefixes.sort_values([case_id_col, work_day_col], ascending=True, kind='mergesort')\n",
    "# data['Target'] = data.groupby(case_id_col)[target_col].shift(-1)\n",
    "# data['Target_orig'] = data.groupby(case_id_col)['Titer (g/L) original'].shift(-1)\n",
    "# data['Target'] = data.groupby(case_id_col)['Target'].ffill()\n",
    "# data['Target_orig'] = data.groupby(case_id_col)['Target_orig'].ffill()\n",
    "\n",
    "historic, current = split_data(data, train_ratio=0.5, split=\"temporal sim\")\n",
    "historic.sort_values([case_id_col, work_day_col], ascending=True, kind='mergesort', inplace=True)\n",
    "current.sort_values([case_id_col, work_day_col], ascending=True, kind='mergesort', inplace=True)\n",
    "\n",
    "if config == 'no_encoding_bucketing' or config == 'encoding_bucketing':\n",
    "    features_used = features + ['Cluster']\n",
    "else:\n",
    "    features_used = features\n",
    "\n",
    "# Initialize the NearestNeighbors model\n",
    "nn_model = NearestNeighbors(n_neighbors=200)\n",
    "# Fit the model on the historic data\n",
    "nn_model.fit(historic[features_used])\n",
    "\n",
    "for index, row in current.iterrows():\n",
    "    # Find the n nearest neighbors for the selected row\n",
    "    distances, indices = nn_model.kneighbors([row[features_used]])\n",
    "    nearest_neighbors = historic.iloc[indices[0]]\n",
    "\n",
    "    target = nearest_neighbors['Target'].values\n",
    "    target_test = row['Target']\n",
    "\n",
    "    if target_test is None:\n",
    "        continue\n",
    "    \n",
    "\n",
    "    if method == 'Catboost':\n",
    "        # Create the CatBoostRegressor model\n",
    "        model = CatBoostRegressor(iterations=1000, learning_rate=0.1, depth=6, loss_function='MAE', verbose=0)\n",
    "        model.fit(nearest_neighbors[features_used], target)\n",
    "\n",
    "    if method == 'HMM':\n",
    "        # Create an instance of the HMM model\n",
    "        model = hmm.GaussianHMM(n_components=7)  # Specify the number of hidden states\n",
    "        model.fit(df_without_last[features+['Cluster']])\n",
    "\n",
    "    # Make predictions on the testing data\n",
    "    preds = model.predict(row[features_used])\n",
    "\n",
    "    true_conc_glu = row['Target_orig']\n",
    "    preds_scaled = scalers[target_col].inverse_transform(preds.reshape(-1, 1))\n",
    "    \n",
    "    key = row[case_id_col] + '_' + str(row[work_day_col])\n",
    "    results.append({\n",
    "        'key': key,\n",
    "        'row_data': row.to_dict(),\n",
    "        'true_value': true_conc_glu,\n",
    "        'predicted_value': preds_scaled[0][0]\n",
    "    })\n",
    "\n",
    "    # Add the current row with its prediction to the historic data\n",
    "    row_with_prediction = row.copy()\n",
    "    # row_with_prediction[target_col] = preds_scaled[0][0]\n",
    "    historic = pd.concat([historic, pd.DataFrame([row_with_prediction])], ignore_index=True)\n",
    "    historic.sort_values([case_id_col, work_day_col], ascending=True, kind='mergesort', inplace=True)\n",
    "    nn_model.fit(historic[features_used])  # Refit the model with the updated historic data\n"
   ]
  },
  {
   "cell_type": "code",
   "execution_count": null,
   "id": "0db896ea",
   "metadata": {},
   "outputs": [],
   "source": [
    "results_df = pd.DataFrame(results)\n",
    "\n",
    "# Calculate metrics\n",
    "true_values = results_df['true_value']\n",
    "predicted_values = results_df['predicted_value']\n",
    "\n",
    "MAE_t = mean_absolute_error(true_values, predicted_values)\n",
    "MSE_t = mean_squared_error(true_values, predicted_values)\n",
    "RMSE_t = math.sqrt(MSE_t)\n",
    "r2_t = r2_score(true_values, predicted_values)\n",
    "mape_t = mean_absolute_percentage_error(true_values, predicted_values)\n",
    "\n",
    "# Save results to a CSV file\n",
    "# results_df.to_csv('predictions_with_row_data.csv', index=False)\n",
    "\n",
    "# Print metrics\n",
    "print(f\"MAE: {MAE_t}\")\n",
    "print(f\"MSE: {MSE_t}\")\n",
    "print(f\"RMSE: {RMSE_t}\")\n",
    "print(f\"R2: {r2_t}\")\n",
    "print(f\"MAPE: {mape_t}\")"
   ]
  },
  {
   "cell_type": "code",
   "execution_count": null,
   "id": "36315cb5",
   "metadata": {},
   "outputs": [],
   "source": [
    "results_df.to_csv(f'results/CSL312_{method}_{config}_results.csv', index=False)"
   ]
  },
  {
   "cell_type": "code",
   "execution_count": null,
   "id": "0653ada2",
   "metadata": {},
   "outputs": [],
   "source": [
    "results_df = pd.DataFrame(results)\n",
    "\n",
    "# Calculate metrics\n",
    "true_values = results_df['true_value']\n",
    "predicted_values = results_df['predicted_value']\n",
    "\n",
    "MAE_t = mean_absolute_error(true_values, predicted_values)\n",
    "MSE_t = mean_squared_error(true_values, predicted_values)\n",
    "RMSE_t = math.sqrt(MSE_t)\n",
    "r2_t = r2_score(true_values, predicted_values)\n",
    "mape_t = mean_absolute_percentage_error(true_values, predicted_values)\n",
    "\n",
    "# Save results to a CSV file\n",
    "# results_df.to_csv('predictions_with_row_data.csv', index=False)\n",
    "\n",
    "# Print metrics\n",
    "print(f\"MAE: {MAE_t}\")\n",
    "print(f\"MSE: {MSE_t}\")\n",
    "print(f\"RMSE: {RMSE_t}\")\n",
    "print(f\"R2: {r2_t}\")\n",
    "print(f\"MAPE: {mape_t}\")"
   ]
  },
  {
   "cell_type": "code",
   "execution_count": null,
   "id": "bf543394",
   "metadata": {},
   "outputs": [],
   "source": [
    "results_df"
   ]
  },
  {
   "cell_type": "markdown",
   "id": "4e74e4fa",
   "metadata": {},
   "source": [
    "#################################################################################################"
   ]
  },
  {
   "cell_type": "code",
   "execution_count": null,
   "id": "25c58223",
   "metadata": {},
   "outputs": [],
   "source": [
    "results = []\n",
    "method = 'Catboost'\n",
    "config = 'no_encoding_no_bucketing'\n",
    "# config = 'no_encoding_bucketing'\n",
    "# config = 'encoding_no_bucketing'\n",
    "# config = 'encoding_bucketing'\n",
    "\n",
    "data = df_normalized.sort_values([case_id_col, work_day_col], ascending=True, kind='mergesort')\n",
    "data['Target'] = data.groupby(case_id_col)[target_col].shift(-1)\n",
    "data['Target_orig'] = data.groupby(case_id_col)['Titer (g/L) original'].shift(-1)\n",
    "data['Target'] = data.groupby(case_id_col)['Target'].ffill().bfill()\n",
    "data['Target_orig'] = data.groupby(case_id_col)['Target_orig'].ffill().bfill()\n",
    "\n",
    "historic, current = split_data(data, train_ratio=0.5, split=\"temporal sim\")\n",
    "historic.sort_values([case_id_col, work_day_col], ascending=True, kind='mergesort', inplace=True)\n",
    "current.sort_values([case_id_col, work_day_col], ascending=True, kind='mergesort', inplace=True)\n",
    "\n",
    "if config == 'no_encoding_bucketing' or config == 'encoding_bucketing':\n",
    "    features_used = features + ['Cluster']\n",
    "else:\n",
    "    features_used = features\n",
    "\n",
    "\n",
    "for index, row in current.iterrows():\n",
    "\n",
    "    target = historic['Target'].values\n",
    "    target_test = row['Target']\n",
    "\n",
    "    if target_test is None:\n",
    "        continue\n",
    "    \n",
    "\n",
    "    if method == 'Catboost':\n",
    "        # Create the CatBoostRegressor model\n",
    "        model = CatBoostRegressor(iterations=1000, learning_rate=0.1, depth=6, loss_function='MAE', verbose=0, random_state=123)\n",
    "        model.fit(historic[features_used], target)\n",
    "\n",
    "    if method == 'HMM':\n",
    "        # Create an instance of the HMM model\n",
    "        model = hmm.GaussianHMM(n_components=7)  # Specify the number of hidden states\n",
    "        model.fit(df_without_last[features+['Cluster']])\n",
    "\n",
    "    # Make predictions on the testing data\n",
    "    preds = model.predict(row[features_used])\n",
    "\n",
    "    true_conc_glu = row['Target_orig']\n",
    "    preds_scaled = scalers[target_col].inverse_transform(preds.reshape(-1, 1))\n",
    "    \n",
    "    key = row[case_id_col] + '_' + str(row[work_day_col])\n",
    "    results.append({\n",
    "        'key': key,\n",
    "        'row_data': row.to_dict(),\n",
    "        'true_value': true_conc_glu,\n",
    "        'predicted_value': preds_scaled[0][0]\n",
    "    })"
   ]
  },
  {
   "cell_type": "code",
   "execution_count": null,
   "id": "2bdacadb",
   "metadata": {},
   "outputs": [],
   "source": [
    "results_df = pd.DataFrame(results)\n",
    "\n",
    "# Calculate metrics\n",
    "true_values = results_df['true_value']\n",
    "predicted_values = results_df['predicted_value']\n",
    "\n",
    "MAE_t = mean_absolute_error(true_values, predicted_values)\n",
    "MSE_t = mean_squared_error(true_values, predicted_values)\n",
    "RMSE_t = math.sqrt(MSE_t)\n",
    "r2_t = r2_score(true_values, predicted_values)\n",
    "mape_t = mean_absolute_percentage_error(true_values, predicted_values)\n",
    "\n",
    "# Save results to a CSV file\n",
    "# results_df.to_csv('predictions_with_row_data.csv', index=False)\n",
    "\n",
    "# Print metrics\n",
    "print(f\"MAE: {MAE_t}\")\n",
    "print(f\"MSE: {MSE_t}\")\n",
    "print(f\"RMSE: {RMSE_t}\")\n",
    "print(f\"R2: {r2_t}\")\n",
    "print(f\"MAPE: {mape_t}\")"
   ]
  },
  {
   "cell_type": "code",
   "execution_count": null,
   "id": "0834eeb2",
   "metadata": {},
   "outputs": [],
   "source": [
    "results_df.to_csv(f'results/CSL312_baseline_{method}_{config}_results.csv', index=False)"
   ]
  },
  {
   "cell_type": "code",
   "execution_count": null,
   "id": "304ff943",
   "metadata": {},
   "outputs": [],
   "source": [
    "results_df_400 = pd.read_csv('results/CSL312_Catboost_no_encoding_bucketing_cosine_results.csv')\n",
    "results_df_300 = pd.read_csv('results/CSL312_Catboost_no_encoding_bucketing_chebyshev_results.csv')\n",
    "results_df_200 = pd.read_csv('results/CSL312_Catboost_no_encoding_bucketing_200_results.csv')\n",
    "results_df_100 = pd.read_csv('results/CSL312_Catboost_no_encoding_bucketing_DTW_results.csv')"
   ]
  },
  {
   "cell_type": "code",
   "execution_count": null,
   "id": "c8193f25",
   "metadata": {},
   "outputs": [],
   "source": [
    "# Extract the row_data column\n",
    "row_data_df = pd.json_normalize(results_df_400['row_data'])\n",
    "\n",
    "# Drop the original row_data column from results_df_baseline\n",
    "tmp = results_df_400.drop(columns=['row_data'])\n",
    "\n",
    "# Concatenate the normalized row_data DataFrame with the original DataFrame\n",
    "tmp = pd.concat([tmp, row_data_df], axis=1)\n",
    "\n",
    "# Retain true_value and predicted_value columns\n",
    "tmp = tmp[['true_value', 'predicted_value'] + list(row_data_df.columns)]"
   ]
  },
  {
   "cell_type": "code",
   "execution_count": null,
   "id": "511ef84c",
   "metadata": {},
   "outputs": [],
   "source": [
    "# Extract the row_data column\n",
    "row_data_df = pd.json_normalize(results_df_300['row_data'])\n",
    "\n",
    "# Drop the original row_data column from results_df_baseline\n",
    "tmp2 = results_df_300.drop(columns=['row_data'])\n",
    "\n",
    "# Concatenate the normalized row_data DataFrame with the original DataFrame\n",
    "tmp2 = pd.concat([tmp2, row_data_df], axis=1)\n",
    "\n",
    "# Retain true_value and predicted_value columns\n",
    "tmp2 = tmp2[['true_value', 'predicted_value'] + list(row_data_df.columns)]"
   ]
  },
  {
   "cell_type": "code",
   "execution_count": null,
   "id": "fa33d4bd",
   "metadata": {},
   "outputs": [],
   "source": [
    "# Extract the row_data column\n",
    "row_data_df = pd.json_normalize(results_df_200['row_data'])\n",
    "\n",
    "# Drop the original row_data column from results_df_baseline\n",
    "tmp3 = results_df_200.drop(columns=['row_data'])\n",
    "\n",
    "# Concatenate the normalized row_data DataFrame with the original DataFrame\n",
    "tmp3 = pd.concat([tmp3, row_data_df], axis=1)\n",
    "\n",
    "# Retain true_value and predicted_value columns\n",
    "tmp3 = tmp3[['true_value', 'predicted_value'] + list(row_data_df.columns)]"
   ]
  },
  {
   "cell_type": "code",
   "execution_count": null,
   "id": "d0eb23db",
   "metadata": {},
   "outputs": [],
   "source": [
    "# Extract the row_data column\n",
    "row_data_df = pd.json_normalize(results_df_100['row_data'])\n",
    "\n",
    "# Drop the original row_data column from results_df_baseline\n",
    "tmp4 = results_df_100.drop(columns=['row_data'])\n",
    "\n",
    "# Concatenate the normalized row_data DataFrame with the original DataFrame\n",
    "tmp4 = pd.concat([tmp4, row_data_df], axis=1)\n",
    "\n",
    "# Retain true_value and predicted_value columns\n",
    "tmp4 = tmp4[['true_value', 'predicted_value'] + list(row_data_df.columns)]"
   ]
  },
  {
   "cell_type": "code",
   "execution_count": null,
   "id": "6d090dc3",
   "metadata": {},
   "outputs": [],
   "source": [
    "def calculate_moving_avg_mae(df, true_col, pred_col, window_size=5):\n",
    "    true_values = df[true_col].to_numpy()\n",
    "    predicted_values = df[pred_col].to_numpy()\n",
    "\n",
    "    num_rows_list = []\n",
    "    mae_list = []\n",
    "\n",
    "    for i in range(2, len(true_values) + 1):\n",
    "        num_rows_list.append(i)\n",
    "        mae = mean_absolute_error(true_values[:i], predicted_values[:i])\n",
    "        mae_list.append(mae)\n",
    "\n",
    "    mae_df = pd.DataFrame({'num_rows': num_rows_list, 'mae': mae_list})\n",
    "    mae_df['moving_avg_mae'] = mae_df['mae'].rolling(window=window_size).mean()\n",
    "    \n",
    "    return mae_df\n",
    "\n",
    "# Calculate moving average MAE for tmp\n",
    "mae_df_tmp = calculate_moving_avg_mae(tmp, 'true_value', 'predicted_value')\n",
    "\n",
    "# Calculate moving average MAE for tmp2\n",
    "mae_df_tmp2 = calculate_moving_avg_mae(tmp2, 'true_value', 'predicted_value')\n",
    "\n",
    "# Calculate moving average MAE for tmp2\n",
    "mae_df_tmp3 = calculate_moving_avg_mae(tmp3, 'true_value', 'predicted_value')\n",
    "\n",
    "# Calculate moving average MAE for tmp2\n",
    "mae_df_tmp4 = calculate_moving_avg_mae(tmp4, 'true_value', 'predicted_value')\n",
    "\n",
    "# Plot the moving average MAE for both DataFrames\n",
    "plt.figure(figsize=(10, 6))\n",
    "plt.plot(mae_df_tmp['num_rows'], mae_df_tmp['moving_avg_mae'], label='cosine', color='blue')\n",
    "plt.plot(mae_df_tmp2['num_rows'], mae_df_tmp2['moving_avg_mae'], label='levenshtein', color='red')\n",
    "plt.plot(mae_df_tmp3['num_rows'], mae_df_tmp3['moving_avg_mae'], label='euclidean', color='green')\n",
    "plt.plot(mae_df_tmp4['num_rows'], mae_df_tmp4['moving_avg_mae'], label='DTW', color='black')\n",
    "plt.xlabel('Number of Observed Rows')\n",
    "plt.xlabel('Number of Observed Rows')\n",
    "plt.ylabel('Moving Average MAE')\n",
    "plt.title('CSL312')\n",
    "plt.legend()\n",
    "plt.grid(True)\n",
    "plt.show()"
   ]
  },
  {
   "cell_type": "code",
   "execution_count": null,
   "id": "758141cf",
   "metadata": {},
   "outputs": [],
   "source": [
    "df_results = pd.DataFrame(results).T\n",
    "# catboost regular \n",
    "pd.options.display.float_format = '{:.2f}'.format\n",
    "df_results[df_results.columns].mean()"
   ]
  },
  {
   "cell_type": "code",
   "execution_count": null,
   "id": "636cc063",
   "metadata": {},
   "outputs": [],
   "source": [
    "df_results = pd.DataFrame(results).T\n",
    "# HMM regular \n",
    "pd.options.display.float_format = '{:.2f}'.format\n",
    "df_results[df_results.columns].mean()"
   ]
  },
  {
   "cell_type": "code",
   "execution_count": null,
   "id": "8d19d0cb",
   "metadata": {},
   "outputs": [],
   "source": []
  }
 ],
 "metadata": {
  "kernelspec": {
   "display_name": "Python 3 (ipykernel)",
   "language": "python",
   "name": "python3"
  },
  "language_info": {
   "codemirror_mode": {
    "name": "ipython",
    "version": 3
   },
   "file_extension": ".py",
   "mimetype": "text/x-python",
   "name": "python",
   "nbconvert_exporter": "python",
   "pygments_lexer": "ipython3",
   "version": "3.9.6"
  }
 },
 "nbformat": 4,
 "nbformat_minor": 5
}
